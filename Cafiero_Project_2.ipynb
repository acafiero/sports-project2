{
  "nbformat": 4,
  "nbformat_minor": 0,
  "metadata": {
    "colab": {
      "name": "Cafiero Project 2.ipynb",
      "provenance": [],
      "authorship_tag": "ABX9TyNFvZMAu7QDiKVbcgWHY3KY",
      "include_colab_link": true
    },
    "kernelspec": {
      "name": "python3",
      "display_name": "Python 3"
    },
    "language_info": {
      "name": "python"
    }
  },
  "cells": [
    {
      "cell_type": "markdown",
      "metadata": {
        "id": "view-in-github",
        "colab_type": "text"
      },
      "source": [
        "<a href=\"https://colab.research.google.com/github/acafiero/sports-project2/blob/main/Cafiero_Project_2.ipynb\" target=\"_parent\"><img src=\"https://colab.research.google.com/assets/colab-badge.svg\" alt=\"Open In Colab\"/></a>"
      ]
    },
    {
      "cell_type": "code",
      "execution_count": 1,
      "metadata": {
        "id": "J3vonAxFMp6l"
      },
      "outputs": [],
      "source": [
        "import pandas as pd"
      ]
    },
    {
      "cell_type": "markdown",
      "source": [
        " ## *Dataset 1*\n",
        " 1) github / Five Thirty Eight\n",
        "\n",
        " 2) statistical data for modern Toronto Raptors players\n",
        "\n",
        " 3) Wins Above Replacement in the regular season\n",
        "\n",
        " 4) Regression\n",
        "\n",
        " 5) 21 features\n",
        "\n",
        " 6) 4078 rows\n",
        "\n",
        " 7) There are multiple entries for the same player but from differing years, I would imagine I might need to either do averages for all the years these players played or pick a specific year to focus on"
      ],
      "metadata": {
        "id": "9yj1XG8XOi0P"
      }
    },
    {
      "cell_type": "code",
      "source": [
        "df = pd.read_csv('/content/modern_RAPTOR_by_player.csv')"
      ],
      "metadata": {
        "id": "T9wg7xbkMzO3"
      },
      "execution_count": 2,
      "outputs": []
    },
    {
      "cell_type": "code",
      "source": [
        "from google.colab import drive\n",
        "drive.mount('/content/drive')"
      ],
      "metadata": {
        "colab": {
          "base_uri": "https://localhost:8080/"
        },
        "id": "LYFWdH6FDiCM",
        "outputId": "d12f1335-168c-47ba-c873-9ef9927745cf"
      },
      "execution_count": 3,
      "outputs": [
        {
          "output_type": "stream",
          "name": "stdout",
          "text": [
            "Mounted at /content/drive\n"
          ]
        }
      ]
    },
    {
      "cell_type": "code",
      "source": [
        "df.head()"
      ],
      "metadata": {
        "id": "Q4AGKq2XM1gb",
        "colab": {
          "base_uri": "https://localhost:8080/",
          "height": 317
        },
        "outputId": "4d783d89-1a81-45b0-9e7d-256108660a6c"
      },
      "execution_count": 4,
      "outputs": [
        {
          "output_type": "execute_result",
          "data": {
            "text/plain": [
              "        player_name  player_id  season  poss    mp  raptor_box_offense  \\\n",
              "0      Alex Abrines  abrinal01    2017  2387  1135            0.745505   \n",
              "1      Alex Abrines  abrinal01    2018  2546  1244            0.317549   \n",
              "2      Alex Abrines  abrinal01    2019  1279   588           -3.215683   \n",
              "3  Precious Achiuwa  achiupr01    2021  1581   749           -4.122966   \n",
              "4        Quincy Acy    acyqu01    2014  1716   847           -1.716079   \n",
              "\n",
              "   raptor_box_defense  raptor_box_total  raptor_onoff_offense  \\\n",
              "0           -0.372938          0.372567             -0.418553   \n",
              "1           -1.725325         -1.407776             -1.291727   \n",
              "2            1.078399         -2.137285             -6.158856   \n",
              "3            1.359278         -2.763688             -4.050779   \n",
              "4            0.133115         -1.582964             -0.324811   \n",
              "\n",
              "   raptor_onoff_defense  ...  raptor_offense  raptor_defense  raptor_total  \\\n",
              "0             -3.857011  ...        0.543421       -1.144832     -0.601411   \n",
              "1             -0.049694  ...       -0.020826       -1.502642     -1.523468   \n",
              "2              4.901168  ...       -4.040157        1.885618     -2.154538   \n",
              "3             -0.919712  ...       -4.347596        0.954821     -3.392775   \n",
              "4             -1.661495  ...       -1.565257       -0.216477     -1.781734   \n",
              "\n",
              "   war_total  war_reg_season  war_playoffs  predator_offense  \\\n",
              "0   1.249008        1.447708     -0.198700          0.077102   \n",
              "1   0.777304        0.465912      0.311392         -0.174621   \n",
              "2   0.178167        0.178167      0.000000         -4.577678   \n",
              "3  -0.246055       -0.246776      0.000721         -3.817713   \n",
              "4   0.415918        0.415918      0.000000         -1.464417   \n",
              "\n",
              "   predator_defense  predator_total  pace_impact  \n",
              "0         -1.038677       -0.961575     0.326413  \n",
              "1         -1.112625       -1.287247    -0.456141  \n",
              "2          1.543282       -3.034396    -0.268013  \n",
              "3          0.474828       -3.342885     0.329157  \n",
              "4         -0.223754       -1.688171    -0.554898  \n",
              "\n",
              "[5 rows x 21 columns]"
            ],
            "text/html": [
              "\n",
              "  <div id=\"df-2ba9d2dd-9688-4a6a-be00-da645e2d8ede\">\n",
              "    <div class=\"colab-df-container\">\n",
              "      <div>\n",
              "<style scoped>\n",
              "    .dataframe tbody tr th:only-of-type {\n",
              "        vertical-align: middle;\n",
              "    }\n",
              "\n",
              "    .dataframe tbody tr th {\n",
              "        vertical-align: top;\n",
              "    }\n",
              "\n",
              "    .dataframe thead th {\n",
              "        text-align: right;\n",
              "    }\n",
              "</style>\n",
              "<table border=\"1\" class=\"dataframe\">\n",
              "  <thead>\n",
              "    <tr style=\"text-align: right;\">\n",
              "      <th></th>\n",
              "      <th>player_name</th>\n",
              "      <th>player_id</th>\n",
              "      <th>season</th>\n",
              "      <th>poss</th>\n",
              "      <th>mp</th>\n",
              "      <th>raptor_box_offense</th>\n",
              "      <th>raptor_box_defense</th>\n",
              "      <th>raptor_box_total</th>\n",
              "      <th>raptor_onoff_offense</th>\n",
              "      <th>raptor_onoff_defense</th>\n",
              "      <th>...</th>\n",
              "      <th>raptor_offense</th>\n",
              "      <th>raptor_defense</th>\n",
              "      <th>raptor_total</th>\n",
              "      <th>war_total</th>\n",
              "      <th>war_reg_season</th>\n",
              "      <th>war_playoffs</th>\n",
              "      <th>predator_offense</th>\n",
              "      <th>predator_defense</th>\n",
              "      <th>predator_total</th>\n",
              "      <th>pace_impact</th>\n",
              "    </tr>\n",
              "  </thead>\n",
              "  <tbody>\n",
              "    <tr>\n",
              "      <th>0</th>\n",
              "      <td>Alex Abrines</td>\n",
              "      <td>abrinal01</td>\n",
              "      <td>2017</td>\n",
              "      <td>2387</td>\n",
              "      <td>1135</td>\n",
              "      <td>0.745505</td>\n",
              "      <td>-0.372938</td>\n",
              "      <td>0.372567</td>\n",
              "      <td>-0.418553</td>\n",
              "      <td>-3.857011</td>\n",
              "      <td>...</td>\n",
              "      <td>0.543421</td>\n",
              "      <td>-1.144832</td>\n",
              "      <td>-0.601411</td>\n",
              "      <td>1.249008</td>\n",
              "      <td>1.447708</td>\n",
              "      <td>-0.198700</td>\n",
              "      <td>0.077102</td>\n",
              "      <td>-1.038677</td>\n",
              "      <td>-0.961575</td>\n",
              "      <td>0.326413</td>\n",
              "    </tr>\n",
              "    <tr>\n",
              "      <th>1</th>\n",
              "      <td>Alex Abrines</td>\n",
              "      <td>abrinal01</td>\n",
              "      <td>2018</td>\n",
              "      <td>2546</td>\n",
              "      <td>1244</td>\n",
              "      <td>0.317549</td>\n",
              "      <td>-1.725325</td>\n",
              "      <td>-1.407776</td>\n",
              "      <td>-1.291727</td>\n",
              "      <td>-0.049694</td>\n",
              "      <td>...</td>\n",
              "      <td>-0.020826</td>\n",
              "      <td>-1.502642</td>\n",
              "      <td>-1.523468</td>\n",
              "      <td>0.777304</td>\n",
              "      <td>0.465912</td>\n",
              "      <td>0.311392</td>\n",
              "      <td>-0.174621</td>\n",
              "      <td>-1.112625</td>\n",
              "      <td>-1.287247</td>\n",
              "      <td>-0.456141</td>\n",
              "    </tr>\n",
              "    <tr>\n",
              "      <th>2</th>\n",
              "      <td>Alex Abrines</td>\n",
              "      <td>abrinal01</td>\n",
              "      <td>2019</td>\n",
              "      <td>1279</td>\n",
              "      <td>588</td>\n",
              "      <td>-3.215683</td>\n",
              "      <td>1.078399</td>\n",
              "      <td>-2.137285</td>\n",
              "      <td>-6.158856</td>\n",
              "      <td>4.901168</td>\n",
              "      <td>...</td>\n",
              "      <td>-4.040157</td>\n",
              "      <td>1.885618</td>\n",
              "      <td>-2.154538</td>\n",
              "      <td>0.178167</td>\n",
              "      <td>0.178167</td>\n",
              "      <td>0.000000</td>\n",
              "      <td>-4.577678</td>\n",
              "      <td>1.543282</td>\n",
              "      <td>-3.034396</td>\n",
              "      <td>-0.268013</td>\n",
              "    </tr>\n",
              "    <tr>\n",
              "      <th>3</th>\n",
              "      <td>Precious Achiuwa</td>\n",
              "      <td>achiupr01</td>\n",
              "      <td>2021</td>\n",
              "      <td>1581</td>\n",
              "      <td>749</td>\n",
              "      <td>-4.122966</td>\n",
              "      <td>1.359278</td>\n",
              "      <td>-2.763688</td>\n",
              "      <td>-4.050779</td>\n",
              "      <td>-0.919712</td>\n",
              "      <td>...</td>\n",
              "      <td>-4.347596</td>\n",
              "      <td>0.954821</td>\n",
              "      <td>-3.392775</td>\n",
              "      <td>-0.246055</td>\n",
              "      <td>-0.246776</td>\n",
              "      <td>0.000721</td>\n",
              "      <td>-3.817713</td>\n",
              "      <td>0.474828</td>\n",
              "      <td>-3.342885</td>\n",
              "      <td>0.329157</td>\n",
              "    </tr>\n",
              "    <tr>\n",
              "      <th>4</th>\n",
              "      <td>Quincy Acy</td>\n",
              "      <td>acyqu01</td>\n",
              "      <td>2014</td>\n",
              "      <td>1716</td>\n",
              "      <td>847</td>\n",
              "      <td>-1.716079</td>\n",
              "      <td>0.133115</td>\n",
              "      <td>-1.582964</td>\n",
              "      <td>-0.324811</td>\n",
              "      <td>-1.661495</td>\n",
              "      <td>...</td>\n",
              "      <td>-1.565257</td>\n",
              "      <td>-0.216477</td>\n",
              "      <td>-1.781734</td>\n",
              "      <td>0.415918</td>\n",
              "      <td>0.415918</td>\n",
              "      <td>0.000000</td>\n",
              "      <td>-1.464417</td>\n",
              "      <td>-0.223754</td>\n",
              "      <td>-1.688171</td>\n",
              "      <td>-0.554898</td>\n",
              "    </tr>\n",
              "  </tbody>\n",
              "</table>\n",
              "<p>5 rows × 21 columns</p>\n",
              "</div>\n",
              "      <button class=\"colab-df-convert\" onclick=\"convertToInteractive('df-2ba9d2dd-9688-4a6a-be00-da645e2d8ede')\"\n",
              "              title=\"Convert this dataframe to an interactive table.\"\n",
              "              style=\"display:none;\">\n",
              "        \n",
              "  <svg xmlns=\"http://www.w3.org/2000/svg\" height=\"24px\"viewBox=\"0 0 24 24\"\n",
              "       width=\"24px\">\n",
              "    <path d=\"M0 0h24v24H0V0z\" fill=\"none\"/>\n",
              "    <path d=\"M18.56 5.44l.94 2.06.94-2.06 2.06-.94-2.06-.94-.94-2.06-.94 2.06-2.06.94zm-11 1L8.5 8.5l.94-2.06 2.06-.94-2.06-.94L8.5 2.5l-.94 2.06-2.06.94zm10 10l.94 2.06.94-2.06 2.06-.94-2.06-.94-.94-2.06-.94 2.06-2.06.94z\"/><path d=\"M17.41 7.96l-1.37-1.37c-.4-.4-.92-.59-1.43-.59-.52 0-1.04.2-1.43.59L10.3 9.45l-7.72 7.72c-.78.78-.78 2.05 0 2.83L4 21.41c.39.39.9.59 1.41.59.51 0 1.02-.2 1.41-.59l7.78-7.78 2.81-2.81c.8-.78.8-2.07 0-2.86zM5.41 20L4 18.59l7.72-7.72 1.47 1.35L5.41 20z\"/>\n",
              "  </svg>\n",
              "      </button>\n",
              "      \n",
              "  <style>\n",
              "    .colab-df-container {\n",
              "      display:flex;\n",
              "      flex-wrap:wrap;\n",
              "      gap: 12px;\n",
              "    }\n",
              "\n",
              "    .colab-df-convert {\n",
              "      background-color: #E8F0FE;\n",
              "      border: none;\n",
              "      border-radius: 50%;\n",
              "      cursor: pointer;\n",
              "      display: none;\n",
              "      fill: #1967D2;\n",
              "      height: 32px;\n",
              "      padding: 0 0 0 0;\n",
              "      width: 32px;\n",
              "    }\n",
              "\n",
              "    .colab-df-convert:hover {\n",
              "      background-color: #E2EBFA;\n",
              "      box-shadow: 0px 1px 2px rgba(60, 64, 67, 0.3), 0px 1px 3px 1px rgba(60, 64, 67, 0.15);\n",
              "      fill: #174EA6;\n",
              "    }\n",
              "\n",
              "    [theme=dark] .colab-df-convert {\n",
              "      background-color: #3B4455;\n",
              "      fill: #D2E3FC;\n",
              "    }\n",
              "\n",
              "    [theme=dark] .colab-df-convert:hover {\n",
              "      background-color: #434B5C;\n",
              "      box-shadow: 0px 1px 3px 1px rgba(0, 0, 0, 0.15);\n",
              "      filter: drop-shadow(0px 1px 2px rgba(0, 0, 0, 0.3));\n",
              "      fill: #FFFFFF;\n",
              "    }\n",
              "  </style>\n",
              "\n",
              "      <script>\n",
              "        const buttonEl =\n",
              "          document.querySelector('#df-2ba9d2dd-9688-4a6a-be00-da645e2d8ede button.colab-df-convert');\n",
              "        buttonEl.style.display =\n",
              "          google.colab.kernel.accessAllowed ? 'block' : 'none';\n",
              "\n",
              "        async function convertToInteractive(key) {\n",
              "          const element = document.querySelector('#df-2ba9d2dd-9688-4a6a-be00-da645e2d8ede');\n",
              "          const dataTable =\n",
              "            await google.colab.kernel.invokeFunction('convertToInteractive',\n",
              "                                                     [key], {});\n",
              "          if (!dataTable) return;\n",
              "\n",
              "          const docLinkHtml = 'Like what you see? Visit the ' +\n",
              "            '<a target=\"_blank\" href=https://colab.research.google.com/notebooks/data_table.ipynb>data table notebook</a>'\n",
              "            + ' to learn more about interactive tables.';\n",
              "          element.innerHTML = '';\n",
              "          dataTable['output_type'] = 'display_data';\n",
              "          await google.colab.output.renderOutput(dataTable, element);\n",
              "          const docLink = document.createElement('div');\n",
              "          docLink.innerHTML = docLinkHtml;\n",
              "          element.appendChild(docLink);\n",
              "        }\n",
              "      </script>\n",
              "    </div>\n",
              "  </div>\n",
              "  "
            ]
          },
          "metadata": {},
          "execution_count": 4
        }
      ]
    },
    {
      "cell_type": "code",
      "source": [
        "df.info()"
      ],
      "metadata": {
        "id": "GZTMteO1PAAo",
        "colab": {
          "base_uri": "https://localhost:8080/"
        },
        "outputId": "a676e50b-333b-426a-c446-77cc4148e9ae"
      },
      "execution_count": 5,
      "outputs": [
        {
          "output_type": "stream",
          "name": "stdout",
          "text": [
            "<class 'pandas.core.frame.DataFrame'>\n",
            "RangeIndex: 4079 entries, 0 to 4078\n",
            "Data columns (total 21 columns):\n",
            " #   Column                Non-Null Count  Dtype  \n",
            "---  ------                --------------  -----  \n",
            " 0   player_name           4079 non-null   object \n",
            " 1   player_id             4079 non-null   object \n",
            " 2   season                4079 non-null   int64  \n",
            " 3   poss                  4079 non-null   int64  \n",
            " 4   mp                    4079 non-null   int64  \n",
            " 5   raptor_box_offense    4078 non-null   float64\n",
            " 6   raptor_box_defense    4078 non-null   float64\n",
            " 7   raptor_box_total      4078 non-null   float64\n",
            " 8   raptor_onoff_offense  4078 non-null   float64\n",
            " 9   raptor_onoff_defense  4078 non-null   float64\n",
            " 10  raptor_onoff_total    4078 non-null   float64\n",
            " 11  raptor_offense        4079 non-null   float64\n",
            " 12  raptor_defense        4079 non-null   float64\n",
            " 13  raptor_total          4079 non-null   float64\n",
            " 14  war_total             4079 non-null   float64\n",
            " 15  war_reg_season        4079 non-null   float64\n",
            " 16  war_playoffs          4079 non-null   float64\n",
            " 17  predator_offense      4079 non-null   float64\n",
            " 18  predator_defense      4079 non-null   float64\n",
            " 19  predator_total        4079 non-null   float64\n",
            " 20  pace_impact           4078 non-null   float64\n",
            "dtypes: float64(16), int64(3), object(2)\n",
            "memory usage: 669.3+ KB\n"
          ]
        }
      ]
    },
    {
      "cell_type": "code",
      "source": [
        "df.duplicated().sum()\n",
        "\n",
        "## no duplicated values"
      ],
      "metadata": {
        "id": "6rWXtDSxACq2",
        "colab": {
          "base_uri": "https://localhost:8080/"
        },
        "outputId": "3abc838c-b920-4b56-8af9-85cc93cc146e"
      },
      "execution_count": 16,
      "outputs": [
        {
          "output_type": "execute_result",
          "data": {
            "text/plain": [
              "0"
            ]
          },
          "metadata": {},
          "execution_count": 16
        }
      ]
    },
    {
      "cell_type": "code",
      "source": [
        "df.nunique()\n",
        "\n",
        "## checking all the various features"
      ],
      "metadata": {
        "colab": {
          "base_uri": "https://localhost:8080/"
        },
        "id": "j7jnUAjRD3C3",
        "outputId": "acd60657-ebe2-4f29-978d-7ea03e63bcc8"
      },
      "execution_count": 12,
      "outputs": [
        {
          "output_type": "execute_result",
          "data": {
            "text/plain": [
              "player_name             1192\n",
              "player_id               1187\n",
              "season                     8\n",
              "poss                    2867\n",
              "mp                      2130\n",
              "raptor_box_offense      4078\n",
              "raptor_box_defense      4078\n",
              "raptor_box_total        4078\n",
              "raptor_onoff_offense    4077\n",
              "raptor_onoff_defense    4077\n",
              "raptor_onoff_total      4077\n",
              "raptor_offense          4079\n",
              "raptor_defense          4079\n",
              "raptor_total            4079\n",
              "war_total               4079\n",
              "war_reg_season          4075\n",
              "war_playoffs            1717\n",
              "predator_offense        4079\n",
              "predator_defense        4079\n",
              "predator_total          4079\n",
              "pace_impact             4078\n",
              "dtype: int64"
            ]
          },
          "metadata": {},
          "execution_count": 12
        }
      ]
    },
    {
      "cell_type": "code",
      "source": [
        "df.isna().sum()\n",
        "\n",
        "## checking for rows missing data"
      ],
      "metadata": {
        "colab": {
          "base_uri": "https://localhost:8080/"
        },
        "id": "WWqR95iPD2_f",
        "outputId": "eb390f40-22fd-4ce0-b800-cb2a184a6ad6"
      },
      "execution_count": 13,
      "outputs": [
        {
          "output_type": "execute_result",
          "data": {
            "text/plain": [
              "player_name             0\n",
              "player_id               0\n",
              "season                  0\n",
              "poss                    0\n",
              "mp                      0\n",
              "raptor_box_offense      1\n",
              "raptor_box_defense      1\n",
              "raptor_box_total        1\n",
              "raptor_onoff_offense    1\n",
              "raptor_onoff_defense    1\n",
              "raptor_onoff_total      1\n",
              "raptor_offense          0\n",
              "raptor_defense          0\n",
              "raptor_total            0\n",
              "war_total               0\n",
              "war_reg_season          0\n",
              "war_playoffs            0\n",
              "predator_offense        0\n",
              "predator_defense        0\n",
              "predator_total          0\n",
              "pace_impact             1\n",
              "dtype: int64"
            ]
          },
          "metadata": {},
          "execution_count": 13
        }
      ]
    },
    {
      "cell_type": "code",
      "source": [
        "df.dropna(subset=['raptor_box_offense', 'raptor_box_defense', 'raptor_box_total', 'raptor_onoff_offense', 'raptor_onoff_defense', 'raptor_onoff_total', 'pace_impact'], inplace=True)\n",
        "df.isna().sum()\n",
        "\n",
        "## selected all the rows that had missing values and dropped them from the dataframe"
      ],
      "metadata": {
        "colab": {
          "base_uri": "https://localhost:8080/"
        },
        "id": "afN2GY6sD20S",
        "outputId": "f9e47d2d-e496-4c43-ee60-2419aab49f7e"
      },
      "execution_count": 15,
      "outputs": [
        {
          "output_type": "execute_result",
          "data": {
            "text/plain": [
              "player_name             0\n",
              "player_id               0\n",
              "season                  0\n",
              "poss                    0\n",
              "mp                      0\n",
              "raptor_box_offense      0\n",
              "raptor_box_defense      0\n",
              "raptor_box_total        0\n",
              "raptor_onoff_offense    0\n",
              "raptor_onoff_defense    0\n",
              "raptor_onoff_total      0\n",
              "raptor_offense          0\n",
              "raptor_defense          0\n",
              "raptor_total            0\n",
              "war_total               0\n",
              "war_reg_season          0\n",
              "war_playoffs            0\n",
              "predator_offense        0\n",
              "predator_defense        0\n",
              "predator_total          0\n",
              "pace_impact             0\n",
              "dtype: int64"
            ]
          },
          "metadata": {},
          "execution_count": 15
        }
      ]
    }
  ]
}