{
  "nbformat": 4,
  "nbformat_minor": 0,
  "metadata": {
    "colab": {
      "name": "Cafiero Project 2.ipynb",
      "provenance": [],
      "collapsed_sections": [
        "TSSmOjk7B6aT"
      ],
      "authorship_tag": "ABX9TyNu3BVolNXpF8k74hfttfqN",
      "include_colab_link": true
    },
    "kernelspec": {
      "name": "python3",
      "display_name": "Python 3"
    },
    "language_info": {
      "name": "python"
    }
  },
  "cells": [
    {
      "cell_type": "markdown",
      "metadata": {
        "id": "view-in-github",
        "colab_type": "text"
      },
      "source": [
        "<a href=\"https://colab.research.google.com/github/acafiero/sports-project2/blob/main/Cafiero_Project_2.ipynb\" target=\"_parent\"><img src=\"https://colab.research.google.com/assets/colab-badge.svg\" alt=\"Open In Colab\"/></a>"
      ]
    },
    {
      "cell_type": "code",
      "execution_count": 1,
      "metadata": {
        "id": "J3vonAxFMp6l"
      },
      "outputs": [],
      "source": [
        "import pandas as pd\n",
        "from matplotlib import pyplot as plt\n",
        "import seaborn as sns\n",
        "import numpy as np\n",
        "from sklearn.model_selection import train_test_split\n",
        "from sklearn.compose import make_column_selector, make_column_transformer\n",
        "from sklearn.pipeline import make_pipeline\n",
        "from sklearn.linear_model import LinearRegression\n",
        "from sklearn.dummy import DummyRegressor\n",
        "from sklearn.tree import DecisionTreeRegressor\n",
        "from sklearn.decomposition import PCA\n",
        "from sklearn.neighbors import KNeighborsRegressor\n",
        "from sklearn.preprocessing import StandardScaler\n",
        "from sklearn.cluster import KMeans\n",
        "from sklearn.metrics import mean_squared_error, mean_absolute_error, r2_score, silhouette_score, classification_report, confusion_matrix"
      ]
    },
    {
      "cell_type": "markdown",
      "source": [
        " ## *Dataset*\n",
        " 1) github / Five Thirty Eight\n",
        "\n",
        " 2) statistical data for modern NBA players\n",
        "\n",
        " 3) What is the statiscal threshold of WAR and RAPTOR a player needs to reach to be worth signing\n",
        "\n",
        " 4) Regression\n",
        "\n",
        " 5) 21 features\n",
        "\n",
        " 6) 4078 rows\n",
        "\n",
        " 7) There are multiple entries for the same player that needed to be reduced and averaged out, several features that are redudant to the study and an excess of negative floats that could inaccurately affect the outcome"
      ],
      "metadata": {
        "id": "9yj1XG8XOi0P"
      }
    },
    {
      "cell_type": "code",
      "source": [
        "from google.colab import drive\n",
        "drive.mount('/content/drive')"
      ],
      "metadata": {
        "colab": {
          "base_uri": "https://localhost:8080/"
        },
        "id": "LYFWdH6FDiCM",
        "outputId": "5b1aab0f-769a-476b-d7bd-a0f814caa2c8"
      },
      "execution_count": 2,
      "outputs": [
        {
          "output_type": "stream",
          "name": "stdout",
          "text": [
            "Drive already mounted at /content/drive; to attempt to forcibly remount, call drive.mount(\"/content/drive\", force_remount=True).\n"
          ]
        }
      ]
    },
    {
      "cell_type": "code",
      "source": [
        "url = 'https://raw.githubusercontent.com/acafiero/sports-project2/main/modern_RAPTOR_by_player.csv'\n",
        "df = pd.read_csv(url)\n",
        "df.head()"
      ],
      "metadata": {
        "id": "Q4AGKq2XM1gb",
        "colab": {
          "base_uri": "https://localhost:8080/",
          "height": 317
        },
        "outputId": "966b331b-7caf-48bb-f6a6-d771ff9f497a"
      },
      "execution_count": 3,
      "outputs": [
        {
          "output_type": "execute_result",
          "data": {
            "text/plain": [
              "        player_name  player_id  season  poss    mp  raptor_box_offense  \\\n",
              "0      Alex Abrines  abrinal01    2017  2387  1135            0.745505   \n",
              "1      Alex Abrines  abrinal01    2018  2546  1244            0.317549   \n",
              "2      Alex Abrines  abrinal01    2019  1279   588           -3.215683   \n",
              "3  Precious Achiuwa  achiupr01    2021  1581   749           -4.122966   \n",
              "4        Quincy Acy    acyqu01    2014  1716   847           -1.716079   \n",
              "\n",
              "   raptor_box_defense  raptor_box_total  raptor_onoff_offense  \\\n",
              "0           -0.372938          0.372567             -0.418553   \n",
              "1           -1.725325         -1.407776             -1.291727   \n",
              "2            1.078399         -2.137285             -6.158856   \n",
              "3            1.359278         -2.763688             -4.050779   \n",
              "4            0.133115         -1.582964             -0.324811   \n",
              "\n",
              "   raptor_onoff_defense  ...  raptor_offense  raptor_defense  raptor_total  \\\n",
              "0             -3.857011  ...        0.543421       -1.144832     -0.601411   \n",
              "1             -0.049694  ...       -0.020826       -1.502642     -1.523468   \n",
              "2              4.901168  ...       -4.040157        1.885618     -2.154538   \n",
              "3             -0.919712  ...       -4.347596        0.954821     -3.392775   \n",
              "4             -1.661495  ...       -1.565257       -0.216477     -1.781734   \n",
              "\n",
              "   war_total  war_reg_season  war_playoffs  predator_offense  \\\n",
              "0   1.249008        1.447708     -0.198700          0.077102   \n",
              "1   0.777304        0.465912      0.311392         -0.174621   \n",
              "2   0.178167        0.178167      0.000000         -4.577678   \n",
              "3  -0.246055       -0.246776      0.000721         -3.817713   \n",
              "4   0.415918        0.415918      0.000000         -1.464417   \n",
              "\n",
              "   predator_defense  predator_total  pace_impact  \n",
              "0         -1.038677       -0.961575     0.326413  \n",
              "1         -1.112625       -1.287247    -0.456141  \n",
              "2          1.543282       -3.034396    -0.268013  \n",
              "3          0.474828       -3.342885     0.329157  \n",
              "4         -0.223754       -1.688171    -0.554898  \n",
              "\n",
              "[5 rows x 21 columns]"
            ],
            "text/html": [
              "\n",
              "  <div id=\"df-97b9e00d-dd91-4c19-b73d-9f6cf8e8472d\">\n",
              "    <div class=\"colab-df-container\">\n",
              "      <div>\n",
              "<style scoped>\n",
              "    .dataframe tbody tr th:only-of-type {\n",
              "        vertical-align: middle;\n",
              "    }\n",
              "\n",
              "    .dataframe tbody tr th {\n",
              "        vertical-align: top;\n",
              "    }\n",
              "\n",
              "    .dataframe thead th {\n",
              "        text-align: right;\n",
              "    }\n",
              "</style>\n",
              "<table border=\"1\" class=\"dataframe\">\n",
              "  <thead>\n",
              "    <tr style=\"text-align: right;\">\n",
              "      <th></th>\n",
              "      <th>player_name</th>\n",
              "      <th>player_id</th>\n",
              "      <th>season</th>\n",
              "      <th>poss</th>\n",
              "      <th>mp</th>\n",
              "      <th>raptor_box_offense</th>\n",
              "      <th>raptor_box_defense</th>\n",
              "      <th>raptor_box_total</th>\n",
              "      <th>raptor_onoff_offense</th>\n",
              "      <th>raptor_onoff_defense</th>\n",
              "      <th>...</th>\n",
              "      <th>raptor_offense</th>\n",
              "      <th>raptor_defense</th>\n",
              "      <th>raptor_total</th>\n",
              "      <th>war_total</th>\n",
              "      <th>war_reg_season</th>\n",
              "      <th>war_playoffs</th>\n",
              "      <th>predator_offense</th>\n",
              "      <th>predator_defense</th>\n",
              "      <th>predator_total</th>\n",
              "      <th>pace_impact</th>\n",
              "    </tr>\n",
              "  </thead>\n",
              "  <tbody>\n",
              "    <tr>\n",
              "      <th>0</th>\n",
              "      <td>Alex Abrines</td>\n",
              "      <td>abrinal01</td>\n",
              "      <td>2017</td>\n",
              "      <td>2387</td>\n",
              "      <td>1135</td>\n",
              "      <td>0.745505</td>\n",
              "      <td>-0.372938</td>\n",
              "      <td>0.372567</td>\n",
              "      <td>-0.418553</td>\n",
              "      <td>-3.857011</td>\n",
              "      <td>...</td>\n",
              "      <td>0.543421</td>\n",
              "      <td>-1.144832</td>\n",
              "      <td>-0.601411</td>\n",
              "      <td>1.249008</td>\n",
              "      <td>1.447708</td>\n",
              "      <td>-0.198700</td>\n",
              "      <td>0.077102</td>\n",
              "      <td>-1.038677</td>\n",
              "      <td>-0.961575</td>\n",
              "      <td>0.326413</td>\n",
              "    </tr>\n",
              "    <tr>\n",
              "      <th>1</th>\n",
              "      <td>Alex Abrines</td>\n",
              "      <td>abrinal01</td>\n",
              "      <td>2018</td>\n",
              "      <td>2546</td>\n",
              "      <td>1244</td>\n",
              "      <td>0.317549</td>\n",
              "      <td>-1.725325</td>\n",
              "      <td>-1.407776</td>\n",
              "      <td>-1.291727</td>\n",
              "      <td>-0.049694</td>\n",
              "      <td>...</td>\n",
              "      <td>-0.020826</td>\n",
              "      <td>-1.502642</td>\n",
              "      <td>-1.523468</td>\n",
              "      <td>0.777304</td>\n",
              "      <td>0.465912</td>\n",
              "      <td>0.311392</td>\n",
              "      <td>-0.174621</td>\n",
              "      <td>-1.112625</td>\n",
              "      <td>-1.287247</td>\n",
              "      <td>-0.456141</td>\n",
              "    </tr>\n",
              "    <tr>\n",
              "      <th>2</th>\n",
              "      <td>Alex Abrines</td>\n",
              "      <td>abrinal01</td>\n",
              "      <td>2019</td>\n",
              "      <td>1279</td>\n",
              "      <td>588</td>\n",
              "      <td>-3.215683</td>\n",
              "      <td>1.078399</td>\n",
              "      <td>-2.137285</td>\n",
              "      <td>-6.158856</td>\n",
              "      <td>4.901168</td>\n",
              "      <td>...</td>\n",
              "      <td>-4.040157</td>\n",
              "      <td>1.885618</td>\n",
              "      <td>-2.154538</td>\n",
              "      <td>0.178167</td>\n",
              "      <td>0.178167</td>\n",
              "      <td>0.000000</td>\n",
              "      <td>-4.577678</td>\n",
              "      <td>1.543282</td>\n",
              "      <td>-3.034396</td>\n",
              "      <td>-0.268013</td>\n",
              "    </tr>\n",
              "    <tr>\n",
              "      <th>3</th>\n",
              "      <td>Precious Achiuwa</td>\n",
              "      <td>achiupr01</td>\n",
              "      <td>2021</td>\n",
              "      <td>1581</td>\n",
              "      <td>749</td>\n",
              "      <td>-4.122966</td>\n",
              "      <td>1.359278</td>\n",
              "      <td>-2.763688</td>\n",
              "      <td>-4.050779</td>\n",
              "      <td>-0.919712</td>\n",
              "      <td>...</td>\n",
              "      <td>-4.347596</td>\n",
              "      <td>0.954821</td>\n",
              "      <td>-3.392775</td>\n",
              "      <td>-0.246055</td>\n",
              "      <td>-0.246776</td>\n",
              "      <td>0.000721</td>\n",
              "      <td>-3.817713</td>\n",
              "      <td>0.474828</td>\n",
              "      <td>-3.342885</td>\n",
              "      <td>0.329157</td>\n",
              "    </tr>\n",
              "    <tr>\n",
              "      <th>4</th>\n",
              "      <td>Quincy Acy</td>\n",
              "      <td>acyqu01</td>\n",
              "      <td>2014</td>\n",
              "      <td>1716</td>\n",
              "      <td>847</td>\n",
              "      <td>-1.716079</td>\n",
              "      <td>0.133115</td>\n",
              "      <td>-1.582964</td>\n",
              "      <td>-0.324811</td>\n",
              "      <td>-1.661495</td>\n",
              "      <td>...</td>\n",
              "      <td>-1.565257</td>\n",
              "      <td>-0.216477</td>\n",
              "      <td>-1.781734</td>\n",
              "      <td>0.415918</td>\n",
              "      <td>0.415918</td>\n",
              "      <td>0.000000</td>\n",
              "      <td>-1.464417</td>\n",
              "      <td>-0.223754</td>\n",
              "      <td>-1.688171</td>\n",
              "      <td>-0.554898</td>\n",
              "    </tr>\n",
              "  </tbody>\n",
              "</table>\n",
              "<p>5 rows × 21 columns</p>\n",
              "</div>\n",
              "      <button class=\"colab-df-convert\" onclick=\"convertToInteractive('df-97b9e00d-dd91-4c19-b73d-9f6cf8e8472d')\"\n",
              "              title=\"Convert this dataframe to an interactive table.\"\n",
              "              style=\"display:none;\">\n",
              "        \n",
              "  <svg xmlns=\"http://www.w3.org/2000/svg\" height=\"24px\"viewBox=\"0 0 24 24\"\n",
              "       width=\"24px\">\n",
              "    <path d=\"M0 0h24v24H0V0z\" fill=\"none\"/>\n",
              "    <path d=\"M18.56 5.44l.94 2.06.94-2.06 2.06-.94-2.06-.94-.94-2.06-.94 2.06-2.06.94zm-11 1L8.5 8.5l.94-2.06 2.06-.94-2.06-.94L8.5 2.5l-.94 2.06-2.06.94zm10 10l.94 2.06.94-2.06 2.06-.94-2.06-.94-.94-2.06-.94 2.06-2.06.94z\"/><path d=\"M17.41 7.96l-1.37-1.37c-.4-.4-.92-.59-1.43-.59-.52 0-1.04.2-1.43.59L10.3 9.45l-7.72 7.72c-.78.78-.78 2.05 0 2.83L4 21.41c.39.39.9.59 1.41.59.51 0 1.02-.2 1.41-.59l7.78-7.78 2.81-2.81c.8-.78.8-2.07 0-2.86zM5.41 20L4 18.59l7.72-7.72 1.47 1.35L5.41 20z\"/>\n",
              "  </svg>\n",
              "      </button>\n",
              "      \n",
              "  <style>\n",
              "    .colab-df-container {\n",
              "      display:flex;\n",
              "      flex-wrap:wrap;\n",
              "      gap: 12px;\n",
              "    }\n",
              "\n",
              "    .colab-df-convert {\n",
              "      background-color: #E8F0FE;\n",
              "      border: none;\n",
              "      border-radius: 50%;\n",
              "      cursor: pointer;\n",
              "      display: none;\n",
              "      fill: #1967D2;\n",
              "      height: 32px;\n",
              "      padding: 0 0 0 0;\n",
              "      width: 32px;\n",
              "    }\n",
              "\n",
              "    .colab-df-convert:hover {\n",
              "      background-color: #E2EBFA;\n",
              "      box-shadow: 0px 1px 2px rgba(60, 64, 67, 0.3), 0px 1px 3px 1px rgba(60, 64, 67, 0.15);\n",
              "      fill: #174EA6;\n",
              "    }\n",
              "\n",
              "    [theme=dark] .colab-df-convert {\n",
              "      background-color: #3B4455;\n",
              "      fill: #D2E3FC;\n",
              "    }\n",
              "\n",
              "    [theme=dark] .colab-df-convert:hover {\n",
              "      background-color: #434B5C;\n",
              "      box-shadow: 0px 1px 3px 1px rgba(0, 0, 0, 0.15);\n",
              "      filter: drop-shadow(0px 1px 2px rgba(0, 0, 0, 0.3));\n",
              "      fill: #FFFFFF;\n",
              "    }\n",
              "  </style>\n",
              "\n",
              "      <script>\n",
              "        const buttonEl =\n",
              "          document.querySelector('#df-97b9e00d-dd91-4c19-b73d-9f6cf8e8472d button.colab-df-convert');\n",
              "        buttonEl.style.display =\n",
              "          google.colab.kernel.accessAllowed ? 'block' : 'none';\n",
              "\n",
              "        async function convertToInteractive(key) {\n",
              "          const element = document.querySelector('#df-97b9e00d-dd91-4c19-b73d-9f6cf8e8472d');\n",
              "          const dataTable =\n",
              "            await google.colab.kernel.invokeFunction('convertToInteractive',\n",
              "                                                     [key], {});\n",
              "          if (!dataTable) return;\n",
              "\n",
              "          const docLinkHtml = 'Like what you see? Visit the ' +\n",
              "            '<a target=\"_blank\" href=https://colab.research.google.com/notebooks/data_table.ipynb>data table notebook</a>'\n",
              "            + ' to learn more about interactive tables.';\n",
              "          element.innerHTML = '';\n",
              "          dataTable['output_type'] = 'display_data';\n",
              "          await google.colab.output.renderOutput(dataTable, element);\n",
              "          const docLink = document.createElement('div');\n",
              "          docLink.innerHTML = docLinkHtml;\n",
              "          element.appendChild(docLink);\n",
              "        }\n",
              "      </script>\n",
              "    </div>\n",
              "  </div>\n",
              "  "
            ]
          },
          "metadata": {},
          "execution_count": 3
        }
      ]
    },
    {
      "cell_type": "code",
      "source": [
        "dfml = pd.DataFrame()\n",
        "players = df['player_name'].unique()"
      ],
      "metadata": {
        "id": "ziwAowyFEvGM"
      },
      "execution_count": 4,
      "outputs": []
    },
    {
      "cell_type": "code",
      "source": [
        "players\n",
        "\n",
        "for player in players:\n",
        "  player_df = df.loc[df['player_name'] == player]\n",
        "  player_df['Next WAR'] = player_df['war_total'].shift(-1)\n",
        "  dfml = pd.concat([dfml, player_df])\n",
        "\n",
        "dfml.head()"
      ],
      "metadata": {
        "colab": {
          "base_uri": "https://localhost:8080/",
          "height": 441
        },
        "id": "uybUNObaFgfS",
        "outputId": "3bac6b12-45b9-44a8-a0d8-8a6a4b0eaf7a"
      },
      "execution_count": 5,
      "outputs": [
        {
          "output_type": "stream",
          "name": "stderr",
          "text": [
            "/usr/local/lib/python3.7/dist-packages/ipykernel_launcher.py:5: SettingWithCopyWarning: \n",
            "A value is trying to be set on a copy of a slice from a DataFrame.\n",
            "Try using .loc[row_indexer,col_indexer] = value instead\n",
            "\n",
            "See the caveats in the documentation: https://pandas.pydata.org/pandas-docs/stable/user_guide/indexing.html#returning-a-view-versus-a-copy\n",
            "  \"\"\"\n"
          ]
        },
        {
          "output_type": "execute_result",
          "data": {
            "text/plain": [
              "        player_name  player_id  season  poss    mp  raptor_box_offense  \\\n",
              "0      Alex Abrines  abrinal01    2017  2387  1135            0.745505   \n",
              "1      Alex Abrines  abrinal01    2018  2546  1244            0.317549   \n",
              "2      Alex Abrines  abrinal01    2019  1279   588           -3.215683   \n",
              "3  Precious Achiuwa  achiupr01    2021  1581   749           -4.122966   \n",
              "4        Quincy Acy    acyqu01    2014  1716   847           -1.716079   \n",
              "\n",
              "   raptor_box_defense  raptor_box_total  raptor_onoff_offense  \\\n",
              "0           -0.372938          0.372567             -0.418553   \n",
              "1           -1.725325         -1.407776             -1.291727   \n",
              "2            1.078399         -2.137285             -6.158856   \n",
              "3            1.359278         -2.763688             -4.050779   \n",
              "4            0.133115         -1.582964             -0.324811   \n",
              "\n",
              "   raptor_onoff_defense  ...  raptor_defense  raptor_total  war_total  \\\n",
              "0             -3.857011  ...       -1.144832     -0.601411   1.249008   \n",
              "1             -0.049694  ...       -1.502642     -1.523468   0.777304   \n",
              "2              4.901168  ...        1.885618     -2.154538   0.178167   \n",
              "3             -0.919712  ...        0.954821     -3.392775  -0.246055   \n",
              "4             -1.661495  ...       -0.216477     -1.781734   0.415918   \n",
              "\n",
              "   war_reg_season  war_playoffs  predator_offense  predator_defense  \\\n",
              "0        1.447708     -0.198700          0.077102         -1.038677   \n",
              "1        0.465912      0.311392         -0.174621         -1.112625   \n",
              "2        0.178167      0.000000         -4.577678          1.543282   \n",
              "3       -0.246776      0.000721         -3.817713          0.474828   \n",
              "4        0.415918      0.000000         -1.464417         -0.223754   \n",
              "\n",
              "   predator_total  pace_impact  Next WAR  \n",
              "0       -0.961575     0.326413  0.777304  \n",
              "1       -1.287247    -0.456141  0.178167  \n",
              "2       -3.034396    -0.268013       NaN  \n",
              "3       -3.342885     0.329157       NaN  \n",
              "4       -1.688171    -0.554898 -0.083313  \n",
              "\n",
              "[5 rows x 22 columns]"
            ],
            "text/html": [
              "\n",
              "  <div id=\"df-f4a9e255-2d56-4481-9607-5b3909a2900f\">\n",
              "    <div class=\"colab-df-container\">\n",
              "      <div>\n",
              "<style scoped>\n",
              "    .dataframe tbody tr th:only-of-type {\n",
              "        vertical-align: middle;\n",
              "    }\n",
              "\n",
              "    .dataframe tbody tr th {\n",
              "        vertical-align: top;\n",
              "    }\n",
              "\n",
              "    .dataframe thead th {\n",
              "        text-align: right;\n",
              "    }\n",
              "</style>\n",
              "<table border=\"1\" class=\"dataframe\">\n",
              "  <thead>\n",
              "    <tr style=\"text-align: right;\">\n",
              "      <th></th>\n",
              "      <th>player_name</th>\n",
              "      <th>player_id</th>\n",
              "      <th>season</th>\n",
              "      <th>poss</th>\n",
              "      <th>mp</th>\n",
              "      <th>raptor_box_offense</th>\n",
              "      <th>raptor_box_defense</th>\n",
              "      <th>raptor_box_total</th>\n",
              "      <th>raptor_onoff_offense</th>\n",
              "      <th>raptor_onoff_defense</th>\n",
              "      <th>...</th>\n",
              "      <th>raptor_defense</th>\n",
              "      <th>raptor_total</th>\n",
              "      <th>war_total</th>\n",
              "      <th>war_reg_season</th>\n",
              "      <th>war_playoffs</th>\n",
              "      <th>predator_offense</th>\n",
              "      <th>predator_defense</th>\n",
              "      <th>predator_total</th>\n",
              "      <th>pace_impact</th>\n",
              "      <th>Next WAR</th>\n",
              "    </tr>\n",
              "  </thead>\n",
              "  <tbody>\n",
              "    <tr>\n",
              "      <th>0</th>\n",
              "      <td>Alex Abrines</td>\n",
              "      <td>abrinal01</td>\n",
              "      <td>2017</td>\n",
              "      <td>2387</td>\n",
              "      <td>1135</td>\n",
              "      <td>0.745505</td>\n",
              "      <td>-0.372938</td>\n",
              "      <td>0.372567</td>\n",
              "      <td>-0.418553</td>\n",
              "      <td>-3.857011</td>\n",
              "      <td>...</td>\n",
              "      <td>-1.144832</td>\n",
              "      <td>-0.601411</td>\n",
              "      <td>1.249008</td>\n",
              "      <td>1.447708</td>\n",
              "      <td>-0.198700</td>\n",
              "      <td>0.077102</td>\n",
              "      <td>-1.038677</td>\n",
              "      <td>-0.961575</td>\n",
              "      <td>0.326413</td>\n",
              "      <td>0.777304</td>\n",
              "    </tr>\n",
              "    <tr>\n",
              "      <th>1</th>\n",
              "      <td>Alex Abrines</td>\n",
              "      <td>abrinal01</td>\n",
              "      <td>2018</td>\n",
              "      <td>2546</td>\n",
              "      <td>1244</td>\n",
              "      <td>0.317549</td>\n",
              "      <td>-1.725325</td>\n",
              "      <td>-1.407776</td>\n",
              "      <td>-1.291727</td>\n",
              "      <td>-0.049694</td>\n",
              "      <td>...</td>\n",
              "      <td>-1.502642</td>\n",
              "      <td>-1.523468</td>\n",
              "      <td>0.777304</td>\n",
              "      <td>0.465912</td>\n",
              "      <td>0.311392</td>\n",
              "      <td>-0.174621</td>\n",
              "      <td>-1.112625</td>\n",
              "      <td>-1.287247</td>\n",
              "      <td>-0.456141</td>\n",
              "      <td>0.178167</td>\n",
              "    </tr>\n",
              "    <tr>\n",
              "      <th>2</th>\n",
              "      <td>Alex Abrines</td>\n",
              "      <td>abrinal01</td>\n",
              "      <td>2019</td>\n",
              "      <td>1279</td>\n",
              "      <td>588</td>\n",
              "      <td>-3.215683</td>\n",
              "      <td>1.078399</td>\n",
              "      <td>-2.137285</td>\n",
              "      <td>-6.158856</td>\n",
              "      <td>4.901168</td>\n",
              "      <td>...</td>\n",
              "      <td>1.885618</td>\n",
              "      <td>-2.154538</td>\n",
              "      <td>0.178167</td>\n",
              "      <td>0.178167</td>\n",
              "      <td>0.000000</td>\n",
              "      <td>-4.577678</td>\n",
              "      <td>1.543282</td>\n",
              "      <td>-3.034396</td>\n",
              "      <td>-0.268013</td>\n",
              "      <td>NaN</td>\n",
              "    </tr>\n",
              "    <tr>\n",
              "      <th>3</th>\n",
              "      <td>Precious Achiuwa</td>\n",
              "      <td>achiupr01</td>\n",
              "      <td>2021</td>\n",
              "      <td>1581</td>\n",
              "      <td>749</td>\n",
              "      <td>-4.122966</td>\n",
              "      <td>1.359278</td>\n",
              "      <td>-2.763688</td>\n",
              "      <td>-4.050779</td>\n",
              "      <td>-0.919712</td>\n",
              "      <td>...</td>\n",
              "      <td>0.954821</td>\n",
              "      <td>-3.392775</td>\n",
              "      <td>-0.246055</td>\n",
              "      <td>-0.246776</td>\n",
              "      <td>0.000721</td>\n",
              "      <td>-3.817713</td>\n",
              "      <td>0.474828</td>\n",
              "      <td>-3.342885</td>\n",
              "      <td>0.329157</td>\n",
              "      <td>NaN</td>\n",
              "    </tr>\n",
              "    <tr>\n",
              "      <th>4</th>\n",
              "      <td>Quincy Acy</td>\n",
              "      <td>acyqu01</td>\n",
              "      <td>2014</td>\n",
              "      <td>1716</td>\n",
              "      <td>847</td>\n",
              "      <td>-1.716079</td>\n",
              "      <td>0.133115</td>\n",
              "      <td>-1.582964</td>\n",
              "      <td>-0.324811</td>\n",
              "      <td>-1.661495</td>\n",
              "      <td>...</td>\n",
              "      <td>-0.216477</td>\n",
              "      <td>-1.781734</td>\n",
              "      <td>0.415918</td>\n",
              "      <td>0.415918</td>\n",
              "      <td>0.000000</td>\n",
              "      <td>-1.464417</td>\n",
              "      <td>-0.223754</td>\n",
              "      <td>-1.688171</td>\n",
              "      <td>-0.554898</td>\n",
              "      <td>-0.083313</td>\n",
              "    </tr>\n",
              "  </tbody>\n",
              "</table>\n",
              "<p>5 rows × 22 columns</p>\n",
              "</div>\n",
              "      <button class=\"colab-df-convert\" onclick=\"convertToInteractive('df-f4a9e255-2d56-4481-9607-5b3909a2900f')\"\n",
              "              title=\"Convert this dataframe to an interactive table.\"\n",
              "              style=\"display:none;\">\n",
              "        \n",
              "  <svg xmlns=\"http://www.w3.org/2000/svg\" height=\"24px\"viewBox=\"0 0 24 24\"\n",
              "       width=\"24px\">\n",
              "    <path d=\"M0 0h24v24H0V0z\" fill=\"none\"/>\n",
              "    <path d=\"M18.56 5.44l.94 2.06.94-2.06 2.06-.94-2.06-.94-.94-2.06-.94 2.06-2.06.94zm-11 1L8.5 8.5l.94-2.06 2.06-.94-2.06-.94L8.5 2.5l-.94 2.06-2.06.94zm10 10l.94 2.06.94-2.06 2.06-.94-2.06-.94-.94-2.06-.94 2.06-2.06.94z\"/><path d=\"M17.41 7.96l-1.37-1.37c-.4-.4-.92-.59-1.43-.59-.52 0-1.04.2-1.43.59L10.3 9.45l-7.72 7.72c-.78.78-.78 2.05 0 2.83L4 21.41c.39.39.9.59 1.41.59.51 0 1.02-.2 1.41-.59l7.78-7.78 2.81-2.81c.8-.78.8-2.07 0-2.86zM5.41 20L4 18.59l7.72-7.72 1.47 1.35L5.41 20z\"/>\n",
              "  </svg>\n",
              "      </button>\n",
              "      \n",
              "  <style>\n",
              "    .colab-df-container {\n",
              "      display:flex;\n",
              "      flex-wrap:wrap;\n",
              "      gap: 12px;\n",
              "    }\n",
              "\n",
              "    .colab-df-convert {\n",
              "      background-color: #E8F0FE;\n",
              "      border: none;\n",
              "      border-radius: 50%;\n",
              "      cursor: pointer;\n",
              "      display: none;\n",
              "      fill: #1967D2;\n",
              "      height: 32px;\n",
              "      padding: 0 0 0 0;\n",
              "      width: 32px;\n",
              "    }\n",
              "\n",
              "    .colab-df-convert:hover {\n",
              "      background-color: #E2EBFA;\n",
              "      box-shadow: 0px 1px 2px rgba(60, 64, 67, 0.3), 0px 1px 3px 1px rgba(60, 64, 67, 0.15);\n",
              "      fill: #174EA6;\n",
              "    }\n",
              "\n",
              "    [theme=dark] .colab-df-convert {\n",
              "      background-color: #3B4455;\n",
              "      fill: #D2E3FC;\n",
              "    }\n",
              "\n",
              "    [theme=dark] .colab-df-convert:hover {\n",
              "      background-color: #434B5C;\n",
              "      box-shadow: 0px 1px 3px 1px rgba(0, 0, 0, 0.15);\n",
              "      filter: drop-shadow(0px 1px 2px rgba(0, 0, 0, 0.3));\n",
              "      fill: #FFFFFF;\n",
              "    }\n",
              "  </style>\n",
              "\n",
              "      <script>\n",
              "        const buttonEl =\n",
              "          document.querySelector('#df-f4a9e255-2d56-4481-9607-5b3909a2900f button.colab-df-convert');\n",
              "        buttonEl.style.display =\n",
              "          google.colab.kernel.accessAllowed ? 'block' : 'none';\n",
              "\n",
              "        async function convertToInteractive(key) {\n",
              "          const element = document.querySelector('#df-f4a9e255-2d56-4481-9607-5b3909a2900f');\n",
              "          const dataTable =\n",
              "            await google.colab.kernel.invokeFunction('convertToInteractive',\n",
              "                                                     [key], {});\n",
              "          if (!dataTable) return;\n",
              "\n",
              "          const docLinkHtml = 'Like what you see? Visit the ' +\n",
              "            '<a target=\"_blank\" href=https://colab.research.google.com/notebooks/data_table.ipynb>data table notebook</a>'\n",
              "            + ' to learn more about interactive tables.';\n",
              "          element.innerHTML = '';\n",
              "          dataTable['output_type'] = 'display_data';\n",
              "          await google.colab.output.renderOutput(dataTable, element);\n",
              "          const docLink = document.createElement('div');\n",
              "          docLink.innerHTML = docLinkHtml;\n",
              "          element.appendChild(docLink);\n",
              "        }\n",
              "      </script>\n",
              "    </div>\n",
              "  </div>\n",
              "  "
            ]
          },
          "metadata": {},
          "execution_count": 5
        }
      ]
    },
    {
      "cell_type": "code",
      "source": [
        "dfml.info()"
      ],
      "metadata": {
        "id": "GZTMteO1PAAo",
        "colab": {
          "base_uri": "https://localhost:8080/"
        },
        "outputId": "f550adf0-152f-4a61-bf01-0e091f3002f1"
      },
      "execution_count": 6,
      "outputs": [
        {
          "output_type": "stream",
          "name": "stdout",
          "text": [
            "<class 'pandas.core.frame.DataFrame'>\n",
            "Int64Index: 4079 entries, 0 to 4078\n",
            "Data columns (total 22 columns):\n",
            " #   Column                Non-Null Count  Dtype  \n",
            "---  ------                --------------  -----  \n",
            " 0   player_name           4079 non-null   object \n",
            " 1   player_id             4079 non-null   object \n",
            " 2   season                4079 non-null   int64  \n",
            " 3   poss                  4079 non-null   int64  \n",
            " 4   mp                    4079 non-null   int64  \n",
            " 5   raptor_box_offense    4078 non-null   float64\n",
            " 6   raptor_box_defense    4078 non-null   float64\n",
            " 7   raptor_box_total      4078 non-null   float64\n",
            " 8   raptor_onoff_offense  4078 non-null   float64\n",
            " 9   raptor_onoff_defense  4078 non-null   float64\n",
            " 10  raptor_onoff_total    4078 non-null   float64\n",
            " 11  raptor_offense        4079 non-null   float64\n",
            " 12  raptor_defense        4079 non-null   float64\n",
            " 13  raptor_total          4079 non-null   float64\n",
            " 14  war_total             4079 non-null   float64\n",
            " 15  war_reg_season        4079 non-null   float64\n",
            " 16  war_playoffs          4079 non-null   float64\n",
            " 17  predator_offense      4079 non-null   float64\n",
            " 18  predator_defense      4079 non-null   float64\n",
            " 19  predator_total        4079 non-null   float64\n",
            " 20  pace_impact           4078 non-null   float64\n",
            " 21  Next WAR              2887 non-null   float64\n",
            "dtypes: float64(17), int64(3), object(2)\n",
            "memory usage: 732.9+ KB\n"
          ]
        }
      ]
    },
    {
      "cell_type": "code",
      "source": [
        "dfml.duplicated().sum()\n",
        "\n",
        "## no duplicated values"
      ],
      "metadata": {
        "id": "6rWXtDSxACq2",
        "colab": {
          "base_uri": "https://localhost:8080/"
        },
        "outputId": "5a04c32f-c292-4089-8815-8e540cf36307"
      },
      "execution_count": 7,
      "outputs": [
        {
          "output_type": "execute_result",
          "data": {
            "text/plain": [
              "0"
            ]
          },
          "metadata": {},
          "execution_count": 7
        }
      ]
    },
    {
      "cell_type": "code",
      "source": [
        "dfml.nunique()\n",
        "\n",
        "## checking all the various features"
      ],
      "metadata": {
        "id": "j7jnUAjRD3C3",
        "colab": {
          "base_uri": "https://localhost:8080/"
        },
        "outputId": "294886c6-a247-4d08-9fb3-4997020a37ea"
      },
      "execution_count": 8,
      "outputs": [
        {
          "output_type": "execute_result",
          "data": {
            "text/plain": [
              "player_name             1192\n",
              "player_id               1187\n",
              "season                     8\n",
              "poss                    2867\n",
              "mp                      2130\n",
              "raptor_box_offense      4078\n",
              "raptor_box_defense      4078\n",
              "raptor_box_total        4078\n",
              "raptor_onoff_offense    4077\n",
              "raptor_onoff_defense    4077\n",
              "raptor_onoff_total      4077\n",
              "raptor_offense          4079\n",
              "raptor_defense          4079\n",
              "raptor_total            4079\n",
              "war_total               4079\n",
              "war_reg_season          4075\n",
              "war_playoffs            1717\n",
              "predator_offense        4079\n",
              "predator_defense        4079\n",
              "predator_total          4079\n",
              "pace_impact             4078\n",
              "Next WAR                2887\n",
              "dtype: int64"
            ]
          },
          "metadata": {},
          "execution_count": 8
        }
      ]
    },
    {
      "cell_type": "code",
      "source": [
        "dfml.isna().sum()\n",
        "\n",
        "## checking for rows missing data"
      ],
      "metadata": {
        "id": "WWqR95iPD2_f",
        "colab": {
          "base_uri": "https://localhost:8080/"
        },
        "outputId": "dce81bb9-f9f9-4697-c543-aef2110760a7"
      },
      "execution_count": 9,
      "outputs": [
        {
          "output_type": "execute_result",
          "data": {
            "text/plain": [
              "player_name                0\n",
              "player_id                  0\n",
              "season                     0\n",
              "poss                       0\n",
              "mp                         0\n",
              "raptor_box_offense         1\n",
              "raptor_box_defense         1\n",
              "raptor_box_total           1\n",
              "raptor_onoff_offense       1\n",
              "raptor_onoff_defense       1\n",
              "raptor_onoff_total         1\n",
              "raptor_offense             0\n",
              "raptor_defense             0\n",
              "raptor_total               0\n",
              "war_total                  0\n",
              "war_reg_season             0\n",
              "war_playoffs               0\n",
              "predator_offense           0\n",
              "predator_defense           0\n",
              "predator_total             0\n",
              "pace_impact                1\n",
              "Next WAR                1192\n",
              "dtype: int64"
            ]
          },
          "metadata": {},
          "execution_count": 9
        }
      ]
    },
    {
      "cell_type": "code",
      "source": [
        "dfml.dropna()\n",
        "dfml.isna().sum()\n",
        "\n",
        "## dropped all rows missing values from the dataframe"
      ],
      "metadata": {
        "id": "afN2GY6sD20S",
        "colab": {
          "base_uri": "https://localhost:8080/"
        },
        "outputId": "5951867f-57f5-40fa-fa75-18da6866a024"
      },
      "execution_count": 10,
      "outputs": [
        {
          "output_type": "execute_result",
          "data": {
            "text/plain": [
              "player_name                0\n",
              "player_id                  0\n",
              "season                     0\n",
              "poss                       0\n",
              "mp                         0\n",
              "raptor_box_offense         1\n",
              "raptor_box_defense         1\n",
              "raptor_box_total           1\n",
              "raptor_onoff_offense       1\n",
              "raptor_onoff_defense       1\n",
              "raptor_onoff_total         1\n",
              "raptor_offense             0\n",
              "raptor_defense             0\n",
              "raptor_total               0\n",
              "war_total                  0\n",
              "war_reg_season             0\n",
              "war_playoffs               0\n",
              "predator_offense           0\n",
              "predator_defense           0\n",
              "predator_total             0\n",
              "pace_impact                1\n",
              "Next WAR                1192\n",
              "dtype: int64"
            ]
          },
          "metadata": {},
          "execution_count": 10
        }
      ]
    },
    {
      "cell_type": "code",
      "source": [
        "dfml.dropna()\n",
        "dfml"
      ],
      "metadata": {
        "colab": {
          "base_uri": "https://localhost:8080/",
          "height": 522
        },
        "id": "BrH549FmtXLt",
        "outputId": "939bfb75-90ad-44da-acb2-d38fbbb1fb2e"
      },
      "execution_count": 11,
      "outputs": [
        {
          "output_type": "execute_result",
          "data": {
            "text/plain": [
              "           player_name  player_id  season  poss    mp  raptor_box_offense  \\\n",
              "0         Alex Abrines  abrinal01    2017  2387  1135            0.745505   \n",
              "1         Alex Abrines  abrinal01    2018  2546  1244            0.317549   \n",
              "2         Alex Abrines  abrinal01    2019  1279   588           -3.215683   \n",
              "3     Precious Achiuwa  achiupr01    2021  1581   749           -4.122966   \n",
              "4           Quincy Acy    acyqu01    2014  1716   847           -1.716079   \n",
              "...                ...        ...     ...   ...   ...                 ...   \n",
              "4074       Ivica Zubac  zubaciv01    2017  1305   609           -3.320225   \n",
              "4075       Ivica Zubac  zubaciv01    2018   871   410           -2.581325   \n",
              "4076       Ivica Zubac  zubaciv01    2019  2345  1079           -2.336006   \n",
              "4077       Ivica Zubac  zubaciv01    2020  3447  1646            0.516422   \n",
              "4078       Ivica Zubac  zubaciv01    2021  3908  1910           -0.371753   \n",
              "\n",
              "      raptor_box_defense  raptor_box_total  raptor_onoff_offense  \\\n",
              "0              -0.372938          0.372567             -0.418553   \n",
              "1              -1.725325         -1.407776             -1.291727   \n",
              "2               1.078399         -2.137285             -6.158856   \n",
              "3               1.359278         -2.763688             -4.050779   \n",
              "4               0.133115         -1.582964             -0.324811   \n",
              "...                  ...               ...                   ...   \n",
              "4074           -2.901762         -6.221987             -2.791027   \n",
              "4075            1.643240         -0.938084             -3.444739   \n",
              "4076            1.400274         -0.935733             -1.757992   \n",
              "4077            3.529428          4.045850              3.314971   \n",
              "4078            2.960613          2.588860             -2.541995   \n",
              "\n",
              "      raptor_onoff_defense  ...  raptor_defense  raptor_total  war_total  \\\n",
              "0                -3.857011  ...       -1.144832     -0.601411   1.249008   \n",
              "1                -0.049694  ...       -1.502642     -1.523468   0.777304   \n",
              "2                 4.901168  ...        1.885618     -2.154538   0.178167   \n",
              "3                -0.919712  ...        0.954821     -3.392775  -0.246055   \n",
              "4                -1.661495  ...       -0.216477     -1.781734   0.415918   \n",
              "...                    ...  ...             ...           ...        ...   \n",
              "4074             -3.138553  ...       -3.040589     -6.398767  -1.141160   \n",
              "4075              6.249652  ...        2.688832     -0.214877   0.531968   \n",
              "4076              3.051059  ...        1.813768     -0.548676   1.217134   \n",
              "4077              2.963001  ...        3.549458      4.649308   6.224207   \n",
              "4078              0.156338  ...        2.525735      1.616696   4.261327   \n",
              "\n",
              "      war_reg_season  war_playoffs  predator_offense  predator_defense  \\\n",
              "0           1.447708     -0.198700          0.077102         -1.038677   \n",
              "1           0.465912      0.311392         -0.174621         -1.112625   \n",
              "2           0.178167      0.000000         -4.577678          1.543282   \n",
              "3          -0.246776      0.000721         -3.817713          0.474828   \n",
              "4           0.415918      0.000000         -1.464417         -0.223754   \n",
              "...              ...           ...               ...               ...   \n",
              "4074       -1.141160      0.000000         -3.533604         -2.932103   \n",
              "4075        0.531968      0.000000         -2.616331          0.752875   \n",
              "4076        1.114995      0.102138         -2.810283          1.157824   \n",
              "4077        5.020903      1.203304         -0.310842          3.331974   \n",
              "4078        3.704630      0.556697         -0.874338          2.280011   \n",
              "\n",
              "      predator_total  pace_impact  Next WAR  \n",
              "0          -0.961575     0.326413  0.777304  \n",
              "1          -1.287247    -0.456141  0.178167  \n",
              "2          -3.034396    -0.268013       NaN  \n",
              "3          -3.342885     0.329157       NaN  \n",
              "4          -1.688171    -0.554898 -0.083313  \n",
              "...              ...          ...       ...  \n",
              "4074       -6.465707     0.644128  0.531968  \n",
              "4075       -1.863456     0.311576  1.217134  \n",
              "4076       -1.652459     0.077074  6.224207  \n",
              "4077        3.021132    -0.410164  4.261327  \n",
              "4078        1.405673    -0.117623       NaN  \n",
              "\n",
              "[4079 rows x 22 columns]"
            ],
            "text/html": [
              "\n",
              "  <div id=\"df-c7e75f5c-366d-4493-a9fc-d79333b4cf37\">\n",
              "    <div class=\"colab-df-container\">\n",
              "      <div>\n",
              "<style scoped>\n",
              "    .dataframe tbody tr th:only-of-type {\n",
              "        vertical-align: middle;\n",
              "    }\n",
              "\n",
              "    .dataframe tbody tr th {\n",
              "        vertical-align: top;\n",
              "    }\n",
              "\n",
              "    .dataframe thead th {\n",
              "        text-align: right;\n",
              "    }\n",
              "</style>\n",
              "<table border=\"1\" class=\"dataframe\">\n",
              "  <thead>\n",
              "    <tr style=\"text-align: right;\">\n",
              "      <th></th>\n",
              "      <th>player_name</th>\n",
              "      <th>player_id</th>\n",
              "      <th>season</th>\n",
              "      <th>poss</th>\n",
              "      <th>mp</th>\n",
              "      <th>raptor_box_offense</th>\n",
              "      <th>raptor_box_defense</th>\n",
              "      <th>raptor_box_total</th>\n",
              "      <th>raptor_onoff_offense</th>\n",
              "      <th>raptor_onoff_defense</th>\n",
              "      <th>...</th>\n",
              "      <th>raptor_defense</th>\n",
              "      <th>raptor_total</th>\n",
              "      <th>war_total</th>\n",
              "      <th>war_reg_season</th>\n",
              "      <th>war_playoffs</th>\n",
              "      <th>predator_offense</th>\n",
              "      <th>predator_defense</th>\n",
              "      <th>predator_total</th>\n",
              "      <th>pace_impact</th>\n",
              "      <th>Next WAR</th>\n",
              "    </tr>\n",
              "  </thead>\n",
              "  <tbody>\n",
              "    <tr>\n",
              "      <th>0</th>\n",
              "      <td>Alex Abrines</td>\n",
              "      <td>abrinal01</td>\n",
              "      <td>2017</td>\n",
              "      <td>2387</td>\n",
              "      <td>1135</td>\n",
              "      <td>0.745505</td>\n",
              "      <td>-0.372938</td>\n",
              "      <td>0.372567</td>\n",
              "      <td>-0.418553</td>\n",
              "      <td>-3.857011</td>\n",
              "      <td>...</td>\n",
              "      <td>-1.144832</td>\n",
              "      <td>-0.601411</td>\n",
              "      <td>1.249008</td>\n",
              "      <td>1.447708</td>\n",
              "      <td>-0.198700</td>\n",
              "      <td>0.077102</td>\n",
              "      <td>-1.038677</td>\n",
              "      <td>-0.961575</td>\n",
              "      <td>0.326413</td>\n",
              "      <td>0.777304</td>\n",
              "    </tr>\n",
              "    <tr>\n",
              "      <th>1</th>\n",
              "      <td>Alex Abrines</td>\n",
              "      <td>abrinal01</td>\n",
              "      <td>2018</td>\n",
              "      <td>2546</td>\n",
              "      <td>1244</td>\n",
              "      <td>0.317549</td>\n",
              "      <td>-1.725325</td>\n",
              "      <td>-1.407776</td>\n",
              "      <td>-1.291727</td>\n",
              "      <td>-0.049694</td>\n",
              "      <td>...</td>\n",
              "      <td>-1.502642</td>\n",
              "      <td>-1.523468</td>\n",
              "      <td>0.777304</td>\n",
              "      <td>0.465912</td>\n",
              "      <td>0.311392</td>\n",
              "      <td>-0.174621</td>\n",
              "      <td>-1.112625</td>\n",
              "      <td>-1.287247</td>\n",
              "      <td>-0.456141</td>\n",
              "      <td>0.178167</td>\n",
              "    </tr>\n",
              "    <tr>\n",
              "      <th>2</th>\n",
              "      <td>Alex Abrines</td>\n",
              "      <td>abrinal01</td>\n",
              "      <td>2019</td>\n",
              "      <td>1279</td>\n",
              "      <td>588</td>\n",
              "      <td>-3.215683</td>\n",
              "      <td>1.078399</td>\n",
              "      <td>-2.137285</td>\n",
              "      <td>-6.158856</td>\n",
              "      <td>4.901168</td>\n",
              "      <td>...</td>\n",
              "      <td>1.885618</td>\n",
              "      <td>-2.154538</td>\n",
              "      <td>0.178167</td>\n",
              "      <td>0.178167</td>\n",
              "      <td>0.000000</td>\n",
              "      <td>-4.577678</td>\n",
              "      <td>1.543282</td>\n",
              "      <td>-3.034396</td>\n",
              "      <td>-0.268013</td>\n",
              "      <td>NaN</td>\n",
              "    </tr>\n",
              "    <tr>\n",
              "      <th>3</th>\n",
              "      <td>Precious Achiuwa</td>\n",
              "      <td>achiupr01</td>\n",
              "      <td>2021</td>\n",
              "      <td>1581</td>\n",
              "      <td>749</td>\n",
              "      <td>-4.122966</td>\n",
              "      <td>1.359278</td>\n",
              "      <td>-2.763688</td>\n",
              "      <td>-4.050779</td>\n",
              "      <td>-0.919712</td>\n",
              "      <td>...</td>\n",
              "      <td>0.954821</td>\n",
              "      <td>-3.392775</td>\n",
              "      <td>-0.246055</td>\n",
              "      <td>-0.246776</td>\n",
              "      <td>0.000721</td>\n",
              "      <td>-3.817713</td>\n",
              "      <td>0.474828</td>\n",
              "      <td>-3.342885</td>\n",
              "      <td>0.329157</td>\n",
              "      <td>NaN</td>\n",
              "    </tr>\n",
              "    <tr>\n",
              "      <th>4</th>\n",
              "      <td>Quincy Acy</td>\n",
              "      <td>acyqu01</td>\n",
              "      <td>2014</td>\n",
              "      <td>1716</td>\n",
              "      <td>847</td>\n",
              "      <td>-1.716079</td>\n",
              "      <td>0.133115</td>\n",
              "      <td>-1.582964</td>\n",
              "      <td>-0.324811</td>\n",
              "      <td>-1.661495</td>\n",
              "      <td>...</td>\n",
              "      <td>-0.216477</td>\n",
              "      <td>-1.781734</td>\n",
              "      <td>0.415918</td>\n",
              "      <td>0.415918</td>\n",
              "      <td>0.000000</td>\n",
              "      <td>-1.464417</td>\n",
              "      <td>-0.223754</td>\n",
              "      <td>-1.688171</td>\n",
              "      <td>-0.554898</td>\n",
              "      <td>-0.083313</td>\n",
              "    </tr>\n",
              "    <tr>\n",
              "      <th>...</th>\n",
              "      <td>...</td>\n",
              "      <td>...</td>\n",
              "      <td>...</td>\n",
              "      <td>...</td>\n",
              "      <td>...</td>\n",
              "      <td>...</td>\n",
              "      <td>...</td>\n",
              "      <td>...</td>\n",
              "      <td>...</td>\n",
              "      <td>...</td>\n",
              "      <td>...</td>\n",
              "      <td>...</td>\n",
              "      <td>...</td>\n",
              "      <td>...</td>\n",
              "      <td>...</td>\n",
              "      <td>...</td>\n",
              "      <td>...</td>\n",
              "      <td>...</td>\n",
              "      <td>...</td>\n",
              "      <td>...</td>\n",
              "      <td>...</td>\n",
              "    </tr>\n",
              "    <tr>\n",
              "      <th>4074</th>\n",
              "      <td>Ivica Zubac</td>\n",
              "      <td>zubaciv01</td>\n",
              "      <td>2017</td>\n",
              "      <td>1305</td>\n",
              "      <td>609</td>\n",
              "      <td>-3.320225</td>\n",
              "      <td>-2.901762</td>\n",
              "      <td>-6.221987</td>\n",
              "      <td>-2.791027</td>\n",
              "      <td>-3.138553</td>\n",
              "      <td>...</td>\n",
              "      <td>-3.040589</td>\n",
              "      <td>-6.398767</td>\n",
              "      <td>-1.141160</td>\n",
              "      <td>-1.141160</td>\n",
              "      <td>0.000000</td>\n",
              "      <td>-3.533604</td>\n",
              "      <td>-2.932103</td>\n",
              "      <td>-6.465707</td>\n",
              "      <td>0.644128</td>\n",
              "      <td>0.531968</td>\n",
              "    </tr>\n",
              "    <tr>\n",
              "      <th>4075</th>\n",
              "      <td>Ivica Zubac</td>\n",
              "      <td>zubaciv01</td>\n",
              "      <td>2018</td>\n",
              "      <td>871</td>\n",
              "      <td>410</td>\n",
              "      <td>-2.581325</td>\n",
              "      <td>1.643240</td>\n",
              "      <td>-0.938084</td>\n",
              "      <td>-3.444739</td>\n",
              "      <td>6.249652</td>\n",
              "      <td>...</td>\n",
              "      <td>2.688832</td>\n",
              "      <td>-0.214877</td>\n",
              "      <td>0.531968</td>\n",
              "      <td>0.531968</td>\n",
              "      <td>0.000000</td>\n",
              "      <td>-2.616331</td>\n",
              "      <td>0.752875</td>\n",
              "      <td>-1.863456</td>\n",
              "      <td>0.311576</td>\n",
              "      <td>1.217134</td>\n",
              "    </tr>\n",
              "    <tr>\n",
              "      <th>4076</th>\n",
              "      <td>Ivica Zubac</td>\n",
              "      <td>zubaciv01</td>\n",
              "      <td>2019</td>\n",
              "      <td>2345</td>\n",
              "      <td>1079</td>\n",
              "      <td>-2.336006</td>\n",
              "      <td>1.400274</td>\n",
              "      <td>-0.935733</td>\n",
              "      <td>-1.757992</td>\n",
              "      <td>3.051059</td>\n",
              "      <td>...</td>\n",
              "      <td>1.813768</td>\n",
              "      <td>-0.548676</td>\n",
              "      <td>1.217134</td>\n",
              "      <td>1.114995</td>\n",
              "      <td>0.102138</td>\n",
              "      <td>-2.810283</td>\n",
              "      <td>1.157824</td>\n",
              "      <td>-1.652459</td>\n",
              "      <td>0.077074</td>\n",
              "      <td>6.224207</td>\n",
              "    </tr>\n",
              "    <tr>\n",
              "      <th>4077</th>\n",
              "      <td>Ivica Zubac</td>\n",
              "      <td>zubaciv01</td>\n",
              "      <td>2020</td>\n",
              "      <td>3447</td>\n",
              "      <td>1646</td>\n",
              "      <td>0.516422</td>\n",
              "      <td>3.529428</td>\n",
              "      <td>4.045850</td>\n",
              "      <td>3.314971</td>\n",
              "      <td>2.963001</td>\n",
              "      <td>...</td>\n",
              "      <td>3.549458</td>\n",
              "      <td>4.649308</td>\n",
              "      <td>6.224207</td>\n",
              "      <td>5.020903</td>\n",
              "      <td>1.203304</td>\n",
              "      <td>-0.310842</td>\n",
              "      <td>3.331974</td>\n",
              "      <td>3.021132</td>\n",
              "      <td>-0.410164</td>\n",
              "      <td>4.261327</td>\n",
              "    </tr>\n",
              "    <tr>\n",
              "      <th>4078</th>\n",
              "      <td>Ivica Zubac</td>\n",
              "      <td>zubaciv01</td>\n",
              "      <td>2021</td>\n",
              "      <td>3908</td>\n",
              "      <td>1910</td>\n",
              "      <td>-0.371753</td>\n",
              "      <td>2.960613</td>\n",
              "      <td>2.588860</td>\n",
              "      <td>-2.541995</td>\n",
              "      <td>0.156338</td>\n",
              "      <td>...</td>\n",
              "      <td>2.525735</td>\n",
              "      <td>1.616696</td>\n",
              "      <td>4.261327</td>\n",
              "      <td>3.704630</td>\n",
              "      <td>0.556697</td>\n",
              "      <td>-0.874338</td>\n",
              "      <td>2.280011</td>\n",
              "      <td>1.405673</td>\n",
              "      <td>-0.117623</td>\n",
              "      <td>NaN</td>\n",
              "    </tr>\n",
              "  </tbody>\n",
              "</table>\n",
              "<p>4079 rows × 22 columns</p>\n",
              "</div>\n",
              "      <button class=\"colab-df-convert\" onclick=\"convertToInteractive('df-c7e75f5c-366d-4493-a9fc-d79333b4cf37')\"\n",
              "              title=\"Convert this dataframe to an interactive table.\"\n",
              "              style=\"display:none;\">\n",
              "        \n",
              "  <svg xmlns=\"http://www.w3.org/2000/svg\" height=\"24px\"viewBox=\"0 0 24 24\"\n",
              "       width=\"24px\">\n",
              "    <path d=\"M0 0h24v24H0V0z\" fill=\"none\"/>\n",
              "    <path d=\"M18.56 5.44l.94 2.06.94-2.06 2.06-.94-2.06-.94-.94-2.06-.94 2.06-2.06.94zm-11 1L8.5 8.5l.94-2.06 2.06-.94-2.06-.94L8.5 2.5l-.94 2.06-2.06.94zm10 10l.94 2.06.94-2.06 2.06-.94-2.06-.94-.94-2.06-.94 2.06-2.06.94z\"/><path d=\"M17.41 7.96l-1.37-1.37c-.4-.4-.92-.59-1.43-.59-.52 0-1.04.2-1.43.59L10.3 9.45l-7.72 7.72c-.78.78-.78 2.05 0 2.83L4 21.41c.39.39.9.59 1.41.59.51 0 1.02-.2 1.41-.59l7.78-7.78 2.81-2.81c.8-.78.8-2.07 0-2.86zM5.41 20L4 18.59l7.72-7.72 1.47 1.35L5.41 20z\"/>\n",
              "  </svg>\n",
              "      </button>\n",
              "      \n",
              "  <style>\n",
              "    .colab-df-container {\n",
              "      display:flex;\n",
              "      flex-wrap:wrap;\n",
              "      gap: 12px;\n",
              "    }\n",
              "\n",
              "    .colab-df-convert {\n",
              "      background-color: #E8F0FE;\n",
              "      border: none;\n",
              "      border-radius: 50%;\n",
              "      cursor: pointer;\n",
              "      display: none;\n",
              "      fill: #1967D2;\n",
              "      height: 32px;\n",
              "      padding: 0 0 0 0;\n",
              "      width: 32px;\n",
              "    }\n",
              "\n",
              "    .colab-df-convert:hover {\n",
              "      background-color: #E2EBFA;\n",
              "      box-shadow: 0px 1px 2px rgba(60, 64, 67, 0.3), 0px 1px 3px 1px rgba(60, 64, 67, 0.15);\n",
              "      fill: #174EA6;\n",
              "    }\n",
              "\n",
              "    [theme=dark] .colab-df-convert {\n",
              "      background-color: #3B4455;\n",
              "      fill: #D2E3FC;\n",
              "    }\n",
              "\n",
              "    [theme=dark] .colab-df-convert:hover {\n",
              "      background-color: #434B5C;\n",
              "      box-shadow: 0px 1px 3px 1px rgba(0, 0, 0, 0.15);\n",
              "      filter: drop-shadow(0px 1px 2px rgba(0, 0, 0, 0.3));\n",
              "      fill: #FFFFFF;\n",
              "    }\n",
              "  </style>\n",
              "\n",
              "      <script>\n",
              "        const buttonEl =\n",
              "          document.querySelector('#df-c7e75f5c-366d-4493-a9fc-d79333b4cf37 button.colab-df-convert');\n",
              "        buttonEl.style.display =\n",
              "          google.colab.kernel.accessAllowed ? 'block' : 'none';\n",
              "\n",
              "        async function convertToInteractive(key) {\n",
              "          const element = document.querySelector('#df-c7e75f5c-366d-4493-a9fc-d79333b4cf37');\n",
              "          const dataTable =\n",
              "            await google.colab.kernel.invokeFunction('convertToInteractive',\n",
              "                                                     [key], {});\n",
              "          if (!dataTable) return;\n",
              "\n",
              "          const docLinkHtml = 'Like what you see? Visit the ' +\n",
              "            '<a target=\"_blank\" href=https://colab.research.google.com/notebooks/data_table.ipynb>data table notebook</a>'\n",
              "            + ' to learn more about interactive tables.';\n",
              "          element.innerHTML = '';\n",
              "          dataTable['output_type'] = 'display_data';\n",
              "          await google.colab.output.renderOutput(dataTable, element);\n",
              "          const docLink = document.createElement('div');\n",
              "          docLink.innerHTML = docLinkHtml;\n",
              "          element.appendChild(docLink);\n",
              "        }\n",
              "      </script>\n",
              "    </div>\n",
              "  </div>\n",
              "  "
            ]
          },
          "metadata": {},
          "execution_count": 11
        }
      ]
    },
    {
      "cell_type": "code",
      "source": [
        "dfml.isna().sum()"
      ],
      "metadata": {
        "colab": {
          "base_uri": "https://localhost:8080/"
        },
        "id": "3SVghnjQJbE6",
        "outputId": "9aeb0044-68bf-41ac-90f0-a9a454990adc"
      },
      "execution_count": 12,
      "outputs": [
        {
          "output_type": "execute_result",
          "data": {
            "text/plain": [
              "player_name                0\n",
              "player_id                  0\n",
              "season                     0\n",
              "poss                       0\n",
              "mp                         0\n",
              "raptor_box_offense         1\n",
              "raptor_box_defense         1\n",
              "raptor_box_total           1\n",
              "raptor_onoff_offense       1\n",
              "raptor_onoff_defense       1\n",
              "raptor_onoff_total         1\n",
              "raptor_offense             0\n",
              "raptor_defense             0\n",
              "raptor_total               0\n",
              "war_total                  0\n",
              "war_reg_season             0\n",
              "war_playoffs               0\n",
              "predator_offense           0\n",
              "predator_defense           0\n",
              "predator_total             0\n",
              "pace_impact                1\n",
              "Next WAR                1192\n",
              "dtype: int64"
            ]
          },
          "metadata": {},
          "execution_count": 12
        }
      ]
    },
    {
      "cell_type": "code",
      "source": [
        "dfml.drop(['player_name', 'player_id', 'season', 'raptor_box_offense', 'raptor_box_defense', 'raptor_onoff_offense', 'raptor_onoff_defense', 'raptor_offense', 'raptor_defense', 'raptor_box_total', 'war_reg_season', 'war_playoffs', 'predator_offense', 'predator_defense'], axis=1, inplace=True)\n",
        "dfml.head()"
      ],
      "metadata": {
        "id": "wnsD9u1cWVNM",
        "colab": {
          "base_uri": "https://localhost:8080/",
          "height": 206
        },
        "outputId": "2d4cec99-a3f4-4b2c-faf9-ad638c6a3f83"
      },
      "execution_count": 13,
      "outputs": [
        {
          "output_type": "execute_result",
          "data": {
            "text/plain": [
              "   poss    mp  raptor_onoff_total  raptor_total  war_total  predator_total  \\\n",
              "0  2387  1135           -4.275564     -0.601411   1.249008       -0.961575   \n",
              "1  2546  1244           -1.341421     -1.523468   0.777304       -1.287247   \n",
              "2  1279   588           -1.257688     -2.154538   0.178167       -3.034396   \n",
              "3  1581   749           -4.970491     -3.392775  -0.246055       -3.342885   \n",
              "4  1716   847           -1.986306     -1.781734   0.415918       -1.688171   \n",
              "\n",
              "   pace_impact  Next WAR  \n",
              "0     0.326413  0.777304  \n",
              "1    -0.456141  0.178167  \n",
              "2    -0.268013       NaN  \n",
              "3     0.329157       NaN  \n",
              "4    -0.554898 -0.083313  "
            ],
            "text/html": [
              "\n",
              "  <div id=\"df-acdc18c7-fe96-4637-b66d-e5273dc064dc\">\n",
              "    <div class=\"colab-df-container\">\n",
              "      <div>\n",
              "<style scoped>\n",
              "    .dataframe tbody tr th:only-of-type {\n",
              "        vertical-align: middle;\n",
              "    }\n",
              "\n",
              "    .dataframe tbody tr th {\n",
              "        vertical-align: top;\n",
              "    }\n",
              "\n",
              "    .dataframe thead th {\n",
              "        text-align: right;\n",
              "    }\n",
              "</style>\n",
              "<table border=\"1\" class=\"dataframe\">\n",
              "  <thead>\n",
              "    <tr style=\"text-align: right;\">\n",
              "      <th></th>\n",
              "      <th>poss</th>\n",
              "      <th>mp</th>\n",
              "      <th>raptor_onoff_total</th>\n",
              "      <th>raptor_total</th>\n",
              "      <th>war_total</th>\n",
              "      <th>predator_total</th>\n",
              "      <th>pace_impact</th>\n",
              "      <th>Next WAR</th>\n",
              "    </tr>\n",
              "  </thead>\n",
              "  <tbody>\n",
              "    <tr>\n",
              "      <th>0</th>\n",
              "      <td>2387</td>\n",
              "      <td>1135</td>\n",
              "      <td>-4.275564</td>\n",
              "      <td>-0.601411</td>\n",
              "      <td>1.249008</td>\n",
              "      <td>-0.961575</td>\n",
              "      <td>0.326413</td>\n",
              "      <td>0.777304</td>\n",
              "    </tr>\n",
              "    <tr>\n",
              "      <th>1</th>\n",
              "      <td>2546</td>\n",
              "      <td>1244</td>\n",
              "      <td>-1.341421</td>\n",
              "      <td>-1.523468</td>\n",
              "      <td>0.777304</td>\n",
              "      <td>-1.287247</td>\n",
              "      <td>-0.456141</td>\n",
              "      <td>0.178167</td>\n",
              "    </tr>\n",
              "    <tr>\n",
              "      <th>2</th>\n",
              "      <td>1279</td>\n",
              "      <td>588</td>\n",
              "      <td>-1.257688</td>\n",
              "      <td>-2.154538</td>\n",
              "      <td>0.178167</td>\n",
              "      <td>-3.034396</td>\n",
              "      <td>-0.268013</td>\n",
              "      <td>NaN</td>\n",
              "    </tr>\n",
              "    <tr>\n",
              "      <th>3</th>\n",
              "      <td>1581</td>\n",
              "      <td>749</td>\n",
              "      <td>-4.970491</td>\n",
              "      <td>-3.392775</td>\n",
              "      <td>-0.246055</td>\n",
              "      <td>-3.342885</td>\n",
              "      <td>0.329157</td>\n",
              "      <td>NaN</td>\n",
              "    </tr>\n",
              "    <tr>\n",
              "      <th>4</th>\n",
              "      <td>1716</td>\n",
              "      <td>847</td>\n",
              "      <td>-1.986306</td>\n",
              "      <td>-1.781734</td>\n",
              "      <td>0.415918</td>\n",
              "      <td>-1.688171</td>\n",
              "      <td>-0.554898</td>\n",
              "      <td>-0.083313</td>\n",
              "    </tr>\n",
              "  </tbody>\n",
              "</table>\n",
              "</div>\n",
              "      <button class=\"colab-df-convert\" onclick=\"convertToInteractive('df-acdc18c7-fe96-4637-b66d-e5273dc064dc')\"\n",
              "              title=\"Convert this dataframe to an interactive table.\"\n",
              "              style=\"display:none;\">\n",
              "        \n",
              "  <svg xmlns=\"http://www.w3.org/2000/svg\" height=\"24px\"viewBox=\"0 0 24 24\"\n",
              "       width=\"24px\">\n",
              "    <path d=\"M0 0h24v24H0V0z\" fill=\"none\"/>\n",
              "    <path d=\"M18.56 5.44l.94 2.06.94-2.06 2.06-.94-2.06-.94-.94-2.06-.94 2.06-2.06.94zm-11 1L8.5 8.5l.94-2.06 2.06-.94-2.06-.94L8.5 2.5l-.94 2.06-2.06.94zm10 10l.94 2.06.94-2.06 2.06-.94-2.06-.94-.94-2.06-.94 2.06-2.06.94z\"/><path d=\"M17.41 7.96l-1.37-1.37c-.4-.4-.92-.59-1.43-.59-.52 0-1.04.2-1.43.59L10.3 9.45l-7.72 7.72c-.78.78-.78 2.05 0 2.83L4 21.41c.39.39.9.59 1.41.59.51 0 1.02-.2 1.41-.59l7.78-7.78 2.81-2.81c.8-.78.8-2.07 0-2.86zM5.41 20L4 18.59l7.72-7.72 1.47 1.35L5.41 20z\"/>\n",
              "  </svg>\n",
              "      </button>\n",
              "      \n",
              "  <style>\n",
              "    .colab-df-container {\n",
              "      display:flex;\n",
              "      flex-wrap:wrap;\n",
              "      gap: 12px;\n",
              "    }\n",
              "\n",
              "    .colab-df-convert {\n",
              "      background-color: #E8F0FE;\n",
              "      border: none;\n",
              "      border-radius: 50%;\n",
              "      cursor: pointer;\n",
              "      display: none;\n",
              "      fill: #1967D2;\n",
              "      height: 32px;\n",
              "      padding: 0 0 0 0;\n",
              "      width: 32px;\n",
              "    }\n",
              "\n",
              "    .colab-df-convert:hover {\n",
              "      background-color: #E2EBFA;\n",
              "      box-shadow: 0px 1px 2px rgba(60, 64, 67, 0.3), 0px 1px 3px 1px rgba(60, 64, 67, 0.15);\n",
              "      fill: #174EA6;\n",
              "    }\n",
              "\n",
              "    [theme=dark] .colab-df-convert {\n",
              "      background-color: #3B4455;\n",
              "      fill: #D2E3FC;\n",
              "    }\n",
              "\n",
              "    [theme=dark] .colab-df-convert:hover {\n",
              "      background-color: #434B5C;\n",
              "      box-shadow: 0px 1px 3px 1px rgba(0, 0, 0, 0.15);\n",
              "      filter: drop-shadow(0px 1px 2px rgba(0, 0, 0, 0.3));\n",
              "      fill: #FFFFFF;\n",
              "    }\n",
              "  </style>\n",
              "\n",
              "      <script>\n",
              "        const buttonEl =\n",
              "          document.querySelector('#df-acdc18c7-fe96-4637-b66d-e5273dc064dc button.colab-df-convert');\n",
              "        buttonEl.style.display =\n",
              "          google.colab.kernel.accessAllowed ? 'block' : 'none';\n",
              "\n",
              "        async function convertToInteractive(key) {\n",
              "          const element = document.querySelector('#df-acdc18c7-fe96-4637-b66d-e5273dc064dc');\n",
              "          const dataTable =\n",
              "            await google.colab.kernel.invokeFunction('convertToInteractive',\n",
              "                                                     [key], {});\n",
              "          if (!dataTable) return;\n",
              "\n",
              "          const docLinkHtml = 'Like what you see? Visit the ' +\n",
              "            '<a target=\"_blank\" href=https://colab.research.google.com/notebooks/data_table.ipynb>data table notebook</a>'\n",
              "            + ' to learn more about interactive tables.';\n",
              "          element.innerHTML = '';\n",
              "          dataTable['output_type'] = 'display_data';\n",
              "          await google.colab.output.renderOutput(dataTable, element);\n",
              "          const docLink = document.createElement('div');\n",
              "          docLink.innerHTML = docLinkHtml;\n",
              "          element.appendChild(docLink);\n",
              "        }\n",
              "      </script>\n",
              "    </div>\n",
              "  </div>\n",
              "  "
            ]
          },
          "metadata": {},
          "execution_count": 13
        }
      ]
    },
    {
      "cell_type": "code",
      "source": [
        "dfml = dfml.loc[dfml['war_total'] >= 1]\n",
        "dfml = dfml.loc[dfml['predator_total'] >= 1]\n",
        "dfml = dfml.loc[dfml['raptor_total'] >= 1]\n",
        "dfml = dfml.loc[dfml['pace_impact'] >= 1]\n",
        "dfml = dfml.loc[dfml['Next WAR'] >= 1]\n",
        "dfml"
      ],
      "metadata": {
        "id": "IIm5RTkEpGe-",
        "colab": {
          "base_uri": "https://localhost:8080/",
          "height": 424
        },
        "outputId": "8b1870ea-6b97-4ad6-eb4b-9dbb4e132c34"
      },
      "execution_count": 14,
      "outputs": [
        {
          "output_type": "execute_result",
          "data": {
            "text/plain": [
              "      poss    mp  raptor_onoff_total  raptor_total  war_total  predator_total  \\\n",
              "127   6265  2872            5.543546      6.806518  14.269861        7.083689   \n",
              "128   4894  2194            9.090994      8.778267  13.149613        7.521699   \n",
              "160   6225  3130            2.318868      2.146961   8.034787        2.400297   \n",
              "272   6871  3415            2.518748      2.140857   8.669646        3.200148   \n",
              "309   6485  3028            1.107369      3.374096   9.580186        3.724767   \n",
              "...    ...   ...                 ...           ...        ...             ...   \n",
              "3875  6533  3149            8.175709      4.429313  11.841404        5.656411   \n",
              "3876  6169  2827            0.451285      1.431787   6.142006        2.696536   \n",
              "3948  4821  2266            3.572633      3.677213   7.619304        2.484788   \n",
              "3949  5489  2589            1.722066      1.882814   6.274484        1.759520   \n",
              "4051  4645  2120            1.766801      3.716428   7.192127        3.691880   \n",
              "\n",
              "      pace_impact   Next WAR  \n",
              "127      1.319042  13.149613  \n",
              "128      1.799512  13.666796  \n",
              "160      1.319376   7.993878  \n",
              "272      1.108855   4.220007  \n",
              "309      1.283573   4.656472  \n",
              "...           ...        ...  \n",
              "3875     2.941962   6.142006  \n",
              "3876     2.660690   2.127703  \n",
              "3948     1.523881   6.274484  \n",
              "3949     2.511937   4.286623  \n",
              "4051     2.888762   6.963372  \n",
              "\n",
              "[87 rows x 8 columns]"
            ],
            "text/html": [
              "\n",
              "  <div id=\"df-05bb2d22-5271-4042-a2a5-15710aa17c5e\">\n",
              "    <div class=\"colab-df-container\">\n",
              "      <div>\n",
              "<style scoped>\n",
              "    .dataframe tbody tr th:only-of-type {\n",
              "        vertical-align: middle;\n",
              "    }\n",
              "\n",
              "    .dataframe tbody tr th {\n",
              "        vertical-align: top;\n",
              "    }\n",
              "\n",
              "    .dataframe thead th {\n",
              "        text-align: right;\n",
              "    }\n",
              "</style>\n",
              "<table border=\"1\" class=\"dataframe\">\n",
              "  <thead>\n",
              "    <tr style=\"text-align: right;\">\n",
              "      <th></th>\n",
              "      <th>poss</th>\n",
              "      <th>mp</th>\n",
              "      <th>raptor_onoff_total</th>\n",
              "      <th>raptor_total</th>\n",
              "      <th>war_total</th>\n",
              "      <th>predator_total</th>\n",
              "      <th>pace_impact</th>\n",
              "      <th>Next WAR</th>\n",
              "    </tr>\n",
              "  </thead>\n",
              "  <tbody>\n",
              "    <tr>\n",
              "      <th>127</th>\n",
              "      <td>6265</td>\n",
              "      <td>2872</td>\n",
              "      <td>5.543546</td>\n",
              "      <td>6.806518</td>\n",
              "      <td>14.269861</td>\n",
              "      <td>7.083689</td>\n",
              "      <td>1.319042</td>\n",
              "      <td>13.149613</td>\n",
              "    </tr>\n",
              "    <tr>\n",
              "      <th>128</th>\n",
              "      <td>4894</td>\n",
              "      <td>2194</td>\n",
              "      <td>9.090994</td>\n",
              "      <td>8.778267</td>\n",
              "      <td>13.149613</td>\n",
              "      <td>7.521699</td>\n",
              "      <td>1.799512</td>\n",
              "      <td>13.666796</td>\n",
              "    </tr>\n",
              "    <tr>\n",
              "      <th>160</th>\n",
              "      <td>6225</td>\n",
              "      <td>3130</td>\n",
              "      <td>2.318868</td>\n",
              "      <td>2.146961</td>\n",
              "      <td>8.034787</td>\n",
              "      <td>2.400297</td>\n",
              "      <td>1.319376</td>\n",
              "      <td>7.993878</td>\n",
              "    </tr>\n",
              "    <tr>\n",
              "      <th>272</th>\n",
              "      <td>6871</td>\n",
              "      <td>3415</td>\n",
              "      <td>2.518748</td>\n",
              "      <td>2.140857</td>\n",
              "      <td>8.669646</td>\n",
              "      <td>3.200148</td>\n",
              "      <td>1.108855</td>\n",
              "      <td>4.220007</td>\n",
              "    </tr>\n",
              "    <tr>\n",
              "      <th>309</th>\n",
              "      <td>6485</td>\n",
              "      <td>3028</td>\n",
              "      <td>1.107369</td>\n",
              "      <td>3.374096</td>\n",
              "      <td>9.580186</td>\n",
              "      <td>3.724767</td>\n",
              "      <td>1.283573</td>\n",
              "      <td>4.656472</td>\n",
              "    </tr>\n",
              "    <tr>\n",
              "      <th>...</th>\n",
              "      <td>...</td>\n",
              "      <td>...</td>\n",
              "      <td>...</td>\n",
              "      <td>...</td>\n",
              "      <td>...</td>\n",
              "      <td>...</td>\n",
              "      <td>...</td>\n",
              "      <td>...</td>\n",
              "    </tr>\n",
              "    <tr>\n",
              "      <th>3875</th>\n",
              "      <td>6533</td>\n",
              "      <td>3149</td>\n",
              "      <td>8.175709</td>\n",
              "      <td>4.429313</td>\n",
              "      <td>11.841404</td>\n",
              "      <td>5.656411</td>\n",
              "      <td>2.941962</td>\n",
              "      <td>6.142006</td>\n",
              "    </tr>\n",
              "    <tr>\n",
              "      <th>3876</th>\n",
              "      <td>6169</td>\n",
              "      <td>2827</td>\n",
              "      <td>0.451285</td>\n",
              "      <td>1.431787</td>\n",
              "      <td>6.142006</td>\n",
              "      <td>2.696536</td>\n",
              "      <td>2.660690</td>\n",
              "      <td>2.127703</td>\n",
              "    </tr>\n",
              "    <tr>\n",
              "      <th>3948</th>\n",
              "      <td>4821</td>\n",
              "      <td>2266</td>\n",
              "      <td>3.572633</td>\n",
              "      <td>3.677213</td>\n",
              "      <td>7.619304</td>\n",
              "      <td>2.484788</td>\n",
              "      <td>1.523881</td>\n",
              "      <td>6.274484</td>\n",
              "    </tr>\n",
              "    <tr>\n",
              "      <th>3949</th>\n",
              "      <td>5489</td>\n",
              "      <td>2589</td>\n",
              "      <td>1.722066</td>\n",
              "      <td>1.882814</td>\n",
              "      <td>6.274484</td>\n",
              "      <td>1.759520</td>\n",
              "      <td>2.511937</td>\n",
              "      <td>4.286623</td>\n",
              "    </tr>\n",
              "    <tr>\n",
              "      <th>4051</th>\n",
              "      <td>4645</td>\n",
              "      <td>2120</td>\n",
              "      <td>1.766801</td>\n",
              "      <td>3.716428</td>\n",
              "      <td>7.192127</td>\n",
              "      <td>3.691880</td>\n",
              "      <td>2.888762</td>\n",
              "      <td>6.963372</td>\n",
              "    </tr>\n",
              "  </tbody>\n",
              "</table>\n",
              "<p>87 rows × 8 columns</p>\n",
              "</div>\n",
              "      <button class=\"colab-df-convert\" onclick=\"convertToInteractive('df-05bb2d22-5271-4042-a2a5-15710aa17c5e')\"\n",
              "              title=\"Convert this dataframe to an interactive table.\"\n",
              "              style=\"display:none;\">\n",
              "        \n",
              "  <svg xmlns=\"http://www.w3.org/2000/svg\" height=\"24px\"viewBox=\"0 0 24 24\"\n",
              "       width=\"24px\">\n",
              "    <path d=\"M0 0h24v24H0V0z\" fill=\"none\"/>\n",
              "    <path d=\"M18.56 5.44l.94 2.06.94-2.06 2.06-.94-2.06-.94-.94-2.06-.94 2.06-2.06.94zm-11 1L8.5 8.5l.94-2.06 2.06-.94-2.06-.94L8.5 2.5l-.94 2.06-2.06.94zm10 10l.94 2.06.94-2.06 2.06-.94-2.06-.94-.94-2.06-.94 2.06-2.06.94z\"/><path d=\"M17.41 7.96l-1.37-1.37c-.4-.4-.92-.59-1.43-.59-.52 0-1.04.2-1.43.59L10.3 9.45l-7.72 7.72c-.78.78-.78 2.05 0 2.83L4 21.41c.39.39.9.59 1.41.59.51 0 1.02-.2 1.41-.59l7.78-7.78 2.81-2.81c.8-.78.8-2.07 0-2.86zM5.41 20L4 18.59l7.72-7.72 1.47 1.35L5.41 20z\"/>\n",
              "  </svg>\n",
              "      </button>\n",
              "      \n",
              "  <style>\n",
              "    .colab-df-container {\n",
              "      display:flex;\n",
              "      flex-wrap:wrap;\n",
              "      gap: 12px;\n",
              "    }\n",
              "\n",
              "    .colab-df-convert {\n",
              "      background-color: #E8F0FE;\n",
              "      border: none;\n",
              "      border-radius: 50%;\n",
              "      cursor: pointer;\n",
              "      display: none;\n",
              "      fill: #1967D2;\n",
              "      height: 32px;\n",
              "      padding: 0 0 0 0;\n",
              "      width: 32px;\n",
              "    }\n",
              "\n",
              "    .colab-df-convert:hover {\n",
              "      background-color: #E2EBFA;\n",
              "      box-shadow: 0px 1px 2px rgba(60, 64, 67, 0.3), 0px 1px 3px 1px rgba(60, 64, 67, 0.15);\n",
              "      fill: #174EA6;\n",
              "    }\n",
              "\n",
              "    [theme=dark] .colab-df-convert {\n",
              "      background-color: #3B4455;\n",
              "      fill: #D2E3FC;\n",
              "    }\n",
              "\n",
              "    [theme=dark] .colab-df-convert:hover {\n",
              "      background-color: #434B5C;\n",
              "      box-shadow: 0px 1px 3px 1px rgba(0, 0, 0, 0.15);\n",
              "      filter: drop-shadow(0px 1px 2px rgba(0, 0, 0, 0.3));\n",
              "      fill: #FFFFFF;\n",
              "    }\n",
              "  </style>\n",
              "\n",
              "      <script>\n",
              "        const buttonEl =\n",
              "          document.querySelector('#df-05bb2d22-5271-4042-a2a5-15710aa17c5e button.colab-df-convert');\n",
              "        buttonEl.style.display =\n",
              "          google.colab.kernel.accessAllowed ? 'block' : 'none';\n",
              "\n",
              "        async function convertToInteractive(key) {\n",
              "          const element = document.querySelector('#df-05bb2d22-5271-4042-a2a5-15710aa17c5e');\n",
              "          const dataTable =\n",
              "            await google.colab.kernel.invokeFunction('convertToInteractive',\n",
              "                                                     [key], {});\n",
              "          if (!dataTable) return;\n",
              "\n",
              "          const docLinkHtml = 'Like what you see? Visit the ' +\n",
              "            '<a target=\"_blank\" href=https://colab.research.google.com/notebooks/data_table.ipynb>data table notebook</a>'\n",
              "            + ' to learn more about interactive tables.';\n",
              "          element.innerHTML = '';\n",
              "          dataTable['output_type'] = 'display_data';\n",
              "          await google.colab.output.renderOutput(dataTable, element);\n",
              "          const docLink = document.createElement('div');\n",
              "          docLink.innerHTML = docLinkHtml;\n",
              "          element.appendChild(docLink);\n",
              "        }\n",
              "      </script>\n",
              "    </div>\n",
              "  </div>\n",
              "  "
            ]
          },
          "metadata": {},
          "execution_count": 14
        }
      ]
    },
    {
      "cell_type": "code",
      "source": [
        "dfml.dropna(subset=['Next WAR'], inplace = True)\n",
        "dfml.isna().sum()"
      ],
      "metadata": {
        "colab": {
          "base_uri": "https://localhost:8080/"
        },
        "id": "mOiXW0PSIVg_",
        "outputId": "d944cc92-d75d-4954-f2d3-80e788aab505"
      },
      "execution_count": 15,
      "outputs": [
        {
          "output_type": "execute_result",
          "data": {
            "text/plain": [
              "poss                  0\n",
              "mp                    0\n",
              "raptor_onoff_total    0\n",
              "raptor_total          0\n",
              "war_total             0\n",
              "predator_total        0\n",
              "pace_impact           0\n",
              "Next WAR              0\n",
              "dtype: int64"
            ]
          },
          "metadata": {},
          "execution_count": 15
        }
      ]
    },
    {
      "cell_type": "code",
      "source": [
        "## label each part of project (headers and maybe some info)\n",
        "## include more comments for what I decided to do"
      ],
      "metadata": {
        "id": "J05SqwySLGaf"
      },
      "execution_count": 16,
      "outputs": []
    },
    {
      "cell_type": "code",
      "source": [
        "dfml.describe().round(2)"
      ],
      "metadata": {
        "id": "tN2uEQHkn3O3",
        "colab": {
          "base_uri": "https://localhost:8080/",
          "height": 300
        },
        "outputId": "e66cac8a-f76e-4c63-f0bb-65136df6d420"
      },
      "execution_count": 17,
      "outputs": [
        {
          "output_type": "execute_result",
          "data": {
            "text/plain": [
              "          poss       mp  raptor_onoff_total  raptor_total  war_total  \\\n",
              "count    87.00    87.00               87.00         87.00      87.00   \n",
              "mean   5075.32  2424.98                4.24          4.71       9.79   \n",
              "std    1728.05   837.47                3.61          2.52       5.60   \n",
              "min     841.00   381.00               -3.30          1.11       1.13   \n",
              "25%    4043.00  1958.00                1.86          2.53       5.41   \n",
              "50%    5515.00  2589.00                3.88          4.35       8.67   \n",
              "75%    6486.50  3108.00                6.62          6.58      13.11   \n",
              "max    7947.00  3937.00               15.23         12.49      26.67   \n",
              "\n",
              "       predator_total  pace_impact  Next WAR  \n",
              "count           87.00        87.00     87.00  \n",
              "mean             5.08         1.64      8.78  \n",
              "std              2.60         0.63      5.77  \n",
              "min              1.13         1.00      1.58  \n",
              "25%              2.72         1.21      4.30  \n",
              "50%              5.19         1.40      7.78  \n",
              "75%              6.82         1.92     12.08  \n",
              "max             13.35         4.00     26.67  "
            ],
            "text/html": [
              "\n",
              "  <div id=\"df-52a18e0a-0f83-4bf2-b2ec-e24c9f5f8bfd\">\n",
              "    <div class=\"colab-df-container\">\n",
              "      <div>\n",
              "<style scoped>\n",
              "    .dataframe tbody tr th:only-of-type {\n",
              "        vertical-align: middle;\n",
              "    }\n",
              "\n",
              "    .dataframe tbody tr th {\n",
              "        vertical-align: top;\n",
              "    }\n",
              "\n",
              "    .dataframe thead th {\n",
              "        text-align: right;\n",
              "    }\n",
              "</style>\n",
              "<table border=\"1\" class=\"dataframe\">\n",
              "  <thead>\n",
              "    <tr style=\"text-align: right;\">\n",
              "      <th></th>\n",
              "      <th>poss</th>\n",
              "      <th>mp</th>\n",
              "      <th>raptor_onoff_total</th>\n",
              "      <th>raptor_total</th>\n",
              "      <th>war_total</th>\n",
              "      <th>predator_total</th>\n",
              "      <th>pace_impact</th>\n",
              "      <th>Next WAR</th>\n",
              "    </tr>\n",
              "  </thead>\n",
              "  <tbody>\n",
              "    <tr>\n",
              "      <th>count</th>\n",
              "      <td>87.00</td>\n",
              "      <td>87.00</td>\n",
              "      <td>87.00</td>\n",
              "      <td>87.00</td>\n",
              "      <td>87.00</td>\n",
              "      <td>87.00</td>\n",
              "      <td>87.00</td>\n",
              "      <td>87.00</td>\n",
              "    </tr>\n",
              "    <tr>\n",
              "      <th>mean</th>\n",
              "      <td>5075.32</td>\n",
              "      <td>2424.98</td>\n",
              "      <td>4.24</td>\n",
              "      <td>4.71</td>\n",
              "      <td>9.79</td>\n",
              "      <td>5.08</td>\n",
              "      <td>1.64</td>\n",
              "      <td>8.78</td>\n",
              "    </tr>\n",
              "    <tr>\n",
              "      <th>std</th>\n",
              "      <td>1728.05</td>\n",
              "      <td>837.47</td>\n",
              "      <td>3.61</td>\n",
              "      <td>2.52</td>\n",
              "      <td>5.60</td>\n",
              "      <td>2.60</td>\n",
              "      <td>0.63</td>\n",
              "      <td>5.77</td>\n",
              "    </tr>\n",
              "    <tr>\n",
              "      <th>min</th>\n",
              "      <td>841.00</td>\n",
              "      <td>381.00</td>\n",
              "      <td>-3.30</td>\n",
              "      <td>1.11</td>\n",
              "      <td>1.13</td>\n",
              "      <td>1.13</td>\n",
              "      <td>1.00</td>\n",
              "      <td>1.58</td>\n",
              "    </tr>\n",
              "    <tr>\n",
              "      <th>25%</th>\n",
              "      <td>4043.00</td>\n",
              "      <td>1958.00</td>\n",
              "      <td>1.86</td>\n",
              "      <td>2.53</td>\n",
              "      <td>5.41</td>\n",
              "      <td>2.72</td>\n",
              "      <td>1.21</td>\n",
              "      <td>4.30</td>\n",
              "    </tr>\n",
              "    <tr>\n",
              "      <th>50%</th>\n",
              "      <td>5515.00</td>\n",
              "      <td>2589.00</td>\n",
              "      <td>3.88</td>\n",
              "      <td>4.35</td>\n",
              "      <td>8.67</td>\n",
              "      <td>5.19</td>\n",
              "      <td>1.40</td>\n",
              "      <td>7.78</td>\n",
              "    </tr>\n",
              "    <tr>\n",
              "      <th>75%</th>\n",
              "      <td>6486.50</td>\n",
              "      <td>3108.00</td>\n",
              "      <td>6.62</td>\n",
              "      <td>6.58</td>\n",
              "      <td>13.11</td>\n",
              "      <td>6.82</td>\n",
              "      <td>1.92</td>\n",
              "      <td>12.08</td>\n",
              "    </tr>\n",
              "    <tr>\n",
              "      <th>max</th>\n",
              "      <td>7947.00</td>\n",
              "      <td>3937.00</td>\n",
              "      <td>15.23</td>\n",
              "      <td>12.49</td>\n",
              "      <td>26.67</td>\n",
              "      <td>13.35</td>\n",
              "      <td>4.00</td>\n",
              "      <td>26.67</td>\n",
              "    </tr>\n",
              "  </tbody>\n",
              "</table>\n",
              "</div>\n",
              "      <button class=\"colab-df-convert\" onclick=\"convertToInteractive('df-52a18e0a-0f83-4bf2-b2ec-e24c9f5f8bfd')\"\n",
              "              title=\"Convert this dataframe to an interactive table.\"\n",
              "              style=\"display:none;\">\n",
              "        \n",
              "  <svg xmlns=\"http://www.w3.org/2000/svg\" height=\"24px\"viewBox=\"0 0 24 24\"\n",
              "       width=\"24px\">\n",
              "    <path d=\"M0 0h24v24H0V0z\" fill=\"none\"/>\n",
              "    <path d=\"M18.56 5.44l.94 2.06.94-2.06 2.06-.94-2.06-.94-.94-2.06-.94 2.06-2.06.94zm-11 1L8.5 8.5l.94-2.06 2.06-.94-2.06-.94L8.5 2.5l-.94 2.06-2.06.94zm10 10l.94 2.06.94-2.06 2.06-.94-2.06-.94-.94-2.06-.94 2.06-2.06.94z\"/><path d=\"M17.41 7.96l-1.37-1.37c-.4-.4-.92-.59-1.43-.59-.52 0-1.04.2-1.43.59L10.3 9.45l-7.72 7.72c-.78.78-.78 2.05 0 2.83L4 21.41c.39.39.9.59 1.41.59.51 0 1.02-.2 1.41-.59l7.78-7.78 2.81-2.81c.8-.78.8-2.07 0-2.86zM5.41 20L4 18.59l7.72-7.72 1.47 1.35L5.41 20z\"/>\n",
              "  </svg>\n",
              "      </button>\n",
              "      \n",
              "  <style>\n",
              "    .colab-df-container {\n",
              "      display:flex;\n",
              "      flex-wrap:wrap;\n",
              "      gap: 12px;\n",
              "    }\n",
              "\n",
              "    .colab-df-convert {\n",
              "      background-color: #E8F0FE;\n",
              "      border: none;\n",
              "      border-radius: 50%;\n",
              "      cursor: pointer;\n",
              "      display: none;\n",
              "      fill: #1967D2;\n",
              "      height: 32px;\n",
              "      padding: 0 0 0 0;\n",
              "      width: 32px;\n",
              "    }\n",
              "\n",
              "    .colab-df-convert:hover {\n",
              "      background-color: #E2EBFA;\n",
              "      box-shadow: 0px 1px 2px rgba(60, 64, 67, 0.3), 0px 1px 3px 1px rgba(60, 64, 67, 0.15);\n",
              "      fill: #174EA6;\n",
              "    }\n",
              "\n",
              "    [theme=dark] .colab-df-convert {\n",
              "      background-color: #3B4455;\n",
              "      fill: #D2E3FC;\n",
              "    }\n",
              "\n",
              "    [theme=dark] .colab-df-convert:hover {\n",
              "      background-color: #434B5C;\n",
              "      box-shadow: 0px 1px 3px 1px rgba(0, 0, 0, 0.15);\n",
              "      filter: drop-shadow(0px 1px 2px rgba(0, 0, 0, 0.3));\n",
              "      fill: #FFFFFF;\n",
              "    }\n",
              "  </style>\n",
              "\n",
              "      <script>\n",
              "        const buttonEl =\n",
              "          document.querySelector('#df-52a18e0a-0f83-4bf2-b2ec-e24c9f5f8bfd button.colab-df-convert');\n",
              "        buttonEl.style.display =\n",
              "          google.colab.kernel.accessAllowed ? 'block' : 'none';\n",
              "\n",
              "        async function convertToInteractive(key) {\n",
              "          const element = document.querySelector('#df-52a18e0a-0f83-4bf2-b2ec-e24c9f5f8bfd');\n",
              "          const dataTable =\n",
              "            await google.colab.kernel.invokeFunction('convertToInteractive',\n",
              "                                                     [key], {});\n",
              "          if (!dataTable) return;\n",
              "\n",
              "          const docLinkHtml = 'Like what you see? Visit the ' +\n",
              "            '<a target=\"_blank\" href=https://colab.research.google.com/notebooks/data_table.ipynb>data table notebook</a>'\n",
              "            + ' to learn more about interactive tables.';\n",
              "          element.innerHTML = '';\n",
              "          dataTable['output_type'] = 'display_data';\n",
              "          await google.colab.output.renderOutput(dataTable, element);\n",
              "          const docLink = document.createElement('div');\n",
              "          docLink.innerHTML = docLinkHtml;\n",
              "          element.appendChild(docLink);\n",
              "        }\n",
              "      </script>\n",
              "    </div>\n",
              "  </div>\n",
              "  "
            ]
          },
          "metadata": {},
          "execution_count": 17
        }
      ]
    },
    {
      "cell_type": "code",
      "source": [
        "corr = dfml.corr()\n",
        "sns.heatmap(corr, cmap = 'coolwarm', annot = True)\n",
        "\n",
        "## we can see WAR, PREDATOR, total RAPTOR and Pace Impact have a fairly close correlations"
      ],
      "metadata": {
        "id": "5bvnRUaKH-MZ",
        "colab": {
          "base_uri": "https://localhost:8080/",
          "height": 366
        },
        "outputId": "bf57cb81-05db-43b6-a828-6aa8f5f57e50"
      },
      "execution_count": 18,
      "outputs": [
        {
          "output_type": "execute_result",
          "data": {
            "text/plain": [
              "<matplotlib.axes._subplots.AxesSubplot at 0x7ff11bd6aa10>"
            ]
          },
          "metadata": {},
          "execution_count": 18
        },
        {
          "output_type": "display_data",
          "data": {
            "text/plain": [
              "<Figure size 432x288 with 2 Axes>"
            ],
            "image/png": "[encoded data removed]"
          },
          "metadata": {
            "needs_background": "light"
          }
        }
      ]
    },
    {
      "cell_type": "code",
      "source": [
        "sns.scatterplot(data=dfml, x='Next WAR', y='war_total', legend = False)\n",
        "## include title and some text about what this means"
      ],
      "metadata": {
        "colab": {
          "base_uri": "https://localhost:8080/",
          "height": 297
        },
        "id": "7B7Yf_eX5aB2",
        "outputId": "5adc8630-d8fc-43e5-9e52-7f1f1f7fce06"
      },
      "execution_count": 19,
      "outputs": [
        {
          "output_type": "execute_result",
          "data": {
            "text/plain": [
              "<matplotlib.axes._subplots.AxesSubplot at 0x7ff118eb96d0>"
            ]
          },
          "metadata": {},
          "execution_count": 19
        },
        {
          "output_type": "display_data",
          "data": {
            "text/plain": [
              "<Figure size 432x288 with 1 Axes>"
            ],
            "image/png": "[encoded data removed]"
          },
          "metadata": {
            "needs_background": "light"
          }
        }
      ]
    },
    {
      "cell_type": "code",
      "source": [
        "sns.scatterplot(data=dfml, x='Next WAR', y='raptor_total', legend = False)\n",
        "## include title and some text about what this means"
      ],
      "metadata": {
        "colab": {
          "base_uri": "https://localhost:8080/",
          "height": 297
        },
        "id": "Q8GdZRguIyxU",
        "outputId": "821d2727-2d2d-4442-eb15-8eada8077598"
      },
      "execution_count": 20,
      "outputs": [
        {
          "output_type": "execute_result",
          "data": {
            "text/plain": [
              "<matplotlib.axes._subplots.AxesSubplot at 0x7ff118ea74d0>"
            ]
          },
          "metadata": {},
          "execution_count": 20
        },
        {
          "output_type": "display_data",
          "data": {
            "text/plain": [
              "<Figure size 432x288 with 1 Axes>"
            ],
            "image/png": "[encoded data removed]"
          },
          "metadata": {
            "needs_background": "light"
          }
        }
      ]
    },
    {
      "cell_type": "code",
      "source": [
        "#@title\n",
        "sns.scatterplot(data=dfml, x='Next WAR', y='predator_total', legend = False)\n",
        "\n",
        "## there are several distinct outliers that give us a better picture of who could be our ideal player"
      ],
      "metadata": {
        "id": "_XH6WpoJakat",
        "colab": {
          "base_uri": "https://localhost:8080/",
          "height": 297
        },
        "outputId": "b542a19f-7521-437b-e13a-b2d2f098db36"
      },
      "execution_count": 21,
      "outputs": [
        {
          "output_type": "execute_result",
          "data": {
            "text/plain": [
              "<matplotlib.axes._subplots.AxesSubplot at 0x7ff118e10f50>"
            ]
          },
          "metadata": {},
          "execution_count": 21
        },
        {
          "output_type": "display_data",
          "data": {
            "text/plain": [
              "<Figure size 432x288 with 1 Axes>"
            ],
            "image/png": "[encoded data removed]"
          },
          "metadata": {
            "needs_background": "light"
          }
        }
      ]
    },
    {
      "cell_type": "code",
      "source": [
        "maxWAR = dfml[['Next WAR']].max()\n",
        "print(maxWAR) \n",
        "\n",
        "## here we can see that the highest predicted WAR for a player was about 26"
      ],
      "metadata": {
        "colab": {
          "base_uri": "https://localhost:8080/"
        },
        "id": "jcu-o10roVYp",
        "outputId": "635e861e-adb9-4792-8fed-d53ca67746ed"
      },
      "execution_count": 22,
      "outputs": [
        {
          "output_type": "stream",
          "name": "stdout",
          "text": [
            "Next WAR    26.666873\n",
            "dtype: float64\n"
          ]
        }
      ]
    },
    {
      "cell_type": "markdown",
      "source": [
        "### Modeling"
      ],
      "metadata": {
        "id": "8uxrivD9QGba"
      }
    },
    {
      "cell_type": "markdown",
      "source": [
        "![Screen Shot 2022-09-02 at 1.00.30 AM.png](data:image/png;base64,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)"
      ],
      "metadata": {
        "id": "XXIGX_6KkstI"
      }
    },
    {
      "cell_type": "markdown",
      "source": [
        "## To whomever is assessing resubmits, as you can tell by the screenshot above I was working with Ahmed to reconcile some of the points of feedback I got from last week. All my cells run except for 35, 36, 37 because of the error I mentioned above, so I hope this is sufficient for the time being since I know what steps to take, I just have to work them out. Ahmed and I are looking to meet again either tomorrow or during the weekend to make sure my notebook is clean before my presentation next week."
      ],
      "metadata": {
        "id": "tzSRkGW-mUFt"
      }
    },
    {
      "cell_type": "code",
      "source": [
        "y = dfml['Next WAR']\n",
        "X = dfml.drop(columns = ['Next WAR'])"
      ],
      "metadata": {
        "id": "Rbu1l6GPQrBj"
      },
      "execution_count": 23,
      "outputs": []
    },
    {
      "cell_type": "code",
      "source": [
        "X_train, X_test, y_train, y_test = train_test_split(X, y, random_state=42)"
      ],
      "metadata": {
        "id": "dcAByaZBQTP9"
      },
      "execution_count": 24,
      "outputs": []
    },
    {
      "cell_type": "code",
      "source": [
        "scaler = StandardScaler()\n",
        "scaler.fit(X_train)\n",
        "\n",
        "scaled_X = scaler.transform(X_train)\n",
        "scaled_X[:5]"
      ],
      "metadata": {
        "id": "otKWqmb54Fxw",
        "colab": {
          "base_uri": "https://localhost:8080/"
        },
        "outputId": "f4097e7e-0b5a-4772-f974-68ea6083643c"
      },
      "execution_count": 25,
      "outputs": [
        {
          "output_type": "execute_result",
          "data": {
            "text/plain": [
              "array([[-1.00495788, -0.99785957, -0.3056691 , -0.50517383, -0.84502985,\n",
              "        -0.65044042,  0.75021607],\n",
              "       [ 0.87372291,  0.83246898, -0.07712034,  0.13353168,  0.55092179,\n",
              "         0.08781261, -0.74549477],\n",
              "       [ 0.16186787,  0.1036291 , -0.14412203, -1.22641341, -0.70893567,\n",
              "        -1.34490204, -0.66864719],\n",
              "       [-1.33833666, -1.2764645 , -0.146941  , -0.40321747, -0.95693351,\n",
              "        -0.21246922, -0.58343064],\n",
              "       [-0.3656013 , -0.43594753, -1.76193872, -1.32156541, -0.95017517,\n",
              "        -1.38428671, -0.52615115]])"
            ]
          },
          "metadata": {},
          "execution_count": 25
        }
      ]
    },
    {
      "cell_type": "code",
      "source": [
        "def evaluate_regression(y_true, y_pred, name='model'):\n",
        "  scores = pd.DataFrame(index=['R2','MAE','RMSE'],\n",
        "                        columns=[name])\n",
        "  scores.loc['R2', name] = r2_score(y_true, y_pred)\n",
        "  scores.loc['MAE', name] = mean_absolute_error(y_true, y_pred)\n",
        "  scores.loc['RMSE', name] = np.sqrt(mean_squared_error(y_true, y_pred))\n",
        "  return scores"
      ],
      "metadata": {
        "id": "viWar57WkDRt"
      },
      "execution_count": 26,
      "outputs": []
    },
    {
      "cell_type": "code",
      "source": [
        "ks = range(2,8) \n",
        "inertias = []\n",
        "\n",
        "for k in ks:\n",
        "   kmeans = KMeans(n_clusters=k, random_state=42)\n",
        "   kmeans.fit(scaled_X)\n",
        "   inertias.append(kmeans.inertia_)\n",
        "\n",
        "plt.plot(ks, inertias, marker = '.')\n",
        "plt.xlabel('Number of Clusters')\n",
        "plt.ylabel('Inertia')\n",
        "plt.show()\n",
        "\n",
        "## Inertia seems to change around 3, so 3 clusters is a good start to consider"
      ],
      "metadata": {
        "colab": {
          "base_uri": "https://localhost:8080/",
          "height": 279
        },
        "id": "gZ9uLxno49RL",
        "outputId": "8416986b-4287-437a-cfd8-5b8f4dce85b4"
      },
      "execution_count": 27,
      "outputs": [
        {
          "output_type": "display_data",
          "data": {
            "text/plain": [
              "<Figure size 432x288 with 1 Axes>"
            ],
            "image/png": "[encoded data removed]"
          },
          "metadata": {
            "needs_background": "light"
          }
        }
      ]
    },
    {
      "cell_type": "code",
      "source": [
        "ks = range(2,8)\n",
        "sil = []\n",
        "\n",
        "for k in ks:\n",
        "  kmeans = KMeans(n_clusters=k, random_state=42)\n",
        "  kmeans.fit(scaled_X)\n",
        "  sil.append(silhouette_score(scaled_X, kmeans.labels_))\n",
        "\n",
        "plt.plot(ks, sil, marker = '.')\n",
        "plt.xlabel('Number of Clusters')\n",
        "plt.ylabel('Silo Score')\n",
        "plt.show()\n",
        "\n",
        "## the silouhette score says 2 clusters is better so I will create a score to help deicde"
      ],
      "metadata": {
        "colab": {
          "base_uri": "https://localhost:8080/",
          "height": 279
        },
        "id": "mrrPgaoP4QBh",
        "outputId": "7e2aba3a-c760-4f88-9b72-a4d4fe58342e"
      },
      "execution_count": 28,
      "outputs": [
        {
          "output_type": "display_data",
          "data": {
            "text/plain": [
              "<Figure size 432x288 with 1 Axes>"
            ],
            "image/png": "[encoded data removed]"
          },
          "metadata": {
            "needs_background": "light"
          }
        }
      ]
    },
    {
      "cell_type": "code",
      "source": [
        "km = KMeans(n_clusters=3, random_state=42)\n",
        "km.fit(scaled_X)\n",
        "silhouette_score(scaled_X, kmeans.labels_)\n",
        "\n",
        "## 2.6 when rounded leans closer to 3 so lets create 3 clusters"
      ],
      "metadata": {
        "colab": {
          "base_uri": "https://localhost:8080/"
        },
        "id": "tWlXZbhz5jSF",
        "outputId": "07f2c2e8-c548-488c-d79e-da216cda78c2"
      },
      "execution_count": 29,
      "outputs": [
        {
          "output_type": "execute_result",
          "data": {
            "text/plain": [
              "0.2620951160369304"
            ]
          },
          "metadata": {},
          "execution_count": 29
        }
      ]
    },
    {
      "cell_type": "code",
      "source": [
        "km3 = KMeans(n_clusters = 3, random_state = 42)\n",
        "km3.fit(scaled_X)"
      ],
      "metadata": {
        "colab": {
          "base_uri": "https://localhost:8080/"
        },
        "id": "fLnrE5CA6a27",
        "outputId": "b54b4e60-9ff5-4a11-d962-058f60aef45d"
      },
      "execution_count": 34,
      "outputs": [
        {
          "output_type": "execute_result",
          "data": {
            "text/plain": [
              "KMeans(n_clusters=3, random_state=42)"
            ]
          },
          "metadata": {},
          "execution_count": 34
        }
      ]
    },
    {
      "cell_type": "code",
      "source": [
        "dfml['clusters'] = km3.labels_\n",
        "\n",
        "plt.scatter(dfml['war_total'], dfml['Next WAR'], c = dfml['cluster'])\n",
        "plt.xlabel(\"Current Wins Above Replacement\")\n",
        "plt.ylabel(\"Next Year's WAR\")\n",
        "plt.show()"
      ],
      "metadata": {
        "colab": {
          "base_uri": "https://localhost:8080/",
          "height": 389
        },
        "id": "dUYDNfAii_jn",
        "outputId": "bf2f6b15-d901-4354-c3c4-e2af10706913"
      },
      "execution_count": 35,
      "outputs": [
        {
          "output_type": "error",
          "ename": "ValueError",
          "evalue": "ignored",
          "traceback": [
            "\u001b[0;31m---------------------------------------------------------------------------\u001b[0m",
            "\u001b[0;31mValueError\u001b[0m                                Traceback (most recent call last)",
            "\u001b[0;32m<ipython-input-35-8f2f54dd7842>\u001b[0m in \u001b[0;36m<module>\u001b[0;34m\u001b[0m\n\u001b[0;32m----> 1\u001b[0;31m \u001b[0mdfml\u001b[0m\u001b[0;34m[\u001b[0m\u001b[0;34m'clusters'\u001b[0m\u001b[0;34m]\u001b[0m \u001b[0;34m=\u001b[0m \u001b[0mkm3\u001b[0m\u001b[0;34m.\u001b[0m\u001b[0mlabels_\u001b[0m\u001b[0;34m\u001b[0m\u001b[0;34m\u001b[0m\u001b[0m\n\u001b[0m\u001b[1;32m      2\u001b[0m \u001b[0;34m\u001b[0m\u001b[0m\n\u001b[1;32m      3\u001b[0m \u001b[0mplt\u001b[0m\u001b[0;34m.\u001b[0m\u001b[0mscatter\u001b[0m\u001b[0;34m(\u001b[0m\u001b[0mdfml\u001b[0m\u001b[0;34m[\u001b[0m\u001b[0;34m'war_total'\u001b[0m\u001b[0;34m]\u001b[0m\u001b[0;34m,\u001b[0m \u001b[0mdfml\u001b[0m\u001b[0;34m[\u001b[0m\u001b[0;34m'Next WAR'\u001b[0m\u001b[0;34m]\u001b[0m\u001b[0;34m,\u001b[0m \u001b[0mc\u001b[0m \u001b[0;34m=\u001b[0m \u001b[0mdfml\u001b[0m\u001b[0;34m[\u001b[0m\u001b[0;34m'cluster'\u001b[0m\u001b[0;34m]\u001b[0m\u001b[0;34m)\u001b[0m\u001b[0;34m\u001b[0m\u001b[0;34m\u001b[0m\u001b[0m\n\u001b[1;32m      4\u001b[0m \u001b[0mplt\u001b[0m\u001b[0;34m.\u001b[0m\u001b[0mxlabel\u001b[0m\u001b[0;34m(\u001b[0m\u001b[0;34m\"Current Wins Above Replacement\"\u001b[0m\u001b[0;34m)\u001b[0m\u001b[0;34m\u001b[0m\u001b[0;34m\u001b[0m\u001b[0m\n\u001b[1;32m      5\u001b[0m \u001b[0mplt\u001b[0m\u001b[0;34m.\u001b[0m\u001b[0mylabel\u001b[0m\u001b[0;34m(\u001b[0m\u001b[0;34m\"Next Year's WAR\"\u001b[0m\u001b[0;34m)\u001b[0m\u001b[0;34m\u001b[0m\u001b[0;34m\u001b[0m\u001b[0m\n",
            "\u001b[0;32m/usr/local/lib/python3.7/dist-packages/pandas/core/frame.py\u001b[0m in \u001b[0;36m__setitem__\u001b[0;34m(self, key, value)\u001b[0m\n\u001b[1;32m   3610\u001b[0m         \u001b[0;32melse\u001b[0m\u001b[0;34m:\u001b[0m\u001b[0;34m\u001b[0m\u001b[0;34m\u001b[0m\u001b[0m\n\u001b[1;32m   3611\u001b[0m             \u001b[0;31m# set column\u001b[0m\u001b[0;34m\u001b[0m\u001b[0;34m\u001b[0m\u001b[0;34m\u001b[0m\u001b[0m\n\u001b[0;32m-> 3612\u001b[0;31m             \u001b[0mself\u001b[0m\u001b[0;34m.\u001b[0m\u001b[0m_set_item\u001b[0m\u001b[0;34m(\u001b[0m\u001b[0mkey\u001b[0m\u001b[0;34m,\u001b[0m \u001b[0mvalue\u001b[0m\u001b[0;34m)\u001b[0m\u001b[0;34m\u001b[0m\u001b[0;34m\u001b[0m\u001b[0m\n\u001b[0m\u001b[1;32m   3613\u001b[0m \u001b[0;34m\u001b[0m\u001b[0m\n\u001b[1;32m   3614\u001b[0m     \u001b[0;32mdef\u001b[0m \u001b[0m_setitem_slice\u001b[0m\u001b[0;34m(\u001b[0m\u001b[0mself\u001b[0m\u001b[0;34m,\u001b[0m \u001b[0mkey\u001b[0m\u001b[0;34m:\u001b[0m \u001b[0mslice\u001b[0m\u001b[0;34m,\u001b[0m \u001b[0mvalue\u001b[0m\u001b[0;34m)\u001b[0m\u001b[0;34m:\u001b[0m\u001b[0;34m\u001b[0m\u001b[0;34m\u001b[0m\u001b[0m\n",
            "\u001b[0;32m/usr/local/lib/python3.7/dist-packages/pandas/core/frame.py\u001b[0m in \u001b[0;36m_set_item\u001b[0;34m(self, key, value)\u001b[0m\n\u001b[1;32m   3782\u001b[0m         \u001b[0mensure\u001b[0m \u001b[0mhomogeneity\u001b[0m\u001b[0;34m.\u001b[0m\u001b[0;34m\u001b[0m\u001b[0;34m\u001b[0m\u001b[0m\n\u001b[1;32m   3783\u001b[0m         \"\"\"\n\u001b[0;32m-> 3784\u001b[0;31m         \u001b[0mvalue\u001b[0m \u001b[0;34m=\u001b[0m \u001b[0mself\u001b[0m\u001b[0;34m.\u001b[0m\u001b[0m_sanitize_column\u001b[0m\u001b[0;34m(\u001b[0m\u001b[0mvalue\u001b[0m\u001b[0;34m)\u001b[0m\u001b[0;34m\u001b[0m\u001b[0;34m\u001b[0m\u001b[0m\n\u001b[0m\u001b[1;32m   3785\u001b[0m \u001b[0;34m\u001b[0m\u001b[0m\n\u001b[1;32m   3786\u001b[0m         if (\n",
            "\u001b[0;32m/usr/local/lib/python3.7/dist-packages/pandas/core/frame.py\u001b[0m in \u001b[0;36m_sanitize_column\u001b[0;34m(self, value)\u001b[0m\n\u001b[1;32m   4507\u001b[0m \u001b[0;34m\u001b[0m\u001b[0m\n\u001b[1;32m   4508\u001b[0m         \u001b[0;32mif\u001b[0m \u001b[0mis_list_like\u001b[0m\u001b[0;34m(\u001b[0m\u001b[0mvalue\u001b[0m\u001b[0;34m)\u001b[0m\u001b[0;34m:\u001b[0m\u001b[0;34m\u001b[0m\u001b[0;34m\u001b[0m\u001b[0m\n\u001b[0;32m-> 4509\u001b[0;31m             \u001b[0mcom\u001b[0m\u001b[0;34m.\u001b[0m\u001b[0mrequire_length_match\u001b[0m\u001b[0;34m(\u001b[0m\u001b[0mvalue\u001b[0m\u001b[0;34m,\u001b[0m \u001b[0mself\u001b[0m\u001b[0;34m.\u001b[0m\u001b[0mindex\u001b[0m\u001b[0;34m)\u001b[0m\u001b[0;34m\u001b[0m\u001b[0;34m\u001b[0m\u001b[0m\n\u001b[0m\u001b[1;32m   4510\u001b[0m         \u001b[0;32mreturn\u001b[0m \u001b[0msanitize_array\u001b[0m\u001b[0;34m(\u001b[0m\u001b[0mvalue\u001b[0m\u001b[0;34m,\u001b[0m \u001b[0mself\u001b[0m\u001b[0;34m.\u001b[0m\u001b[0mindex\u001b[0m\u001b[0;34m,\u001b[0m \u001b[0mcopy\u001b[0m\u001b[0;34m=\u001b[0m\u001b[0;32mTrue\u001b[0m\u001b[0;34m,\u001b[0m \u001b[0mallow_2d\u001b[0m\u001b[0;34m=\u001b[0m\u001b[0;32mTrue\u001b[0m\u001b[0;34m)\u001b[0m\u001b[0;34m\u001b[0m\u001b[0;34m\u001b[0m\u001b[0m\n\u001b[1;32m   4511\u001b[0m \u001b[0;34m\u001b[0m\u001b[0m\n",
            "\u001b[0;32m/usr/local/lib/python3.7/dist-packages/pandas/core/common.py\u001b[0m in \u001b[0;36mrequire_length_match\u001b[0;34m(data, index)\u001b[0m\n\u001b[1;32m    530\u001b[0m     \u001b[0;32mif\u001b[0m \u001b[0mlen\u001b[0m\u001b[0;34m(\u001b[0m\u001b[0mdata\u001b[0m\u001b[0;34m)\u001b[0m \u001b[0;34m!=\u001b[0m \u001b[0mlen\u001b[0m\u001b[0;34m(\u001b[0m\u001b[0mindex\u001b[0m\u001b[0;34m)\u001b[0m\u001b[0;34m:\u001b[0m\u001b[0;34m\u001b[0m\u001b[0;34m\u001b[0m\u001b[0m\n\u001b[1;32m    531\u001b[0m         raise ValueError(\n\u001b[0;32m--> 532\u001b[0;31m             \u001b[0;34m\"Length of values \"\u001b[0m\u001b[0;34m\u001b[0m\u001b[0;34m\u001b[0m\u001b[0m\n\u001b[0m\u001b[1;32m    533\u001b[0m             \u001b[0;34mf\"({len(data)}) \"\u001b[0m\u001b[0;34m\u001b[0m\u001b[0;34m\u001b[0m\u001b[0m\n\u001b[1;32m    534\u001b[0m             \u001b[0;34m\"does not match length of index \"\u001b[0m\u001b[0;34m\u001b[0m\u001b[0;34m\u001b[0m\u001b[0m\n",
            "\u001b[0;31mValueError\u001b[0m: Length of values (65) does not match length of index (87)"
          ]
        }
      ]
    },
    {
      "cell_type": "code",
      "source": [
        "cluster_groups = dfml.groupby('clusters', as_index=False).mean()\n",
        "cluster_groups"
      ],
      "metadata": {
        "colab": {
          "base_uri": "https://localhost:8080/",
          "height": 353
        },
        "id": "H4WCxswQ9iv8",
        "outputId": "72394c69-3b1f-4640-957e-c1a856210edf"
      },
      "execution_count": 36,
      "outputs": [
        {
          "output_type": "error",
          "ename": "KeyError",
          "evalue": "ignored",
          "traceback": [
            "\u001b[0;31m---------------------------------------------------------------------------\u001b[0m",
            "\u001b[0;31mKeyError\u001b[0m                                  Traceback (most recent call last)",
            "\u001b[0;32m<ipython-input-36-0e0bcc46a713>\u001b[0m in \u001b[0;36m<module>\u001b[0;34m\u001b[0m\n\u001b[0;32m----> 1\u001b[0;31m \u001b[0mcluster_groups\u001b[0m \u001b[0;34m=\u001b[0m \u001b[0mdfml\u001b[0m\u001b[0;34m.\u001b[0m\u001b[0mgroupby\u001b[0m\u001b[0;34m(\u001b[0m\u001b[0;34m'clusters'\u001b[0m\u001b[0;34m,\u001b[0m \u001b[0mas_index\u001b[0m\u001b[0;34m=\u001b[0m\u001b[0;32mFalse\u001b[0m\u001b[0;34m)\u001b[0m\u001b[0;34m.\u001b[0m\u001b[0mmean\u001b[0m\u001b[0;34m(\u001b[0m\u001b[0;34m)\u001b[0m\u001b[0;34m\u001b[0m\u001b[0;34m\u001b[0m\u001b[0m\n\u001b[0m\u001b[1;32m      2\u001b[0m \u001b[0mcluster_groups\u001b[0m\u001b[0;34m\u001b[0m\u001b[0;34m\u001b[0m\u001b[0m\n",
            "\u001b[0;32m/usr/local/lib/python3.7/dist-packages/pandas/core/frame.py\u001b[0m in \u001b[0;36mgroupby\u001b[0;34m(self, by, axis, level, as_index, sort, group_keys, squeeze, observed, dropna)\u001b[0m\n\u001b[1;32m   7639\u001b[0m             \u001b[0msqueeze\u001b[0m\u001b[0;34m=\u001b[0m\u001b[0msqueeze\u001b[0m\u001b[0;34m,\u001b[0m  \u001b[0;31m# type: ignore[arg-type]\u001b[0m\u001b[0;34m\u001b[0m\u001b[0;34m\u001b[0m\u001b[0m\n\u001b[1;32m   7640\u001b[0m             \u001b[0mobserved\u001b[0m\u001b[0;34m=\u001b[0m\u001b[0mobserved\u001b[0m\u001b[0;34m,\u001b[0m\u001b[0;34m\u001b[0m\u001b[0;34m\u001b[0m\u001b[0m\n\u001b[0;32m-> 7641\u001b[0;31m             \u001b[0mdropna\u001b[0m\u001b[0;34m=\u001b[0m\u001b[0mdropna\u001b[0m\u001b[0;34m,\u001b[0m\u001b[0;34m\u001b[0m\u001b[0;34m\u001b[0m\u001b[0m\n\u001b[0m\u001b[1;32m   7642\u001b[0m         )\n\u001b[1;32m   7643\u001b[0m \u001b[0;34m\u001b[0m\u001b[0m\n",
            "\u001b[0;32m/usr/local/lib/python3.7/dist-packages/pandas/core/groupby/groupby.py\u001b[0m in \u001b[0;36m__init__\u001b[0;34m(self, obj, keys, axis, level, grouper, exclusions, selection, as_index, sort, group_keys, squeeze, observed, mutated, dropna)\u001b[0m\n\u001b[1;32m    895\u001b[0m                 \u001b[0mobserved\u001b[0m\u001b[0;34m=\u001b[0m\u001b[0mobserved\u001b[0m\u001b[0;34m,\u001b[0m\u001b[0;34m\u001b[0m\u001b[0;34m\u001b[0m\u001b[0m\n\u001b[1;32m    896\u001b[0m                 \u001b[0mmutated\u001b[0m\u001b[0;34m=\u001b[0m\u001b[0mself\u001b[0m\u001b[0;34m.\u001b[0m\u001b[0mmutated\u001b[0m\u001b[0;34m,\u001b[0m\u001b[0;34m\u001b[0m\u001b[0;34m\u001b[0m\u001b[0m\n\u001b[0;32m--> 897\u001b[0;31m                 \u001b[0mdropna\u001b[0m\u001b[0;34m=\u001b[0m\u001b[0mself\u001b[0m\u001b[0;34m.\u001b[0m\u001b[0mdropna\u001b[0m\u001b[0;34m,\u001b[0m\u001b[0;34m\u001b[0m\u001b[0;34m\u001b[0m\u001b[0m\n\u001b[0m\u001b[1;32m    898\u001b[0m             )\n\u001b[1;32m    899\u001b[0m \u001b[0;34m\u001b[0m\u001b[0m\n",
            "\u001b[0;32m/usr/local/lib/python3.7/dist-packages/pandas/core/groupby/grouper.py\u001b[0m in \u001b[0;36mget_grouper\u001b[0;34m(obj, key, axis, level, sort, observed, mutated, validate, dropna)\u001b[0m\n\u001b[1;32m    860\u001b[0m                 \u001b[0min_axis\u001b[0m\u001b[0;34m,\u001b[0m \u001b[0mlevel\u001b[0m\u001b[0;34m,\u001b[0m \u001b[0mgpr\u001b[0m \u001b[0;34m=\u001b[0m \u001b[0;32mFalse\u001b[0m\u001b[0;34m,\u001b[0m \u001b[0mgpr\u001b[0m\u001b[0;34m,\u001b[0m \u001b[0;32mNone\u001b[0m\u001b[0;34m\u001b[0m\u001b[0;34m\u001b[0m\u001b[0m\n\u001b[1;32m    861\u001b[0m             \u001b[0;32melse\u001b[0m\u001b[0;34m:\u001b[0m\u001b[0;34m\u001b[0m\u001b[0;34m\u001b[0m\u001b[0m\n\u001b[0;32m--> 862\u001b[0;31m                 \u001b[0;32mraise\u001b[0m \u001b[0mKeyError\u001b[0m\u001b[0;34m(\u001b[0m\u001b[0mgpr\u001b[0m\u001b[0;34m)\u001b[0m\u001b[0;34m\u001b[0m\u001b[0;34m\u001b[0m\u001b[0m\n\u001b[0m\u001b[1;32m    863\u001b[0m         \u001b[0;32melif\u001b[0m \u001b[0misinstance\u001b[0m\u001b[0;34m(\u001b[0m\u001b[0mgpr\u001b[0m\u001b[0;34m,\u001b[0m \u001b[0mGrouper\u001b[0m\u001b[0;34m)\u001b[0m \u001b[0;32mand\u001b[0m \u001b[0mgpr\u001b[0m\u001b[0;34m.\u001b[0m\u001b[0mkey\u001b[0m \u001b[0;32mis\u001b[0m \u001b[0;32mnot\u001b[0m \u001b[0;32mNone\u001b[0m\u001b[0;34m:\u001b[0m\u001b[0;34m\u001b[0m\u001b[0;34m\u001b[0m\u001b[0m\n\u001b[1;32m    864\u001b[0m             \u001b[0;31m# Add key to exclusions\u001b[0m\u001b[0;34m\u001b[0m\u001b[0;34m\u001b[0m\u001b[0;34m\u001b[0m\u001b[0m\n",
            "\u001b[0;31mKeyError\u001b[0m: 'clusters'"
          ]
        }
      ]
    },
    {
      "cell_type": "code",
      "source": [
        "fig, axes = plt.subplots(2,5, figsize = (20, 10))\n",
        "\n",
        "axes = axes.ravel()\n",
        "\n",
        "for i, col in enumerate(cluster_groups.columns[1:]):\n",
        "  axes[i].bar(cluster_groups['cluster2'], cluster_groups[col])\n",
        "  axes[i].set_title(f'Mean {col}')"
      ],
      "metadata": {
        "colab": {
          "base_uri": "https://localhost:8080/",
          "height": 818
        },
        "id": "n-CP1QsUxMBj",
        "outputId": "f28da408-3d9d-45bd-e0fb-e3f96b9555e7"
      },
      "execution_count": 37,
      "outputs": [
        {
          "output_type": "error",
          "ename": "NameError",
          "evalue": "ignored",
          "traceback": [
            "\u001b[0;31m---------------------------------------------------------------------------\u001b[0m",
            "\u001b[0;31mNameError\u001b[0m                                 Traceback (most recent call last)",
            "\u001b[0;32m<ipython-input-37-ccf5a2a66056>\u001b[0m in \u001b[0;36m<module>\u001b[0;34m\u001b[0m\n\u001b[1;32m      3\u001b[0m \u001b[0maxes\u001b[0m \u001b[0;34m=\u001b[0m \u001b[0maxes\u001b[0m\u001b[0;34m.\u001b[0m\u001b[0mravel\u001b[0m\u001b[0;34m(\u001b[0m\u001b[0;34m)\u001b[0m\u001b[0;34m\u001b[0m\u001b[0;34m\u001b[0m\u001b[0m\n\u001b[1;32m      4\u001b[0m \u001b[0;34m\u001b[0m\u001b[0m\n\u001b[0;32m----> 5\u001b[0;31m \u001b[0;32mfor\u001b[0m \u001b[0mi\u001b[0m\u001b[0;34m,\u001b[0m \u001b[0mcol\u001b[0m \u001b[0;32min\u001b[0m \u001b[0menumerate\u001b[0m\u001b[0;34m(\u001b[0m\u001b[0mcluster_groups\u001b[0m\u001b[0;34m.\u001b[0m\u001b[0mcolumns\u001b[0m\u001b[0;34m[\u001b[0m\u001b[0;36m1\u001b[0m\u001b[0;34m:\u001b[0m\u001b[0;34m]\u001b[0m\u001b[0;34m)\u001b[0m\u001b[0;34m:\u001b[0m\u001b[0;34m\u001b[0m\u001b[0;34m\u001b[0m\u001b[0m\n\u001b[0m\u001b[1;32m      6\u001b[0m   \u001b[0maxes\u001b[0m\u001b[0;34m[\u001b[0m\u001b[0mi\u001b[0m\u001b[0;34m]\u001b[0m\u001b[0;34m.\u001b[0m\u001b[0mbar\u001b[0m\u001b[0;34m(\u001b[0m\u001b[0mcluster_groups\u001b[0m\u001b[0;34m[\u001b[0m\u001b[0;34m'cluster2'\u001b[0m\u001b[0;34m]\u001b[0m\u001b[0;34m,\u001b[0m \u001b[0mcluster_groups\u001b[0m\u001b[0;34m[\u001b[0m\u001b[0mcol\u001b[0m\u001b[0;34m]\u001b[0m\u001b[0;34m)\u001b[0m\u001b[0;34m\u001b[0m\u001b[0;34m\u001b[0m\u001b[0m\n\u001b[1;32m      7\u001b[0m   \u001b[0maxes\u001b[0m\u001b[0;34m[\u001b[0m\u001b[0mi\u001b[0m\u001b[0;34m]\u001b[0m\u001b[0;34m.\u001b[0m\u001b[0mset_title\u001b[0m\u001b[0;34m(\u001b[0m\u001b[0;34mf'Mean {col}'\u001b[0m\u001b[0;34m)\u001b[0m\u001b[0;34m\u001b[0m\u001b[0;34m\u001b[0m\u001b[0m\n",
            "\u001b[0;31mNameError\u001b[0m: name 'cluster_groups' is not defined"
          ]
        },
        {
          "output_type": "display_data",
          "data": {
            "text/plain": [
              "<Figure size 1440x720 with 10 Axes>"
            ],
            "image/png": "[encoded data removed]"
          },
          "metadata": {
            "needs_background": "light"
          }
        }
      ]
    },
    {
      "cell_type": "code",
      "source": [
        "pca = PCA(n_components = .98)\n",
        "knn = KNeighborsRegressor()"
      ],
      "metadata": {
        "id": "7rR5s-a-n2dS"
      },
      "execution_count": 38,
      "outputs": []
    },
    {
      "cell_type": "code",
      "source": [
        "knn_pca_pipe = make_pipeline(pca, knn)\n",
        "knn_pca_pipe.fit(X_train, y_train)"
      ],
      "metadata": {
        "colab": {
          "base_uri": "https://localhost:8080/"
        },
        "id": "MjaKR97R9mTn",
        "outputId": "059db81f-b9d0-4408-d1e9-a76f25f87976"
      },
      "execution_count": 39,
      "outputs": [
        {
          "output_type": "execute_result",
          "data": {
            "text/plain": [
              "Pipeline(steps=[('pca', PCA(n_components=0.98)),\n",
              "                ('kneighborsregressor', KNeighborsRegressor())])"
            ]
          },
          "metadata": {},
          "execution_count": 39
        }
      ]
    },
    {
      "cell_type": "code",
      "source": [
        "def evaluate_model(y_true, y_pred):\n",
        "  \n",
        "  mae = mean_absolute_error(y_true, y_pred)\n",
        "  mse = mean_squared_error(y_true, y_pred)\n",
        "  r2 = r2_score(y_true, y_pred)\n",
        "  rmse = np.sqrt(mse)\n",
        "  print(f'MAE {mae}\\n MSE {mse}\\n R^2 {r2}\\n RMSE{rmse}')"
      ],
      "metadata": {
        "id": "aLIzNJT5q305"
      },
      "execution_count": 41,
      "outputs": []
    },
    {
      "cell_type": "code",
      "source": [
        "knn_pca_pipe_trainpreds = knn_pca_pipe.predict(X_train)\n",
        "knn_pca_pipe_testpreds = knn_pca_pipe.predict(X_test)"
      ],
      "metadata": {
        "id": "f3wz9cehrkHu"
      },
      "execution_count": 42,
      "outputs": []
    },
    {
      "cell_type": "code",
      "source": [
        "print('Training Data')\n",
        "evaluate_model(y_train, knn_pca_pipe_trainpreds)\n",
        "print('\\n')\n",
        "print('Test Data')\n",
        "evaluate_model(y_test, knn_pca_pipe_testpreds)"
      ],
      "metadata": {
        "colab": {
          "base_uri": "https://localhost:8080/"
        },
        "id": "E83aEj5YsLvW",
        "outputId": "934db7c4-56c9-4dae-89df-3cc81e21b84e"
      },
      "execution_count": 43,
      "outputs": [
        {
          "output_type": "stream",
          "name": "stdout",
          "text": [
            "Training Data\n",
            "MAE 3.8492628622615737\n",
            " MSE 24.140455881165767\n",
            " R^2 0.31745813627511543\n",
            " RMSE4.913293791456579\n",
            "\n",
            "\n",
            "Test Data\n",
            "MAE 3.6590481193801554\n",
            " MSE 21.422573622426555\n",
            " R^2 0.13412962840461662\n",
            " RMSE4.6284526164179915\n"
          ]
        }
      ]
    },
    {
      "cell_type": "code",
      "source": [
        "knn_pipe = make_pipeline(scaler, KNeighborsRegressor())\n",
        "knn_pipe.fit(X_train, y_train)"
      ],
      "metadata": {
        "colab": {
          "base_uri": "https://localhost:8080/"
        },
        "id": "GQz60vk37A8z",
        "outputId": "5df3ec9d-5f5a-4f38-b172-7ab3a6f7cf96"
      },
      "execution_count": 44,
      "outputs": [
        {
          "output_type": "execute_result",
          "data": {
            "text/plain": [
              "Pipeline(steps=[('standardscaler', StandardScaler()),\n",
              "                ('kneighborsregressor', KNeighborsRegressor())])"
            ]
          },
          "metadata": {},
          "execution_count": 44
        }
      ]
    },
    {
      "cell_type": "code",
      "source": [
        "pred_no_pca = knn_pipe.predict(X_test)\n",
        "pred_no_pca"
      ],
      "metadata": {
        "colab": {
          "base_uri": "https://localhost:8080/"
        },
        "id": "pj9-712X7P4A",
        "outputId": "86177dd6-6c3f-4ab9-ab67-afc914264db8"
      },
      "execution_count": 45,
      "outputs": [
        {
          "output_type": "execute_result",
          "data": {
            "text/plain": [
              "array([ 5.12275928, 11.2156362 ,  9.25794407, 13.55004382,  5.19038434,\n",
              "        5.8937194 ,  7.35356301, 17.87469417,  8.9965112 ,  6.86338629,\n",
              "        7.16557092,  4.65952033,  3.48923758, 16.30411404,  5.94320738,\n",
              "        3.64887707, 12.76125026,  9.69976954, 10.654875  ,  6.52305851,\n",
              "        6.25339386,  6.5721706 ])"
            ]
          },
          "metadata": {},
          "execution_count": 45
        }
      ]
    },
    {
      "cell_type": "code",
      "source": [
        "acc_score = knn_pipe.score(X_test, y_test)\n",
        "acc_score"
      ],
      "metadata": {
        "colab": {
          "base_uri": "https://localhost:8080/"
        },
        "id": "_SgytfCo_Qnt",
        "outputId": "7d98ea4c-8f59-408b-ac86-3a7c662acd3e"
      },
      "execution_count": 46,
      "outputs": [
        {
          "output_type": "execute_result",
          "data": {
            "text/plain": [
              "0.4815481705734197"
            ]
          },
          "metadata": {},
          "execution_count": 46
        }
      ]
    },
    {
      "cell_type": "code",
      "source": [
        "d_tree = DecisionTreeRegressor(random_state = 42)\n",
        "d_tree.fit(X_train, y_train)"
      ],
      "metadata": {
        "colab": {
          "base_uri": "https://localhost:8080/"
        },
        "id": "qn8UteSgAWm3",
        "outputId": "48edebf9-0295-4382-a78a-7156f6449354"
      },
      "execution_count": 47,
      "outputs": [
        {
          "output_type": "execute_result",
          "data": {
            "text/plain": [
              "DecisionTreeRegressor(random_state=42)"
            ]
          },
          "metadata": {},
          "execution_count": 47
        }
      ]
    },
    {
      "cell_type": "code",
      "source": [
        "dtrain_pred = d_tree.predict(X_train)\n",
        "dtest_pred = d_tree.predict(X_test)"
      ],
      "metadata": {
        "id": "718dpUSYAmak"
      },
      "execution_count": 48,
      "outputs": []
    },
    {
      "cell_type": "code",
      "source": [
        "print('Training Data')\n",
        "evaluate_model(y_train, dtrain_pred)\n",
        "print('\\n')\n",
        "print('Test Data')\n",
        "evaluate_model(y_test, dtest_pred )"
      ],
      "metadata": {
        "colab": {
          "base_uri": "https://localhost:8080/"
        },
        "id": "GJoItUclp8hg",
        "outputId": "c5a37baf-58eb-4053-a9af-dea4b4d59935"
      },
      "execution_count": 49,
      "outputs": [
        {
          "output_type": "stream",
          "name": "stdout",
          "text": [
            "Training Data\n",
            "MAE 0.0\n",
            " MSE 0.0\n",
            " R^2 1.0\n",
            " RMSE0.0\n",
            "\n",
            "\n",
            "Test Data\n",
            "MAE 4.925481379097912\n",
            " MSE 44.03066230291112\n",
            " R^2 -0.7796575986510279\n",
            " RMSE6.635560436233787\n"
          ]
        }
      ]
    },
    {
      "cell_type": "code",
      "source": [
        "dtrain_score = d_tree.score(X_train, y_train)\n",
        "dtest_score = d_tree.score(X_test, y_test)\n",
        "print(dtrain_score)\n",
        "print(dtest_score)"
      ],
      "metadata": {
        "colab": {
          "base_uri": "https://localhost:8080/"
        },
        "id": "yAd90JSiAv-0",
        "outputId": "04b705ae-69c3-4626-f6f4-d2a25b7ca700"
      },
      "execution_count": 50,
      "outputs": [
        {
          "output_type": "stream",
          "name": "stdout",
          "text": [
            "1.0\n",
            "-0.7796575986510279\n"
          ]
        }
      ]
    },
    {
      "cell_type": "code",
      "source": [
        "d_tree.get_depth()"
      ],
      "metadata": {
        "colab": {
          "base_uri": "https://localhost:8080/"
        },
        "id": "Vw2j41F-A5gb",
        "outputId": "1042b3da-050d-4f30-8b3c-1cc612634297"
      },
      "execution_count": 51,
      "outputs": [
        {
          "output_type": "execute_result",
          "data": {
            "text/plain": [
              "10"
            ]
          },
          "metadata": {},
          "execution_count": 51
        }
      ]
    },
    {
      "cell_type": "code",
      "source": [
        "d_tree_15 = DecisionTreeRegressor(max_depth = 15, random_state = 42)\n",
        "d_tree_15.fit(X_train, y_train)\n",
        "dtrain_15_score = d_tree_15.score(X_train, y_train)\n",
        "dtest_15_score = d_tree_15.score(X_test, y_test)\n",
        "print(dtrain_15_score)\n",
        "print(dtest_15_score)"
      ],
      "metadata": {
        "colab": {
          "base_uri": "https://localhost:8080/"
        },
        "id": "uQ5NfuC_3Syh",
        "outputId": "dd2cdefd-d6a9-42a2-fe00-17c3191ebddf"
      },
      "execution_count": 52,
      "outputs": [
        {
          "output_type": "stream",
          "name": "stdout",
          "text": [
            "1.0\n",
            "-0.7796575986510279\n"
          ]
        }
      ]
    },
    {
      "cell_type": "code",
      "source": [
        "d_tree_9 = DecisionTreeRegressor(max_depth = 9, random_state = 42)\n",
        "d_tree_9.fit(X_train, y_train)\n",
        "dtrain_9_score = d_tree_9.score(X_train, y_train)\n",
        "dtest_9_score = d_tree_9.score(X_test, y_test)\n",
        "print(dtrain_9_score)\n",
        "print(dtest_9_score)"
      ],
      "metadata": {
        "colab": {
          "base_uri": "https://localhost:8080/"
        },
        "id": "VnHF7_LLA7ja",
        "outputId": "caeaf410-85f1-400b-adcf-09f562cbf43f"
      },
      "execution_count": 53,
      "outputs": [
        {
          "output_type": "stream",
          "name": "stdout",
          "text": [
            "0.9997834343682399\n",
            "-0.9460055284803184\n"
          ]
        }
      ]
    },
    {
      "cell_type": "code",
      "source": [
        "d_tree_5 = DecisionTreeRegressor(max_depth = 5, random_state = 42)\n",
        "d_tree_5.fit(X_train, y_train)\n",
        "dtrain_5_score = d_tree_5.score(X_train, y_train)\n",
        "dtest_5_score = d_tree_5.score(X_test, y_test)\n",
        "print(dtrain_5_score)\n",
        "print(dtest_5_score)\n"
      ],
      "metadata": {
        "colab": {
          "base_uri": "https://localhost:8080/"
        },
        "id": "agcMxVjO3de7",
        "outputId": "d7d2848a-9530-4a95-b92c-8c6fb6d3f817"
      },
      "execution_count": 54,
      "outputs": [
        {
          "output_type": "stream",
          "name": "stdout",
          "text": [
            "0.8990070865379043\n",
            "0.06387577313017756\n"
          ]
        }
      ]
    },
    {
      "cell_type": "markdown",
      "source": [
        "## Ignore this\n",
        "# In comparison to the PCA and KNN without PCA, it can be seen that a Decision Tree Regression yields the least amount of overfitting."
      ],
      "metadata": {
        "id": "TSSmOjk7B6aT"
      }
    }
  ]
}