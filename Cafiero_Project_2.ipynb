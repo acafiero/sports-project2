{
  "nbformat": 4,
  "nbformat_minor": 0,
  "metadata": {
    "colab": {
      "name": "Cafiero Project 2.ipynb",
      "provenance": [],
      "collapsed_sections": [
        "TSSmOjk7B6aT"
      ],
      "authorship_tag": "ABX9TyNPqCPowy2wuqPThN8DOZxS",
      "include_colab_link": true
    },
    "kernelspec": {
      "name": "python3",
      "display_name": "Python 3"
    },
    "language_info": {
      "name": "python"
    }
  },
  "cells": [
    {
      "cell_type": "markdown",
      "metadata": {
        "id": "view-in-github",
        "colab_type": "text"
      },
      "source": [
        "<a href=\"https://colab.research.google.com/github/acafiero/sports-project2/blob/main/Cafiero_Project_2.ipynb\" target=\"_parent\"><img src=\"https://colab.research.google.com/assets/colab-badge.svg\" alt=\"Open In Colab\"/></a>"
      ]
    },
    {
      "cell_type": "code",
      "execution_count": 1,
      "metadata": {
        "id": "J3vonAxFMp6l"
      },
      "outputs": [],
      "source": [
        "import pandas as pd\n",
        "from matplotlib import pyplot as plt\n",
        "import seaborn as sns\n",
        "import numpy as np\n",
        "from sklearn.model_selection import train_test_split\n",
        "from sklearn.compose import make_column_selector, make_column_transformer\n",
        "from sklearn.pipeline import make_pipeline\n",
        "from sklearn.dummy import DummyRegressor\n",
        "from sklearn.tree import DecisionTreeRegressor\n",
        "from sklearn.decomposition import PCA\n",
        "from sklearn.neighbors import KNeighborsRegressor\n",
        "from sklearn.preprocessing import StandardScaler\n",
        "from sklearn.cluster import KMeans\n",
        "from sklearn.metrics import mean_squared_error, mean_absolute_error, r2_score, silhouette_score, classification_report, confusion_matrix"
      ]
    },
    {
      "cell_type": "markdown",
      "source": [
        " ## *Dataset*\n",
        " 1) github / Five Thirty Eight\n",
        "\n",
        " 2) statistical data for modern NBA players\n",
        "\n",
        " 3) What is the statiscal threshold of WAR and RAPTOR a player needs to reach to be worth signing\n",
        "\n",
        " 4) Regression\n",
        "\n",
        " 5) 21 features\n",
        "\n",
        " 6) 4078 rows\n",
        "\n",
        " 7) There are multiple entries for the same player that needed to be reduced and averaged out, several features that are redudant to the study and an excess of negative floats that could inaccurately affect the outcome"
      ],
      "metadata": {
        "id": "9yj1XG8XOi0P"
      }
    },
    {
      "cell_type": "code",
      "source": [
        "from google.colab import drive\n",
        "drive.mount('/content/drive')"
      ],
      "metadata": {
        "colab": {
          "base_uri": "https://localhost:8080/"
        },
        "id": "LYFWdH6FDiCM",
        "outputId": "f2c5414d-9e92-4d4f-87d9-3e29204c08ed"
      },
      "execution_count": 2,
      "outputs": [
        {
          "output_type": "stream",
          "name": "stdout",
          "text": [
            "Drive already mounted at /content/drive; to attempt to forcibly remount, call drive.mount(\"/content/drive\", force_remount=True).\n"
          ]
        }
      ]
    },
    {
      "cell_type": "code",
      "source": [
        "url = 'https://raw.githubusercontent.com/acafiero/sports-project2/main/modern_RAPTOR_by_player.csv'\n",
        "df = pd.read_csv(url)\n",
        "df.head()"
      ],
      "metadata": {
        "id": "Q4AGKq2XM1gb",
        "colab": {
          "base_uri": "https://localhost:8080/",
          "height": 317
        },
        "outputId": "797177b4-a753-45de-8c60-14640acb9c4e"
      },
      "execution_count": 3,
      "outputs": [
        {
          "output_type": "execute_result",
          "data": {
            "text/plain": [
              "        player_name  player_id  season  poss    mp  raptor_box_offense  \\\n",
              "0      Alex Abrines  abrinal01    2017  2387  1135            0.745505   \n",
              "1      Alex Abrines  abrinal01    2018  2546  1244            0.317549   \n",
              "2      Alex Abrines  abrinal01    2019  1279   588           -3.215683   \n",
              "3  Precious Achiuwa  achiupr01    2021  1581   749           -4.122966   \n",
              "4        Quincy Acy    acyqu01    2014  1716   847           -1.716079   \n",
              "\n",
              "   raptor_box_defense  raptor_box_total  raptor_onoff_offense  \\\n",
              "0           -0.372938          0.372567             -0.418553   \n",
              "1           -1.725325         -1.407776             -1.291727   \n",
              "2            1.078399         -2.137285             -6.158856   \n",
              "3            1.359278         -2.763688             -4.050779   \n",
              "4            0.133115         -1.582964             -0.324811   \n",
              "\n",
              "   raptor_onoff_defense  ...  raptor_offense  raptor_defense  raptor_total  \\\n",
              "0             -3.857011  ...        0.543421       -1.144832     -0.601411   \n",
              "1             -0.049694  ...       -0.020826       -1.502642     -1.523468   \n",
              "2              4.901168  ...       -4.040157        1.885618     -2.154538   \n",
              "3             -0.919712  ...       -4.347596        0.954821     -3.392775   \n",
              "4             -1.661495  ...       -1.565257       -0.216477     -1.781734   \n",
              "\n",
              "   war_total  war_reg_season  war_playoffs  predator_offense  \\\n",
              "0   1.249008        1.447708     -0.198700          0.077102   \n",
              "1   0.777304        0.465912      0.311392         -0.174621   \n",
              "2   0.178167        0.178167      0.000000         -4.577678   \n",
              "3  -0.246055       -0.246776      0.000721         -3.817713   \n",
              "4   0.415918        0.415918      0.000000         -1.464417   \n",
              "\n",
              "   predator_defense  predator_total  pace_impact  \n",
              "0         -1.038677       -0.961575     0.326413  \n",
              "1         -1.112625       -1.287247    -0.456141  \n",
              "2          1.543282       -3.034396    -0.268013  \n",
              "3          0.474828       -3.342885     0.329157  \n",
              "4         -0.223754       -1.688171    -0.554898  \n",
              "\n",
              "[5 rows x 21 columns]"
            ],
            "text/html": [
              "\n",
              "  <div id=\"df-489a43c3-5a94-4f30-9e5c-2ad7b2ec4499\">\n",
              "    <div class=\"colab-df-container\">\n",
              "      <div>\n",
              "<style scoped>\n",
              "    .dataframe tbody tr th:only-of-type {\n",
              "        vertical-align: middle;\n",
              "    }\n",
              "\n",
              "    .dataframe tbody tr th {\n",
              "        vertical-align: top;\n",
              "    }\n",
              "\n",
              "    .dataframe thead th {\n",
              "        text-align: right;\n",
              "    }\n",
              "</style>\n",
              "<table border=\"1\" class=\"dataframe\">\n",
              "  <thead>\n",
              "    <tr style=\"text-align: right;\">\n",
              "      <th></th>\n",
              "      <th>player_name</th>\n",
              "      <th>player_id</th>\n",
              "      <th>season</th>\n",
              "      <th>poss</th>\n",
              "      <th>mp</th>\n",
              "      <th>raptor_box_offense</th>\n",
              "      <th>raptor_box_defense</th>\n",
              "      <th>raptor_box_total</th>\n",
              "      <th>raptor_onoff_offense</th>\n",
              "      <th>raptor_onoff_defense</th>\n",
              "      <th>...</th>\n",
              "      <th>raptor_offense</th>\n",
              "      <th>raptor_defense</th>\n",
              "      <th>raptor_total</th>\n",
              "      <th>war_total</th>\n",
              "      <th>war_reg_season</th>\n",
              "      <th>war_playoffs</th>\n",
              "      <th>predator_offense</th>\n",
              "      <th>predator_defense</th>\n",
              "      <th>predator_total</th>\n",
              "      <th>pace_impact</th>\n",
              "    </tr>\n",
              "  </thead>\n",
              "  <tbody>\n",
              "    <tr>\n",
              "      <th>0</th>\n",
              "      <td>Alex Abrines</td>\n",
              "      <td>abrinal01</td>\n",
              "      <td>2017</td>\n",
              "      <td>2387</td>\n",
              "      <td>1135</td>\n",
              "      <td>0.745505</td>\n",
              "      <td>-0.372938</td>\n",
              "      <td>0.372567</td>\n",
              "      <td>-0.418553</td>\n",
              "      <td>-3.857011</td>\n",
              "      <td>...</td>\n",
              "      <td>0.543421</td>\n",
              "      <td>-1.144832</td>\n",
              "      <td>-0.601411</td>\n",
              "      <td>1.249008</td>\n",
              "      <td>1.447708</td>\n",
              "      <td>-0.198700</td>\n",
              "      <td>0.077102</td>\n",
              "      <td>-1.038677</td>\n",
              "      <td>-0.961575</td>\n",
              "      <td>0.326413</td>\n",
              "    </tr>\n",
              "    <tr>\n",
              "      <th>1</th>\n",
              "      <td>Alex Abrines</td>\n",
              "      <td>abrinal01</td>\n",
              "      <td>2018</td>\n",
              "      <td>2546</td>\n",
              "      <td>1244</td>\n",
              "      <td>0.317549</td>\n",
              "      <td>-1.725325</td>\n",
              "      <td>-1.407776</td>\n",
              "      <td>-1.291727</td>\n",
              "      <td>-0.049694</td>\n",
              "      <td>...</td>\n",
              "      <td>-0.020826</td>\n",
              "      <td>-1.502642</td>\n",
              "      <td>-1.523468</td>\n",
              "      <td>0.777304</td>\n",
              "      <td>0.465912</td>\n",
              "      <td>0.311392</td>\n",
              "      <td>-0.174621</td>\n",
              "      <td>-1.112625</td>\n",
              "      <td>-1.287247</td>\n",
              "      <td>-0.456141</td>\n",
              "    </tr>\n",
              "    <tr>\n",
              "      <th>2</th>\n",
              "      <td>Alex Abrines</td>\n",
              "      <td>abrinal01</td>\n",
              "      <td>2019</td>\n",
              "      <td>1279</td>\n",
              "      <td>588</td>\n",
              "      <td>-3.215683</td>\n",
              "      <td>1.078399</td>\n",
              "      <td>-2.137285</td>\n",
              "      <td>-6.158856</td>\n",
              "      <td>4.901168</td>\n",
              "      <td>...</td>\n",
              "      <td>-4.040157</td>\n",
              "      <td>1.885618</td>\n",
              "      <td>-2.154538</td>\n",
              "      <td>0.178167</td>\n",
              "      <td>0.178167</td>\n",
              "      <td>0.000000</td>\n",
              "      <td>-4.577678</td>\n",
              "      <td>1.543282</td>\n",
              "      <td>-3.034396</td>\n",
              "      <td>-0.268013</td>\n",
              "    </tr>\n",
              "    <tr>\n",
              "      <th>3</th>\n",
              "      <td>Precious Achiuwa</td>\n",
              "      <td>achiupr01</td>\n",
              "      <td>2021</td>\n",
              "      <td>1581</td>\n",
              "      <td>749</td>\n",
              "      <td>-4.122966</td>\n",
              "      <td>1.359278</td>\n",
              "      <td>-2.763688</td>\n",
              "      <td>-4.050779</td>\n",
              "      <td>-0.919712</td>\n",
              "      <td>...</td>\n",
              "      <td>-4.347596</td>\n",
              "      <td>0.954821</td>\n",
              "      <td>-3.392775</td>\n",
              "      <td>-0.246055</td>\n",
              "      <td>-0.246776</td>\n",
              "      <td>0.000721</td>\n",
              "      <td>-3.817713</td>\n",
              "      <td>0.474828</td>\n",
              "      <td>-3.342885</td>\n",
              "      <td>0.329157</td>\n",
              "    </tr>\n",
              "    <tr>\n",
              "      <th>4</th>\n",
              "      <td>Quincy Acy</td>\n",
              "      <td>acyqu01</td>\n",
              "      <td>2014</td>\n",
              "      <td>1716</td>\n",
              "      <td>847</td>\n",
              "      <td>-1.716079</td>\n",
              "      <td>0.133115</td>\n",
              "      <td>-1.582964</td>\n",
              "      <td>-0.324811</td>\n",
              "      <td>-1.661495</td>\n",
              "      <td>...</td>\n",
              "      <td>-1.565257</td>\n",
              "      <td>-0.216477</td>\n",
              "      <td>-1.781734</td>\n",
              "      <td>0.415918</td>\n",
              "      <td>0.415918</td>\n",
              "      <td>0.000000</td>\n",
              "      <td>-1.464417</td>\n",
              "      <td>-0.223754</td>\n",
              "      <td>-1.688171</td>\n",
              "      <td>-0.554898</td>\n",
              "    </tr>\n",
              "  </tbody>\n",
              "</table>\n",
              "<p>5 rows × 21 columns</p>\n",
              "</div>\n",
              "      <button class=\"colab-df-convert\" onclick=\"convertToInteractive('df-489a43c3-5a94-4f30-9e5c-2ad7b2ec4499')\"\n",
              "              title=\"Convert this dataframe to an interactive table.\"\n",
              "              style=\"display:none;\">\n",
              "        \n",
              "  <svg xmlns=\"http://www.w3.org/2000/svg\" height=\"24px\"viewBox=\"0 0 24 24\"\n",
              "       width=\"24px\">\n",
              "    <path d=\"M0 0h24v24H0V0z\" fill=\"none\"/>\n",
              "    <path d=\"M18.56 5.44l.94 2.06.94-2.06 2.06-.94-2.06-.94-.94-2.06-.94 2.06-2.06.94zm-11 1L8.5 8.5l.94-2.06 2.06-.94-2.06-.94L8.5 2.5l-.94 2.06-2.06.94zm10 10l.94 2.06.94-2.06 2.06-.94-2.06-.94-.94-2.06-.94 2.06-2.06.94z\"/><path d=\"M17.41 7.96l-1.37-1.37c-.4-.4-.92-.59-1.43-.59-.52 0-1.04.2-1.43.59L10.3 9.45l-7.72 7.72c-.78.78-.78 2.05 0 2.83L4 21.41c.39.39.9.59 1.41.59.51 0 1.02-.2 1.41-.59l7.78-7.78 2.81-2.81c.8-.78.8-2.07 0-2.86zM5.41 20L4 18.59l7.72-7.72 1.47 1.35L5.41 20z\"/>\n",
              "  </svg>\n",
              "      </button>\n",
              "      \n",
              "  <style>\n",
              "    .colab-df-container {\n",
              "      display:flex;\n",
              "      flex-wrap:wrap;\n",
              "      gap: 12px;\n",
              "    }\n",
              "\n",
              "    .colab-df-convert {\n",
              "      background-color: #E8F0FE;\n",
              "      border: none;\n",
              "      border-radius: 50%;\n",
              "      cursor: pointer;\n",
              "      display: none;\n",
              "      fill: #1967D2;\n",
              "      height: 32px;\n",
              "      padding: 0 0 0 0;\n",
              "      width: 32px;\n",
              "    }\n",
              "\n",
              "    .colab-df-convert:hover {\n",
              "      background-color: #E2EBFA;\n",
              "      box-shadow: 0px 1px 2px rgba(60, 64, 67, 0.3), 0px 1px 3px 1px rgba(60, 64, 67, 0.15);\n",
              "      fill: #174EA6;\n",
              "    }\n",
              "\n",
              "    [theme=dark] .colab-df-convert {\n",
              "      background-color: #3B4455;\n",
              "      fill: #D2E3FC;\n",
              "    }\n",
              "\n",
              "    [theme=dark] .colab-df-convert:hover {\n",
              "      background-color: #434B5C;\n",
              "      box-shadow: 0px 1px 3px 1px rgba(0, 0, 0, 0.15);\n",
              "      filter: drop-shadow(0px 1px 2px rgba(0, 0, 0, 0.3));\n",
              "      fill: #FFFFFF;\n",
              "    }\n",
              "  </style>\n",
              "\n",
              "      <script>\n",
              "        const buttonEl =\n",
              "          document.querySelector('#df-489a43c3-5a94-4f30-9e5c-2ad7b2ec4499 button.colab-df-convert');\n",
              "        buttonEl.style.display =\n",
              "          google.colab.kernel.accessAllowed ? 'block' : 'none';\n",
              "\n",
              "        async function convertToInteractive(key) {\n",
              "          const element = document.querySelector('#df-489a43c3-5a94-4f30-9e5c-2ad7b2ec4499');\n",
              "          const dataTable =\n",
              "            await google.colab.kernel.invokeFunction('convertToInteractive',\n",
              "                                                     [key], {});\n",
              "          if (!dataTable) return;\n",
              "\n",
              "          const docLinkHtml = 'Like what you see? Visit the ' +\n",
              "            '<a target=\"_blank\" href=https://colab.research.google.com/notebooks/data_table.ipynb>data table notebook</a>'\n",
              "            + ' to learn more about interactive tables.';\n",
              "          element.innerHTML = '';\n",
              "          dataTable['output_type'] = 'display_data';\n",
              "          await google.colab.output.renderOutput(dataTable, element);\n",
              "          const docLink = document.createElement('div');\n",
              "          docLink.innerHTML = docLinkHtml;\n",
              "          element.appendChild(docLink);\n",
              "        }\n",
              "      </script>\n",
              "    </div>\n",
              "  </div>\n",
              "  "
            ]
          },
          "metadata": {},
          "execution_count": 3
        }
      ]
    },
    {
      "cell_type": "code",
      "source": [
        "#create a loop\n",
        "#filter by player\n",
        "#for each players WAR create new feature \"War for next year\"\n",
        "#concatenate all together"
      ],
      "metadata": {
        "id": "Gqo5tXQXEbah"
      },
      "execution_count": 4,
      "outputs": []
    },
    {
      "cell_type": "code",
      "source": [
        "dfml = pd.DataFrame()\n",
        "players = df['player_name'].unique()"
      ],
      "metadata": {
        "id": "ziwAowyFEvGM"
      },
      "execution_count": 5,
      "outputs": []
    },
    {
      "cell_type": "code",
      "source": [
        "players\n",
        "\n",
        "for player in players:\n",
        "  player_df = df.loc[df['player_name'] == player]\n",
        "  player_df['Next WAR'] = player_df['war_total'].shift(-1)\n",
        "  dfml = pd.concat([dfml, player_df])\n",
        "\n",
        "dfml.head()"
      ],
      "metadata": {
        "colab": {
          "base_uri": "https://localhost:8080/",
          "height": 441
        },
        "id": "uybUNObaFgfS",
        "outputId": "12b0fbf9-5a3a-4967-d9ea-cea177aac12e"
      },
      "execution_count": 6,
      "outputs": [
        {
          "output_type": "stream",
          "name": "stderr",
          "text": [
            "/usr/local/lib/python3.7/dist-packages/ipykernel_launcher.py:5: SettingWithCopyWarning: \n",
            "A value is trying to be set on a copy of a slice from a DataFrame.\n",
            "Try using .loc[row_indexer,col_indexer] = value instead\n",
            "\n",
            "See the caveats in the documentation: https://pandas.pydata.org/pandas-docs/stable/user_guide/indexing.html#returning-a-view-versus-a-copy\n",
            "  \"\"\"\n"
          ]
        },
        {
          "output_type": "execute_result",
          "data": {
            "text/plain": [
              "        player_name  player_id  season  poss    mp  raptor_box_offense  \\\n",
              "0      Alex Abrines  abrinal01    2017  2387  1135            0.745505   \n",
              "1      Alex Abrines  abrinal01    2018  2546  1244            0.317549   \n",
              "2      Alex Abrines  abrinal01    2019  1279   588           -3.215683   \n",
              "3  Precious Achiuwa  achiupr01    2021  1581   749           -4.122966   \n",
              "4        Quincy Acy    acyqu01    2014  1716   847           -1.716079   \n",
              "\n",
              "   raptor_box_defense  raptor_box_total  raptor_onoff_offense  \\\n",
              "0           -0.372938          0.372567             -0.418553   \n",
              "1           -1.725325         -1.407776             -1.291727   \n",
              "2            1.078399         -2.137285             -6.158856   \n",
              "3            1.359278         -2.763688             -4.050779   \n",
              "4            0.133115         -1.582964             -0.324811   \n",
              "\n",
              "   raptor_onoff_defense  ...  raptor_defense  raptor_total  war_total  \\\n",
              "0             -3.857011  ...       -1.144832     -0.601411   1.249008   \n",
              "1             -0.049694  ...       -1.502642     -1.523468   0.777304   \n",
              "2              4.901168  ...        1.885618     -2.154538   0.178167   \n",
              "3             -0.919712  ...        0.954821     -3.392775  -0.246055   \n",
              "4             -1.661495  ...       -0.216477     -1.781734   0.415918   \n",
              "\n",
              "   war_reg_season  war_playoffs  predator_offense  predator_defense  \\\n",
              "0        1.447708     -0.198700          0.077102         -1.038677   \n",
              "1        0.465912      0.311392         -0.174621         -1.112625   \n",
              "2        0.178167      0.000000         -4.577678          1.543282   \n",
              "3       -0.246776      0.000721         -3.817713          0.474828   \n",
              "4        0.415918      0.000000         -1.464417         -0.223754   \n",
              "\n",
              "   predator_total  pace_impact  Next WAR  \n",
              "0       -0.961575     0.326413  0.777304  \n",
              "1       -1.287247    -0.456141  0.178167  \n",
              "2       -3.034396    -0.268013       NaN  \n",
              "3       -3.342885     0.329157       NaN  \n",
              "4       -1.688171    -0.554898 -0.083313  \n",
              "\n",
              "[5 rows x 22 columns]"
            ],
            "text/html": [
              "\n",
              "  <div id=\"df-9ad834bf-4077-4f63-a001-4ab54be755b0\">\n",
              "    <div class=\"colab-df-container\">\n",
              "      <div>\n",
              "<style scoped>\n",
              "    .dataframe tbody tr th:only-of-type {\n",
              "        vertical-align: middle;\n",
              "    }\n",
              "\n",
              "    .dataframe tbody tr th {\n",
              "        vertical-align: top;\n",
              "    }\n",
              "\n",
              "    .dataframe thead th {\n",
              "        text-align: right;\n",
              "    }\n",
              "</style>\n",
              "<table border=\"1\" class=\"dataframe\">\n",
              "  <thead>\n",
              "    <tr style=\"text-align: right;\">\n",
              "      <th></th>\n",
              "      <th>player_name</th>\n",
              "      <th>player_id</th>\n",
              "      <th>season</th>\n",
              "      <th>poss</th>\n",
              "      <th>mp</th>\n",
              "      <th>raptor_box_offense</th>\n",
              "      <th>raptor_box_defense</th>\n",
              "      <th>raptor_box_total</th>\n",
              "      <th>raptor_onoff_offense</th>\n",
              "      <th>raptor_onoff_defense</th>\n",
              "      <th>...</th>\n",
              "      <th>raptor_defense</th>\n",
              "      <th>raptor_total</th>\n",
              "      <th>war_total</th>\n",
              "      <th>war_reg_season</th>\n",
              "      <th>war_playoffs</th>\n",
              "      <th>predator_offense</th>\n",
              "      <th>predator_defense</th>\n",
              "      <th>predator_total</th>\n",
              "      <th>pace_impact</th>\n",
              "      <th>Next WAR</th>\n",
              "    </tr>\n",
              "  </thead>\n",
              "  <tbody>\n",
              "    <tr>\n",
              "      <th>0</th>\n",
              "      <td>Alex Abrines</td>\n",
              "      <td>abrinal01</td>\n",
              "      <td>2017</td>\n",
              "      <td>2387</td>\n",
              "      <td>1135</td>\n",
              "      <td>0.745505</td>\n",
              "      <td>-0.372938</td>\n",
              "      <td>0.372567</td>\n",
              "      <td>-0.418553</td>\n",
              "      <td>-3.857011</td>\n",
              "      <td>...</td>\n",
              "      <td>-1.144832</td>\n",
              "      <td>-0.601411</td>\n",
              "      <td>1.249008</td>\n",
              "      <td>1.447708</td>\n",
              "      <td>-0.198700</td>\n",
              "      <td>0.077102</td>\n",
              "      <td>-1.038677</td>\n",
              "      <td>-0.961575</td>\n",
              "      <td>0.326413</td>\n",
              "      <td>0.777304</td>\n",
              "    </tr>\n",
              "    <tr>\n",
              "      <th>1</th>\n",
              "      <td>Alex Abrines</td>\n",
              "      <td>abrinal01</td>\n",
              "      <td>2018</td>\n",
              "      <td>2546</td>\n",
              "      <td>1244</td>\n",
              "      <td>0.317549</td>\n",
              "      <td>-1.725325</td>\n",
              "      <td>-1.407776</td>\n",
              "      <td>-1.291727</td>\n",
              "      <td>-0.049694</td>\n",
              "      <td>...</td>\n",
              "      <td>-1.502642</td>\n",
              "      <td>-1.523468</td>\n",
              "      <td>0.777304</td>\n",
              "      <td>0.465912</td>\n",
              "      <td>0.311392</td>\n",
              "      <td>-0.174621</td>\n",
              "      <td>-1.112625</td>\n",
              "      <td>-1.287247</td>\n",
              "      <td>-0.456141</td>\n",
              "      <td>0.178167</td>\n",
              "    </tr>\n",
              "    <tr>\n",
              "      <th>2</th>\n",
              "      <td>Alex Abrines</td>\n",
              "      <td>abrinal01</td>\n",
              "      <td>2019</td>\n",
              "      <td>1279</td>\n",
              "      <td>588</td>\n",
              "      <td>-3.215683</td>\n",
              "      <td>1.078399</td>\n",
              "      <td>-2.137285</td>\n",
              "      <td>-6.158856</td>\n",
              "      <td>4.901168</td>\n",
              "      <td>...</td>\n",
              "      <td>1.885618</td>\n",
              "      <td>-2.154538</td>\n",
              "      <td>0.178167</td>\n",
              "      <td>0.178167</td>\n",
              "      <td>0.000000</td>\n",
              "      <td>-4.577678</td>\n",
              "      <td>1.543282</td>\n",
              "      <td>-3.034396</td>\n",
              "      <td>-0.268013</td>\n",
              "      <td>NaN</td>\n",
              "    </tr>\n",
              "    <tr>\n",
              "      <th>3</th>\n",
              "      <td>Precious Achiuwa</td>\n",
              "      <td>achiupr01</td>\n",
              "      <td>2021</td>\n",
              "      <td>1581</td>\n",
              "      <td>749</td>\n",
              "      <td>-4.122966</td>\n",
              "      <td>1.359278</td>\n",
              "      <td>-2.763688</td>\n",
              "      <td>-4.050779</td>\n",
              "      <td>-0.919712</td>\n",
              "      <td>...</td>\n",
              "      <td>0.954821</td>\n",
              "      <td>-3.392775</td>\n",
              "      <td>-0.246055</td>\n",
              "      <td>-0.246776</td>\n",
              "      <td>0.000721</td>\n",
              "      <td>-3.817713</td>\n",
              "      <td>0.474828</td>\n",
              "      <td>-3.342885</td>\n",
              "      <td>0.329157</td>\n",
              "      <td>NaN</td>\n",
              "    </tr>\n",
              "    <tr>\n",
              "      <th>4</th>\n",
              "      <td>Quincy Acy</td>\n",
              "      <td>acyqu01</td>\n",
              "      <td>2014</td>\n",
              "      <td>1716</td>\n",
              "      <td>847</td>\n",
              "      <td>-1.716079</td>\n",
              "      <td>0.133115</td>\n",
              "      <td>-1.582964</td>\n",
              "      <td>-0.324811</td>\n",
              "      <td>-1.661495</td>\n",
              "      <td>...</td>\n",
              "      <td>-0.216477</td>\n",
              "      <td>-1.781734</td>\n",
              "      <td>0.415918</td>\n",
              "      <td>0.415918</td>\n",
              "      <td>0.000000</td>\n",
              "      <td>-1.464417</td>\n",
              "      <td>-0.223754</td>\n",
              "      <td>-1.688171</td>\n",
              "      <td>-0.554898</td>\n",
              "      <td>-0.083313</td>\n",
              "    </tr>\n",
              "  </tbody>\n",
              "</table>\n",
              "<p>5 rows × 22 columns</p>\n",
              "</div>\n",
              "      <button class=\"colab-df-convert\" onclick=\"convertToInteractive('df-9ad834bf-4077-4f63-a001-4ab54be755b0')\"\n",
              "              title=\"Convert this dataframe to an interactive table.\"\n",
              "              style=\"display:none;\">\n",
              "        \n",
              "  <svg xmlns=\"http://www.w3.org/2000/svg\" height=\"24px\"viewBox=\"0 0 24 24\"\n",
              "       width=\"24px\">\n",
              "    <path d=\"M0 0h24v24H0V0z\" fill=\"none\"/>\n",
              "    <path d=\"M18.56 5.44l.94 2.06.94-2.06 2.06-.94-2.06-.94-.94-2.06-.94 2.06-2.06.94zm-11 1L8.5 8.5l.94-2.06 2.06-.94-2.06-.94L8.5 2.5l-.94 2.06-2.06.94zm10 10l.94 2.06.94-2.06 2.06-.94-2.06-.94-.94-2.06-.94 2.06-2.06.94z\"/><path d=\"M17.41 7.96l-1.37-1.37c-.4-.4-.92-.59-1.43-.59-.52 0-1.04.2-1.43.59L10.3 9.45l-7.72 7.72c-.78.78-.78 2.05 0 2.83L4 21.41c.39.39.9.59 1.41.59.51 0 1.02-.2 1.41-.59l7.78-7.78 2.81-2.81c.8-.78.8-2.07 0-2.86zM5.41 20L4 18.59l7.72-7.72 1.47 1.35L5.41 20z\"/>\n",
              "  </svg>\n",
              "      </button>\n",
              "      \n",
              "  <style>\n",
              "    .colab-df-container {\n",
              "      display:flex;\n",
              "      flex-wrap:wrap;\n",
              "      gap: 12px;\n",
              "    }\n",
              "\n",
              "    .colab-df-convert {\n",
              "      background-color: #E8F0FE;\n",
              "      border: none;\n",
              "      border-radius: 50%;\n",
              "      cursor: pointer;\n",
              "      display: none;\n",
              "      fill: #1967D2;\n",
              "      height: 32px;\n",
              "      padding: 0 0 0 0;\n",
              "      width: 32px;\n",
              "    }\n",
              "\n",
              "    .colab-df-convert:hover {\n",
              "      background-color: #E2EBFA;\n",
              "      box-shadow: 0px 1px 2px rgba(60, 64, 67, 0.3), 0px 1px 3px 1px rgba(60, 64, 67, 0.15);\n",
              "      fill: #174EA6;\n",
              "    }\n",
              "\n",
              "    [theme=dark] .colab-df-convert {\n",
              "      background-color: #3B4455;\n",
              "      fill: #D2E3FC;\n",
              "    }\n",
              "\n",
              "    [theme=dark] .colab-df-convert:hover {\n",
              "      background-color: #434B5C;\n",
              "      box-shadow: 0px 1px 3px 1px rgba(0, 0, 0, 0.15);\n",
              "      filter: drop-shadow(0px 1px 2px rgba(0, 0, 0, 0.3));\n",
              "      fill: #FFFFFF;\n",
              "    }\n",
              "  </style>\n",
              "\n",
              "      <script>\n",
              "        const buttonEl =\n",
              "          document.querySelector('#df-9ad834bf-4077-4f63-a001-4ab54be755b0 button.colab-df-convert');\n",
              "        buttonEl.style.display =\n",
              "          google.colab.kernel.accessAllowed ? 'block' : 'none';\n",
              "\n",
              "        async function convertToInteractive(key) {\n",
              "          const element = document.querySelector('#df-9ad834bf-4077-4f63-a001-4ab54be755b0');\n",
              "          const dataTable =\n",
              "            await google.colab.kernel.invokeFunction('convertToInteractive',\n",
              "                                                     [key], {});\n",
              "          if (!dataTable) return;\n",
              "\n",
              "          const docLinkHtml = 'Like what you see? Visit the ' +\n",
              "            '<a target=\"_blank\" href=https://colab.research.google.com/notebooks/data_table.ipynb>data table notebook</a>'\n",
              "            + ' to learn more about interactive tables.';\n",
              "          element.innerHTML = '';\n",
              "          dataTable['output_type'] = 'display_data';\n",
              "          await google.colab.output.renderOutput(dataTable, element);\n",
              "          const docLink = document.createElement('div');\n",
              "          docLink.innerHTML = docLinkHtml;\n",
              "          element.appendChild(docLink);\n",
              "        }\n",
              "      </script>\n",
              "    </div>\n",
              "  </div>\n",
              "  "
            ]
          },
          "metadata": {},
          "execution_count": 6
        }
      ]
    },
    {
      "cell_type": "code",
      "source": [
        "dfml.info()"
      ],
      "metadata": {
        "id": "GZTMteO1PAAo",
        "colab": {
          "base_uri": "https://localhost:8080/"
        },
        "outputId": "27342961-c942-4f93-b603-dccce44a84f0"
      },
      "execution_count": 7,
      "outputs": [
        {
          "output_type": "stream",
          "name": "stdout",
          "text": [
            "<class 'pandas.core.frame.DataFrame'>\n",
            "Int64Index: 4079 entries, 0 to 4078\n",
            "Data columns (total 22 columns):\n",
            " #   Column                Non-Null Count  Dtype  \n",
            "---  ------                --------------  -----  \n",
            " 0   player_name           4079 non-null   object \n",
            " 1   player_id             4079 non-null   object \n",
            " 2   season                4079 non-null   int64  \n",
            " 3   poss                  4079 non-null   int64  \n",
            " 4   mp                    4079 non-null   int64  \n",
            " 5   raptor_box_offense    4078 non-null   float64\n",
            " 6   raptor_box_defense    4078 non-null   float64\n",
            " 7   raptor_box_total      4078 non-null   float64\n",
            " 8   raptor_onoff_offense  4078 non-null   float64\n",
            " 9   raptor_onoff_defense  4078 non-null   float64\n",
            " 10  raptor_onoff_total    4078 non-null   float64\n",
            " 11  raptor_offense        4079 non-null   float64\n",
            " 12  raptor_defense        4079 non-null   float64\n",
            " 13  raptor_total          4079 non-null   float64\n",
            " 14  war_total             4079 non-null   float64\n",
            " 15  war_reg_season        4079 non-null   float64\n",
            " 16  war_playoffs          4079 non-null   float64\n",
            " 17  predator_offense      4079 non-null   float64\n",
            " 18  predator_defense      4079 non-null   float64\n",
            " 19  predator_total        4079 non-null   float64\n",
            " 20  pace_impact           4078 non-null   float64\n",
            " 21  Next WAR              2887 non-null   float64\n",
            "dtypes: float64(17), int64(3), object(2)\n",
            "memory usage: 732.9+ KB\n"
          ]
        }
      ]
    },
    {
      "cell_type": "code",
      "source": [
        "dfml.duplicated().sum()\n",
        "\n",
        "## no duplicated values"
      ],
      "metadata": {
        "id": "6rWXtDSxACq2",
        "colab": {
          "base_uri": "https://localhost:8080/"
        },
        "outputId": "c9d9b31a-e6c5-4698-f6e4-f258fdb73339"
      },
      "execution_count": 8,
      "outputs": [
        {
          "output_type": "execute_result",
          "data": {
            "text/plain": [
              "0"
            ]
          },
          "metadata": {},
          "execution_count": 8
        }
      ]
    },
    {
      "cell_type": "code",
      "source": [
        "dfml.nunique()\n",
        "\n",
        "## checking all the various features"
      ],
      "metadata": {
        "id": "j7jnUAjRD3C3",
        "colab": {
          "base_uri": "https://localhost:8080/"
        },
        "outputId": "226b49cb-e5e6-44d4-b624-339d53aabacb"
      },
      "execution_count": 9,
      "outputs": [
        {
          "output_type": "execute_result",
          "data": {
            "text/plain": [
              "player_name             1192\n",
              "player_id               1187\n",
              "season                     8\n",
              "poss                    2867\n",
              "mp                      2130\n",
              "raptor_box_offense      4078\n",
              "raptor_box_defense      4078\n",
              "raptor_box_total        4078\n",
              "raptor_onoff_offense    4077\n",
              "raptor_onoff_defense    4077\n",
              "raptor_onoff_total      4077\n",
              "raptor_offense          4079\n",
              "raptor_defense          4079\n",
              "raptor_total            4079\n",
              "war_total               4079\n",
              "war_reg_season          4075\n",
              "war_playoffs            1717\n",
              "predator_offense        4079\n",
              "predator_defense        4079\n",
              "predator_total          4079\n",
              "pace_impact             4078\n",
              "Next WAR                2887\n",
              "dtype: int64"
            ]
          },
          "metadata": {},
          "execution_count": 9
        }
      ]
    },
    {
      "cell_type": "code",
      "source": [
        "dfml.isna().sum()\n",
        "\n",
        "## checking for rows missing data"
      ],
      "metadata": {
        "id": "WWqR95iPD2_f",
        "colab": {
          "base_uri": "https://localhost:8080/"
        },
        "outputId": "880033dc-8ffb-4207-88af-d29f01122a20"
      },
      "execution_count": 10,
      "outputs": [
        {
          "output_type": "execute_result",
          "data": {
            "text/plain": [
              "player_name                0\n",
              "player_id                  0\n",
              "season                     0\n",
              "poss                       0\n",
              "mp                         0\n",
              "raptor_box_offense         1\n",
              "raptor_box_defense         1\n",
              "raptor_box_total           1\n",
              "raptor_onoff_offense       1\n",
              "raptor_onoff_defense       1\n",
              "raptor_onoff_total         1\n",
              "raptor_offense             0\n",
              "raptor_defense             0\n",
              "raptor_total               0\n",
              "war_total                  0\n",
              "war_reg_season             0\n",
              "war_playoffs               0\n",
              "predator_offense           0\n",
              "predator_defense           0\n",
              "predator_total             0\n",
              "pace_impact                1\n",
              "Next WAR                1192\n",
              "dtype: int64"
            ]
          },
          "metadata": {},
          "execution_count": 10
        }
      ]
    },
    {
      "cell_type": "code",
      "source": [
        "dfml.dropna()\n",
        "dfml.isna().sum()\n",
        "\n",
        "## dropped all rows missing values from the dataframe"
      ],
      "metadata": {
        "id": "afN2GY6sD20S",
        "colab": {
          "base_uri": "https://localhost:8080/"
        },
        "outputId": "16cff151-20a0-4fab-a176-e2a8a8b14b8f"
      },
      "execution_count": 11,
      "outputs": [
        {
          "output_type": "execute_result",
          "data": {
            "text/plain": [
              "player_name                0\n",
              "player_id                  0\n",
              "season                     0\n",
              "poss                       0\n",
              "mp                         0\n",
              "raptor_box_offense         1\n",
              "raptor_box_defense         1\n",
              "raptor_box_total           1\n",
              "raptor_onoff_offense       1\n",
              "raptor_onoff_defense       1\n",
              "raptor_onoff_total         1\n",
              "raptor_offense             0\n",
              "raptor_defense             0\n",
              "raptor_total               0\n",
              "war_total                  0\n",
              "war_reg_season             0\n",
              "war_playoffs               0\n",
              "predator_offense           0\n",
              "predator_defense           0\n",
              "predator_total             0\n",
              "pace_impact                1\n",
              "Next WAR                1192\n",
              "dtype: int64"
            ]
          },
          "metadata": {},
          "execution_count": 11
        }
      ]
    },
    {
      "cell_type": "code",
      "source": [
        "dfml.drop(['player_name', 'player_id', 'season', 'raptor_box_offense', 'raptor_box_defense', 'raptor_onoff_offense', 'raptor_onoff_defense', 'raptor_offense', 'raptor_defense', 'raptor_box_total', 'war_reg_season', 'war_playoffs', 'predator_offense', 'predator_defense'], axis=1, inplace=True)\n",
        "dfml.head()"
      ],
      "metadata": {
        "id": "wnsD9u1cWVNM",
        "colab": {
          "base_uri": "https://localhost:8080/",
          "height": 206
        },
        "outputId": "76a96ba6-bce4-4cb5-a1d0-02109aa8bede"
      },
      "execution_count": 12,
      "outputs": [
        {
          "output_type": "execute_result",
          "data": {
            "text/plain": [
              "   poss    mp  raptor_onoff_total  raptor_total  war_total  predator_total  \\\n",
              "0  2387  1135           -4.275564     -0.601411   1.249008       -0.961575   \n",
              "1  2546  1244           -1.341421     -1.523468   0.777304       -1.287247   \n",
              "2  1279   588           -1.257688     -2.154538   0.178167       -3.034396   \n",
              "3  1581   749           -4.970491     -3.392775  -0.246055       -3.342885   \n",
              "4  1716   847           -1.986306     -1.781734   0.415918       -1.688171   \n",
              "\n",
              "   pace_impact  Next WAR  \n",
              "0     0.326413  0.777304  \n",
              "1    -0.456141  0.178167  \n",
              "2    -0.268013       NaN  \n",
              "3     0.329157       NaN  \n",
              "4    -0.554898 -0.083313  "
            ],
            "text/html": [
              "\n",
              "  <div id=\"df-7fd27f7c-b30d-4795-8c56-6b72122e4229\">\n",
              "    <div class=\"colab-df-container\">\n",
              "      <div>\n",
              "<style scoped>\n",
              "    .dataframe tbody tr th:only-of-type {\n",
              "        vertical-align: middle;\n",
              "    }\n",
              "\n",
              "    .dataframe tbody tr th {\n",
              "        vertical-align: top;\n",
              "    }\n",
              "\n",
              "    .dataframe thead th {\n",
              "        text-align: right;\n",
              "    }\n",
              "</style>\n",
              "<table border=\"1\" class=\"dataframe\">\n",
              "  <thead>\n",
              "    <tr style=\"text-align: right;\">\n",
              "      <th></th>\n",
              "      <th>poss</th>\n",
              "      <th>mp</th>\n",
              "      <th>raptor_onoff_total</th>\n",
              "      <th>raptor_total</th>\n",
              "      <th>war_total</th>\n",
              "      <th>predator_total</th>\n",
              "      <th>pace_impact</th>\n",
              "      <th>Next WAR</th>\n",
              "    </tr>\n",
              "  </thead>\n",
              "  <tbody>\n",
              "    <tr>\n",
              "      <th>0</th>\n",
              "      <td>2387</td>\n",
              "      <td>1135</td>\n",
              "      <td>-4.275564</td>\n",
              "      <td>-0.601411</td>\n",
              "      <td>1.249008</td>\n",
              "      <td>-0.961575</td>\n",
              "      <td>0.326413</td>\n",
              "      <td>0.777304</td>\n",
              "    </tr>\n",
              "    <tr>\n",
              "      <th>1</th>\n",
              "      <td>2546</td>\n",
              "      <td>1244</td>\n",
              "      <td>-1.341421</td>\n",
              "      <td>-1.523468</td>\n",
              "      <td>0.777304</td>\n",
              "      <td>-1.287247</td>\n",
              "      <td>-0.456141</td>\n",
              "      <td>0.178167</td>\n",
              "    </tr>\n",
              "    <tr>\n",
              "      <th>2</th>\n",
              "      <td>1279</td>\n",
              "      <td>588</td>\n",
              "      <td>-1.257688</td>\n",
              "      <td>-2.154538</td>\n",
              "      <td>0.178167</td>\n",
              "      <td>-3.034396</td>\n",
              "      <td>-0.268013</td>\n",
              "      <td>NaN</td>\n",
              "    </tr>\n",
              "    <tr>\n",
              "      <th>3</th>\n",
              "      <td>1581</td>\n",
              "      <td>749</td>\n",
              "      <td>-4.970491</td>\n",
              "      <td>-3.392775</td>\n",
              "      <td>-0.246055</td>\n",
              "      <td>-3.342885</td>\n",
              "      <td>0.329157</td>\n",
              "      <td>NaN</td>\n",
              "    </tr>\n",
              "    <tr>\n",
              "      <th>4</th>\n",
              "      <td>1716</td>\n",
              "      <td>847</td>\n",
              "      <td>-1.986306</td>\n",
              "      <td>-1.781734</td>\n",
              "      <td>0.415918</td>\n",
              "      <td>-1.688171</td>\n",
              "      <td>-0.554898</td>\n",
              "      <td>-0.083313</td>\n",
              "    </tr>\n",
              "  </tbody>\n",
              "</table>\n",
              "</div>\n",
              "      <button class=\"colab-df-convert\" onclick=\"convertToInteractive('df-7fd27f7c-b30d-4795-8c56-6b72122e4229')\"\n",
              "              title=\"Convert this dataframe to an interactive table.\"\n",
              "              style=\"display:none;\">\n",
              "        \n",
              "  <svg xmlns=\"http://www.w3.org/2000/svg\" height=\"24px\"viewBox=\"0 0 24 24\"\n",
              "       width=\"24px\">\n",
              "    <path d=\"M0 0h24v24H0V0z\" fill=\"none\"/>\n",
              "    <path d=\"M18.56 5.44l.94 2.06.94-2.06 2.06-.94-2.06-.94-.94-2.06-.94 2.06-2.06.94zm-11 1L8.5 8.5l.94-2.06 2.06-.94-2.06-.94L8.5 2.5l-.94 2.06-2.06.94zm10 10l.94 2.06.94-2.06 2.06-.94-2.06-.94-.94-2.06-.94 2.06-2.06.94z\"/><path d=\"M17.41 7.96l-1.37-1.37c-.4-.4-.92-.59-1.43-.59-.52 0-1.04.2-1.43.59L10.3 9.45l-7.72 7.72c-.78.78-.78 2.05 0 2.83L4 21.41c.39.39.9.59 1.41.59.51 0 1.02-.2 1.41-.59l7.78-7.78 2.81-2.81c.8-.78.8-2.07 0-2.86zM5.41 20L4 18.59l7.72-7.72 1.47 1.35L5.41 20z\"/>\n",
              "  </svg>\n",
              "      </button>\n",
              "      \n",
              "  <style>\n",
              "    .colab-df-container {\n",
              "      display:flex;\n",
              "      flex-wrap:wrap;\n",
              "      gap: 12px;\n",
              "    }\n",
              "\n",
              "    .colab-df-convert {\n",
              "      background-color: #E8F0FE;\n",
              "      border: none;\n",
              "      border-radius: 50%;\n",
              "      cursor: pointer;\n",
              "      display: none;\n",
              "      fill: #1967D2;\n",
              "      height: 32px;\n",
              "      padding: 0 0 0 0;\n",
              "      width: 32px;\n",
              "    }\n",
              "\n",
              "    .colab-df-convert:hover {\n",
              "      background-color: #E2EBFA;\n",
              "      box-shadow: 0px 1px 2px rgba(60, 64, 67, 0.3), 0px 1px 3px 1px rgba(60, 64, 67, 0.15);\n",
              "      fill: #174EA6;\n",
              "    }\n",
              "\n",
              "    [theme=dark] .colab-df-convert {\n",
              "      background-color: #3B4455;\n",
              "      fill: #D2E3FC;\n",
              "    }\n",
              "\n",
              "    [theme=dark] .colab-df-convert:hover {\n",
              "      background-color: #434B5C;\n",
              "      box-shadow: 0px 1px 3px 1px rgba(0, 0, 0, 0.15);\n",
              "      filter: drop-shadow(0px 1px 2px rgba(0, 0, 0, 0.3));\n",
              "      fill: #FFFFFF;\n",
              "    }\n",
              "  </style>\n",
              "\n",
              "      <script>\n",
              "        const buttonEl =\n",
              "          document.querySelector('#df-7fd27f7c-b30d-4795-8c56-6b72122e4229 button.colab-df-convert');\n",
              "        buttonEl.style.display =\n",
              "          google.colab.kernel.accessAllowed ? 'block' : 'none';\n",
              "\n",
              "        async function convertToInteractive(key) {\n",
              "          const element = document.querySelector('#df-7fd27f7c-b30d-4795-8c56-6b72122e4229');\n",
              "          const dataTable =\n",
              "            await google.colab.kernel.invokeFunction('convertToInteractive',\n",
              "                                                     [key], {});\n",
              "          if (!dataTable) return;\n",
              "\n",
              "          const docLinkHtml = 'Like what you see? Visit the ' +\n",
              "            '<a target=\"_blank\" href=https://colab.research.google.com/notebooks/data_table.ipynb>data table notebook</a>'\n",
              "            + ' to learn more about interactive tables.';\n",
              "          element.innerHTML = '';\n",
              "          dataTable['output_type'] = 'display_data';\n",
              "          await google.colab.output.renderOutput(dataTable, element);\n",
              "          const docLink = document.createElement('div');\n",
              "          docLink.innerHTML = docLinkHtml;\n",
              "          element.appendChild(docLink);\n",
              "        }\n",
              "      </script>\n",
              "    </div>\n",
              "  </div>\n",
              "  "
            ]
          },
          "metadata": {},
          "execution_count": 12
        }
      ]
    },
    {
      "cell_type": "code",
      "source": [
        "dfml = dfml.loc[dfml['war_total'] >= 1]\n",
        "dfml = dfml.loc[dfml['predator_total'] >= 1]\n",
        "dfml = dfml.loc[dfml['raptor_total'] >= 1]\n",
        "dfml = dfml.loc[dfml['pace_impact'] >= 1]\n",
        "dfml = dfml.loc[dfml['Next WAR'] >= 1]\n",
        "dfml"
      ],
      "metadata": {
        "id": "IIm5RTkEpGe-",
        "colab": {
          "base_uri": "https://localhost:8080/",
          "height": 424
        },
        "outputId": "42923e69-b4f0-4b6f-fda3-41b22472b264"
      },
      "execution_count": 13,
      "outputs": [
        {
          "output_type": "execute_result",
          "data": {
            "text/plain": [
              "      poss    mp  raptor_onoff_total  raptor_total  war_total  predator_total  \\\n",
              "127   6265  2872            5.543546      6.806518  14.269861        7.083689   \n",
              "128   4894  2194            9.090994      8.778267  13.149613        7.521699   \n",
              "160   6225  3130            2.318868      2.146961   8.034787        2.400297   \n",
              "272   6871  3415            2.518748      2.140857   8.669646        3.200148   \n",
              "309   6485  3028            1.107369      3.374096   9.580186        3.724767   \n",
              "...    ...   ...                 ...           ...        ...             ...   \n",
              "3875  6533  3149            8.175709      4.429313  11.841404        5.656411   \n",
              "3876  6169  2827            0.451285      1.431787   6.142006        2.696536   \n",
              "3948  4821  2266            3.572633      3.677213   7.619304        2.484788   \n",
              "3949  5489  2589            1.722066      1.882814   6.274484        1.759520   \n",
              "4051  4645  2120            1.766801      3.716428   7.192127        3.691880   \n",
              "\n",
              "      pace_impact   Next WAR  \n",
              "127      1.319042  13.149613  \n",
              "128      1.799512  13.666796  \n",
              "160      1.319376   7.993878  \n",
              "272      1.108855   4.220007  \n",
              "309      1.283573   4.656472  \n",
              "...           ...        ...  \n",
              "3875     2.941962   6.142006  \n",
              "3876     2.660690   2.127703  \n",
              "3948     1.523881   6.274484  \n",
              "3949     2.511937   4.286623  \n",
              "4051     2.888762   6.963372  \n",
              "\n",
              "[87 rows x 8 columns]"
            ],
            "text/html": [
              "\n",
              "  <div id=\"df-b7a0eb70-b023-47fd-b1ba-925adee65454\">\n",
              "    <div class=\"colab-df-container\">\n",
              "      <div>\n",
              "<style scoped>\n",
              "    .dataframe tbody tr th:only-of-type {\n",
              "        vertical-align: middle;\n",
              "    }\n",
              "\n",
              "    .dataframe tbody tr th {\n",
              "        vertical-align: top;\n",
              "    }\n",
              "\n",
              "    .dataframe thead th {\n",
              "        text-align: right;\n",
              "    }\n",
              "</style>\n",
              "<table border=\"1\" class=\"dataframe\">\n",
              "  <thead>\n",
              "    <tr style=\"text-align: right;\">\n",
              "      <th></th>\n",
              "      <th>poss</th>\n",
              "      <th>mp</th>\n",
              "      <th>raptor_onoff_total</th>\n",
              "      <th>raptor_total</th>\n",
              "      <th>war_total</th>\n",
              "      <th>predator_total</th>\n",
              "      <th>pace_impact</th>\n",
              "      <th>Next WAR</th>\n",
              "    </tr>\n",
              "  </thead>\n",
              "  <tbody>\n",
              "    <tr>\n",
              "      <th>127</th>\n",
              "      <td>6265</td>\n",
              "      <td>2872</td>\n",
              "      <td>5.543546</td>\n",
              "      <td>6.806518</td>\n",
              "      <td>14.269861</td>\n",
              "      <td>7.083689</td>\n",
              "      <td>1.319042</td>\n",
              "      <td>13.149613</td>\n",
              "    </tr>\n",
              "    <tr>\n",
              "      <th>128</th>\n",
              "      <td>4894</td>\n",
              "      <td>2194</td>\n",
              "      <td>9.090994</td>\n",
              "      <td>8.778267</td>\n",
              "      <td>13.149613</td>\n",
              "      <td>7.521699</td>\n",
              "      <td>1.799512</td>\n",
              "      <td>13.666796</td>\n",
              "    </tr>\n",
              "    <tr>\n",
              "      <th>160</th>\n",
              "      <td>6225</td>\n",
              "      <td>3130</td>\n",
              "      <td>2.318868</td>\n",
              "      <td>2.146961</td>\n",
              "      <td>8.034787</td>\n",
              "      <td>2.400297</td>\n",
              "      <td>1.319376</td>\n",
              "      <td>7.993878</td>\n",
              "    </tr>\n",
              "    <tr>\n",
              "      <th>272</th>\n",
              "      <td>6871</td>\n",
              "      <td>3415</td>\n",
              "      <td>2.518748</td>\n",
              "      <td>2.140857</td>\n",
              "      <td>8.669646</td>\n",
              "      <td>3.200148</td>\n",
              "      <td>1.108855</td>\n",
              "      <td>4.220007</td>\n",
              "    </tr>\n",
              "    <tr>\n",
              "      <th>309</th>\n",
              "      <td>6485</td>\n",
              "      <td>3028</td>\n",
              "      <td>1.107369</td>\n",
              "      <td>3.374096</td>\n",
              "      <td>9.580186</td>\n",
              "      <td>3.724767</td>\n",
              "      <td>1.283573</td>\n",
              "      <td>4.656472</td>\n",
              "    </tr>\n",
              "    <tr>\n",
              "      <th>...</th>\n",
              "      <td>...</td>\n",
              "      <td>...</td>\n",
              "      <td>...</td>\n",
              "      <td>...</td>\n",
              "      <td>...</td>\n",
              "      <td>...</td>\n",
              "      <td>...</td>\n",
              "      <td>...</td>\n",
              "    </tr>\n",
              "    <tr>\n",
              "      <th>3875</th>\n",
              "      <td>6533</td>\n",
              "      <td>3149</td>\n",
              "      <td>8.175709</td>\n",
              "      <td>4.429313</td>\n",
              "      <td>11.841404</td>\n",
              "      <td>5.656411</td>\n",
              "      <td>2.941962</td>\n",
              "      <td>6.142006</td>\n",
              "    </tr>\n",
              "    <tr>\n",
              "      <th>3876</th>\n",
              "      <td>6169</td>\n",
              "      <td>2827</td>\n",
              "      <td>0.451285</td>\n",
              "      <td>1.431787</td>\n",
              "      <td>6.142006</td>\n",
              "      <td>2.696536</td>\n",
              "      <td>2.660690</td>\n",
              "      <td>2.127703</td>\n",
              "    </tr>\n",
              "    <tr>\n",
              "      <th>3948</th>\n",
              "      <td>4821</td>\n",
              "      <td>2266</td>\n",
              "      <td>3.572633</td>\n",
              "      <td>3.677213</td>\n",
              "      <td>7.619304</td>\n",
              "      <td>2.484788</td>\n",
              "      <td>1.523881</td>\n",
              "      <td>6.274484</td>\n",
              "    </tr>\n",
              "    <tr>\n",
              "      <th>3949</th>\n",
              "      <td>5489</td>\n",
              "      <td>2589</td>\n",
              "      <td>1.722066</td>\n",
              "      <td>1.882814</td>\n",
              "      <td>6.274484</td>\n",
              "      <td>1.759520</td>\n",
              "      <td>2.511937</td>\n",
              "      <td>4.286623</td>\n",
              "    </tr>\n",
              "    <tr>\n",
              "      <th>4051</th>\n",
              "      <td>4645</td>\n",
              "      <td>2120</td>\n",
              "      <td>1.766801</td>\n",
              "      <td>3.716428</td>\n",
              "      <td>7.192127</td>\n",
              "      <td>3.691880</td>\n",
              "      <td>2.888762</td>\n",
              "      <td>6.963372</td>\n",
              "    </tr>\n",
              "  </tbody>\n",
              "</table>\n",
              "<p>87 rows × 8 columns</p>\n",
              "</div>\n",
              "      <button class=\"colab-df-convert\" onclick=\"convertToInteractive('df-b7a0eb70-b023-47fd-b1ba-925adee65454')\"\n",
              "              title=\"Convert this dataframe to an interactive table.\"\n",
              "              style=\"display:none;\">\n",
              "        \n",
              "  <svg xmlns=\"http://www.w3.org/2000/svg\" height=\"24px\"viewBox=\"0 0 24 24\"\n",
              "       width=\"24px\">\n",
              "    <path d=\"M0 0h24v24H0V0z\" fill=\"none\"/>\n",
              "    <path d=\"M18.56 5.44l.94 2.06.94-2.06 2.06-.94-2.06-.94-.94-2.06-.94 2.06-2.06.94zm-11 1L8.5 8.5l.94-2.06 2.06-.94-2.06-.94L8.5 2.5l-.94 2.06-2.06.94zm10 10l.94 2.06.94-2.06 2.06-.94-2.06-.94-.94-2.06-.94 2.06-2.06.94z\"/><path d=\"M17.41 7.96l-1.37-1.37c-.4-.4-.92-.59-1.43-.59-.52 0-1.04.2-1.43.59L10.3 9.45l-7.72 7.72c-.78.78-.78 2.05 0 2.83L4 21.41c.39.39.9.59 1.41.59.51 0 1.02-.2 1.41-.59l7.78-7.78 2.81-2.81c.8-.78.8-2.07 0-2.86zM5.41 20L4 18.59l7.72-7.72 1.47 1.35L5.41 20z\"/>\n",
              "  </svg>\n",
              "      </button>\n",
              "      \n",
              "  <style>\n",
              "    .colab-df-container {\n",
              "      display:flex;\n",
              "      flex-wrap:wrap;\n",
              "      gap: 12px;\n",
              "    }\n",
              "\n",
              "    .colab-df-convert {\n",
              "      background-color: #E8F0FE;\n",
              "      border: none;\n",
              "      border-radius: 50%;\n",
              "      cursor: pointer;\n",
              "      display: none;\n",
              "      fill: #1967D2;\n",
              "      height: 32px;\n",
              "      padding: 0 0 0 0;\n",
              "      width: 32px;\n",
              "    }\n",
              "\n",
              "    .colab-df-convert:hover {\n",
              "      background-color: #E2EBFA;\n",
              "      box-shadow: 0px 1px 2px rgba(60, 64, 67, 0.3), 0px 1px 3px 1px rgba(60, 64, 67, 0.15);\n",
              "      fill: #174EA6;\n",
              "    }\n",
              "\n",
              "    [theme=dark] .colab-df-convert {\n",
              "      background-color: #3B4455;\n",
              "      fill: #D2E3FC;\n",
              "    }\n",
              "\n",
              "    [theme=dark] .colab-df-convert:hover {\n",
              "      background-color: #434B5C;\n",
              "      box-shadow: 0px 1px 3px 1px rgba(0, 0, 0, 0.15);\n",
              "      filter: drop-shadow(0px 1px 2px rgba(0, 0, 0, 0.3));\n",
              "      fill: #FFFFFF;\n",
              "    }\n",
              "  </style>\n",
              "\n",
              "      <script>\n",
              "        const buttonEl =\n",
              "          document.querySelector('#df-b7a0eb70-b023-47fd-b1ba-925adee65454 button.colab-df-convert');\n",
              "        buttonEl.style.display =\n",
              "          google.colab.kernel.accessAllowed ? 'block' : 'none';\n",
              "\n",
              "        async function convertToInteractive(key) {\n",
              "          const element = document.querySelector('#df-b7a0eb70-b023-47fd-b1ba-925adee65454');\n",
              "          const dataTable =\n",
              "            await google.colab.kernel.invokeFunction('convertToInteractive',\n",
              "                                                     [key], {});\n",
              "          if (!dataTable) return;\n",
              "\n",
              "          const docLinkHtml = 'Like what you see? Visit the ' +\n",
              "            '<a target=\"_blank\" href=https://colab.research.google.com/notebooks/data_table.ipynb>data table notebook</a>'\n",
              "            + ' to learn more about interactive tables.';\n",
              "          element.innerHTML = '';\n",
              "          dataTable['output_type'] = 'display_data';\n",
              "          await google.colab.output.renderOutput(dataTable, element);\n",
              "          const docLink = document.createElement('div');\n",
              "          docLink.innerHTML = docLinkHtml;\n",
              "          element.appendChild(docLink);\n",
              "        }\n",
              "      </script>\n",
              "    </div>\n",
              "  </div>\n",
              "  "
            ]
          },
          "metadata": {},
          "execution_count": 13
        }
      ]
    },
    {
      "cell_type": "code",
      "source": [
        "dfml['Next WAR'].fillna(value=df['Next WAR'].mean())\n",
        "dfml"
      ],
      "metadata": {
        "colab": {
          "base_uri": "https://localhost:8080/",
          "height": 514
        },
        "id": "pLu08eN7VLSe",
        "outputId": "9b26da68-1b25-424a-f48b-dbbda64a007b"
      },
      "execution_count": 14,
      "outputs": [
        {
          "output_type": "error",
          "ename": "KeyError",
          "evalue": "ignored",
          "traceback": [
            "\u001b[0;31m---------------------------------------------------------------------------\u001b[0m",
            "\u001b[0;31mKeyError\u001b[0m                                  Traceback (most recent call last)",
            "\u001b[0;32m/usr/local/lib/python3.7/dist-packages/pandas/core/indexes/base.py\u001b[0m in \u001b[0;36mget_loc\u001b[0;34m(self, key, method, tolerance)\u001b[0m\n\u001b[1;32m   3360\u001b[0m             \u001b[0;32mtry\u001b[0m\u001b[0;34m:\u001b[0m\u001b[0;34m\u001b[0m\u001b[0;34m\u001b[0m\u001b[0m\n\u001b[0;32m-> 3361\u001b[0;31m                 \u001b[0;32mreturn\u001b[0m \u001b[0mself\u001b[0m\u001b[0;34m.\u001b[0m\u001b[0m_engine\u001b[0m\u001b[0;34m.\u001b[0m\u001b[0mget_loc\u001b[0m\u001b[0;34m(\u001b[0m\u001b[0mcasted_key\u001b[0m\u001b[0;34m)\u001b[0m\u001b[0;34m\u001b[0m\u001b[0;34m\u001b[0m\u001b[0m\n\u001b[0m\u001b[1;32m   3362\u001b[0m             \u001b[0;32mexcept\u001b[0m \u001b[0mKeyError\u001b[0m \u001b[0;32mas\u001b[0m \u001b[0merr\u001b[0m\u001b[0;34m:\u001b[0m\u001b[0;34m\u001b[0m\u001b[0;34m\u001b[0m\u001b[0m\n",
            "\u001b[0;32m/usr/local/lib/python3.7/dist-packages/pandas/_libs/index.pyx\u001b[0m in \u001b[0;36mpandas._libs.index.IndexEngine.get_loc\u001b[0;34m()\u001b[0m\n",
            "\u001b[0;32m/usr/local/lib/python3.7/dist-packages/pandas/_libs/index.pyx\u001b[0m in \u001b[0;36mpandas._libs.index.IndexEngine.get_loc\u001b[0;34m()\u001b[0m\n",
            "\u001b[0;32mpandas/_libs/hashtable_class_helper.pxi\u001b[0m in \u001b[0;36mpandas._libs.hashtable.PyObjectHashTable.get_item\u001b[0;34m()\u001b[0m\n",
            "\u001b[0;32mpandas/_libs/hashtable_class_helper.pxi\u001b[0m in \u001b[0;36mpandas._libs.hashtable.PyObjectHashTable.get_item\u001b[0;34m()\u001b[0m\n",
            "\u001b[0;31mKeyError\u001b[0m: 'Next WAR'",
            "\nThe above exception was the direct cause of the following exception:\n",
            "\u001b[0;31mKeyError\u001b[0m                                  Traceback (most recent call last)",
            "\u001b[0;32m<ipython-input-14-251868b4a04d>\u001b[0m in \u001b[0;36m<module>\u001b[0;34m\u001b[0m\n\u001b[0;32m----> 1\u001b[0;31m \u001b[0mdfml\u001b[0m\u001b[0;34m[\u001b[0m\u001b[0;34m'Next WAR'\u001b[0m\u001b[0;34m]\u001b[0m\u001b[0;34m.\u001b[0m\u001b[0mfillna\u001b[0m\u001b[0;34m(\u001b[0m\u001b[0mvalue\u001b[0m\u001b[0;34m=\u001b[0m\u001b[0mdf\u001b[0m\u001b[0;34m[\u001b[0m\u001b[0;34m'Next WAR'\u001b[0m\u001b[0;34m]\u001b[0m\u001b[0;34m.\u001b[0m\u001b[0mmean\u001b[0m\u001b[0;34m(\u001b[0m\u001b[0;34m)\u001b[0m\u001b[0;34m)\u001b[0m\u001b[0;34m\u001b[0m\u001b[0;34m\u001b[0m\u001b[0m\n\u001b[0m\u001b[1;32m      2\u001b[0m \u001b[0mdfml\u001b[0m\u001b[0;34m\u001b[0m\u001b[0;34m\u001b[0m\u001b[0m\n",
            "\u001b[0;32m/usr/local/lib/python3.7/dist-packages/pandas/core/frame.py\u001b[0m in \u001b[0;36m__getitem__\u001b[0;34m(self, key)\u001b[0m\n\u001b[1;32m   3456\u001b[0m             \u001b[0;32mif\u001b[0m \u001b[0mself\u001b[0m\u001b[0;34m.\u001b[0m\u001b[0mcolumns\u001b[0m\u001b[0;34m.\u001b[0m\u001b[0mnlevels\u001b[0m \u001b[0;34m>\u001b[0m \u001b[0;36m1\u001b[0m\u001b[0;34m:\u001b[0m\u001b[0;34m\u001b[0m\u001b[0;34m\u001b[0m\u001b[0m\n\u001b[1;32m   3457\u001b[0m                 \u001b[0;32mreturn\u001b[0m \u001b[0mself\u001b[0m\u001b[0;34m.\u001b[0m\u001b[0m_getitem_multilevel\u001b[0m\u001b[0;34m(\u001b[0m\u001b[0mkey\u001b[0m\u001b[0;34m)\u001b[0m\u001b[0;34m\u001b[0m\u001b[0;34m\u001b[0m\u001b[0m\n\u001b[0;32m-> 3458\u001b[0;31m             \u001b[0mindexer\u001b[0m \u001b[0;34m=\u001b[0m \u001b[0mself\u001b[0m\u001b[0;34m.\u001b[0m\u001b[0mcolumns\u001b[0m\u001b[0;34m.\u001b[0m\u001b[0mget_loc\u001b[0m\u001b[0;34m(\u001b[0m\u001b[0mkey\u001b[0m\u001b[0;34m)\u001b[0m\u001b[0;34m\u001b[0m\u001b[0;34m\u001b[0m\u001b[0m\n\u001b[0m\u001b[1;32m   3459\u001b[0m             \u001b[0;32mif\u001b[0m \u001b[0mis_integer\u001b[0m\u001b[0;34m(\u001b[0m\u001b[0mindexer\u001b[0m\u001b[0;34m)\u001b[0m\u001b[0;34m:\u001b[0m\u001b[0;34m\u001b[0m\u001b[0;34m\u001b[0m\u001b[0m\n\u001b[1;32m   3460\u001b[0m                 \u001b[0mindexer\u001b[0m \u001b[0;34m=\u001b[0m \u001b[0;34m[\u001b[0m\u001b[0mindexer\u001b[0m\u001b[0;34m]\u001b[0m\u001b[0;34m\u001b[0m\u001b[0;34m\u001b[0m\u001b[0m\n",
            "\u001b[0;32m/usr/local/lib/python3.7/dist-packages/pandas/core/indexes/base.py\u001b[0m in \u001b[0;36mget_loc\u001b[0;34m(self, key, method, tolerance)\u001b[0m\n\u001b[1;32m   3361\u001b[0m                 \u001b[0;32mreturn\u001b[0m \u001b[0mself\u001b[0m\u001b[0;34m.\u001b[0m\u001b[0m_engine\u001b[0m\u001b[0;34m.\u001b[0m\u001b[0mget_loc\u001b[0m\u001b[0;34m(\u001b[0m\u001b[0mcasted_key\u001b[0m\u001b[0;34m)\u001b[0m\u001b[0;34m\u001b[0m\u001b[0;34m\u001b[0m\u001b[0m\n\u001b[1;32m   3362\u001b[0m             \u001b[0;32mexcept\u001b[0m \u001b[0mKeyError\u001b[0m \u001b[0;32mas\u001b[0m \u001b[0merr\u001b[0m\u001b[0;34m:\u001b[0m\u001b[0;34m\u001b[0m\u001b[0;34m\u001b[0m\u001b[0m\n\u001b[0;32m-> 3363\u001b[0;31m                 \u001b[0;32mraise\u001b[0m \u001b[0mKeyError\u001b[0m\u001b[0;34m(\u001b[0m\u001b[0mkey\u001b[0m\u001b[0;34m)\u001b[0m \u001b[0;32mfrom\u001b[0m \u001b[0merr\u001b[0m\u001b[0;34m\u001b[0m\u001b[0;34m\u001b[0m\u001b[0m\n\u001b[0m\u001b[1;32m   3364\u001b[0m \u001b[0;34m\u001b[0m\u001b[0m\n\u001b[1;32m   3365\u001b[0m         \u001b[0;32mif\u001b[0m \u001b[0mis_scalar\u001b[0m\u001b[0;34m(\u001b[0m\u001b[0mkey\u001b[0m\u001b[0;34m)\u001b[0m \u001b[0;32mand\u001b[0m \u001b[0misna\u001b[0m\u001b[0;34m(\u001b[0m\u001b[0mkey\u001b[0m\u001b[0;34m)\u001b[0m \u001b[0;32mand\u001b[0m \u001b[0;32mnot\u001b[0m \u001b[0mself\u001b[0m\u001b[0;34m.\u001b[0m\u001b[0mhasnans\u001b[0m\u001b[0;34m:\u001b[0m\u001b[0;34m\u001b[0m\u001b[0;34m\u001b[0m\u001b[0m\n",
            "\u001b[0;31mKeyError\u001b[0m: 'Next WAR'"
          ]
        }
      ]
    },
    {
      "cell_type": "code",
      "source": [
        "dfml.describe().round(2)"
      ],
      "metadata": {
        "id": "tN2uEQHkn3O3"
      },
      "execution_count": null,
      "outputs": []
    },
    {
      "cell_type": "code",
      "source": [
        "corr = dfml.corr()\n",
        "sns.heatmap(corr, cmap = 'coolwarm', annot = True)\n",
        "\n",
        "## we can see WAR, PREDATOR, total RAPTOR and Pace Impact have a fairly close correlations"
      ],
      "metadata": {
        "id": "5bvnRUaKH-MZ"
      },
      "execution_count": null,
      "outputs": []
    },
    {
      "cell_type": "code",
      "source": [
        "sns.scatterplot(data=dfml, x='war_total', y='mp', legend = False)"
      ],
      "metadata": {
        "id": "Q8GdZRguIyxU"
      },
      "execution_count": null,
      "outputs": []
    },
    {
      "cell_type": "code",
      "source": [
        "sns.jointplot(data=dfml, x='war_total', y='pace_impact', legend = False)"
      ],
      "metadata": {
        "id": "7B7Yf_eX5aB2"
      },
      "execution_count": null,
      "outputs": []
    },
    {
      "cell_type": "code",
      "source": [
        "#@title\n",
        "sns.scatterplot(data=df, x='war_total', y='raptor_total', legend = False)\n",
        "\n",
        "## there are several distinct outliers that give us a better picture of who could be our ideal player"
      ],
      "metadata": {
        "id": "_XH6WpoJakat",
        "cellView": "form"
      },
      "execution_count": null,
      "outputs": []
    },
    {
      "cell_type": "code",
      "source": [
        "maxWAR = dfml[['war_total', 'raptor_total']].max()\n",
        "print(maxWAR) "
      ],
      "metadata": {
        "id": "jcu-o10roVYp"
      },
      "execution_count": null,
      "outputs": []
    },
    {
      "cell_type": "code",
      "source": [
        "print('Our highest WAR candidate is ')\n",
        "print(dfml[dfml.war_total == dfml.war_total.max()])"
      ],
      "metadata": {
        "id": "PAxmLoflpGTH"
      },
      "execution_count": null,
      "outputs": []
    },
    {
      "cell_type": "code",
      "source": [
        "print('Our highest RAPTOR candidate is ')\n",
        "print(dfml[dfml.raptor_total == dfml.raptor_total.max()])\n",
        "\n",
        "## our top choice is averages 26.6 WAR, almost a 12.5 on RAPTOR"
      ],
      "metadata": {
        "id": "iWFaTFexp_xx"
      },
      "execution_count": null,
      "outputs": []
    },
    {
      "cell_type": "code",
      "source": [
        "x = dfml[['war_total', 'raptor_total']]\n",
        "x"
      ],
      "metadata": {
        "id": "eZ-W8R-sD5r2"
      },
      "execution_count": null,
      "outputs": []
    },
    {
      "cell_type": "code",
      "source": [
        "scaler = StandardScaler()\n",
        "scaled_x = scaler.fit_transform(x)"
      ],
      "metadata": {
        "id": "otKWqmb54Fxw"
      },
      "execution_count": null,
      "outputs": []
    },
    {
      "cell_type": "code",
      "source": [
        "ks = range(2,9) \n",
        "inertias = []\n",
        "\n",
        "for k in ks:\n",
        "   kmeans = KMeans(n_clusters=k, random_state=42)\n",
        "   kmeans.fit(scaled_x)\n",
        "   inertias.append(kmeans.inertia_)\n",
        "\n",
        "plt.plot(ks, inertias, marker = '.')\n",
        "plt.xlabel('Number of Clusters')\n",
        "plt.ylabel('Inertia')\n",
        "plt.show()"
      ],
      "metadata": {
        "id": "gZ9uLxno49RL"
      },
      "execution_count": null,
      "outputs": []
    },
    {
      "cell_type": "code",
      "source": [
        "ks = range(2,8)\n",
        "sil = []\n",
        "\n",
        "for k in ks:\n",
        "  kmeans = KMeans(n_clusters=k, random_state=42)\n",
        "  kmeans.fit(scaled_x)\n",
        "  sil.append(silhouette_score(scaled_x, kmeans.labels_))\n",
        "\n",
        "plt.plot(ks, sil, marker = '.')\n",
        "plt.xlabel('Number of Clusters')\n",
        "plt.ylabel('Silo Score')\n",
        "plt.show()"
      ],
      "metadata": {
        "id": "mrrPgaoP4QBh"
      },
      "execution_count": null,
      "outputs": []
    },
    {
      "cell_type": "code",
      "source": [
        "km = KMeans(n_clusters=2, random_state=42)\n",
        "km.fit(scaled_x)\n",
        "silhouette_score(scaled_x, kmeans.labels_)"
      ],
      "metadata": {
        "id": "tWlXZbhz5jSF"
      },
      "execution_count": null,
      "outputs": []
    },
    {
      "cell_type": "code",
      "source": [
        "kmeans3 = KMeans(n_clusters = 3, random_state = 42)\n",
        "kmeans3.fit(scaled_x)"
      ],
      "metadata": {
        "id": "fLnrE5CA6a27"
      },
      "execution_count": null,
      "outputs": []
    },
    {
      "cell_type": "code",
      "source": [
        "dfml['cluster3'] = kmeans3.labels_\n",
        "\n",
        "plt.scatter(dfml['war_total'], dfml['raptor_total'], c = dfml['cluster3'])\n",
        "plt.xlabel(\"Wins Above Replacement\")\n",
        "plt.ylabel(\"RAPTOR\")\n",
        "plt.show()"
      ],
      "metadata": {
        "id": "BPLJS20J6GRM"
      },
      "execution_count": null,
      "outputs": []
    },
    {
      "cell_type": "code",
      "source": [
        "cluster_groups = dfml.groupby('cluster3', as_index=False).mean()\n",
        "cluster_groups"
      ],
      "metadata": {
        "id": "H4WCxswQ9iv8"
      },
      "execution_count": null,
      "outputs": []
    },
    {
      "cell_type": "code",
      "source": [
        "fig, axes = plt.subplots(2,5, figsize = (20, 10))\n",
        "\n",
        "axes = axes.ravel()\n",
        "\n",
        "for i, col in enumerate(cluster_groups.columns[1:]):\n",
        "  axes[i].bar(cluster_groups['cluster3'], cluster_groups[col])\n",
        "  axes[i].set_title(f'Mean {col}')"
      ],
      "metadata": {
        "id": "n-CP1QsUxMBj"
      },
      "execution_count": null,
      "outputs": []
    },
    {
      "cell_type": "code",
      "source": [
        "y = dfml['war_total']\n",
        "X = dfml.drop(columns = 'war_total')"
      ],
      "metadata": {
        "id": "qO6g62Vh7cVr"
      },
      "execution_count": null,
      "outputs": []
    },
    {
      "cell_type": "code",
      "source": [
        "X_train, X_test, y_train, y_test = train_test_split(X, y, random_state=42)"
      ],
      "metadata": {
        "id": "M45-xCc87q5A"
      },
      "execution_count": null,
      "outputs": []
    },
    {
      "cell_type": "code",
      "source": [
        "pca = PCA(n_components = .98)\n",
        "knn = KNeighborsRegressor()\n",
        "\n",
        "preprocessor = make_pipeline(scaler, pca)"
      ],
      "metadata": {
        "id": "7rR5s-a-n2dS"
      },
      "execution_count": null,
      "outputs": []
    },
    {
      "cell_type": "code",
      "source": [
        "knn_pca_pipe = make_pipeline(preprocessor, knn)\n",
        "knn_pca_pipe.fit(X_train, y_train)"
      ],
      "metadata": {
        "id": "MjaKR97R9mTn"
      },
      "execution_count": null,
      "outputs": []
    },
    {
      "cell_type": "code",
      "source": [
        "def evaluate_model(y_true, y_pred):\n",
        "  \n",
        "  mae = mean_absolute_error(y_true, y_pred)\n",
        "  mse = mean_squared_error(y_true, y_pred)\n",
        "  r2 = r2_score(y_true, y_pred)\n",
        "  rmse = np.sqrt(mse)\n",
        "  print(f'MAE {mae}\\n MSE {mse}\\n R^2 {r2}\\n RMSE{rmse}')"
      ],
      "metadata": {
        "id": "aLIzNJT5q305"
      },
      "execution_count": null,
      "outputs": []
    },
    {
      "cell_type": "code",
      "source": [
        "knn_pca_pipe_trainpreds = knn_pca_pipe.predict(X_train)\n",
        "knn_pca_pipe_testpreds = knn_pca_pipe.predict(X_test)"
      ],
      "metadata": {
        "id": "f3wz9cehrkHu"
      },
      "execution_count": null,
      "outputs": []
    },
    {
      "cell_type": "code",
      "source": [
        "print('Training Data')\n",
        "evaluate_model(y_train, knn_pca_pipe_trainpreds)\n",
        "print('\\n')\n",
        "print('Test Data')\n",
        "evaluate_model(y_test, knn_pca_pipe_testpreds)"
      ],
      "metadata": {
        "id": "E83aEj5YsLvW"
      },
      "execution_count": null,
      "outputs": []
    },
    {
      "cell_type": "code",
      "source": [
        "knn_pipe = make_pipeline(scaler, KNeighborsRegressor())\n",
        "knn_pipe.fit(X_train, y_train)"
      ],
      "metadata": {
        "id": "GQz60vk37A8z"
      },
      "execution_count": null,
      "outputs": []
    },
    {
      "cell_type": "code",
      "source": [
        "pred_no_pca = knn_pipe.predict(X_test)\n",
        "pred_no_pca"
      ],
      "metadata": {
        "id": "pj9-712X7P4A"
      },
      "execution_count": null,
      "outputs": []
    },
    {
      "cell_type": "code",
      "source": [
        "acc_score = knn_pipe.score(X_test, y_test)\n",
        "acc_score"
      ],
      "metadata": {
        "id": "_SgytfCo_Qnt"
      },
      "execution_count": null,
      "outputs": []
    },
    {
      "cell_type": "code",
      "source": [
        "d_tree = DecisionTreeRegressor(random_state = 42)\n",
        "d_tree.fit(X_train, y_train)"
      ],
      "metadata": {
        "id": "qn8UteSgAWm3"
      },
      "execution_count": null,
      "outputs": []
    },
    {
      "cell_type": "code",
      "source": [
        "dtrain_pred = d_tree.predict(X_train)\n",
        "dtest_pred = d_tree.predict(X_test)"
      ],
      "metadata": {
        "id": "718dpUSYAmak"
      },
      "execution_count": null,
      "outputs": []
    },
    {
      "cell_type": "code",
      "source": [
        "print('Training Data')\n",
        "evaluate_model(y_train, dtrain_pred)\n",
        "print('\\n')\n",
        "print('Test Data')\n",
        "evaluate_model(y_test, dtest_pred )"
      ],
      "metadata": {
        "id": "GJoItUclp8hg"
      },
      "execution_count": null,
      "outputs": []
    },
    {
      "cell_type": "code",
      "source": [
        "dtrain_score = d_tree.score(X_train, y_train)\n",
        "dtest_score = d_tree.score(X_test, y_test)\n",
        "print(dtrain_score)\n",
        "print(dtest_score)"
      ],
      "metadata": {
        "id": "yAd90JSiAv-0"
      },
      "execution_count": null,
      "outputs": []
    },
    {
      "cell_type": "code",
      "source": [
        "d_tree.get_depth()"
      ],
      "metadata": {
        "id": "Vw2j41F-A5gb"
      },
      "execution_count": null,
      "outputs": []
    },
    {
      "cell_type": "code",
      "source": [
        "d_tree_12 = DecisionTreeRegressor(max_depth = 11, random_state = 42)\n",
        "d_tree_12.fit(X_train, y_train)\n",
        "dtrain_12_score = d_tree_12.score(X_train, y_train)\n",
        "dtest_12_score = d_tree_12.score(X_test, y_test)\n",
        "print(dtrain_12_score)\n",
        "print(dtest_12_score)"
      ],
      "metadata": {
        "id": "uQ5NfuC_3Syh"
      },
      "execution_count": null,
      "outputs": []
    },
    {
      "cell_type": "code",
      "source": [
        "d_tree_9 = DecisionTreeRegressor(max_depth = 9, random_state = 42)\n",
        "d_tree_9.fit(X_train, y_train)\n",
        "dtrain_9_score = d_tree_9.score(X_train, y_train)\n",
        "dtest_9_score = d_tree_9.score(X_test, y_test)\n",
        "print(dtrain_9_score)\n",
        "print(dtest_9_score)"
      ],
      "metadata": {
        "id": "VnHF7_LLA7ja"
      },
      "execution_count": null,
      "outputs": []
    },
    {
      "cell_type": "code",
      "source": [
        "d_tree_5 = DecisionTreeRegressor(max_depth = 5, random_state = 42)\n",
        "d_tree_5.fit(X_train, y_train)\n",
        "dtrain_5_score = d_tree_5.score(X_train, y_train)\n",
        "dtest_5_score = d_tree_5.score(X_test, y_test)\n",
        "print(dtrain_5_score)\n",
        "print(dtest_5_score)\n",
        "\n",
        "## there is an approximate difference of .0711 between our training and testing data"
      ],
      "metadata": {
        "id": "agcMxVjO3de7"
      },
      "execution_count": null,
      "outputs": []
    },
    {
      "cell_type": "markdown",
      "source": [
        "## In comparison to the PCA and KNN without PCA, it can be seen that a Decision Tree Regression yields the least amount of overfitting."
      ],
      "metadata": {
        "id": "TSSmOjk7B6aT"
      }
    }
  ]
}