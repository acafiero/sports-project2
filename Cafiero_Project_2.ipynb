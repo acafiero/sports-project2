{
  "nbformat": 4,
  "nbformat_minor": 0,
  "metadata": {
    "colab": {
      "name": "Cafiero Project 2.ipynb",
      "provenance": [],
      "authorship_tag": "ABX9TyMAn8VZCmbLqfJHf/HW7nv6",
      "include_colab_link": true
    },
    "kernelspec": {
      "name": "python3",
      "display_name": "Python 3"
    },
    "language_info": {
      "name": "python"
    }
  },
  "cells": [
    {
      "cell_type": "markdown",
      "metadata": {
        "id": "view-in-github",
        "colab_type": "text"
      },
      "source": [
        "<a href=\"https://colab.research.google.com/github/acafiero/sports-project2/blob/main/Cafiero_Project_2.ipynb\" target=\"_parent\"><img src=\"https://colab.research.google.com/assets/colab-badge.svg\" alt=\"Open In Colab\"/></a>"
      ]
    },
    {
      "cell_type": "code",
      "execution_count": 1,
      "metadata": {
        "id": "J3vonAxFMp6l"
      },
      "outputs": [],
      "source": [
        "import pandas as pd\n",
        "from matplotlib import pyplot as plt\n",
        "import seaborn as sns\n",
        "import numpy as np\n",
        "from sklearn.model_selection import train_test_split\n",
        "from sklearn.compose import make_column_selector, make_column_transformer\n",
        "from sklearn.pipeline import make_pipeline\n",
        "from sklearn.dummy import DummyRegressor\n",
        "from sklearn.tree import DecisionTreeRegressor\n",
        "from sklearn.decomposition import PCA\n",
        "from sklearn.neighbors import KNeighborsRegressor\n",
        "from sklearn.preprocessing import StandardScaler\n",
        "from sklearn.cluster import KMeans\n",
        "from sklearn.metrics import mean_squared_error, mean_absolute_error, r2_score, silhouette_score, classification_report, confusion_matrix"
      ]
    },
    {
      "cell_type": "markdown",
      "source": [
        " ## *Dataset*\n",
        " 1) github / Five Thirty Eight\n",
        "\n",
        " 2) statistical data for modern NBA players\n",
        "\n",
        " 3) What is the statiscal threshold of WAR and RAPTOR a player needs to reach to be worth signing\n",
        "\n",
        " 4) Regression\n",
        "\n",
        " 5) 21 features\n",
        "\n",
        " 6) 4078 rows\n",
        "\n",
        " 7) There are multiple entries for the same player that needed to be reduced and averaged out, several features that are redudant to the study and an excess of negative floats that could inaccurately affect the outcome"
      ],
      "metadata": {
        "id": "9yj1XG8XOi0P"
      }
    },
    {
      "cell_type": "code",
      "source": [
        "from google.colab import drive\n",
        "drive.mount('/content/drive')"
      ],
      "metadata": {
        "colab": {
          "base_uri": "https://localhost:8080/"
        },
        "id": "LYFWdH6FDiCM",
        "outputId": "9a8d0951-f8c9-449f-c201-4cb203bffb91"
      },
      "execution_count": 2,
      "outputs": [
        {
          "output_type": "stream",
          "name": "stdout",
          "text": [
            "Drive already mounted at /content/drive; to attempt to forcibly remount, call drive.mount(\"/content/drive\", force_remount=True).\n"
          ]
        }
      ]
    },
    {
      "cell_type": "code",
      "source": [
        "url = 'https://raw.githubusercontent.com/acafiero/sports-project2/main/modern_RAPTOR_by_player.csv'\n",
        "df = pd.read_csv(url)"
      ],
      "metadata": {
        "id": "T9wg7xbkMzO3"
      },
      "execution_count": 3,
      "outputs": []
    },
    {
      "cell_type": "code",
      "source": [
        "df.head()"
      ],
      "metadata": {
        "id": "Q4AGKq2XM1gb",
        "colab": {
          "base_uri": "https://localhost:8080/",
          "height": 317
        },
        "outputId": "bc1641a6-7789-4df8-9660-0e7199f343fa"
      },
      "execution_count": 4,
      "outputs": [
        {
          "output_type": "execute_result",
          "data": {
            "text/plain": [
              "        player_name  player_id  season  poss    mp  raptor_box_offense  \\\n",
              "0      Alex Abrines  abrinal01    2017  2387  1135            0.745505   \n",
              "1      Alex Abrines  abrinal01    2018  2546  1244            0.317549   \n",
              "2      Alex Abrines  abrinal01    2019  1279   588           -3.215683   \n",
              "3  Precious Achiuwa  achiupr01    2021  1581   749           -4.122966   \n",
              "4        Quincy Acy    acyqu01    2014  1716   847           -1.716079   \n",
              "\n",
              "   raptor_box_defense  raptor_box_total  raptor_onoff_offense  \\\n",
              "0           -0.372938          0.372567             -0.418553   \n",
              "1           -1.725325         -1.407776             -1.291727   \n",
              "2            1.078399         -2.137285             -6.158856   \n",
              "3            1.359278         -2.763688             -4.050779   \n",
              "4            0.133115         -1.582964             -0.324811   \n",
              "\n",
              "   raptor_onoff_defense  ...  raptor_offense  raptor_defense  raptor_total  \\\n",
              "0             -3.857011  ...        0.543421       -1.144832     -0.601411   \n",
              "1             -0.049694  ...       -0.020826       -1.502642     -1.523468   \n",
              "2              4.901168  ...       -4.040157        1.885618     -2.154538   \n",
              "3             -0.919712  ...       -4.347596        0.954821     -3.392775   \n",
              "4             -1.661495  ...       -1.565257       -0.216477     -1.781734   \n",
              "\n",
              "   war_total  war_reg_season  war_playoffs  predator_offense  \\\n",
              "0   1.249008        1.447708     -0.198700          0.077102   \n",
              "1   0.777304        0.465912      0.311392         -0.174621   \n",
              "2   0.178167        0.178167      0.000000         -4.577678   \n",
              "3  -0.246055       -0.246776      0.000721         -3.817713   \n",
              "4   0.415918        0.415918      0.000000         -1.464417   \n",
              "\n",
              "   predator_defense  predator_total  pace_impact  \n",
              "0         -1.038677       -0.961575     0.326413  \n",
              "1         -1.112625       -1.287247    -0.456141  \n",
              "2          1.543282       -3.034396    -0.268013  \n",
              "3          0.474828       -3.342885     0.329157  \n",
              "4         -0.223754       -1.688171    -0.554898  \n",
              "\n",
              "[5 rows x 21 columns]"
            ],
            "text/html": [
              "\n",
              "  <div id=\"df-8199cf44-f9d1-488d-858c-31b1d0f5e059\">\n",
              "    <div class=\"colab-df-container\">\n",
              "      <div>\n",
              "<style scoped>\n",
              "    .dataframe tbody tr th:only-of-type {\n",
              "        vertical-align: middle;\n",
              "    }\n",
              "\n",
              "    .dataframe tbody tr th {\n",
              "        vertical-align: top;\n",
              "    }\n",
              "\n",
              "    .dataframe thead th {\n",
              "        text-align: right;\n",
              "    }\n",
              "</style>\n",
              "<table border=\"1\" class=\"dataframe\">\n",
              "  <thead>\n",
              "    <tr style=\"text-align: right;\">\n",
              "      <th></th>\n",
              "      <th>player_name</th>\n",
              "      <th>player_id</th>\n",
              "      <th>season</th>\n",
              "      <th>poss</th>\n",
              "      <th>mp</th>\n",
              "      <th>raptor_box_offense</th>\n",
              "      <th>raptor_box_defense</th>\n",
              "      <th>raptor_box_total</th>\n",
              "      <th>raptor_onoff_offense</th>\n",
              "      <th>raptor_onoff_defense</th>\n",
              "      <th>...</th>\n",
              "      <th>raptor_offense</th>\n",
              "      <th>raptor_defense</th>\n",
              "      <th>raptor_total</th>\n",
              "      <th>war_total</th>\n",
              "      <th>war_reg_season</th>\n",
              "      <th>war_playoffs</th>\n",
              "      <th>predator_offense</th>\n",
              "      <th>predator_defense</th>\n",
              "      <th>predator_total</th>\n",
              "      <th>pace_impact</th>\n",
              "    </tr>\n",
              "  </thead>\n",
              "  <tbody>\n",
              "    <tr>\n",
              "      <th>0</th>\n",
              "      <td>Alex Abrines</td>\n",
              "      <td>abrinal01</td>\n",
              "      <td>2017</td>\n",
              "      <td>2387</td>\n",
              "      <td>1135</td>\n",
              "      <td>0.745505</td>\n",
              "      <td>-0.372938</td>\n",
              "      <td>0.372567</td>\n",
              "      <td>-0.418553</td>\n",
              "      <td>-3.857011</td>\n",
              "      <td>...</td>\n",
              "      <td>0.543421</td>\n",
              "      <td>-1.144832</td>\n",
              "      <td>-0.601411</td>\n",
              "      <td>1.249008</td>\n",
              "      <td>1.447708</td>\n",
              "      <td>-0.198700</td>\n",
              "      <td>0.077102</td>\n",
              "      <td>-1.038677</td>\n",
              "      <td>-0.961575</td>\n",
              "      <td>0.326413</td>\n",
              "    </tr>\n",
              "    <tr>\n",
              "      <th>1</th>\n",
              "      <td>Alex Abrines</td>\n",
              "      <td>abrinal01</td>\n",
              "      <td>2018</td>\n",
              "      <td>2546</td>\n",
              "      <td>1244</td>\n",
              "      <td>0.317549</td>\n",
              "      <td>-1.725325</td>\n",
              "      <td>-1.407776</td>\n",
              "      <td>-1.291727</td>\n",
              "      <td>-0.049694</td>\n",
              "      <td>...</td>\n",
              "      <td>-0.020826</td>\n",
              "      <td>-1.502642</td>\n",
              "      <td>-1.523468</td>\n",
              "      <td>0.777304</td>\n",
              "      <td>0.465912</td>\n",
              "      <td>0.311392</td>\n",
              "      <td>-0.174621</td>\n",
              "      <td>-1.112625</td>\n",
              "      <td>-1.287247</td>\n",
              "      <td>-0.456141</td>\n",
              "    </tr>\n",
              "    <tr>\n",
              "      <th>2</th>\n",
              "      <td>Alex Abrines</td>\n",
              "      <td>abrinal01</td>\n",
              "      <td>2019</td>\n",
              "      <td>1279</td>\n",
              "      <td>588</td>\n",
              "      <td>-3.215683</td>\n",
              "      <td>1.078399</td>\n",
              "      <td>-2.137285</td>\n",
              "      <td>-6.158856</td>\n",
              "      <td>4.901168</td>\n",
              "      <td>...</td>\n",
              "      <td>-4.040157</td>\n",
              "      <td>1.885618</td>\n",
              "      <td>-2.154538</td>\n",
              "      <td>0.178167</td>\n",
              "      <td>0.178167</td>\n",
              "      <td>0.000000</td>\n",
              "      <td>-4.577678</td>\n",
              "      <td>1.543282</td>\n",
              "      <td>-3.034396</td>\n",
              "      <td>-0.268013</td>\n",
              "    </tr>\n",
              "    <tr>\n",
              "      <th>3</th>\n",
              "      <td>Precious Achiuwa</td>\n",
              "      <td>achiupr01</td>\n",
              "      <td>2021</td>\n",
              "      <td>1581</td>\n",
              "      <td>749</td>\n",
              "      <td>-4.122966</td>\n",
              "      <td>1.359278</td>\n",
              "      <td>-2.763688</td>\n",
              "      <td>-4.050779</td>\n",
              "      <td>-0.919712</td>\n",
              "      <td>...</td>\n",
              "      <td>-4.347596</td>\n",
              "      <td>0.954821</td>\n",
              "      <td>-3.392775</td>\n",
              "      <td>-0.246055</td>\n",
              "      <td>-0.246776</td>\n",
              "      <td>0.000721</td>\n",
              "      <td>-3.817713</td>\n",
              "      <td>0.474828</td>\n",
              "      <td>-3.342885</td>\n",
              "      <td>0.329157</td>\n",
              "    </tr>\n",
              "    <tr>\n",
              "      <th>4</th>\n",
              "      <td>Quincy Acy</td>\n",
              "      <td>acyqu01</td>\n",
              "      <td>2014</td>\n",
              "      <td>1716</td>\n",
              "      <td>847</td>\n",
              "      <td>-1.716079</td>\n",
              "      <td>0.133115</td>\n",
              "      <td>-1.582964</td>\n",
              "      <td>-0.324811</td>\n",
              "      <td>-1.661495</td>\n",
              "      <td>...</td>\n",
              "      <td>-1.565257</td>\n",
              "      <td>-0.216477</td>\n",
              "      <td>-1.781734</td>\n",
              "      <td>0.415918</td>\n",
              "      <td>0.415918</td>\n",
              "      <td>0.000000</td>\n",
              "      <td>-1.464417</td>\n",
              "      <td>-0.223754</td>\n",
              "      <td>-1.688171</td>\n",
              "      <td>-0.554898</td>\n",
              "    </tr>\n",
              "  </tbody>\n",
              "</table>\n",
              "<p>5 rows × 21 columns</p>\n",
              "</div>\n",
              "      <button class=\"colab-df-convert\" onclick=\"convertToInteractive('df-8199cf44-f9d1-488d-858c-31b1d0f5e059')\"\n",
              "              title=\"Convert this dataframe to an interactive table.\"\n",
              "              style=\"display:none;\">\n",
              "        \n",
              "  <svg xmlns=\"http://www.w3.org/2000/svg\" height=\"24px\"viewBox=\"0 0 24 24\"\n",
              "       width=\"24px\">\n",
              "    <path d=\"M0 0h24v24H0V0z\" fill=\"none\"/>\n",
              "    <path d=\"M18.56 5.44l.94 2.06.94-2.06 2.06-.94-2.06-.94-.94-2.06-.94 2.06-2.06.94zm-11 1L8.5 8.5l.94-2.06 2.06-.94-2.06-.94L8.5 2.5l-.94 2.06-2.06.94zm10 10l.94 2.06.94-2.06 2.06-.94-2.06-.94-.94-2.06-.94 2.06-2.06.94z\"/><path d=\"M17.41 7.96l-1.37-1.37c-.4-.4-.92-.59-1.43-.59-.52 0-1.04.2-1.43.59L10.3 9.45l-7.72 7.72c-.78.78-.78 2.05 0 2.83L4 21.41c.39.39.9.59 1.41.59.51 0 1.02-.2 1.41-.59l7.78-7.78 2.81-2.81c.8-.78.8-2.07 0-2.86zM5.41 20L4 18.59l7.72-7.72 1.47 1.35L5.41 20z\"/>\n",
              "  </svg>\n",
              "      </button>\n",
              "      \n",
              "  <style>\n",
              "    .colab-df-container {\n",
              "      display:flex;\n",
              "      flex-wrap:wrap;\n",
              "      gap: 12px;\n",
              "    }\n",
              "\n",
              "    .colab-df-convert {\n",
              "      background-color: #E8F0FE;\n",
              "      border: none;\n",
              "      border-radius: 50%;\n",
              "      cursor: pointer;\n",
              "      display: none;\n",
              "      fill: #1967D2;\n",
              "      height: 32px;\n",
              "      padding: 0 0 0 0;\n",
              "      width: 32px;\n",
              "    }\n",
              "\n",
              "    .colab-df-convert:hover {\n",
              "      background-color: #E2EBFA;\n",
              "      box-shadow: 0px 1px 2px rgba(60, 64, 67, 0.3), 0px 1px 3px 1px rgba(60, 64, 67, 0.15);\n",
              "      fill: #174EA6;\n",
              "    }\n",
              "\n",
              "    [theme=dark] .colab-df-convert {\n",
              "      background-color: #3B4455;\n",
              "      fill: #D2E3FC;\n",
              "    }\n",
              "\n",
              "    [theme=dark] .colab-df-convert:hover {\n",
              "      background-color: #434B5C;\n",
              "      box-shadow: 0px 1px 3px 1px rgba(0, 0, 0, 0.15);\n",
              "      filter: drop-shadow(0px 1px 2px rgba(0, 0, 0, 0.3));\n",
              "      fill: #FFFFFF;\n",
              "    }\n",
              "  </style>\n",
              "\n",
              "      <script>\n",
              "        const buttonEl =\n",
              "          document.querySelector('#df-8199cf44-f9d1-488d-858c-31b1d0f5e059 button.colab-df-convert');\n",
              "        buttonEl.style.display =\n",
              "          google.colab.kernel.accessAllowed ? 'block' : 'none';\n",
              "\n",
              "        async function convertToInteractive(key) {\n",
              "          const element = document.querySelector('#df-8199cf44-f9d1-488d-858c-31b1d0f5e059');\n",
              "          const dataTable =\n",
              "            await google.colab.kernel.invokeFunction('convertToInteractive',\n",
              "                                                     [key], {});\n",
              "          if (!dataTable) return;\n",
              "\n",
              "          const docLinkHtml = 'Like what you see? Visit the ' +\n",
              "            '<a target=\"_blank\" href=https://colab.research.google.com/notebooks/data_table.ipynb>data table notebook</a>'\n",
              "            + ' to learn more about interactive tables.';\n",
              "          element.innerHTML = '';\n",
              "          dataTable['output_type'] = 'display_data';\n",
              "          await google.colab.output.renderOutput(dataTable, element);\n",
              "          const docLink = document.createElement('div');\n",
              "          docLink.innerHTML = docLinkHtml;\n",
              "          element.appendChild(docLink);\n",
              "        }\n",
              "      </script>\n",
              "    </div>\n",
              "  </div>\n",
              "  "
            ]
          },
          "metadata": {},
          "execution_count": 4
        }
      ]
    },
    {
      "cell_type": "code",
      "source": [
        "df.info()"
      ],
      "metadata": {
        "id": "GZTMteO1PAAo",
        "colab": {
          "base_uri": "https://localhost:8080/"
        },
        "outputId": "40ba7782-a2c4-4589-d388-87c78c3cd1df"
      },
      "execution_count": 5,
      "outputs": [
        {
          "output_type": "stream",
          "name": "stdout",
          "text": [
            "<class 'pandas.core.frame.DataFrame'>\n",
            "RangeIndex: 4079 entries, 0 to 4078\n",
            "Data columns (total 21 columns):\n",
            " #   Column                Non-Null Count  Dtype  \n",
            "---  ------                --------------  -----  \n",
            " 0   player_name           4079 non-null   object \n",
            " 1   player_id             4079 non-null   object \n",
            " 2   season                4079 non-null   int64  \n",
            " 3   poss                  4079 non-null   int64  \n",
            " 4   mp                    4079 non-null   int64  \n",
            " 5   raptor_box_offense    4078 non-null   float64\n",
            " 6   raptor_box_defense    4078 non-null   float64\n",
            " 7   raptor_box_total      4078 non-null   float64\n",
            " 8   raptor_onoff_offense  4078 non-null   float64\n",
            " 9   raptor_onoff_defense  4078 non-null   float64\n",
            " 10  raptor_onoff_total    4078 non-null   float64\n",
            " 11  raptor_offense        4079 non-null   float64\n",
            " 12  raptor_defense        4079 non-null   float64\n",
            " 13  raptor_total          4079 non-null   float64\n",
            " 14  war_total             4079 non-null   float64\n",
            " 15  war_reg_season        4079 non-null   float64\n",
            " 16  war_playoffs          4079 non-null   float64\n",
            " 17  predator_offense      4079 non-null   float64\n",
            " 18  predator_defense      4079 non-null   float64\n",
            " 19  predator_total        4079 non-null   float64\n",
            " 20  pace_impact           4078 non-null   float64\n",
            "dtypes: float64(16), int64(3), object(2)\n",
            "memory usage: 669.3+ KB\n"
          ]
        }
      ]
    },
    {
      "cell_type": "code",
      "source": [
        "df.duplicated().sum()\n",
        "\n",
        "## no duplicated values"
      ],
      "metadata": {
        "id": "6rWXtDSxACq2",
        "colab": {
          "base_uri": "https://localhost:8080/"
        },
        "outputId": "023e6c04-306e-4fc9-cd2c-d6b6b33863ee"
      },
      "execution_count": 6,
      "outputs": [
        {
          "output_type": "execute_result",
          "data": {
            "text/plain": [
              "0"
            ]
          },
          "metadata": {},
          "execution_count": 6
        }
      ]
    },
    {
      "cell_type": "code",
      "source": [
        "df.nunique()\n",
        "\n",
        "## checking all the various features"
      ],
      "metadata": {
        "id": "j7jnUAjRD3C3",
        "colab": {
          "base_uri": "https://localhost:8080/"
        },
        "outputId": "b05fd305-9caf-4668-a3ee-7f327140d699"
      },
      "execution_count": 7,
      "outputs": [
        {
          "output_type": "execute_result",
          "data": {
            "text/plain": [
              "player_name             1192\n",
              "player_id               1187\n",
              "season                     8\n",
              "poss                    2867\n",
              "mp                      2130\n",
              "raptor_box_offense      4078\n",
              "raptor_box_defense      4078\n",
              "raptor_box_total        4078\n",
              "raptor_onoff_offense    4077\n",
              "raptor_onoff_defense    4077\n",
              "raptor_onoff_total      4077\n",
              "raptor_offense          4079\n",
              "raptor_defense          4079\n",
              "raptor_total            4079\n",
              "war_total               4079\n",
              "war_reg_season          4075\n",
              "war_playoffs            1717\n",
              "predator_offense        4079\n",
              "predator_defense        4079\n",
              "predator_total          4079\n",
              "pace_impact             4078\n",
              "dtype: int64"
            ]
          },
          "metadata": {},
          "execution_count": 7
        }
      ]
    },
    {
      "cell_type": "code",
      "source": [
        "df.isna().sum()\n",
        "\n",
        "## checking for rows missing data"
      ],
      "metadata": {
        "id": "WWqR95iPD2_f",
        "colab": {
          "base_uri": "https://localhost:8080/"
        },
        "outputId": "d2109459-272f-4394-b77b-077460e29c61"
      },
      "execution_count": 8,
      "outputs": [
        {
          "output_type": "execute_result",
          "data": {
            "text/plain": [
              "player_name             0\n",
              "player_id               0\n",
              "season                  0\n",
              "poss                    0\n",
              "mp                      0\n",
              "raptor_box_offense      1\n",
              "raptor_box_defense      1\n",
              "raptor_box_total        1\n",
              "raptor_onoff_offense    1\n",
              "raptor_onoff_defense    1\n",
              "raptor_onoff_total      1\n",
              "raptor_offense          0\n",
              "raptor_defense          0\n",
              "raptor_total            0\n",
              "war_total               0\n",
              "war_reg_season          0\n",
              "war_playoffs            0\n",
              "predator_offense        0\n",
              "predator_defense        0\n",
              "predator_total          0\n",
              "pace_impact             1\n",
              "dtype: int64"
            ]
          },
          "metadata": {},
          "execution_count": 8
        }
      ]
    },
    {
      "cell_type": "code",
      "source": [
        "df.dropna()\n",
        "df.isna().sum()\n",
        "\n",
        "## dropped all rows missing values from the dataframe"
      ],
      "metadata": {
        "id": "afN2GY6sD20S",
        "colab": {
          "base_uri": "https://localhost:8080/"
        },
        "outputId": "9d241ed4-d14b-4e8b-e909-0586de0059a7"
      },
      "execution_count": 9,
      "outputs": [
        {
          "output_type": "execute_result",
          "data": {
            "text/plain": [
              "player_name             0\n",
              "player_id               0\n",
              "season                  0\n",
              "poss                    0\n",
              "mp                      0\n",
              "raptor_box_offense      1\n",
              "raptor_box_defense      1\n",
              "raptor_box_total        1\n",
              "raptor_onoff_offense    1\n",
              "raptor_onoff_defense    1\n",
              "raptor_onoff_total      1\n",
              "raptor_offense          0\n",
              "raptor_defense          0\n",
              "raptor_total            0\n",
              "war_total               0\n",
              "war_reg_season          0\n",
              "war_playoffs            0\n",
              "predator_offense        0\n",
              "predator_defense        0\n",
              "predator_total          0\n",
              "pace_impact             1\n",
              "dtype: int64"
            ]
          },
          "metadata": {},
          "execution_count": 9
        }
      ]
    },
    {
      "cell_type": "code",
      "source": [
        "df.drop(['player_name', 'player_id', 'season', 'raptor_box_offense', 'raptor_box_defense', 'raptor_onoff_offense', 'raptor_onoff_defense', 'raptor_offense', 'raptor_defense', 'raptor_box_total', 'war_reg_season', 'war_playoffs', 'predator_offense', 'predator_defense'], axis=1, inplace=True)\n",
        "df.head()"
      ],
      "metadata": {
        "id": "wnsD9u1cWVNM",
        "colab": {
          "base_uri": "https://localhost:8080/",
          "height": 206
        },
        "outputId": "8949a7bc-04ab-456e-e518-ed5ad430bbd8"
      },
      "execution_count": 10,
      "outputs": [
        {
          "output_type": "execute_result",
          "data": {
            "text/plain": [
              "   poss    mp  raptor_onoff_total  raptor_total  war_total  predator_total  \\\n",
              "0  2387  1135           -4.275564     -0.601411   1.249008       -0.961575   \n",
              "1  2546  1244           -1.341421     -1.523468   0.777304       -1.287247   \n",
              "2  1279   588           -1.257688     -2.154538   0.178167       -3.034396   \n",
              "3  1581   749           -4.970491     -3.392775  -0.246055       -3.342885   \n",
              "4  1716   847           -1.986306     -1.781734   0.415918       -1.688171   \n",
              "\n",
              "   pace_impact  \n",
              "0     0.326413  \n",
              "1    -0.456141  \n",
              "2    -0.268013  \n",
              "3     0.329157  \n",
              "4    -0.554898  "
            ],
            "text/html": [
              "\n",
              "  <div id=\"df-94d5695d-9d9c-41cc-910b-9d67dfd584e5\">\n",
              "    <div class=\"colab-df-container\">\n",
              "      <div>\n",
              "<style scoped>\n",
              "    .dataframe tbody tr th:only-of-type {\n",
              "        vertical-align: middle;\n",
              "    }\n",
              "\n",
              "    .dataframe tbody tr th {\n",
              "        vertical-align: top;\n",
              "    }\n",
              "\n",
              "    .dataframe thead th {\n",
              "        text-align: right;\n",
              "    }\n",
              "</style>\n",
              "<table border=\"1\" class=\"dataframe\">\n",
              "  <thead>\n",
              "    <tr style=\"text-align: right;\">\n",
              "      <th></th>\n",
              "      <th>poss</th>\n",
              "      <th>mp</th>\n",
              "      <th>raptor_onoff_total</th>\n",
              "      <th>raptor_total</th>\n",
              "      <th>war_total</th>\n",
              "      <th>predator_total</th>\n",
              "      <th>pace_impact</th>\n",
              "    </tr>\n",
              "  </thead>\n",
              "  <tbody>\n",
              "    <tr>\n",
              "      <th>0</th>\n",
              "      <td>2387</td>\n",
              "      <td>1135</td>\n",
              "      <td>-4.275564</td>\n",
              "      <td>-0.601411</td>\n",
              "      <td>1.249008</td>\n",
              "      <td>-0.961575</td>\n",
              "      <td>0.326413</td>\n",
              "    </tr>\n",
              "    <tr>\n",
              "      <th>1</th>\n",
              "      <td>2546</td>\n",
              "      <td>1244</td>\n",
              "      <td>-1.341421</td>\n",
              "      <td>-1.523468</td>\n",
              "      <td>0.777304</td>\n",
              "      <td>-1.287247</td>\n",
              "      <td>-0.456141</td>\n",
              "    </tr>\n",
              "    <tr>\n",
              "      <th>2</th>\n",
              "      <td>1279</td>\n",
              "      <td>588</td>\n",
              "      <td>-1.257688</td>\n",
              "      <td>-2.154538</td>\n",
              "      <td>0.178167</td>\n",
              "      <td>-3.034396</td>\n",
              "      <td>-0.268013</td>\n",
              "    </tr>\n",
              "    <tr>\n",
              "      <th>3</th>\n",
              "      <td>1581</td>\n",
              "      <td>749</td>\n",
              "      <td>-4.970491</td>\n",
              "      <td>-3.392775</td>\n",
              "      <td>-0.246055</td>\n",
              "      <td>-3.342885</td>\n",
              "      <td>0.329157</td>\n",
              "    </tr>\n",
              "    <tr>\n",
              "      <th>4</th>\n",
              "      <td>1716</td>\n",
              "      <td>847</td>\n",
              "      <td>-1.986306</td>\n",
              "      <td>-1.781734</td>\n",
              "      <td>0.415918</td>\n",
              "      <td>-1.688171</td>\n",
              "      <td>-0.554898</td>\n",
              "    </tr>\n",
              "  </tbody>\n",
              "</table>\n",
              "</div>\n",
              "      <button class=\"colab-df-convert\" onclick=\"convertToInteractive('df-94d5695d-9d9c-41cc-910b-9d67dfd584e5')\"\n",
              "              title=\"Convert this dataframe to an interactive table.\"\n",
              "              style=\"display:none;\">\n",
              "        \n",
              "  <svg xmlns=\"http://www.w3.org/2000/svg\" height=\"24px\"viewBox=\"0 0 24 24\"\n",
              "       width=\"24px\">\n",
              "    <path d=\"M0 0h24v24H0V0z\" fill=\"none\"/>\n",
              "    <path d=\"M18.56 5.44l.94 2.06.94-2.06 2.06-.94-2.06-.94-.94-2.06-.94 2.06-2.06.94zm-11 1L8.5 8.5l.94-2.06 2.06-.94-2.06-.94L8.5 2.5l-.94 2.06-2.06.94zm10 10l.94 2.06.94-2.06 2.06-.94-2.06-.94-.94-2.06-.94 2.06-2.06.94z\"/><path d=\"M17.41 7.96l-1.37-1.37c-.4-.4-.92-.59-1.43-.59-.52 0-1.04.2-1.43.59L10.3 9.45l-7.72 7.72c-.78.78-.78 2.05 0 2.83L4 21.41c.39.39.9.59 1.41.59.51 0 1.02-.2 1.41-.59l7.78-7.78 2.81-2.81c.8-.78.8-2.07 0-2.86zM5.41 20L4 18.59l7.72-7.72 1.47 1.35L5.41 20z\"/>\n",
              "  </svg>\n",
              "      </button>\n",
              "      \n",
              "  <style>\n",
              "    .colab-df-container {\n",
              "      display:flex;\n",
              "      flex-wrap:wrap;\n",
              "      gap: 12px;\n",
              "    }\n",
              "\n",
              "    .colab-df-convert {\n",
              "      background-color: #E8F0FE;\n",
              "      border: none;\n",
              "      border-radius: 50%;\n",
              "      cursor: pointer;\n",
              "      display: none;\n",
              "      fill: #1967D2;\n",
              "      height: 32px;\n",
              "      padding: 0 0 0 0;\n",
              "      width: 32px;\n",
              "    }\n",
              "\n",
              "    .colab-df-convert:hover {\n",
              "      background-color: #E2EBFA;\n",
              "      box-shadow: 0px 1px 2px rgba(60, 64, 67, 0.3), 0px 1px 3px 1px rgba(60, 64, 67, 0.15);\n",
              "      fill: #174EA6;\n",
              "    }\n",
              "\n",
              "    [theme=dark] .colab-df-convert {\n",
              "      background-color: #3B4455;\n",
              "      fill: #D2E3FC;\n",
              "    }\n",
              "\n",
              "    [theme=dark] .colab-df-convert:hover {\n",
              "      background-color: #434B5C;\n",
              "      box-shadow: 0px 1px 3px 1px rgba(0, 0, 0, 0.15);\n",
              "      filter: drop-shadow(0px 1px 2px rgba(0, 0, 0, 0.3));\n",
              "      fill: #FFFFFF;\n",
              "    }\n",
              "  </style>\n",
              "\n",
              "      <script>\n",
              "        const buttonEl =\n",
              "          document.querySelector('#df-94d5695d-9d9c-41cc-910b-9d67dfd584e5 button.colab-df-convert');\n",
              "        buttonEl.style.display =\n",
              "          google.colab.kernel.accessAllowed ? 'block' : 'none';\n",
              "\n",
              "        async function convertToInteractive(key) {\n",
              "          const element = document.querySelector('#df-94d5695d-9d9c-41cc-910b-9d67dfd584e5');\n",
              "          const dataTable =\n",
              "            await google.colab.kernel.invokeFunction('convertToInteractive',\n",
              "                                                     [key], {});\n",
              "          if (!dataTable) return;\n",
              "\n",
              "          const docLinkHtml = 'Like what you see? Visit the ' +\n",
              "            '<a target=\"_blank\" href=https://colab.research.google.com/notebooks/data_table.ipynb>data table notebook</a>'\n",
              "            + ' to learn more about interactive tables.';\n",
              "          element.innerHTML = '';\n",
              "          dataTable['output_type'] = 'display_data';\n",
              "          await google.colab.output.renderOutput(dataTable, element);\n",
              "          const docLink = document.createElement('div');\n",
              "          docLink.innerHTML = docLinkHtml;\n",
              "          element.appendChild(docLink);\n",
              "        }\n",
              "      </script>\n",
              "    </div>\n",
              "  </div>\n",
              "  "
            ]
          },
          "metadata": {},
          "execution_count": 10
        }
      ]
    },
    {
      "cell_type": "code",
      "source": [
        "df = df.loc[df['war_total'] >= 1]\n",
        "df = df.loc[df['predator_total'] >= 1]\n",
        "df = df.loc[df['raptor_total'] >= 1]\n",
        "df = df.loc[df['pace_impact'] >= 1]\n",
        "df"
      ],
      "metadata": {
        "id": "IIm5RTkEpGe-",
        "colab": {
          "base_uri": "https://localhost:8080/",
          "height": 424
        },
        "outputId": "ea42d01d-32e4-438b-fd0a-21553502505f"
      },
      "execution_count": 11,
      "outputs": [
        {
          "output_type": "execute_result",
          "data": {
            "text/plain": [
              "      poss    mp  raptor_onoff_total  raptor_total  war_total  predator_total  \\\n",
              "127   6265  2872            5.543546      6.806518  14.269861        7.083689   \n",
              "128   4894  2194            9.090994      8.778267  13.149613        7.521699   \n",
              "129   6002  2813            5.111805      6.588248  13.666796        6.555088   \n",
              "160   6225  3130            2.318868      2.146961   8.034787        2.400297   \n",
              "272   6871  3415            2.518748      2.140857   8.669646        3.200148   \n",
              "...    ...   ...                 ...           ...        ...             ...   \n",
              "3948  4821  2266            3.572633      3.677213   7.619304        2.484788   \n",
              "3949  5489  2589            1.722066      1.882814   6.274484        1.759520   \n",
              "3978  4360  2026            2.538590      2.965017   5.983387        2.020089   \n",
              "4051  4645  2120            1.766801      3.716428   7.192127        3.691880   \n",
              "4052  5690  2728            3.692154      2.119096   6.963372        2.031370   \n",
              "\n",
              "      pace_impact  \n",
              "127      1.319042  \n",
              "128      1.799512  \n",
              "129      1.096061  \n",
              "160      1.319376  \n",
              "272      1.108855  \n",
              "...           ...  \n",
              "3948     1.523881  \n",
              "3949     2.511937  \n",
              "3978     1.298619  \n",
              "4051     2.888762  \n",
              "4052     2.125883  \n",
              "\n",
              "[106 rows x 7 columns]"
            ],
            "text/html": [
              "\n",
              "  <div id=\"df-fd8e407a-6e39-465c-b37c-d65520409c91\">\n",
              "    <div class=\"colab-df-container\">\n",
              "      <div>\n",
              "<style scoped>\n",
              "    .dataframe tbody tr th:only-of-type {\n",
              "        vertical-align: middle;\n",
              "    }\n",
              "\n",
              "    .dataframe tbody tr th {\n",
              "        vertical-align: top;\n",
              "    }\n",
              "\n",
              "    .dataframe thead th {\n",
              "        text-align: right;\n",
              "    }\n",
              "</style>\n",
              "<table border=\"1\" class=\"dataframe\">\n",
              "  <thead>\n",
              "    <tr style=\"text-align: right;\">\n",
              "      <th></th>\n",
              "      <th>poss</th>\n",
              "      <th>mp</th>\n",
              "      <th>raptor_onoff_total</th>\n",
              "      <th>raptor_total</th>\n",
              "      <th>war_total</th>\n",
              "      <th>predator_total</th>\n",
              "      <th>pace_impact</th>\n",
              "    </tr>\n",
              "  </thead>\n",
              "  <tbody>\n",
              "    <tr>\n",
              "      <th>127</th>\n",
              "      <td>6265</td>\n",
              "      <td>2872</td>\n",
              "      <td>5.543546</td>\n",
              "      <td>6.806518</td>\n",
              "      <td>14.269861</td>\n",
              "      <td>7.083689</td>\n",
              "      <td>1.319042</td>\n",
              "    </tr>\n",
              "    <tr>\n",
              "      <th>128</th>\n",
              "      <td>4894</td>\n",
              "      <td>2194</td>\n",
              "      <td>9.090994</td>\n",
              "      <td>8.778267</td>\n",
              "      <td>13.149613</td>\n",
              "      <td>7.521699</td>\n",
              "      <td>1.799512</td>\n",
              "    </tr>\n",
              "    <tr>\n",
              "      <th>129</th>\n",
              "      <td>6002</td>\n",
              "      <td>2813</td>\n",
              "      <td>5.111805</td>\n",
              "      <td>6.588248</td>\n",
              "      <td>13.666796</td>\n",
              "      <td>6.555088</td>\n",
              "      <td>1.096061</td>\n",
              "    </tr>\n",
              "    <tr>\n",
              "      <th>160</th>\n",
              "      <td>6225</td>\n",
              "      <td>3130</td>\n",
              "      <td>2.318868</td>\n",
              "      <td>2.146961</td>\n",
              "      <td>8.034787</td>\n",
              "      <td>2.400297</td>\n",
              "      <td>1.319376</td>\n",
              "    </tr>\n",
              "    <tr>\n",
              "      <th>272</th>\n",
              "      <td>6871</td>\n",
              "      <td>3415</td>\n",
              "      <td>2.518748</td>\n",
              "      <td>2.140857</td>\n",
              "      <td>8.669646</td>\n",
              "      <td>3.200148</td>\n",
              "      <td>1.108855</td>\n",
              "    </tr>\n",
              "    <tr>\n",
              "      <th>...</th>\n",
              "      <td>...</td>\n",
              "      <td>...</td>\n",
              "      <td>...</td>\n",
              "      <td>...</td>\n",
              "      <td>...</td>\n",
              "      <td>...</td>\n",
              "      <td>...</td>\n",
              "    </tr>\n",
              "    <tr>\n",
              "      <th>3948</th>\n",
              "      <td>4821</td>\n",
              "      <td>2266</td>\n",
              "      <td>3.572633</td>\n",
              "      <td>3.677213</td>\n",
              "      <td>7.619304</td>\n",
              "      <td>2.484788</td>\n",
              "      <td>1.523881</td>\n",
              "    </tr>\n",
              "    <tr>\n",
              "      <th>3949</th>\n",
              "      <td>5489</td>\n",
              "      <td>2589</td>\n",
              "      <td>1.722066</td>\n",
              "      <td>1.882814</td>\n",
              "      <td>6.274484</td>\n",
              "      <td>1.759520</td>\n",
              "      <td>2.511937</td>\n",
              "    </tr>\n",
              "    <tr>\n",
              "      <th>3978</th>\n",
              "      <td>4360</td>\n",
              "      <td>2026</td>\n",
              "      <td>2.538590</td>\n",
              "      <td>2.965017</td>\n",
              "      <td>5.983387</td>\n",
              "      <td>2.020089</td>\n",
              "      <td>1.298619</td>\n",
              "    </tr>\n",
              "    <tr>\n",
              "      <th>4051</th>\n",
              "      <td>4645</td>\n",
              "      <td>2120</td>\n",
              "      <td>1.766801</td>\n",
              "      <td>3.716428</td>\n",
              "      <td>7.192127</td>\n",
              "      <td>3.691880</td>\n",
              "      <td>2.888762</td>\n",
              "    </tr>\n",
              "    <tr>\n",
              "      <th>4052</th>\n",
              "      <td>5690</td>\n",
              "      <td>2728</td>\n",
              "      <td>3.692154</td>\n",
              "      <td>2.119096</td>\n",
              "      <td>6.963372</td>\n",
              "      <td>2.031370</td>\n",
              "      <td>2.125883</td>\n",
              "    </tr>\n",
              "  </tbody>\n",
              "</table>\n",
              "<p>106 rows × 7 columns</p>\n",
              "</div>\n",
              "      <button class=\"colab-df-convert\" onclick=\"convertToInteractive('df-fd8e407a-6e39-465c-b37c-d65520409c91')\"\n",
              "              title=\"Convert this dataframe to an interactive table.\"\n",
              "              style=\"display:none;\">\n",
              "        \n",
              "  <svg xmlns=\"http://www.w3.org/2000/svg\" height=\"24px\"viewBox=\"0 0 24 24\"\n",
              "       width=\"24px\">\n",
              "    <path d=\"M0 0h24v24H0V0z\" fill=\"none\"/>\n",
              "    <path d=\"M18.56 5.44l.94 2.06.94-2.06 2.06-.94-2.06-.94-.94-2.06-.94 2.06-2.06.94zm-11 1L8.5 8.5l.94-2.06 2.06-.94-2.06-.94L8.5 2.5l-.94 2.06-2.06.94zm10 10l.94 2.06.94-2.06 2.06-.94-2.06-.94-.94-2.06-.94 2.06-2.06.94z\"/><path d=\"M17.41 7.96l-1.37-1.37c-.4-.4-.92-.59-1.43-.59-.52 0-1.04.2-1.43.59L10.3 9.45l-7.72 7.72c-.78.78-.78 2.05 0 2.83L4 21.41c.39.39.9.59 1.41.59.51 0 1.02-.2 1.41-.59l7.78-7.78 2.81-2.81c.8-.78.8-2.07 0-2.86zM5.41 20L4 18.59l7.72-7.72 1.47 1.35L5.41 20z\"/>\n",
              "  </svg>\n",
              "      </button>\n",
              "      \n",
              "  <style>\n",
              "    .colab-df-container {\n",
              "      display:flex;\n",
              "      flex-wrap:wrap;\n",
              "      gap: 12px;\n",
              "    }\n",
              "\n",
              "    .colab-df-convert {\n",
              "      background-color: #E8F0FE;\n",
              "      border: none;\n",
              "      border-radius: 50%;\n",
              "      cursor: pointer;\n",
              "      display: none;\n",
              "      fill: #1967D2;\n",
              "      height: 32px;\n",
              "      padding: 0 0 0 0;\n",
              "      width: 32px;\n",
              "    }\n",
              "\n",
              "    .colab-df-convert:hover {\n",
              "      background-color: #E2EBFA;\n",
              "      box-shadow: 0px 1px 2px rgba(60, 64, 67, 0.3), 0px 1px 3px 1px rgba(60, 64, 67, 0.15);\n",
              "      fill: #174EA6;\n",
              "    }\n",
              "\n",
              "    [theme=dark] .colab-df-convert {\n",
              "      background-color: #3B4455;\n",
              "      fill: #D2E3FC;\n",
              "    }\n",
              "\n",
              "    [theme=dark] .colab-df-convert:hover {\n",
              "      background-color: #434B5C;\n",
              "      box-shadow: 0px 1px 3px 1px rgba(0, 0, 0, 0.15);\n",
              "      filter: drop-shadow(0px 1px 2px rgba(0, 0, 0, 0.3));\n",
              "      fill: #FFFFFF;\n",
              "    }\n",
              "  </style>\n",
              "\n",
              "      <script>\n",
              "        const buttonEl =\n",
              "          document.querySelector('#df-fd8e407a-6e39-465c-b37c-d65520409c91 button.colab-df-convert');\n",
              "        buttonEl.style.display =\n",
              "          google.colab.kernel.accessAllowed ? 'block' : 'none';\n",
              "\n",
              "        async function convertToInteractive(key) {\n",
              "          const element = document.querySelector('#df-fd8e407a-6e39-465c-b37c-d65520409c91');\n",
              "          const dataTable =\n",
              "            await google.colab.kernel.invokeFunction('convertToInteractive',\n",
              "                                                     [key], {});\n",
              "          if (!dataTable) return;\n",
              "\n",
              "          const docLinkHtml = 'Like what you see? Visit the ' +\n",
              "            '<a target=\"_blank\" href=https://colab.research.google.com/notebooks/data_table.ipynb>data table notebook</a>'\n",
              "            + ' to learn more about interactive tables.';\n",
              "          element.innerHTML = '';\n",
              "          dataTable['output_type'] = 'display_data';\n",
              "          await google.colab.output.renderOutput(dataTable, element);\n",
              "          const docLink = document.createElement('div');\n",
              "          docLink.innerHTML = docLinkHtml;\n",
              "          element.appendChild(docLink);\n",
              "        }\n",
              "      </script>\n",
              "    </div>\n",
              "  </div>\n",
              "  "
            ]
          },
          "metadata": {},
          "execution_count": 11
        }
      ]
    },
    {
      "cell_type": "code",
      "source": [
        "df.describe().round(2)"
      ],
      "metadata": {
        "id": "tN2uEQHkn3O3",
        "colab": {
          "base_uri": "https://localhost:8080/",
          "height": 300
        },
        "outputId": "10fcf8bd-2219-4123-8727-f4e3e64ca118"
      },
      "execution_count": 12,
      "outputs": [
        {
          "output_type": "execute_result",
          "data": {
            "text/plain": [
              "          poss       mp  raptor_onoff_total  raptor_total  war_total  \\\n",
              "count   106.00   106.00              106.00        106.00     106.00   \n",
              "mean   4921.71  2344.43                3.98          4.55       9.32   \n",
              "std    1696.86   823.12                3.61          2.45       5.45   \n",
              "min     841.00   381.00               -3.30          1.11       1.13   \n",
              "25%    3954.00  1869.50                1.70          2.47       5.28   \n",
              "50%    5181.50  2400.00                3.86          4.23       8.09   \n",
              "75%    6304.75  3059.25                5.96          6.38      12.80   \n",
              "max    7947.00  3937.00               15.23         12.49      26.67   \n",
              "\n",
              "       predator_total  pace_impact  \n",
              "count          106.00       106.00  \n",
              "mean             4.87         1.61  \n",
              "std              2.54         0.61  \n",
              "min              1.13         1.00  \n",
              "25%              2.69         1.21  \n",
              "50%              4.68         1.38  \n",
              "75%              6.51         1.85  \n",
              "max             13.35         4.00  "
            ],
            "text/html": [
              "\n",
              "  <div id=\"df-85c0f001-f72f-4142-91ba-48b6f9b76f23\">\n",
              "    <div class=\"colab-df-container\">\n",
              "      <div>\n",
              "<style scoped>\n",
              "    .dataframe tbody tr th:only-of-type {\n",
              "        vertical-align: middle;\n",
              "    }\n",
              "\n",
              "    .dataframe tbody tr th {\n",
              "        vertical-align: top;\n",
              "    }\n",
              "\n",
              "    .dataframe thead th {\n",
              "        text-align: right;\n",
              "    }\n",
              "</style>\n",
              "<table border=\"1\" class=\"dataframe\">\n",
              "  <thead>\n",
              "    <tr style=\"text-align: right;\">\n",
              "      <th></th>\n",
              "      <th>poss</th>\n",
              "      <th>mp</th>\n",
              "      <th>raptor_onoff_total</th>\n",
              "      <th>raptor_total</th>\n",
              "      <th>war_total</th>\n",
              "      <th>predator_total</th>\n",
              "      <th>pace_impact</th>\n",
              "    </tr>\n",
              "  </thead>\n",
              "  <tbody>\n",
              "    <tr>\n",
              "      <th>count</th>\n",
              "      <td>106.00</td>\n",
              "      <td>106.00</td>\n",
              "      <td>106.00</td>\n",
              "      <td>106.00</td>\n",
              "      <td>106.00</td>\n",
              "      <td>106.00</td>\n",
              "      <td>106.00</td>\n",
              "    </tr>\n",
              "    <tr>\n",
              "      <th>mean</th>\n",
              "      <td>4921.71</td>\n",
              "      <td>2344.43</td>\n",
              "      <td>3.98</td>\n",
              "      <td>4.55</td>\n",
              "      <td>9.32</td>\n",
              "      <td>4.87</td>\n",
              "      <td>1.61</td>\n",
              "    </tr>\n",
              "    <tr>\n",
              "      <th>std</th>\n",
              "      <td>1696.86</td>\n",
              "      <td>823.12</td>\n",
              "      <td>3.61</td>\n",
              "      <td>2.45</td>\n",
              "      <td>5.45</td>\n",
              "      <td>2.54</td>\n",
              "      <td>0.61</td>\n",
              "    </tr>\n",
              "    <tr>\n",
              "      <th>min</th>\n",
              "      <td>841.00</td>\n",
              "      <td>381.00</td>\n",
              "      <td>-3.30</td>\n",
              "      <td>1.11</td>\n",
              "      <td>1.13</td>\n",
              "      <td>1.13</td>\n",
              "      <td>1.00</td>\n",
              "    </tr>\n",
              "    <tr>\n",
              "      <th>25%</th>\n",
              "      <td>3954.00</td>\n",
              "      <td>1869.50</td>\n",
              "      <td>1.70</td>\n",
              "      <td>2.47</td>\n",
              "      <td>5.28</td>\n",
              "      <td>2.69</td>\n",
              "      <td>1.21</td>\n",
              "    </tr>\n",
              "    <tr>\n",
              "      <th>50%</th>\n",
              "      <td>5181.50</td>\n",
              "      <td>2400.00</td>\n",
              "      <td>3.86</td>\n",
              "      <td>4.23</td>\n",
              "      <td>8.09</td>\n",
              "      <td>4.68</td>\n",
              "      <td>1.38</td>\n",
              "    </tr>\n",
              "    <tr>\n",
              "      <th>75%</th>\n",
              "      <td>6304.75</td>\n",
              "      <td>3059.25</td>\n",
              "      <td>5.96</td>\n",
              "      <td>6.38</td>\n",
              "      <td>12.80</td>\n",
              "      <td>6.51</td>\n",
              "      <td>1.85</td>\n",
              "    </tr>\n",
              "    <tr>\n",
              "      <th>max</th>\n",
              "      <td>7947.00</td>\n",
              "      <td>3937.00</td>\n",
              "      <td>15.23</td>\n",
              "      <td>12.49</td>\n",
              "      <td>26.67</td>\n",
              "      <td>13.35</td>\n",
              "      <td>4.00</td>\n",
              "    </tr>\n",
              "  </tbody>\n",
              "</table>\n",
              "</div>\n",
              "      <button class=\"colab-df-convert\" onclick=\"convertToInteractive('df-85c0f001-f72f-4142-91ba-48b6f9b76f23')\"\n",
              "              title=\"Convert this dataframe to an interactive table.\"\n",
              "              style=\"display:none;\">\n",
              "        \n",
              "  <svg xmlns=\"http://www.w3.org/2000/svg\" height=\"24px\"viewBox=\"0 0 24 24\"\n",
              "       width=\"24px\">\n",
              "    <path d=\"M0 0h24v24H0V0z\" fill=\"none\"/>\n",
              "    <path d=\"M18.56 5.44l.94 2.06.94-2.06 2.06-.94-2.06-.94-.94-2.06-.94 2.06-2.06.94zm-11 1L8.5 8.5l.94-2.06 2.06-.94-2.06-.94L8.5 2.5l-.94 2.06-2.06.94zm10 10l.94 2.06.94-2.06 2.06-.94-2.06-.94-.94-2.06-.94 2.06-2.06.94z\"/><path d=\"M17.41 7.96l-1.37-1.37c-.4-.4-.92-.59-1.43-.59-.52 0-1.04.2-1.43.59L10.3 9.45l-7.72 7.72c-.78.78-.78 2.05 0 2.83L4 21.41c.39.39.9.59 1.41.59.51 0 1.02-.2 1.41-.59l7.78-7.78 2.81-2.81c.8-.78.8-2.07 0-2.86zM5.41 20L4 18.59l7.72-7.72 1.47 1.35L5.41 20z\"/>\n",
              "  </svg>\n",
              "      </button>\n",
              "      \n",
              "  <style>\n",
              "    .colab-df-container {\n",
              "      display:flex;\n",
              "      flex-wrap:wrap;\n",
              "      gap: 12px;\n",
              "    }\n",
              "\n",
              "    .colab-df-convert {\n",
              "      background-color: #E8F0FE;\n",
              "      border: none;\n",
              "      border-radius: 50%;\n",
              "      cursor: pointer;\n",
              "      display: none;\n",
              "      fill: #1967D2;\n",
              "      height: 32px;\n",
              "      padding: 0 0 0 0;\n",
              "      width: 32px;\n",
              "    }\n",
              "\n",
              "    .colab-df-convert:hover {\n",
              "      background-color: #E2EBFA;\n",
              "      box-shadow: 0px 1px 2px rgba(60, 64, 67, 0.3), 0px 1px 3px 1px rgba(60, 64, 67, 0.15);\n",
              "      fill: #174EA6;\n",
              "    }\n",
              "\n",
              "    [theme=dark] .colab-df-convert {\n",
              "      background-color: #3B4455;\n",
              "      fill: #D2E3FC;\n",
              "    }\n",
              "\n",
              "    [theme=dark] .colab-df-convert:hover {\n",
              "      background-color: #434B5C;\n",
              "      box-shadow: 0px 1px 3px 1px rgba(0, 0, 0, 0.15);\n",
              "      filter: drop-shadow(0px 1px 2px rgba(0, 0, 0, 0.3));\n",
              "      fill: #FFFFFF;\n",
              "    }\n",
              "  </style>\n",
              "\n",
              "      <script>\n",
              "        const buttonEl =\n",
              "          document.querySelector('#df-85c0f001-f72f-4142-91ba-48b6f9b76f23 button.colab-df-convert');\n",
              "        buttonEl.style.display =\n",
              "          google.colab.kernel.accessAllowed ? 'block' : 'none';\n",
              "\n",
              "        async function convertToInteractive(key) {\n",
              "          const element = document.querySelector('#df-85c0f001-f72f-4142-91ba-48b6f9b76f23');\n",
              "          const dataTable =\n",
              "            await google.colab.kernel.invokeFunction('convertToInteractive',\n",
              "                                                     [key], {});\n",
              "          if (!dataTable) return;\n",
              "\n",
              "          const docLinkHtml = 'Like what you see? Visit the ' +\n",
              "            '<a target=\"_blank\" href=https://colab.research.google.com/notebooks/data_table.ipynb>data table notebook</a>'\n",
              "            + ' to learn more about interactive tables.';\n",
              "          element.innerHTML = '';\n",
              "          dataTable['output_type'] = 'display_data';\n",
              "          await google.colab.output.renderOutput(dataTable, element);\n",
              "          const docLink = document.createElement('div');\n",
              "          docLink.innerHTML = docLinkHtml;\n",
              "          element.appendChild(docLink);\n",
              "        }\n",
              "      </script>\n",
              "    </div>\n",
              "  </div>\n",
              "  "
            ]
          },
          "metadata": {},
          "execution_count": 12
        }
      ]
    },
    {
      "cell_type": "code",
      "source": [
        "corr = df.corr()\n",
        "sns.heatmap(corr, cmap = 'coolwarm', annot = True)\n",
        "\n",
        "## we can see WAR, PREDATOR, total RAPTOR and Pace Impact have a fairly close correlations"
      ],
      "metadata": {
        "id": "5bvnRUaKH-MZ",
        "colab": {
          "base_uri": "https://localhost:8080/",
          "height": 366
        },
        "outputId": "10e4f266-306c-4e4c-a998-d6131790e6d3"
      },
      "execution_count": 13,
      "outputs": [
        {
          "output_type": "execute_result",
          "data": {
            "text/plain": [
              "<matplotlib.axes._subplots.AxesSubplot at 0x7efda813e890>"
            ]
          },
          "metadata": {},
          "execution_count": 13
        },
        {
          "output_type": "display_data",
          "data": {
            "text/plain": [
              "<Figure size 432x288 with 2 Axes>"
            ],
            "image/png": "[encoded data removed]"
          },
          "metadata": {
            "needs_background": "light"
          }
        }
      ]
    },
    {
      "cell_type": "code",
      "source": [
        "sns.scatterplot(data=df, x='war_total', y='mp', legend = False)"
      ],
      "metadata": {
        "colab": {
          "base_uri": "https://localhost:8080/",
          "height": 298
        },
        "id": "Q8GdZRguIyxU",
        "outputId": "1bac7d4e-1e5c-4160-ccc8-f5d875926d4a"
      },
      "execution_count": 73,
      "outputs": [
        {
          "output_type": "execute_result",
          "data": {
            "text/plain": [
              "<matplotlib.axes._subplots.AxesSubplot at 0x7efda1f31390>"
            ]
          },
          "metadata": {},
          "execution_count": 73
        },
        {
          "output_type": "display_data",
          "data": {
            "text/plain": [
              "<Figure size 432x288 with 1 Axes>"
            ],
            "image/png": "[encoded data removed]"
          },
          "metadata": {
            "needs_background": "light"
          }
        }
      ]
    },
    {
      "cell_type": "code",
      "source": [
        "sns.jointplot(data=df, x='war_total', y='pace_impact', legend = False)"
      ],
      "metadata": {
        "colab": {
          "base_uri": "https://localhost:8080/",
          "height": 459
        },
        "id": "7B7Yf_eX5aB2",
        "outputId": "db759ce1-8afc-45b2-9e58-01ad7e5d4d57"
      },
      "execution_count": 60,
      "outputs": [
        {
          "output_type": "execute_result",
          "data": {
            "text/plain": [
              "<seaborn.axisgrid.JointGrid at 0x7efda295a310>"
            ]
          },
          "metadata": {},
          "execution_count": 60
        },
        {
          "output_type": "display_data",
          "data": {
            "text/plain": [
              "<Figure size 432x432 with 3 Axes>"
            ],
            "image/png": "[encoded data removed]"
          },
          "metadata": {
            "needs_background": "light"
          }
        }
      ]
    },
    {
      "cell_type": "code",
      "source": [
        "sns.scatterplot(data=df, x='war_total', y='raptor_total', legend = False)\n",
        "\n",
        "## there are several distinct outliers that give us a better picture of who could be our ideal player"
      ],
      "metadata": {
        "id": "_XH6WpoJakat",
        "colab": {
          "base_uri": "https://localhost:8080/",
          "height": 298
        },
        "outputId": "84b3e35b-b5ce-4725-8429-7ecd583642e4"
      },
      "execution_count": 16,
      "outputs": [
        {
          "output_type": "execute_result",
          "data": {
            "text/plain": [
              "<matplotlib.axes._subplots.AxesSubplot at 0x7efda4f43b90>"
            ]
          },
          "metadata": {},
          "execution_count": 16
        },
        {
          "output_type": "display_data",
          "data": {
            "text/plain": [
              "<Figure size 432x288 with 1 Axes>"
            ],
            "image/png": "[encoded data removed]"
          },
          "metadata": {
            "needs_background": "light"
          }
        }
      ]
    },
    {
      "cell_type": "code",
      "source": [
        "maxWAR = df[['war_total', 'raptor_total']].max()\n",
        "print(maxWAR) "
      ],
      "metadata": {
        "colab": {
          "base_uri": "https://localhost:8080/"
        },
        "id": "jcu-o10roVYp",
        "outputId": "11acc48c-ab4b-4de9-a94d-c4d43f1255ba"
      },
      "execution_count": 17,
      "outputs": [
        {
          "output_type": "stream",
          "name": "stdout",
          "text": [
            "war_total       26.666873\n",
            "raptor_total    12.487858\n",
            "dtype: float64\n"
          ]
        }
      ]
    },
    {
      "cell_type": "code",
      "source": [
        "print('Our highest WAR candidate is ')\n",
        "print(df[df.war_total == df.war_total.max()])"
      ],
      "metadata": {
        "colab": {
          "base_uri": "https://localhost:8080/"
        },
        "id": "PAxmLoflpGTH",
        "outputId": "2f7999d9-7a07-4e1c-8088-f42e36992d81"
      },
      "execution_count": 18,
      "outputs": [
        {
          "output_type": "stream",
          "name": "stdout",
          "text": [
            "Our highest WAR candidate is \n",
            "     poss    mp  raptor_onoff_total  raptor_total  war_total  predator_total  \\\n",
            "902  7053  3314           11.189594     12.487858  26.666873       13.347925   \n",
            "\n",
            "     pace_impact  \n",
            "902     3.306111  \n"
          ]
        }
      ]
    },
    {
      "cell_type": "code",
      "source": [
        "print('Our highest RAPTOR candidate is ')\n",
        "print(df[df.raptor_total == df.raptor_total.max()])\n",
        "\n",
        "## our top choice is averages 26.6 WAR, almost a 12.5 on RAPTOR"
      ],
      "metadata": {
        "colab": {
          "base_uri": "https://localhost:8080/"
        },
        "outputId": "bd5d4384-5a52-4cb8-de0c-dd35e861c84c",
        "id": "iWFaTFexp_xx"
      },
      "execution_count": 19,
      "outputs": [
        {
          "output_type": "stream",
          "name": "stdout",
          "text": [
            "Our highest RAPTOR candidate is \n",
            "     poss    mp  raptor_onoff_total  raptor_total  war_total  predator_total  \\\n",
            "902  7053  3314           11.189594     12.487858  26.666873       13.347925   \n",
            "\n",
            "     pace_impact  \n",
            "902     3.306111  \n"
          ]
        }
      ]
    },
    {
      "cell_type": "code",
      "source": [
        "x = df[['war_total', 'raptor_total']]\n",
        "x"
      ],
      "metadata": {
        "colab": {
          "base_uri": "https://localhost:8080/",
          "height": 424
        },
        "id": "eZ-W8R-sD5r2",
        "outputId": "dd879897-4f94-400d-81af-5713e1a8e601"
      },
      "execution_count": 20,
      "outputs": [
        {
          "output_type": "execute_result",
          "data": {
            "text/plain": [
              "      war_total  raptor_total\n",
              "127   14.269861      6.806518\n",
              "128   13.149613      8.778267\n",
              "129   13.666796      6.588248\n",
              "160    8.034787      2.146961\n",
              "272    8.669646      2.140857\n",
              "...         ...           ...\n",
              "3948   7.619304      3.677213\n",
              "3949   6.274484      1.882814\n",
              "3978   5.983387      2.965017\n",
              "4051   7.192127      3.716428\n",
              "4052   6.963372      2.119096\n",
              "\n",
              "[106 rows x 2 columns]"
            ],
            "text/html": [
              "\n",
              "  <div id=\"df-92d55195-77bc-4674-bb01-4ebc36ee804c\">\n",
              "    <div class=\"colab-df-container\">\n",
              "      <div>\n",
              "<style scoped>\n",
              "    .dataframe tbody tr th:only-of-type {\n",
              "        vertical-align: middle;\n",
              "    }\n",
              "\n",
              "    .dataframe tbody tr th {\n",
              "        vertical-align: top;\n",
              "    }\n",
              "\n",
              "    .dataframe thead th {\n",
              "        text-align: right;\n",
              "    }\n",
              "</style>\n",
              "<table border=\"1\" class=\"dataframe\">\n",
              "  <thead>\n",
              "    <tr style=\"text-align: right;\">\n",
              "      <th></th>\n",
              "      <th>war_total</th>\n",
              "      <th>raptor_total</th>\n",
              "    </tr>\n",
              "  </thead>\n",
              "  <tbody>\n",
              "    <tr>\n",
              "      <th>127</th>\n",
              "      <td>14.269861</td>\n",
              "      <td>6.806518</td>\n",
              "    </tr>\n",
              "    <tr>\n",
              "      <th>128</th>\n",
              "      <td>13.149613</td>\n",
              "      <td>8.778267</td>\n",
              "    </tr>\n",
              "    <tr>\n",
              "      <th>129</th>\n",
              "      <td>13.666796</td>\n",
              "      <td>6.588248</td>\n",
              "    </tr>\n",
              "    <tr>\n",
              "      <th>160</th>\n",
              "      <td>8.034787</td>\n",
              "      <td>2.146961</td>\n",
              "    </tr>\n",
              "    <tr>\n",
              "      <th>272</th>\n",
              "      <td>8.669646</td>\n",
              "      <td>2.140857</td>\n",
              "    </tr>\n",
              "    <tr>\n",
              "      <th>...</th>\n",
              "      <td>...</td>\n",
              "      <td>...</td>\n",
              "    </tr>\n",
              "    <tr>\n",
              "      <th>3948</th>\n",
              "      <td>7.619304</td>\n",
              "      <td>3.677213</td>\n",
              "    </tr>\n",
              "    <tr>\n",
              "      <th>3949</th>\n",
              "      <td>6.274484</td>\n",
              "      <td>1.882814</td>\n",
              "    </tr>\n",
              "    <tr>\n",
              "      <th>3978</th>\n",
              "      <td>5.983387</td>\n",
              "      <td>2.965017</td>\n",
              "    </tr>\n",
              "    <tr>\n",
              "      <th>4051</th>\n",
              "      <td>7.192127</td>\n",
              "      <td>3.716428</td>\n",
              "    </tr>\n",
              "    <tr>\n",
              "      <th>4052</th>\n",
              "      <td>6.963372</td>\n",
              "      <td>2.119096</td>\n",
              "    </tr>\n",
              "  </tbody>\n",
              "</table>\n",
              "<p>106 rows × 2 columns</p>\n",
              "</div>\n",
              "      <button class=\"colab-df-convert\" onclick=\"convertToInteractive('df-92d55195-77bc-4674-bb01-4ebc36ee804c')\"\n",
              "              title=\"Convert this dataframe to an interactive table.\"\n",
              "              style=\"display:none;\">\n",
              "        \n",
              "  <svg xmlns=\"http://www.w3.org/2000/svg\" height=\"24px\"viewBox=\"0 0 24 24\"\n",
              "       width=\"24px\">\n",
              "    <path d=\"M0 0h24v24H0V0z\" fill=\"none\"/>\n",
              "    <path d=\"M18.56 5.44l.94 2.06.94-2.06 2.06-.94-2.06-.94-.94-2.06-.94 2.06-2.06.94zm-11 1L8.5 8.5l.94-2.06 2.06-.94-2.06-.94L8.5 2.5l-.94 2.06-2.06.94zm10 10l.94 2.06.94-2.06 2.06-.94-2.06-.94-.94-2.06-.94 2.06-2.06.94z\"/><path d=\"M17.41 7.96l-1.37-1.37c-.4-.4-.92-.59-1.43-.59-.52 0-1.04.2-1.43.59L10.3 9.45l-7.72 7.72c-.78.78-.78 2.05 0 2.83L4 21.41c.39.39.9.59 1.41.59.51 0 1.02-.2 1.41-.59l7.78-7.78 2.81-2.81c.8-.78.8-2.07 0-2.86zM5.41 20L4 18.59l7.72-7.72 1.47 1.35L5.41 20z\"/>\n",
              "  </svg>\n",
              "      </button>\n",
              "      \n",
              "  <style>\n",
              "    .colab-df-container {\n",
              "      display:flex;\n",
              "      flex-wrap:wrap;\n",
              "      gap: 12px;\n",
              "    }\n",
              "\n",
              "    .colab-df-convert {\n",
              "      background-color: #E8F0FE;\n",
              "      border: none;\n",
              "      border-radius: 50%;\n",
              "      cursor: pointer;\n",
              "      display: none;\n",
              "      fill: #1967D2;\n",
              "      height: 32px;\n",
              "      padding: 0 0 0 0;\n",
              "      width: 32px;\n",
              "    }\n",
              "\n",
              "    .colab-df-convert:hover {\n",
              "      background-color: #E2EBFA;\n",
              "      box-shadow: 0px 1px 2px rgba(60, 64, 67, 0.3), 0px 1px 3px 1px rgba(60, 64, 67, 0.15);\n",
              "      fill: #174EA6;\n",
              "    }\n",
              "\n",
              "    [theme=dark] .colab-df-convert {\n",
              "      background-color: #3B4455;\n",
              "      fill: #D2E3FC;\n",
              "    }\n",
              "\n",
              "    [theme=dark] .colab-df-convert:hover {\n",
              "      background-color: #434B5C;\n",
              "      box-shadow: 0px 1px 3px 1px rgba(0, 0, 0, 0.15);\n",
              "      filter: drop-shadow(0px 1px 2px rgba(0, 0, 0, 0.3));\n",
              "      fill: #FFFFFF;\n",
              "    }\n",
              "  </style>\n",
              "\n",
              "      <script>\n",
              "        const buttonEl =\n",
              "          document.querySelector('#df-92d55195-77bc-4674-bb01-4ebc36ee804c button.colab-df-convert');\n",
              "        buttonEl.style.display =\n",
              "          google.colab.kernel.accessAllowed ? 'block' : 'none';\n",
              "\n",
              "        async function convertToInteractive(key) {\n",
              "          const element = document.querySelector('#df-92d55195-77bc-4674-bb01-4ebc36ee804c');\n",
              "          const dataTable =\n",
              "            await google.colab.kernel.invokeFunction('convertToInteractive',\n",
              "                                                     [key], {});\n",
              "          if (!dataTable) return;\n",
              "\n",
              "          const docLinkHtml = 'Like what you see? Visit the ' +\n",
              "            '<a target=\"_blank\" href=https://colab.research.google.com/notebooks/data_table.ipynb>data table notebook</a>'\n",
              "            + ' to learn more about interactive tables.';\n",
              "          element.innerHTML = '';\n",
              "          dataTable['output_type'] = 'display_data';\n",
              "          await google.colab.output.renderOutput(dataTable, element);\n",
              "          const docLink = document.createElement('div');\n",
              "          docLink.innerHTML = docLinkHtml;\n",
              "          element.appendChild(docLink);\n",
              "        }\n",
              "      </script>\n",
              "    </div>\n",
              "  </div>\n",
              "  "
            ]
          },
          "metadata": {},
          "execution_count": 20
        }
      ]
    },
    {
      "cell_type": "code",
      "source": [
        "scaler = StandardScaler()\n",
        "scaled_x = scaler.fit_transform(x)"
      ],
      "metadata": {
        "id": "otKWqmb54Fxw"
      },
      "execution_count": 21,
      "outputs": []
    },
    {
      "cell_type": "code",
      "source": [
        "ks = range(2,9) \n",
        "inertias = []\n",
        "\n",
        "for k in ks:\n",
        "   kmeans = KMeans(n_clusters=k, random_state=42)\n",
        "   kmeans.fit(scaled_x)\n",
        "   inertias.append(kmeans.inertia_)\n",
        "\n",
        "plt.plot(ks, inertias, marker = '.')\n",
        "plt.xlabel('Number of Clusters')\n",
        "plt.ylabel('Inertia')\n",
        "plt.show()"
      ],
      "metadata": {
        "colab": {
          "base_uri": "https://localhost:8080/",
          "height": 279
        },
        "id": "gZ9uLxno49RL",
        "outputId": "e665c935-93ab-45a6-ecc6-2eec6acd7988"
      },
      "execution_count": 22,
      "outputs": [
        {
          "output_type": "display_data",
          "data": {
            "text/plain": [
              "<Figure size 432x288 with 1 Axes>"
            ],
            "image/png": "[encoded data removed]"
          },
          "metadata": {
            "needs_background": "light"
          }
        }
      ]
    },
    {
      "cell_type": "code",
      "source": [
        "ks = range(2,8)\n",
        "sil = []\n",
        "\n",
        "for k in ks:\n",
        "  kmeans = KMeans(n_clusters=k, random_state=42)\n",
        "  kmeans.fit(scaled_x)\n",
        "  sil.append(silhouette_score(scaled_x, kmeans.labels_))\n",
        "\n",
        "plt.plot(ks, sil, marker = '.')\n",
        "plt.xlabel('Number of Clusters')\n",
        "plt.ylabel('Silo Score')\n",
        "plt.show()"
      ],
      "metadata": {
        "colab": {
          "base_uri": "https://localhost:8080/",
          "height": 279
        },
        "id": "mrrPgaoP4QBh",
        "outputId": "344fb66f-8785-4833-ecd7-306da4ab3495"
      },
      "execution_count": 23,
      "outputs": [
        {
          "output_type": "display_data",
          "data": {
            "text/plain": [
              "<Figure size 432x288 with 1 Axes>"
            ],
            "image/png": "[encoded data removed]"
          },
          "metadata": {
            "needs_background": "light"
          }
        }
      ]
    },
    {
      "cell_type": "code",
      "source": [
        "km = KMeans(n_clusters=2, random_state=42)\n",
        "km.fit(scaled_x)\n",
        "silhouette_score(scaled_x, kmeans.labels_)"
      ],
      "metadata": {
        "colab": {
          "base_uri": "https://localhost:8080/"
        },
        "id": "tWlXZbhz5jSF",
        "outputId": "51855f16-5eee-4686-f83d-e0506765aebe"
      },
      "execution_count": 24,
      "outputs": [
        {
          "output_type": "execute_result",
          "data": {
            "text/plain": [
              "0.3998763695205408"
            ]
          },
          "metadata": {},
          "execution_count": 24
        }
      ]
    },
    {
      "cell_type": "code",
      "source": [
        "kmeans3 = KMeans(n_clusters = 3, random_state = 42)\n",
        "kmeans3.fit(scaled_x)"
      ],
      "metadata": {
        "colab": {
          "base_uri": "https://localhost:8080/"
        },
        "id": "fLnrE5CA6a27",
        "outputId": "2362ad4e-6930-432b-cad1-0ce9c58d92d3"
      },
      "execution_count": 25,
      "outputs": [
        {
          "output_type": "execute_result",
          "data": {
            "text/plain": [
              "KMeans(n_clusters=3, random_state=42)"
            ]
          },
          "metadata": {},
          "execution_count": 25
        }
      ]
    },
    {
      "cell_type": "code",
      "source": [
        "df['cluster3'] = kmeans3.labels_\n",
        "\n",
        "plt.scatter(df['war_total'], df['raptor_total'], c = df['cluster3'])\n",
        "plt.xlabel(\"Wins Above Replacement\")\n",
        "plt.ylabel(\"RAPTOR\")\n",
        "plt.show()"
      ],
      "metadata": {
        "colab": {
          "base_uri": "https://localhost:8080/",
          "height": 279
        },
        "id": "BPLJS20J6GRM",
        "outputId": "6f71a7ee-aec6-4c59-e6e4-a80a5ee20ef5"
      },
      "execution_count": 26,
      "outputs": [
        {
          "output_type": "display_data",
          "data": {
            "text/plain": [
              "<Figure size 432x288 with 1 Axes>"
            ],
            "image/png": "[encoded data removed]"
          },
          "metadata": {
            "needs_background": "light"
          }
        }
      ]
    },
    {
      "cell_type": "code",
      "source": [
        "cluster_groups = df.groupby('cluster3', as_index=False).mean()\n",
        "cluster_groups"
      ],
      "metadata": {
        "colab": {
          "base_uri": "https://localhost:8080/",
          "height": 143
        },
        "id": "H4WCxswQ9iv8",
        "outputId": "7f5087a1-31a6-419f-a055-3295f1b44cae"
      },
      "execution_count": 27,
      "outputs": [
        {
          "output_type": "execute_result",
          "data": {
            "text/plain": [
              "   cluster3         poss           mp  raptor_onoff_total  raptor_total  \\\n",
              "0         0  4244.351852  2021.814815            1.852406      2.548608   \n",
              "1         1  6740.882353  3212.705882            8.719294      8.316515   \n",
              "2         2  5083.171429  2420.457143            4.954543      5.822017   \n",
              "\n",
              "   war_total  predator_total  pace_impact  \n",
              "0   5.475568        2.834505     1.409147  \n",
              "1  18.663305        8.866646     2.187841  \n",
              "2  10.710635        6.057404     1.638550  "
            ],
            "text/html": [
              "\n",
              "  <div id=\"df-a1a6bc25-e8e6-4bcd-9bf6-a911f274c242\">\n",
              "    <div class=\"colab-df-container\">\n",
              "      <div>\n",
              "<style scoped>\n",
              "    .dataframe tbody tr th:only-of-type {\n",
              "        vertical-align: middle;\n",
              "    }\n",
              "\n",
              "    .dataframe tbody tr th {\n",
              "        vertical-align: top;\n",
              "    }\n",
              "\n",
              "    .dataframe thead th {\n",
              "        text-align: right;\n",
              "    }\n",
              "</style>\n",
              "<table border=\"1\" class=\"dataframe\">\n",
              "  <thead>\n",
              "    <tr style=\"text-align: right;\">\n",
              "      <th></th>\n",
              "      <th>cluster3</th>\n",
              "      <th>poss</th>\n",
              "      <th>mp</th>\n",
              "      <th>raptor_onoff_total</th>\n",
              "      <th>raptor_total</th>\n",
              "      <th>war_total</th>\n",
              "      <th>predator_total</th>\n",
              "      <th>pace_impact</th>\n",
              "    </tr>\n",
              "  </thead>\n",
              "  <tbody>\n",
              "    <tr>\n",
              "      <th>0</th>\n",
              "      <td>0</td>\n",
              "      <td>4244.351852</td>\n",
              "      <td>2021.814815</td>\n",
              "      <td>1.852406</td>\n",
              "      <td>2.548608</td>\n",
              "      <td>5.475568</td>\n",
              "      <td>2.834505</td>\n",
              "      <td>1.409147</td>\n",
              "    </tr>\n",
              "    <tr>\n",
              "      <th>1</th>\n",
              "      <td>1</td>\n",
              "      <td>6740.882353</td>\n",
              "      <td>3212.705882</td>\n",
              "      <td>8.719294</td>\n",
              "      <td>8.316515</td>\n",
              "      <td>18.663305</td>\n",
              "      <td>8.866646</td>\n",
              "      <td>2.187841</td>\n",
              "    </tr>\n",
              "    <tr>\n",
              "      <th>2</th>\n",
              "      <td>2</td>\n",
              "      <td>5083.171429</td>\n",
              "      <td>2420.457143</td>\n",
              "      <td>4.954543</td>\n",
              "      <td>5.822017</td>\n",
              "      <td>10.710635</td>\n",
              "      <td>6.057404</td>\n",
              "      <td>1.638550</td>\n",
              "    </tr>\n",
              "  </tbody>\n",
              "</table>\n",
              "</div>\n",
              "      <button class=\"colab-df-convert\" onclick=\"convertToInteractive('df-a1a6bc25-e8e6-4bcd-9bf6-a911f274c242')\"\n",
              "              title=\"Convert this dataframe to an interactive table.\"\n",
              "              style=\"display:none;\">\n",
              "        \n",
              "  <svg xmlns=\"http://www.w3.org/2000/svg\" height=\"24px\"viewBox=\"0 0 24 24\"\n",
              "       width=\"24px\">\n",
              "    <path d=\"M0 0h24v24H0V0z\" fill=\"none\"/>\n",
              "    <path d=\"M18.56 5.44l.94 2.06.94-2.06 2.06-.94-2.06-.94-.94-2.06-.94 2.06-2.06.94zm-11 1L8.5 8.5l.94-2.06 2.06-.94-2.06-.94L8.5 2.5l-.94 2.06-2.06.94zm10 10l.94 2.06.94-2.06 2.06-.94-2.06-.94-.94-2.06-.94 2.06-2.06.94z\"/><path d=\"M17.41 7.96l-1.37-1.37c-.4-.4-.92-.59-1.43-.59-.52 0-1.04.2-1.43.59L10.3 9.45l-7.72 7.72c-.78.78-.78 2.05 0 2.83L4 21.41c.39.39.9.59 1.41.59.51 0 1.02-.2 1.41-.59l7.78-7.78 2.81-2.81c.8-.78.8-2.07 0-2.86zM5.41 20L4 18.59l7.72-7.72 1.47 1.35L5.41 20z\"/>\n",
              "  </svg>\n",
              "      </button>\n",
              "      \n",
              "  <style>\n",
              "    .colab-df-container {\n",
              "      display:flex;\n",
              "      flex-wrap:wrap;\n",
              "      gap: 12px;\n",
              "    }\n",
              "\n",
              "    .colab-df-convert {\n",
              "      background-color: #E8F0FE;\n",
              "      border: none;\n",
              "      border-radius: 50%;\n",
              "      cursor: pointer;\n",
              "      display: none;\n",
              "      fill: #1967D2;\n",
              "      height: 32px;\n",
              "      padding: 0 0 0 0;\n",
              "      width: 32px;\n",
              "    }\n",
              "\n",
              "    .colab-df-convert:hover {\n",
              "      background-color: #E2EBFA;\n",
              "      box-shadow: 0px 1px 2px rgba(60, 64, 67, 0.3), 0px 1px 3px 1px rgba(60, 64, 67, 0.15);\n",
              "      fill: #174EA6;\n",
              "    }\n",
              "\n",
              "    [theme=dark] .colab-df-convert {\n",
              "      background-color: #3B4455;\n",
              "      fill: #D2E3FC;\n",
              "    }\n",
              "\n",
              "    [theme=dark] .colab-df-convert:hover {\n",
              "      background-color: #434B5C;\n",
              "      box-shadow: 0px 1px 3px 1px rgba(0, 0, 0, 0.15);\n",
              "      filter: drop-shadow(0px 1px 2px rgba(0, 0, 0, 0.3));\n",
              "      fill: #FFFFFF;\n",
              "    }\n",
              "  </style>\n",
              "\n",
              "      <script>\n",
              "        const buttonEl =\n",
              "          document.querySelector('#df-a1a6bc25-e8e6-4bcd-9bf6-a911f274c242 button.colab-df-convert');\n",
              "        buttonEl.style.display =\n",
              "          google.colab.kernel.accessAllowed ? 'block' : 'none';\n",
              "\n",
              "        async function convertToInteractive(key) {\n",
              "          const element = document.querySelector('#df-a1a6bc25-e8e6-4bcd-9bf6-a911f274c242');\n",
              "          const dataTable =\n",
              "            await google.colab.kernel.invokeFunction('convertToInteractive',\n",
              "                                                     [key], {});\n",
              "          if (!dataTable) return;\n",
              "\n",
              "          const docLinkHtml = 'Like what you see? Visit the ' +\n",
              "            '<a target=\"_blank\" href=https://colab.research.google.com/notebooks/data_table.ipynb>data table notebook</a>'\n",
              "            + ' to learn more about interactive tables.';\n",
              "          element.innerHTML = '';\n",
              "          dataTable['output_type'] = 'display_data';\n",
              "          await google.colab.output.renderOutput(dataTable, element);\n",
              "          const docLink = document.createElement('div');\n",
              "          docLink.innerHTML = docLinkHtml;\n",
              "          element.appendChild(docLink);\n",
              "        }\n",
              "      </script>\n",
              "    </div>\n",
              "  </div>\n",
              "  "
            ]
          },
          "metadata": {},
          "execution_count": 27
        }
      ]
    },
    {
      "cell_type": "code",
      "source": [
        "fig, axes = plt.subplots(2,5, figsize = (20, 10))\n",
        "\n",
        "axes = axes.ravel()\n",
        "\n",
        "for i, col in enumerate(cluster_groups.columns[1:]):\n",
        "  axes[i].bar(cluster_groups['cluster3'], cluster_groups[col])\n",
        "  axes[i].set_title(f'Mean {col}')"
      ],
      "metadata": {
        "colab": {
          "base_uri": "https://localhost:8080/",
          "height": 607
        },
        "id": "n-CP1QsUxMBj",
        "outputId": "f41bec3f-a605-41c8-fd78-937f9b89a98d"
      },
      "execution_count": 28,
      "outputs": [
        {
          "output_type": "display_data",
          "data": {
            "text/plain": [
              "<Figure size 1440x720 with 10 Axes>"
            ],
            "image/png": "[encoded data removed]"
          },
          "metadata": {
            "needs_background": "light"
          }
        }
      ]
    },
    {
      "cell_type": "code",
      "source": [
        "y = df['war_total']\n",
        "X = df.drop(columns = 'war_total')"
      ],
      "metadata": {
        "id": "qO6g62Vh7cVr"
      },
      "execution_count": 29,
      "outputs": []
    },
    {
      "cell_type": "code",
      "source": [
        "X_train, X_test, y_train, y_test = train_test_split(X, y, random_state=42)"
      ],
      "metadata": {
        "id": "M45-xCc87q5A"
      },
      "execution_count": 30,
      "outputs": []
    },
    {
      "cell_type": "code",
      "source": [
        "pca = PCA(n_components = .98)\n",
        "knn = KNeighborsRegressor()\n",
        "\n",
        "preprocessor = make_pipeline(scaler, pca)"
      ],
      "metadata": {
        "id": "7rR5s-a-n2dS"
      },
      "execution_count": 31,
      "outputs": []
    },
    {
      "cell_type": "code",
      "source": [
        "transformer = make_pipeline(scaler, pca)\n",
        "knn_pca_pipe = make_pipeline(transformer, knn)\n",
        "knn_pca_pipe.fit(X_train, y_train)"
      ],
      "metadata": {
        "colab": {
          "base_uri": "https://localhost:8080/"
        },
        "id": "MjaKR97R9mTn",
        "outputId": "5ae2819b-89a4-4a23-a2f0-fdeac974a2d9"
      },
      "execution_count": 32,
      "outputs": [
        {
          "output_type": "execute_result",
          "data": {
            "text/plain": [
              "Pipeline(steps=[('pipeline',\n",
              "                 Pipeline(steps=[('standardscaler', StandardScaler()),\n",
              "                                 ('pca', PCA(n_components=0.98))])),\n",
              "                ('kneighborsregressor', KNeighborsRegressor())])"
            ]
          },
          "metadata": {},
          "execution_count": 32
        }
      ]
    },
    {
      "cell_type": "code",
      "source": [
        "def evaluate_model(y_true, y_pred):\n",
        "  \n",
        "  mae = mean_absolute_error(y_true, y_pred)\n",
        "  mse = mean_squared_error(y_true, y_pred)\n",
        "  r2 = r2_score(y_true, y_pred)\n",
        "  rmse = np.sqrt(mse)\n",
        "  print(f'MAE {mae}\\n MSE {mse}\\n R^2 {r2}\\n RMSE{rmse}')"
      ],
      "metadata": {
        "id": "aLIzNJT5q305"
      },
      "execution_count": 33,
      "outputs": []
    },
    {
      "cell_type": "code",
      "source": [
        "knn_pca_pipe_trainpreds = knn_pca_pipe.predict(X_train)\n",
        "knn_pca_pipe_testpreds = knn_pca_pipe.predict(X_test)"
      ],
      "metadata": {
        "id": "f3wz9cehrkHu"
      },
      "execution_count": 34,
      "outputs": []
    },
    {
      "cell_type": "code",
      "source": [
        "print('Training Data')\n",
        "evaluate_model(y_train, knn_pca_pipe_trainpreds)\n",
        "print('\\n')\n",
        "print('Test Data')\n",
        "evaluate_model(y_test, knn_pca_pipe_testpreds)"
      ],
      "metadata": {
        "colab": {
          "base_uri": "https://localhost:8080/"
        },
        "id": "E83aEj5YsLvW",
        "outputId": "3a7f2495-63b7-4d76-c8b2-1573a7d124ff"
      },
      "execution_count": 35,
      "outputs": [
        {
          "output_type": "stream",
          "name": "stdout",
          "text": [
            "Training Data\n",
            "MAE 0.7687653814497225\n",
            " MSE 1.4274307956296834\n",
            " R^2 0.9483050884597957\n",
            " RMSE1.1947513530562264\n",
            "\n",
            "\n",
            "Test Data\n",
            "MAE 0.9439414835787582\n",
            " MSE 1.5566817992737885\n",
            " R^2 0.955037236366426\n",
            " RMSE1.2476705491730533\n"
          ]
        }
      ]
    },
    {
      "cell_type": "code",
      "source": [
        "knn_pipe = make_pipeline(scaler, KNeighborsRegressor())\n",
        "knn_pipe.fit(X_train, y_train)"
      ],
      "metadata": {
        "colab": {
          "base_uri": "https://localhost:8080/"
        },
        "id": "GQz60vk37A8z",
        "outputId": "65e475b6-4b83-42ea-b25b-941ef68a096e"
      },
      "execution_count": 36,
      "outputs": [
        {
          "output_type": "execute_result",
          "data": {
            "text/plain": [
              "Pipeline(steps=[('standardscaler', StandardScaler()),\n",
              "                ('kneighborsregressor', KNeighborsRegressor())])"
            ]
          },
          "metadata": {},
          "execution_count": 36
        }
      ]
    },
    {
      "cell_type": "code",
      "source": [
        "pred_no_pca = knn_pipe.predict(X_test)\n",
        "pred_no_pca"
      ],
      "metadata": {
        "colab": {
          "base_uri": "https://localhost:8080/"
        },
        "id": "pj9-712X7P4A",
        "outputId": "3d0f088d-0f61-44cd-afba-901a547ee20b"
      },
      "execution_count": 37,
      "outputs": [
        {
          "output_type": "execute_result",
          "data": {
            "text/plain": [
              "array([ 6.57188292,  3.30754004,  8.84869351,  4.6312234 , 18.26009402,\n",
              "       12.94229314, 10.54381144,  5.95715345,  8.05152805,  5.01046354,\n",
              "        5.21450259, 12.82553093, 13.29683015,  4.00711359,  2.81908711,\n",
              "        2.65376318,  6.31914823, 15.74779539,  8.13539395, 17.7846155 ,\n",
              "        6.00042081,  2.65376318, 12.71572599, 16.95555751, 21.15274203,\n",
              "       12.71572599,  9.29713636])"
            ]
          },
          "metadata": {},
          "execution_count": 37
        }
      ]
    },
    {
      "cell_type": "code",
      "source": [
        "acc_score = knn_pipe.score(X_test, y_test)\n",
        "acc_score"
      ],
      "metadata": {
        "colab": {
          "base_uri": "https://localhost:8080/"
        },
        "id": "_SgytfCo_Qnt",
        "outputId": "1c6d279a-514a-46c3-9e26-db05fa6e6801"
      },
      "execution_count": 38,
      "outputs": [
        {
          "output_type": "execute_result",
          "data": {
            "text/plain": [
              "0.9535784761801103"
            ]
          },
          "metadata": {},
          "execution_count": 38
        }
      ]
    },
    {
      "cell_type": "code",
      "source": [
        "d_tree = DecisionTreeRegressor(random_state = 42)\n",
        "d_tree.fit(X_train, y_train)"
      ],
      "metadata": {
        "colab": {
          "base_uri": "https://localhost:8080/"
        },
        "id": "qn8UteSgAWm3",
        "outputId": "5bb3805e-fc07-44e3-ae9a-55f481c6aa72"
      },
      "execution_count": 39,
      "outputs": [
        {
          "output_type": "execute_result",
          "data": {
            "text/plain": [
              "DecisionTreeRegressor(random_state=42)"
            ]
          },
          "metadata": {},
          "execution_count": 39
        }
      ]
    },
    {
      "cell_type": "code",
      "source": [
        "dtrain_pred = d_tree.predict(X_train)\n",
        "dtest_pred = d_tree.predict(X_test)"
      ],
      "metadata": {
        "id": "718dpUSYAmak"
      },
      "execution_count": 40,
      "outputs": []
    },
    {
      "cell_type": "code",
      "source": [
        "dtrain_score = d_tree.score(X_train, y_train)\n",
        "dtest_score = d_tree.score(X_test, y_test)\n",
        "print(dtrain_score)\n",
        "print(dtest_score)"
      ],
      "metadata": {
        "colab": {
          "base_uri": "https://localhost:8080/"
        },
        "id": "yAd90JSiAv-0",
        "outputId": "53cc87a5-4c01-41f8-b0a7-48b6b2334f49"
      },
      "execution_count": 41,
      "outputs": [
        {
          "output_type": "stream",
          "name": "stdout",
          "text": [
            "1.0\n",
            "0.808142230540813\n"
          ]
        }
      ]
    },
    {
      "cell_type": "code",
      "source": [
        "d_tree.get_depth()"
      ],
      "metadata": {
        "colab": {
          "base_uri": "https://localhost:8080/"
        },
        "id": "Vw2j41F-A5gb",
        "outputId": "ca54f419-696a-404c-aac6-b247674b5a81"
      },
      "execution_count": 42,
      "outputs": [
        {
          "output_type": "execute_result",
          "data": {
            "text/plain": [
              "11"
            ]
          },
          "metadata": {},
          "execution_count": 42
        }
      ]
    },
    {
      "cell_type": "code",
      "source": [
        "d_tree_12 = DecisionTreeRegressor(max_depth = 11, random_state = 42)\n",
        "d_tree_12.fit(X_train, y_train)\n",
        "dtrain_12_score = d_tree_12.score(X_train, y_train)\n",
        "dtest_12_score = d_tree_12.score(X_test, y_test)\n",
        "print(dtrain_12_score)\n",
        "print(dtest_12_score)"
      ],
      "metadata": {
        "colab": {
          "base_uri": "https://localhost:8080/"
        },
        "id": "uQ5NfuC_3Syh",
        "outputId": "01552f83-7ae4-4410-a825-84e78e3cd8f4"
      },
      "execution_count": 48,
      "outputs": [
        {
          "output_type": "stream",
          "name": "stdout",
          "text": [
            "1.0\n",
            "0.808142230540813\n"
          ]
        }
      ]
    },
    {
      "cell_type": "code",
      "source": [
        "d_tree_9 = DecisionTreeRegressor(max_depth = 9, random_state = 42)\n",
        "d_tree_9.fit(X_train, y_train)\n",
        "dtrain_9_score = d_tree_9.score(X_train, y_train)\n",
        "dtest_9_score = d_tree_9.score(X_test, y_test)\n",
        "print(dtrain_9_score)\n",
        "print(dtest_9_score)"
      ],
      "metadata": {
        "colab": {
          "base_uri": "https://localhost:8080/"
        },
        "id": "VnHF7_LLA7ja",
        "outputId": "6ef24e1d-8ca5-49f5-c1b3-98ad7b784f77"
      },
      "execution_count": 53,
      "outputs": [
        {
          "output_type": "stream",
          "name": "stdout",
          "text": [
            "0.9999470975372419\n",
            "0.9248824304933477\n"
          ]
        }
      ]
    },
    {
      "cell_type": "code",
      "source": [
        "d_tree_5 = DecisionTreeRegressor(max_depth = 5, random_state = 42)\n",
        "d_tree_5.fit(X_train, y_train)\n",
        "dtrain_5_score = d_tree_5.score(X_train, y_train)\n",
        "dtest_5_score = d_tree_5.score(X_test, y_test)\n",
        "print(dtrain_5_score)\n",
        "print(dtest_5_score)\n",
        "\n",
        "## there is an approximate difference of .0711 between our training and testing data"
      ],
      "metadata": {
        "colab": {
          "base_uri": "https://localhost:8080/"
        },
        "id": "agcMxVjO3de7",
        "outputId": "713aea40-9933-4819-d165-d924ae1777bc"
      },
      "execution_count": 45,
      "outputs": [
        {
          "output_type": "stream",
          "name": "stdout",
          "text": [
            "0.9895867601133038\n",
            "0.9184753800086208\n"
          ]
        }
      ]
    },
    {
      "cell_type": "markdown",
      "source": [
        "## In comparison to the PCA and KNN without PCA, it can be seen that a Decision Tree Regression yields the least a mount of overfitting."
      ],
      "metadata": {
        "id": "TSSmOjk7B6aT"
      }
    }
  ]
}