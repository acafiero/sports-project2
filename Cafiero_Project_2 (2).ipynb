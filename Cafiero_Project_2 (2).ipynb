{
  "nbformat": 4,
  "nbformat_minor": 0,
  "metadata": {
    "colab": {
      "provenance": [],
      "collapsed_sections": [
        "TSSmOjk7B6aT"
      ]
    },
    "kernelspec": {
      "name": "python3",
      "display_name": "Python 3"
    },
    "language_info": {
      "name": "python"
    }
  },
  "cells": [
    {
      "cell_type": "code",
      "execution_count": 1,
      "metadata": {
        "id": "J3vonAxFMp6l"
      },
      "outputs": [],
      "source": [
        "import pandas as pd\n",
        "from matplotlib import pyplot as plt\n",
        "import seaborn as sns\n",
        "import numpy as np\n",
        "from sklearn.model_selection import train_test_split, GridSearchCV\n",
        "from sklearn.compose import make_column_selector, make_column_transformer\n",
        "from sklearn.pipeline import make_pipeline\n",
        "from sklearn.linear_model import LinearRegression\n",
        "from sklearn.tree import DecisionTreeRegressor\n",
        "from sklearn.decomposition import PCA\n",
        "from sklearn.neighbors import KNeighborsRegressor\n",
        "from sklearn.preprocessing import StandardScaler\n",
        "from sklearn.cluster import KMeans\n",
        "from sklearn.metrics import mean_squared_error, mean_absolute_error, r2_score, silhouette_score, classification_report, confusion_matrix"
      ]
    },
    {
      "cell_type": "markdown",
      "source": [
        " ## *Dataset*\n",
        " 1) github / Five Thirty Eight\n",
        "\n",
        " 2) statistical data for modern NBA players\n",
        "\n",
        " 3) What is the statiscal threshold of WAR and RAPTOR a player needs to reach to be worth signing\n",
        "\n",
        " 4) Regression\n",
        "\n",
        " 5) 21 features\n",
        "\n",
        " 6) 4078 rows\n",
        "\n",
        " 7) There are multiple entries for the same player that needed to be reduced and averaged out, several features that are redudant to the study and an excess of negative floats that could inaccurately affect the outcome"
      ],
      "metadata": {
        "id": "9yj1XG8XOi0P"
      }
    },
    {
      "cell_type": "code",
      "source": [
        "from google.colab import drive\n",
        "drive.mount('/content/drive')"
      ],
      "metadata": {
        "colab": {
          "base_uri": "https://localhost:8080/"
        },
        "id": "LYFWdH6FDiCM",
        "outputId": "f5ed1ed7-42a7-4aa0-9b03-2354b271c06c"
      },
      "execution_count": 2,
      "outputs": [
        {
          "output_type": "stream",
          "name": "stdout",
          "text": [
            "Mounted at /content/drive\n"
          ]
        }
      ]
    },
    {
      "cell_type": "code",
      "source": [
        "url = 'https://raw.githubusercontent.com/acafiero/sports-project2/main/modern_RAPTOR_by_player.csv'\n",
        "df = pd.read_csv(url)\n",
        "df.head()"
      ],
      "metadata": {
        "id": "Q4AGKq2XM1gb",
        "colab": {
          "base_uri": "https://localhost:8080/",
          "height": 317
        },
        "outputId": "ed09e7cb-b15f-4410-e107-b8bc2237eb74"
      },
      "execution_count": 3,
      "outputs": [
        {
          "output_type": "execute_result",
          "data": {
            "text/plain": [
              "        player_name  player_id  season  poss    mp  raptor_box_offense  \\\n",
              "0      Alex Abrines  abrinal01    2017  2387  1135            0.745505   \n",
              "1      Alex Abrines  abrinal01    2018  2546  1244            0.317549   \n",
              "2      Alex Abrines  abrinal01    2019  1279   588           -3.215683   \n",
              "3  Precious Achiuwa  achiupr01    2021  1581   749           -4.122966   \n",
              "4        Quincy Acy    acyqu01    2014  1716   847           -1.716079   \n",
              "\n",
              "   raptor_box_defense  raptor_box_total  raptor_onoff_offense  \\\n",
              "0           -0.372938          0.372567             -0.418553   \n",
              "1           -1.725325         -1.407776             -1.291727   \n",
              "2            1.078399         -2.137285             -6.158856   \n",
              "3            1.359278         -2.763688             -4.050779   \n",
              "4            0.133115         -1.582964             -0.324811   \n",
              "\n",
              "   raptor_onoff_defense  ...  raptor_offense  raptor_defense  raptor_total  \\\n",
              "0             -3.857011  ...        0.543421       -1.144832     -0.601411   \n",
              "1             -0.049694  ...       -0.020826       -1.502642     -1.523468   \n",
              "2              4.901168  ...       -4.040157        1.885618     -2.154538   \n",
              "3             -0.919712  ...       -4.347596        0.954821     -3.392775   \n",
              "4             -1.661495  ...       -1.565257       -0.216477     -1.781734   \n",
              "\n",
              "   war_total  war_reg_season  war_playoffs  predator_offense  \\\n",
              "0   1.249008        1.447708     -0.198700          0.077102   \n",
              "1   0.777304        0.465912      0.311392         -0.174621   \n",
              "2   0.178167        0.178167      0.000000         -4.577678   \n",
              "3  -0.246055       -0.246776      0.000721         -3.817713   \n",
              "4   0.415918        0.415918      0.000000         -1.464417   \n",
              "\n",
              "   predator_defense  predator_total  pace_impact  \n",
              "0         -1.038677       -0.961575     0.326413  \n",
              "1         -1.112625       -1.287247    -0.456141  \n",
              "2          1.543282       -3.034396    -0.268013  \n",
              "3          0.474828       -3.342885     0.329157  \n",
              "4         -0.223754       -1.688171    -0.554898  \n",
              "\n",
              "[5 rows x 21 columns]"
            ],
            "text/html": [
              "\n",
              "  <div id=\"df-e0f6cc25-6089-45d6-8b5b-33be4f9c14d6\">\n",
              "    <div class=\"colab-df-container\">\n",
              "      <div>\n",
              "<style scoped>\n",
              "    .dataframe tbody tr th:only-of-type {\n",
              "        vertical-align: middle;\n",
              "    }\n",
              "\n",
              "    .dataframe tbody tr th {\n",
              "        vertical-align: top;\n",
              "    }\n",
              "\n",
              "    .dataframe thead th {\n",
              "        text-align: right;\n",
              "    }\n",
              "</style>\n",
              "<table border=\"1\" class=\"dataframe\">\n",
              "  <thead>\n",
              "    <tr style=\"text-align: right;\">\n",
              "      <th></th>\n",
              "      <th>player_name</th>\n",
              "      <th>player_id</th>\n",
              "      <th>season</th>\n",
              "      <th>poss</th>\n",
              "      <th>mp</th>\n",
              "      <th>raptor_box_offense</th>\n",
              "      <th>raptor_box_defense</th>\n",
              "      <th>raptor_box_total</th>\n",
              "      <th>raptor_onoff_offense</th>\n",
              "      <th>raptor_onoff_defense</th>\n",
              "      <th>...</th>\n",
              "      <th>raptor_offense</th>\n",
              "      <th>raptor_defense</th>\n",
              "      <th>raptor_total</th>\n",
              "      <th>war_total</th>\n",
              "      <th>war_reg_season</th>\n",
              "      <th>war_playoffs</th>\n",
              "      <th>predator_offense</th>\n",
              "      <th>predator_defense</th>\n",
              "      <th>predator_total</th>\n",
              "      <th>pace_impact</th>\n",
              "    </tr>\n",
              "  </thead>\n",
              "  <tbody>\n",
              "    <tr>\n",
              "      <th>0</th>\n",
              "      <td>Alex Abrines</td>\n",
              "      <td>abrinal01</td>\n",
              "      <td>2017</td>\n",
              "      <td>2387</td>\n",
              "      <td>1135</td>\n",
              "      <td>0.745505</td>\n",
              "      <td>-0.372938</td>\n",
              "      <td>0.372567</td>\n",
              "      <td>-0.418553</td>\n",
              "      <td>-3.857011</td>\n",
              "      <td>...</td>\n",
              "      <td>0.543421</td>\n",
              "      <td>-1.144832</td>\n",
              "      <td>-0.601411</td>\n",
              "      <td>1.249008</td>\n",
              "      <td>1.447708</td>\n",
              "      <td>-0.198700</td>\n",
              "      <td>0.077102</td>\n",
              "      <td>-1.038677</td>\n",
              "      <td>-0.961575</td>\n",
              "      <td>0.326413</td>\n",
              "    </tr>\n",
              "    <tr>\n",
              "      <th>1</th>\n",
              "      <td>Alex Abrines</td>\n",
              "      <td>abrinal01</td>\n",
              "      <td>2018</td>\n",
              "      <td>2546</td>\n",
              "      <td>1244</td>\n",
              "      <td>0.317549</td>\n",
              "      <td>-1.725325</td>\n",
              "      <td>-1.407776</td>\n",
              "      <td>-1.291727</td>\n",
              "      <td>-0.049694</td>\n",
              "      <td>...</td>\n",
              "      <td>-0.020826</td>\n",
              "      <td>-1.502642</td>\n",
              "      <td>-1.523468</td>\n",
              "      <td>0.777304</td>\n",
              "      <td>0.465912</td>\n",
              "      <td>0.311392</td>\n",
              "      <td>-0.174621</td>\n",
              "      <td>-1.112625</td>\n",
              "      <td>-1.287247</td>\n",
              "      <td>-0.456141</td>\n",
              "    </tr>\n",
              "    <tr>\n",
              "      <th>2</th>\n",
              "      <td>Alex Abrines</td>\n",
              "      <td>abrinal01</td>\n",
              "      <td>2019</td>\n",
              "      <td>1279</td>\n",
              "      <td>588</td>\n",
              "      <td>-3.215683</td>\n",
              "      <td>1.078399</td>\n",
              "      <td>-2.137285</td>\n",
              "      <td>-6.158856</td>\n",
              "      <td>4.901168</td>\n",
              "      <td>...</td>\n",
              "      <td>-4.040157</td>\n",
              "      <td>1.885618</td>\n",
              "      <td>-2.154538</td>\n",
              "      <td>0.178167</td>\n",
              "      <td>0.178167</td>\n",
              "      <td>0.000000</td>\n",
              "      <td>-4.577678</td>\n",
              "      <td>1.543282</td>\n",
              "      <td>-3.034396</td>\n",
              "      <td>-0.268013</td>\n",
              "    </tr>\n",
              "    <tr>\n",
              "      <th>3</th>\n",
              "      <td>Precious Achiuwa</td>\n",
              "      <td>achiupr01</td>\n",
              "      <td>2021</td>\n",
              "      <td>1581</td>\n",
              "      <td>749</td>\n",
              "      <td>-4.122966</td>\n",
              "      <td>1.359278</td>\n",
              "      <td>-2.763688</td>\n",
              "      <td>-4.050779</td>\n",
              "      <td>-0.919712</td>\n",
              "      <td>...</td>\n",
              "      <td>-4.347596</td>\n",
              "      <td>0.954821</td>\n",
              "      <td>-3.392775</td>\n",
              "      <td>-0.246055</td>\n",
              "      <td>-0.246776</td>\n",
              "      <td>0.000721</td>\n",
              "      <td>-3.817713</td>\n",
              "      <td>0.474828</td>\n",
              "      <td>-3.342885</td>\n",
              "      <td>0.329157</td>\n",
              "    </tr>\n",
              "    <tr>\n",
              "      <th>4</th>\n",
              "      <td>Quincy Acy</td>\n",
              "      <td>acyqu01</td>\n",
              "      <td>2014</td>\n",
              "      <td>1716</td>\n",
              "      <td>847</td>\n",
              "      <td>-1.716079</td>\n",
              "      <td>0.133115</td>\n",
              "      <td>-1.582964</td>\n",
              "      <td>-0.324811</td>\n",
              "      <td>-1.661495</td>\n",
              "      <td>...</td>\n",
              "      <td>-1.565257</td>\n",
              "      <td>-0.216477</td>\n",
              "      <td>-1.781734</td>\n",
              "      <td>0.415918</td>\n",
              "      <td>0.415918</td>\n",
              "      <td>0.000000</td>\n",
              "      <td>-1.464417</td>\n",
              "      <td>-0.223754</td>\n",
              "      <td>-1.688171</td>\n",
              "      <td>-0.554898</td>\n",
              "    </tr>\n",
              "  </tbody>\n",
              "</table>\n",
              "<p>5 rows × 21 columns</p>\n",
              "</div>\n",
              "      <button class=\"colab-df-convert\" onclick=\"convertToInteractive('df-e0f6cc25-6089-45d6-8b5b-33be4f9c14d6')\"\n",
              "              title=\"Convert this dataframe to an interactive table.\"\n",
              "              style=\"display:none;\">\n",
              "        \n",
              "  <svg xmlns=\"http://www.w3.org/2000/svg\" height=\"24px\"viewBox=\"0 0 24 24\"\n",
              "       width=\"24px\">\n",
              "    <path d=\"M0 0h24v24H0V0z\" fill=\"none\"/>\n",
              "    <path d=\"M18.56 5.44l.94 2.06.94-2.06 2.06-.94-2.06-.94-.94-2.06-.94 2.06-2.06.94zm-11 1L8.5 8.5l.94-2.06 2.06-.94-2.06-.94L8.5 2.5l-.94 2.06-2.06.94zm10 10l.94 2.06.94-2.06 2.06-.94-2.06-.94-.94-2.06-.94 2.06-2.06.94z\"/><path d=\"M17.41 7.96l-1.37-1.37c-.4-.4-.92-.59-1.43-.59-.52 0-1.04.2-1.43.59L10.3 9.45l-7.72 7.72c-.78.78-.78 2.05 0 2.83L4 21.41c.39.39.9.59 1.41.59.51 0 1.02-.2 1.41-.59l7.78-7.78 2.81-2.81c.8-.78.8-2.07 0-2.86zM5.41 20L4 18.59l7.72-7.72 1.47 1.35L5.41 20z\"/>\n",
              "  </svg>\n",
              "      </button>\n",
              "      \n",
              "  <style>\n",
              "    .colab-df-container {\n",
              "      display:flex;\n",
              "      flex-wrap:wrap;\n",
              "      gap: 12px;\n",
              "    }\n",
              "\n",
              "    .colab-df-convert {\n",
              "      background-color: #E8F0FE;\n",
              "      border: none;\n",
              "      border-radius: 50%;\n",
              "      cursor: pointer;\n",
              "      display: none;\n",
              "      fill: #1967D2;\n",
              "      height: 32px;\n",
              "      padding: 0 0 0 0;\n",
              "      width: 32px;\n",
              "    }\n",
              "\n",
              "    .colab-df-convert:hover {\n",
              "      background-color: #E2EBFA;\n",
              "      box-shadow: 0px 1px 2px rgba(60, 64, 67, 0.3), 0px 1px 3px 1px rgba(60, 64, 67, 0.15);\n",
              "      fill: #174EA6;\n",
              "    }\n",
              "\n",
              "    [theme=dark] .colab-df-convert {\n",
              "      background-color: #3B4455;\n",
              "      fill: #D2E3FC;\n",
              "    }\n",
              "\n",
              "    [theme=dark] .colab-df-convert:hover {\n",
              "      background-color: #434B5C;\n",
              "      box-shadow: 0px 1px 3px 1px rgba(0, 0, 0, 0.15);\n",
              "      filter: drop-shadow(0px 1px 2px rgba(0, 0, 0, 0.3));\n",
              "      fill: #FFFFFF;\n",
              "    }\n",
              "  </style>\n",
              "\n",
              "      <script>\n",
              "        const buttonEl =\n",
              "          document.querySelector('#df-e0f6cc25-6089-45d6-8b5b-33be4f9c14d6 button.colab-df-convert');\n",
              "        buttonEl.style.display =\n",
              "          google.colab.kernel.accessAllowed ? 'block' : 'none';\n",
              "\n",
              "        async function convertToInteractive(key) {\n",
              "          const element = document.querySelector('#df-e0f6cc25-6089-45d6-8b5b-33be4f9c14d6');\n",
              "          const dataTable =\n",
              "            await google.colab.kernel.invokeFunction('convertToInteractive',\n",
              "                                                     [key], {});\n",
              "          if (!dataTable) return;\n",
              "\n",
              "          const docLinkHtml = 'Like what you see? Visit the ' +\n",
              "            '<a target=\"_blank\" href=https://colab.research.google.com/notebooks/data_table.ipynb>data table notebook</a>'\n",
              "            + ' to learn more about interactive tables.';\n",
              "          element.innerHTML = '';\n",
              "          dataTable['output_type'] = 'display_data';\n",
              "          await google.colab.output.renderOutput(dataTable, element);\n",
              "          const docLink = document.createElement('div');\n",
              "          docLink.innerHTML = docLinkHtml;\n",
              "          element.appendChild(docLink);\n",
              "        }\n",
              "      </script>\n",
              "    </div>\n",
              "  </div>\n",
              "  "
            ]
          },
          "metadata": {},
          "execution_count": 3
        }
      ]
    },
    {
      "cell_type": "code",
      "source": [
        "dfml = pd.DataFrame()\n",
        "players = df['player_name'].unique()"
      ],
      "metadata": {
        "id": "ziwAowyFEvGM"
      },
      "execution_count": 4,
      "outputs": []
    },
    {
      "cell_type": "code",
      "source": [
        "players\n",
        "\n",
        "for player in players:\n",
        "  player_df = df.loc[df['player_name'] == player]\n",
        "  player_df['Next WAR'] = player_df['war_total'].shift(-1)\n",
        "  dfml = pd.concat([dfml, player_df])\n",
        "\n",
        "dfml.head()"
      ],
      "metadata": {
        "colab": {
          "base_uri": "https://localhost:8080/",
          "height": 441
        },
        "id": "uybUNObaFgfS",
        "outputId": "d6c70439-9c2b-46e7-8ee4-2288013186d6"
      },
      "execution_count": 5,
      "outputs": [
        {
          "output_type": "stream",
          "name": "stderr",
          "text": [
            "/usr/local/lib/python3.7/dist-packages/ipykernel_launcher.py:5: SettingWithCopyWarning: \n",
            "A value is trying to be set on a copy of a slice from a DataFrame.\n",
            "Try using .loc[row_indexer,col_indexer] = value instead\n",
            "\n",
            "See the caveats in the documentation: https://pandas.pydata.org/pandas-docs/stable/user_guide/indexing.html#returning-a-view-versus-a-copy\n",
            "  \"\"\"\n"
          ]
        },
        {
          "output_type": "execute_result",
          "data": {
            "text/plain": [
              "        player_name  player_id  season  poss    mp  raptor_box_offense  \\\n",
              "0      Alex Abrines  abrinal01    2017  2387  1135            0.745505   \n",
              "1      Alex Abrines  abrinal01    2018  2546  1244            0.317549   \n",
              "2      Alex Abrines  abrinal01    2019  1279   588           -3.215683   \n",
              "3  Precious Achiuwa  achiupr01    2021  1581   749           -4.122966   \n",
              "4        Quincy Acy    acyqu01    2014  1716   847           -1.716079   \n",
              "\n",
              "   raptor_box_defense  raptor_box_total  raptor_onoff_offense  \\\n",
              "0           -0.372938          0.372567             -0.418553   \n",
              "1           -1.725325         -1.407776             -1.291727   \n",
              "2            1.078399         -2.137285             -6.158856   \n",
              "3            1.359278         -2.763688             -4.050779   \n",
              "4            0.133115         -1.582964             -0.324811   \n",
              "\n",
              "   raptor_onoff_defense  ...  raptor_defense  raptor_total  war_total  \\\n",
              "0             -3.857011  ...       -1.144832     -0.601411   1.249008   \n",
              "1             -0.049694  ...       -1.502642     -1.523468   0.777304   \n",
              "2              4.901168  ...        1.885618     -2.154538   0.178167   \n",
              "3             -0.919712  ...        0.954821     -3.392775  -0.246055   \n",
              "4             -1.661495  ...       -0.216477     -1.781734   0.415918   \n",
              "\n",
              "   war_reg_season  war_playoffs  predator_offense  predator_defense  \\\n",
              "0        1.447708     -0.198700          0.077102         -1.038677   \n",
              "1        0.465912      0.311392         -0.174621         -1.112625   \n",
              "2        0.178167      0.000000         -4.577678          1.543282   \n",
              "3       -0.246776      0.000721         -3.817713          0.474828   \n",
              "4        0.415918      0.000000         -1.464417         -0.223754   \n",
              "\n",
              "   predator_total  pace_impact  Next WAR  \n",
              "0       -0.961575     0.326413  0.777304  \n",
              "1       -1.287247    -0.456141  0.178167  \n",
              "2       -3.034396    -0.268013       NaN  \n",
              "3       -3.342885     0.329157       NaN  \n",
              "4       -1.688171    -0.554898 -0.083313  \n",
              "\n",
              "[5 rows x 22 columns]"
            ],
            "text/html": [
              "\n",
              "  <div id=\"df-3ef9a7bd-4854-49b4-9f9e-4257eb2332fc\">\n",
              "    <div class=\"colab-df-container\">\n",
              "      <div>\n",
              "<style scoped>\n",
              "    .dataframe tbody tr th:only-of-type {\n",
              "        vertical-align: middle;\n",
              "    }\n",
              "\n",
              "    .dataframe tbody tr th {\n",
              "        vertical-align: top;\n",
              "    }\n",
              "\n",
              "    .dataframe thead th {\n",
              "        text-align: right;\n",
              "    }\n",
              "</style>\n",
              "<table border=\"1\" class=\"dataframe\">\n",
              "  <thead>\n",
              "    <tr style=\"text-align: right;\">\n",
              "      <th></th>\n",
              "      <th>player_name</th>\n",
              "      <th>player_id</th>\n",
              "      <th>season</th>\n",
              "      <th>poss</th>\n",
              "      <th>mp</th>\n",
              "      <th>raptor_box_offense</th>\n",
              "      <th>raptor_box_defense</th>\n",
              "      <th>raptor_box_total</th>\n",
              "      <th>raptor_onoff_offense</th>\n",
              "      <th>raptor_onoff_defense</th>\n",
              "      <th>...</th>\n",
              "      <th>raptor_defense</th>\n",
              "      <th>raptor_total</th>\n",
              "      <th>war_total</th>\n",
              "      <th>war_reg_season</th>\n",
              "      <th>war_playoffs</th>\n",
              "      <th>predator_offense</th>\n",
              "      <th>predator_defense</th>\n",
              "      <th>predator_total</th>\n",
              "      <th>pace_impact</th>\n",
              "      <th>Next WAR</th>\n",
              "    </tr>\n",
              "  </thead>\n",
              "  <tbody>\n",
              "    <tr>\n",
              "      <th>0</th>\n",
              "      <td>Alex Abrines</td>\n",
              "      <td>abrinal01</td>\n",
              "      <td>2017</td>\n",
              "      <td>2387</td>\n",
              "      <td>1135</td>\n",
              "      <td>0.745505</td>\n",
              "      <td>-0.372938</td>\n",
              "      <td>0.372567</td>\n",
              "      <td>-0.418553</td>\n",
              "      <td>-3.857011</td>\n",
              "      <td>...</td>\n",
              "      <td>-1.144832</td>\n",
              "      <td>-0.601411</td>\n",
              "      <td>1.249008</td>\n",
              "      <td>1.447708</td>\n",
              "      <td>-0.198700</td>\n",
              "      <td>0.077102</td>\n",
              "      <td>-1.038677</td>\n",
              "      <td>-0.961575</td>\n",
              "      <td>0.326413</td>\n",
              "      <td>0.777304</td>\n",
              "    </tr>\n",
              "    <tr>\n",
              "      <th>1</th>\n",
              "      <td>Alex Abrines</td>\n",
              "      <td>abrinal01</td>\n",
              "      <td>2018</td>\n",
              "      <td>2546</td>\n",
              "      <td>1244</td>\n",
              "      <td>0.317549</td>\n",
              "      <td>-1.725325</td>\n",
              "      <td>-1.407776</td>\n",
              "      <td>-1.291727</td>\n",
              "      <td>-0.049694</td>\n",
              "      <td>...</td>\n",
              "      <td>-1.502642</td>\n",
              "      <td>-1.523468</td>\n",
              "      <td>0.777304</td>\n",
              "      <td>0.465912</td>\n",
              "      <td>0.311392</td>\n",
              "      <td>-0.174621</td>\n",
              "      <td>-1.112625</td>\n",
              "      <td>-1.287247</td>\n",
              "      <td>-0.456141</td>\n",
              "      <td>0.178167</td>\n",
              "    </tr>\n",
              "    <tr>\n",
              "      <th>2</th>\n",
              "      <td>Alex Abrines</td>\n",
              "      <td>abrinal01</td>\n",
              "      <td>2019</td>\n",
              "      <td>1279</td>\n",
              "      <td>588</td>\n",
              "      <td>-3.215683</td>\n",
              "      <td>1.078399</td>\n",
              "      <td>-2.137285</td>\n",
              "      <td>-6.158856</td>\n",
              "      <td>4.901168</td>\n",
              "      <td>...</td>\n",
              "      <td>1.885618</td>\n",
              "      <td>-2.154538</td>\n",
              "      <td>0.178167</td>\n",
              "      <td>0.178167</td>\n",
              "      <td>0.000000</td>\n",
              "      <td>-4.577678</td>\n",
              "      <td>1.543282</td>\n",
              "      <td>-3.034396</td>\n",
              "      <td>-0.268013</td>\n",
              "      <td>NaN</td>\n",
              "    </tr>\n",
              "    <tr>\n",
              "      <th>3</th>\n",
              "      <td>Precious Achiuwa</td>\n",
              "      <td>achiupr01</td>\n",
              "      <td>2021</td>\n",
              "      <td>1581</td>\n",
              "      <td>749</td>\n",
              "      <td>-4.122966</td>\n",
              "      <td>1.359278</td>\n",
              "      <td>-2.763688</td>\n",
              "      <td>-4.050779</td>\n",
              "      <td>-0.919712</td>\n",
              "      <td>...</td>\n",
              "      <td>0.954821</td>\n",
              "      <td>-3.392775</td>\n",
              "      <td>-0.246055</td>\n",
              "      <td>-0.246776</td>\n",
              "      <td>0.000721</td>\n",
              "      <td>-3.817713</td>\n",
              "      <td>0.474828</td>\n",
              "      <td>-3.342885</td>\n",
              "      <td>0.329157</td>\n",
              "      <td>NaN</td>\n",
              "    </tr>\n",
              "    <tr>\n",
              "      <th>4</th>\n",
              "      <td>Quincy Acy</td>\n",
              "      <td>acyqu01</td>\n",
              "      <td>2014</td>\n",
              "      <td>1716</td>\n",
              "      <td>847</td>\n",
              "      <td>-1.716079</td>\n",
              "      <td>0.133115</td>\n",
              "      <td>-1.582964</td>\n",
              "      <td>-0.324811</td>\n",
              "      <td>-1.661495</td>\n",
              "      <td>...</td>\n",
              "      <td>-0.216477</td>\n",
              "      <td>-1.781734</td>\n",
              "      <td>0.415918</td>\n",
              "      <td>0.415918</td>\n",
              "      <td>0.000000</td>\n",
              "      <td>-1.464417</td>\n",
              "      <td>-0.223754</td>\n",
              "      <td>-1.688171</td>\n",
              "      <td>-0.554898</td>\n",
              "      <td>-0.083313</td>\n",
              "    </tr>\n",
              "  </tbody>\n",
              "</table>\n",
              "<p>5 rows × 22 columns</p>\n",
              "</div>\n",
              "      <button class=\"colab-df-convert\" onclick=\"convertToInteractive('df-3ef9a7bd-4854-49b4-9f9e-4257eb2332fc')\"\n",
              "              title=\"Convert this dataframe to an interactive table.\"\n",
              "              style=\"display:none;\">\n",
              "        \n",
              "  <svg xmlns=\"http://www.w3.org/2000/svg\" height=\"24px\"viewBox=\"0 0 24 24\"\n",
              "       width=\"24px\">\n",
              "    <path d=\"M0 0h24v24H0V0z\" fill=\"none\"/>\n",
              "    <path d=\"M18.56 5.44l.94 2.06.94-2.06 2.06-.94-2.06-.94-.94-2.06-.94 2.06-2.06.94zm-11 1L8.5 8.5l.94-2.06 2.06-.94-2.06-.94L8.5 2.5l-.94 2.06-2.06.94zm10 10l.94 2.06.94-2.06 2.06-.94-2.06-.94-.94-2.06-.94 2.06-2.06.94z\"/><path d=\"M17.41 7.96l-1.37-1.37c-.4-.4-.92-.59-1.43-.59-.52 0-1.04.2-1.43.59L10.3 9.45l-7.72 7.72c-.78.78-.78 2.05 0 2.83L4 21.41c.39.39.9.59 1.41.59.51 0 1.02-.2 1.41-.59l7.78-7.78 2.81-2.81c.8-.78.8-2.07 0-2.86zM5.41 20L4 18.59l7.72-7.72 1.47 1.35L5.41 20z\"/>\n",
              "  </svg>\n",
              "      </button>\n",
              "      \n",
              "  <style>\n",
              "    .colab-df-container {\n",
              "      display:flex;\n",
              "      flex-wrap:wrap;\n",
              "      gap: 12px;\n",
              "    }\n",
              "\n",
              "    .colab-df-convert {\n",
              "      background-color: #E8F0FE;\n",
              "      border: none;\n",
              "      border-radius: 50%;\n",
              "      cursor: pointer;\n",
              "      display: none;\n",
              "      fill: #1967D2;\n",
              "      height: 32px;\n",
              "      padding: 0 0 0 0;\n",
              "      width: 32px;\n",
              "    }\n",
              "\n",
              "    .colab-df-convert:hover {\n",
              "      background-color: #E2EBFA;\n",
              "      box-shadow: 0px 1px 2px rgba(60, 64, 67, 0.3), 0px 1px 3px 1px rgba(60, 64, 67, 0.15);\n",
              "      fill: #174EA6;\n",
              "    }\n",
              "\n",
              "    [theme=dark] .colab-df-convert {\n",
              "      background-color: #3B4455;\n",
              "      fill: #D2E3FC;\n",
              "    }\n",
              "\n",
              "    [theme=dark] .colab-df-convert:hover {\n",
              "      background-color: #434B5C;\n",
              "      box-shadow: 0px 1px 3px 1px rgba(0, 0, 0, 0.15);\n",
              "      filter: drop-shadow(0px 1px 2px rgba(0, 0, 0, 0.3));\n",
              "      fill: #FFFFFF;\n",
              "    }\n",
              "  </style>\n",
              "\n",
              "      <script>\n",
              "        const buttonEl =\n",
              "          document.querySelector('#df-3ef9a7bd-4854-49b4-9f9e-4257eb2332fc button.colab-df-convert');\n",
              "        buttonEl.style.display =\n",
              "          google.colab.kernel.accessAllowed ? 'block' : 'none';\n",
              "\n",
              "        async function convertToInteractive(key) {\n",
              "          const element = document.querySelector('#df-3ef9a7bd-4854-49b4-9f9e-4257eb2332fc');\n",
              "          const dataTable =\n",
              "            await google.colab.kernel.invokeFunction('convertToInteractive',\n",
              "                                                     [key], {});\n",
              "          if (!dataTable) return;\n",
              "\n",
              "          const docLinkHtml = 'Like what you see? Visit the ' +\n",
              "            '<a target=\"_blank\" href=https://colab.research.google.com/notebooks/data_table.ipynb>data table notebook</a>'\n",
              "            + ' to learn more about interactive tables.';\n",
              "          element.innerHTML = '';\n",
              "          dataTable['output_type'] = 'display_data';\n",
              "          await google.colab.output.renderOutput(dataTable, element);\n",
              "          const docLink = document.createElement('div');\n",
              "          docLink.innerHTML = docLinkHtml;\n",
              "          element.appendChild(docLink);\n",
              "        }\n",
              "      </script>\n",
              "    </div>\n",
              "  </div>\n",
              "  "
            ]
          },
          "metadata": {},
          "execution_count": 5
        }
      ]
    },
    {
      "cell_type": "code",
      "source": [
        "dfml.info()"
      ],
      "metadata": {
        "id": "GZTMteO1PAAo",
        "colab": {
          "base_uri": "https://localhost:8080/"
        },
        "outputId": "ad40521b-e424-4c3e-9468-bca5d598e04a"
      },
      "execution_count": 6,
      "outputs": [
        {
          "output_type": "stream",
          "name": "stdout",
          "text": [
            "<class 'pandas.core.frame.DataFrame'>\n",
            "Int64Index: 4079 entries, 0 to 4078\n",
            "Data columns (total 22 columns):\n",
            " #   Column                Non-Null Count  Dtype  \n",
            "---  ------                --------------  -----  \n",
            " 0   player_name           4079 non-null   object \n",
            " 1   player_id             4079 non-null   object \n",
            " 2   season                4079 non-null   int64  \n",
            " 3   poss                  4079 non-null   int64  \n",
            " 4   mp                    4079 non-null   int64  \n",
            " 5   raptor_box_offense    4078 non-null   float64\n",
            " 6   raptor_box_defense    4078 non-null   float64\n",
            " 7   raptor_box_total      4078 non-null   float64\n",
            " 8   raptor_onoff_offense  4078 non-null   float64\n",
            " 9   raptor_onoff_defense  4078 non-null   float64\n",
            " 10  raptor_onoff_total    4078 non-null   float64\n",
            " 11  raptor_offense        4079 non-null   float64\n",
            " 12  raptor_defense        4079 non-null   float64\n",
            " 13  raptor_total          4079 non-null   float64\n",
            " 14  war_total             4079 non-null   float64\n",
            " 15  war_reg_season        4079 non-null   float64\n",
            " 16  war_playoffs          4079 non-null   float64\n",
            " 17  predator_offense      4079 non-null   float64\n",
            " 18  predator_defense      4079 non-null   float64\n",
            " 19  predator_total        4079 non-null   float64\n",
            " 20  pace_impact           4078 non-null   float64\n",
            " 21  Next WAR              2887 non-null   float64\n",
            "dtypes: float64(17), int64(3), object(2)\n",
            "memory usage: 732.9+ KB\n"
          ]
        }
      ]
    },
    {
      "cell_type": "code",
      "source": [
        "dfml.duplicated().sum()\n",
        "\n",
        "## no duplicated values"
      ],
      "metadata": {
        "id": "6rWXtDSxACq2",
        "colab": {
          "base_uri": "https://localhost:8080/"
        },
        "outputId": "62506dc1-dc14-41e1-e2a6-35dc1cebad90"
      },
      "execution_count": 7,
      "outputs": [
        {
          "output_type": "execute_result",
          "data": {
            "text/plain": [
              "0"
            ]
          },
          "metadata": {},
          "execution_count": 7
        }
      ]
    },
    {
      "cell_type": "code",
      "source": [
        "dfml.nunique()\n",
        "\n",
        "## checking all the various features"
      ],
      "metadata": {
        "id": "j7jnUAjRD3C3",
        "colab": {
          "base_uri": "https://localhost:8080/"
        },
        "outputId": "9f2555c3-5932-4825-8b65-8034173866ad"
      },
      "execution_count": 8,
      "outputs": [
        {
          "output_type": "execute_result",
          "data": {
            "text/plain": [
              "player_name             1192\n",
              "player_id               1187\n",
              "season                     8\n",
              "poss                    2867\n",
              "mp                      2130\n",
              "raptor_box_offense      4078\n",
              "raptor_box_defense      4078\n",
              "raptor_box_total        4078\n",
              "raptor_onoff_offense    4077\n",
              "raptor_onoff_defense    4077\n",
              "raptor_onoff_total      4077\n",
              "raptor_offense          4079\n",
              "raptor_defense          4079\n",
              "raptor_total            4079\n",
              "war_total               4079\n",
              "war_reg_season          4075\n",
              "war_playoffs            1717\n",
              "predator_offense        4079\n",
              "predator_defense        4079\n",
              "predator_total          4079\n",
              "pace_impact             4078\n",
              "Next WAR                2887\n",
              "dtype: int64"
            ]
          },
          "metadata": {},
          "execution_count": 8
        }
      ]
    },
    {
      "cell_type": "code",
      "source": [
        "dfml.isna().sum()\n",
        "\n",
        "## checking for rows missing data"
      ],
      "metadata": {
        "id": "WWqR95iPD2_f",
        "colab": {
          "base_uri": "https://localhost:8080/"
        },
        "outputId": "ff3174ea-aee9-49ef-d9e3-550990ea54cc"
      },
      "execution_count": 9,
      "outputs": [
        {
          "output_type": "execute_result",
          "data": {
            "text/plain": [
              "player_name                0\n",
              "player_id                  0\n",
              "season                     0\n",
              "poss                       0\n",
              "mp                         0\n",
              "raptor_box_offense         1\n",
              "raptor_box_defense         1\n",
              "raptor_box_total           1\n",
              "raptor_onoff_offense       1\n",
              "raptor_onoff_defense       1\n",
              "raptor_onoff_total         1\n",
              "raptor_offense             0\n",
              "raptor_defense             0\n",
              "raptor_total               0\n",
              "war_total                  0\n",
              "war_reg_season             0\n",
              "war_playoffs               0\n",
              "predator_offense           0\n",
              "predator_defense           0\n",
              "predator_total             0\n",
              "pace_impact                1\n",
              "Next WAR                1192\n",
              "dtype: int64"
            ]
          },
          "metadata": {},
          "execution_count": 9
        }
      ]
    },
    {
      "cell_type": "code",
      "source": [
        "dfml.dropna()\n",
        "dfml.isna().sum()\n",
        "\n",
        "## dropped all rows missing values from the dataframe"
      ],
      "metadata": {
        "id": "afN2GY6sD20S",
        "colab": {
          "base_uri": "https://localhost:8080/"
        },
        "outputId": "f40b7338-4b53-461c-d81a-cf0ca4be0ff3"
      },
      "execution_count": 10,
      "outputs": [
        {
          "output_type": "execute_result",
          "data": {
            "text/plain": [
              "player_name                0\n",
              "player_id                  0\n",
              "season                     0\n",
              "poss                       0\n",
              "mp                         0\n",
              "raptor_box_offense         1\n",
              "raptor_box_defense         1\n",
              "raptor_box_total           1\n",
              "raptor_onoff_offense       1\n",
              "raptor_onoff_defense       1\n",
              "raptor_onoff_total         1\n",
              "raptor_offense             0\n",
              "raptor_defense             0\n",
              "raptor_total               0\n",
              "war_total                  0\n",
              "war_reg_season             0\n",
              "war_playoffs               0\n",
              "predator_offense           0\n",
              "predator_defense           0\n",
              "predator_total             0\n",
              "pace_impact                1\n",
              "Next WAR                1192\n",
              "dtype: int64"
            ]
          },
          "metadata": {},
          "execution_count": 10
        }
      ]
    },
    {
      "cell_type": "code",
      "source": [
        "dfml.dropna()\n",
        "dfml"
      ],
      "metadata": {
        "colab": {
          "base_uri": "https://localhost:8080/",
          "height": 522
        },
        "id": "BrH549FmtXLt",
        "outputId": "67cb5753-a5e8-4ba5-bd67-07cb6de8c785"
      },
      "execution_count": 11,
      "outputs": [
        {
          "output_type": "execute_result",
          "data": {
            "text/plain": [
              "           player_name  player_id  season  poss    mp  raptor_box_offense  \\\n",
              "0         Alex Abrines  abrinal01    2017  2387  1135            0.745505   \n",
              "1         Alex Abrines  abrinal01    2018  2546  1244            0.317549   \n",
              "2         Alex Abrines  abrinal01    2019  1279   588           -3.215683   \n",
              "3     Precious Achiuwa  achiupr01    2021  1581   749           -4.122966   \n",
              "4           Quincy Acy    acyqu01    2014  1716   847           -1.716079   \n",
              "...                ...        ...     ...   ...   ...                 ...   \n",
              "4074       Ivica Zubac  zubaciv01    2017  1305   609           -3.320225   \n",
              "4075       Ivica Zubac  zubaciv01    2018   871   410           -2.581325   \n",
              "4076       Ivica Zubac  zubaciv01    2019  2345  1079           -2.336006   \n",
              "4077       Ivica Zubac  zubaciv01    2020  3447  1646            0.516422   \n",
              "4078       Ivica Zubac  zubaciv01    2021  3908  1910           -0.371753   \n",
              "\n",
              "      raptor_box_defense  raptor_box_total  raptor_onoff_offense  \\\n",
              "0              -0.372938          0.372567             -0.418553   \n",
              "1              -1.725325         -1.407776             -1.291727   \n",
              "2               1.078399         -2.137285             -6.158856   \n",
              "3               1.359278         -2.763688             -4.050779   \n",
              "4               0.133115         -1.582964             -0.324811   \n",
              "...                  ...               ...                   ...   \n",
              "4074           -2.901762         -6.221987             -2.791027   \n",
              "4075            1.643240         -0.938084             -3.444739   \n",
              "4076            1.400274         -0.935733             -1.757992   \n",
              "4077            3.529428          4.045850              3.314971   \n",
              "4078            2.960613          2.588860             -2.541995   \n",
              "\n",
              "      raptor_onoff_defense  ...  raptor_defense  raptor_total  war_total  \\\n",
              "0                -3.857011  ...       -1.144832     -0.601411   1.249008   \n",
              "1                -0.049694  ...       -1.502642     -1.523468   0.777304   \n",
              "2                 4.901168  ...        1.885618     -2.154538   0.178167   \n",
              "3                -0.919712  ...        0.954821     -3.392775  -0.246055   \n",
              "4                -1.661495  ...       -0.216477     -1.781734   0.415918   \n",
              "...                    ...  ...             ...           ...        ...   \n",
              "4074             -3.138553  ...       -3.040589     -6.398767  -1.141160   \n",
              "4075              6.249652  ...        2.688832     -0.214877   0.531968   \n",
              "4076              3.051059  ...        1.813768     -0.548676   1.217134   \n",
              "4077              2.963001  ...        3.549458      4.649308   6.224207   \n",
              "4078              0.156338  ...        2.525735      1.616696   4.261327   \n",
              "\n",
              "      war_reg_season  war_playoffs  predator_offense  predator_defense  \\\n",
              "0           1.447708     -0.198700          0.077102         -1.038677   \n",
              "1           0.465912      0.311392         -0.174621         -1.112625   \n",
              "2           0.178167      0.000000         -4.577678          1.543282   \n",
              "3          -0.246776      0.000721         -3.817713          0.474828   \n",
              "4           0.415918      0.000000         -1.464417         -0.223754   \n",
              "...              ...           ...               ...               ...   \n",
              "4074       -1.141160      0.000000         -3.533604         -2.932103   \n",
              "4075        0.531968      0.000000         -2.616331          0.752875   \n",
              "4076        1.114995      0.102138         -2.810283          1.157824   \n",
              "4077        5.020903      1.203304         -0.310842          3.331974   \n",
              "4078        3.704630      0.556697         -0.874338          2.280011   \n",
              "\n",
              "      predator_total  pace_impact  Next WAR  \n",
              "0          -0.961575     0.326413  0.777304  \n",
              "1          -1.287247    -0.456141  0.178167  \n",
              "2          -3.034396    -0.268013       NaN  \n",
              "3          -3.342885     0.329157       NaN  \n",
              "4          -1.688171    -0.554898 -0.083313  \n",
              "...              ...          ...       ...  \n",
              "4074       -6.465707     0.644128  0.531968  \n",
              "4075       -1.863456     0.311576  1.217134  \n",
              "4076       -1.652459     0.077074  6.224207  \n",
              "4077        3.021132    -0.410164  4.261327  \n",
              "4078        1.405673    -0.117623       NaN  \n",
              "\n",
              "[4079 rows x 22 columns]"
            ],
            "text/html": [
              "\n",
              "  <div id=\"df-dc7df774-2a59-4694-8151-ee6cc85cfd20\">\n",
              "    <div class=\"colab-df-container\">\n",
              "      <div>\n",
              "<style scoped>\n",
              "    .dataframe tbody tr th:only-of-type {\n",
              "        vertical-align: middle;\n",
              "    }\n",
              "\n",
              "    .dataframe tbody tr th {\n",
              "        vertical-align: top;\n",
              "    }\n",
              "\n",
              "    .dataframe thead th {\n",
              "        text-align: right;\n",
              "    }\n",
              "</style>\n",
              "<table border=\"1\" class=\"dataframe\">\n",
              "  <thead>\n",
              "    <tr style=\"text-align: right;\">\n",
              "      <th></th>\n",
              "      <th>player_name</th>\n",
              "      <th>player_id</th>\n",
              "      <th>season</th>\n",
              "      <th>poss</th>\n",
              "      <th>mp</th>\n",
              "      <th>raptor_box_offense</th>\n",
              "      <th>raptor_box_defense</th>\n",
              "      <th>raptor_box_total</th>\n",
              "      <th>raptor_onoff_offense</th>\n",
              "      <th>raptor_onoff_defense</th>\n",
              "      <th>...</th>\n",
              "      <th>raptor_defense</th>\n",
              "      <th>raptor_total</th>\n",
              "      <th>war_total</th>\n",
              "      <th>war_reg_season</th>\n",
              "      <th>war_playoffs</th>\n",
              "      <th>predator_offense</th>\n",
              "      <th>predator_defense</th>\n",
              "      <th>predator_total</th>\n",
              "      <th>pace_impact</th>\n",
              "      <th>Next WAR</th>\n",
              "    </tr>\n",
              "  </thead>\n",
              "  <tbody>\n",
              "    <tr>\n",
              "      <th>0</th>\n",
              "      <td>Alex Abrines</td>\n",
              "      <td>abrinal01</td>\n",
              "      <td>2017</td>\n",
              "      <td>2387</td>\n",
              "      <td>1135</td>\n",
              "      <td>0.745505</td>\n",
              "      <td>-0.372938</td>\n",
              "      <td>0.372567</td>\n",
              "      <td>-0.418553</td>\n",
              "      <td>-3.857011</td>\n",
              "      <td>...</td>\n",
              "      <td>-1.144832</td>\n",
              "      <td>-0.601411</td>\n",
              "      <td>1.249008</td>\n",
              "      <td>1.447708</td>\n",
              "      <td>-0.198700</td>\n",
              "      <td>0.077102</td>\n",
              "      <td>-1.038677</td>\n",
              "      <td>-0.961575</td>\n",
              "      <td>0.326413</td>\n",
              "      <td>0.777304</td>\n",
              "    </tr>\n",
              "    <tr>\n",
              "      <th>1</th>\n",
              "      <td>Alex Abrines</td>\n",
              "      <td>abrinal01</td>\n",
              "      <td>2018</td>\n",
              "      <td>2546</td>\n",
              "      <td>1244</td>\n",
              "      <td>0.317549</td>\n",
              "      <td>-1.725325</td>\n",
              "      <td>-1.407776</td>\n",
              "      <td>-1.291727</td>\n",
              "      <td>-0.049694</td>\n",
              "      <td>...</td>\n",
              "      <td>-1.502642</td>\n",
              "      <td>-1.523468</td>\n",
              "      <td>0.777304</td>\n",
              "      <td>0.465912</td>\n",
              "      <td>0.311392</td>\n",
              "      <td>-0.174621</td>\n",
              "      <td>-1.112625</td>\n",
              "      <td>-1.287247</td>\n",
              "      <td>-0.456141</td>\n",
              "      <td>0.178167</td>\n",
              "    </tr>\n",
              "    <tr>\n",
              "      <th>2</th>\n",
              "      <td>Alex Abrines</td>\n",
              "      <td>abrinal01</td>\n",
              "      <td>2019</td>\n",
              "      <td>1279</td>\n",
              "      <td>588</td>\n",
              "      <td>-3.215683</td>\n",
              "      <td>1.078399</td>\n",
              "      <td>-2.137285</td>\n",
              "      <td>-6.158856</td>\n",
              "      <td>4.901168</td>\n",
              "      <td>...</td>\n",
              "      <td>1.885618</td>\n",
              "      <td>-2.154538</td>\n",
              "      <td>0.178167</td>\n",
              "      <td>0.178167</td>\n",
              "      <td>0.000000</td>\n",
              "      <td>-4.577678</td>\n",
              "      <td>1.543282</td>\n",
              "      <td>-3.034396</td>\n",
              "      <td>-0.268013</td>\n",
              "      <td>NaN</td>\n",
              "    </tr>\n",
              "    <tr>\n",
              "      <th>3</th>\n",
              "      <td>Precious Achiuwa</td>\n",
              "      <td>achiupr01</td>\n",
              "      <td>2021</td>\n",
              "      <td>1581</td>\n",
              "      <td>749</td>\n",
              "      <td>-4.122966</td>\n",
              "      <td>1.359278</td>\n",
              "      <td>-2.763688</td>\n",
              "      <td>-4.050779</td>\n",
              "      <td>-0.919712</td>\n",
              "      <td>...</td>\n",
              "      <td>0.954821</td>\n",
              "      <td>-3.392775</td>\n",
              "      <td>-0.246055</td>\n",
              "      <td>-0.246776</td>\n",
              "      <td>0.000721</td>\n",
              "      <td>-3.817713</td>\n",
              "      <td>0.474828</td>\n",
              "      <td>-3.342885</td>\n",
              "      <td>0.329157</td>\n",
              "      <td>NaN</td>\n",
              "    </tr>\n",
              "    <tr>\n",
              "      <th>4</th>\n",
              "      <td>Quincy Acy</td>\n",
              "      <td>acyqu01</td>\n",
              "      <td>2014</td>\n",
              "      <td>1716</td>\n",
              "      <td>847</td>\n",
              "      <td>-1.716079</td>\n",
              "      <td>0.133115</td>\n",
              "      <td>-1.582964</td>\n",
              "      <td>-0.324811</td>\n",
              "      <td>-1.661495</td>\n",
              "      <td>...</td>\n",
              "      <td>-0.216477</td>\n",
              "      <td>-1.781734</td>\n",
              "      <td>0.415918</td>\n",
              "      <td>0.415918</td>\n",
              "      <td>0.000000</td>\n",
              "      <td>-1.464417</td>\n",
              "      <td>-0.223754</td>\n",
              "      <td>-1.688171</td>\n",
              "      <td>-0.554898</td>\n",
              "      <td>-0.083313</td>\n",
              "    </tr>\n",
              "    <tr>\n",
              "      <th>...</th>\n",
              "      <td>...</td>\n",
              "      <td>...</td>\n",
              "      <td>...</td>\n",
              "      <td>...</td>\n",
              "      <td>...</td>\n",
              "      <td>...</td>\n",
              "      <td>...</td>\n",
              "      <td>...</td>\n",
              "      <td>...</td>\n",
              "      <td>...</td>\n",
              "      <td>...</td>\n",
              "      <td>...</td>\n",
              "      <td>...</td>\n",
              "      <td>...</td>\n",
              "      <td>...</td>\n",
              "      <td>...</td>\n",
              "      <td>...</td>\n",
              "      <td>...</td>\n",
              "      <td>...</td>\n",
              "      <td>...</td>\n",
              "      <td>...</td>\n",
              "    </tr>\n",
              "    <tr>\n",
              "      <th>4074</th>\n",
              "      <td>Ivica Zubac</td>\n",
              "      <td>zubaciv01</td>\n",
              "      <td>2017</td>\n",
              "      <td>1305</td>\n",
              "      <td>609</td>\n",
              "      <td>-3.320225</td>\n",
              "      <td>-2.901762</td>\n",
              "      <td>-6.221987</td>\n",
              "      <td>-2.791027</td>\n",
              "      <td>-3.138553</td>\n",
              "      <td>...</td>\n",
              "      <td>-3.040589</td>\n",
              "      <td>-6.398767</td>\n",
              "      <td>-1.141160</td>\n",
              "      <td>-1.141160</td>\n",
              "      <td>0.000000</td>\n",
              "      <td>-3.533604</td>\n",
              "      <td>-2.932103</td>\n",
              "      <td>-6.465707</td>\n",
              "      <td>0.644128</td>\n",
              "      <td>0.531968</td>\n",
              "    </tr>\n",
              "    <tr>\n",
              "      <th>4075</th>\n",
              "      <td>Ivica Zubac</td>\n",
              "      <td>zubaciv01</td>\n",
              "      <td>2018</td>\n",
              "      <td>871</td>\n",
              "      <td>410</td>\n",
              "      <td>-2.581325</td>\n",
              "      <td>1.643240</td>\n",
              "      <td>-0.938084</td>\n",
              "      <td>-3.444739</td>\n",
              "      <td>6.249652</td>\n",
              "      <td>...</td>\n",
              "      <td>2.688832</td>\n",
              "      <td>-0.214877</td>\n",
              "      <td>0.531968</td>\n",
              "      <td>0.531968</td>\n",
              "      <td>0.000000</td>\n",
              "      <td>-2.616331</td>\n",
              "      <td>0.752875</td>\n",
              "      <td>-1.863456</td>\n",
              "      <td>0.311576</td>\n",
              "      <td>1.217134</td>\n",
              "    </tr>\n",
              "    <tr>\n",
              "      <th>4076</th>\n",
              "      <td>Ivica Zubac</td>\n",
              "      <td>zubaciv01</td>\n",
              "      <td>2019</td>\n",
              "      <td>2345</td>\n",
              "      <td>1079</td>\n",
              "      <td>-2.336006</td>\n",
              "      <td>1.400274</td>\n",
              "      <td>-0.935733</td>\n",
              "      <td>-1.757992</td>\n",
              "      <td>3.051059</td>\n",
              "      <td>...</td>\n",
              "      <td>1.813768</td>\n",
              "      <td>-0.548676</td>\n",
              "      <td>1.217134</td>\n",
              "      <td>1.114995</td>\n",
              "      <td>0.102138</td>\n",
              "      <td>-2.810283</td>\n",
              "      <td>1.157824</td>\n",
              "      <td>-1.652459</td>\n",
              "      <td>0.077074</td>\n",
              "      <td>6.224207</td>\n",
              "    </tr>\n",
              "    <tr>\n",
              "      <th>4077</th>\n",
              "      <td>Ivica Zubac</td>\n",
              "      <td>zubaciv01</td>\n",
              "      <td>2020</td>\n",
              "      <td>3447</td>\n",
              "      <td>1646</td>\n",
              "      <td>0.516422</td>\n",
              "      <td>3.529428</td>\n",
              "      <td>4.045850</td>\n",
              "      <td>3.314971</td>\n",
              "      <td>2.963001</td>\n",
              "      <td>...</td>\n",
              "      <td>3.549458</td>\n",
              "      <td>4.649308</td>\n",
              "      <td>6.224207</td>\n",
              "      <td>5.020903</td>\n",
              "      <td>1.203304</td>\n",
              "      <td>-0.310842</td>\n",
              "      <td>3.331974</td>\n",
              "      <td>3.021132</td>\n",
              "      <td>-0.410164</td>\n",
              "      <td>4.261327</td>\n",
              "    </tr>\n",
              "    <tr>\n",
              "      <th>4078</th>\n",
              "      <td>Ivica Zubac</td>\n",
              "      <td>zubaciv01</td>\n",
              "      <td>2021</td>\n",
              "      <td>3908</td>\n",
              "      <td>1910</td>\n",
              "      <td>-0.371753</td>\n",
              "      <td>2.960613</td>\n",
              "      <td>2.588860</td>\n",
              "      <td>-2.541995</td>\n",
              "      <td>0.156338</td>\n",
              "      <td>...</td>\n",
              "      <td>2.525735</td>\n",
              "      <td>1.616696</td>\n",
              "      <td>4.261327</td>\n",
              "      <td>3.704630</td>\n",
              "      <td>0.556697</td>\n",
              "      <td>-0.874338</td>\n",
              "      <td>2.280011</td>\n",
              "      <td>1.405673</td>\n",
              "      <td>-0.117623</td>\n",
              "      <td>NaN</td>\n",
              "    </tr>\n",
              "  </tbody>\n",
              "</table>\n",
              "<p>4079 rows × 22 columns</p>\n",
              "</div>\n",
              "      <button class=\"colab-df-convert\" onclick=\"convertToInteractive('df-dc7df774-2a59-4694-8151-ee6cc85cfd20')\"\n",
              "              title=\"Convert this dataframe to an interactive table.\"\n",
              "              style=\"display:none;\">\n",
              "        \n",
              "  <svg xmlns=\"http://www.w3.org/2000/svg\" height=\"24px\"viewBox=\"0 0 24 24\"\n",
              "       width=\"24px\">\n",
              "    <path d=\"M0 0h24v24H0V0z\" fill=\"none\"/>\n",
              "    <path d=\"M18.56 5.44l.94 2.06.94-2.06 2.06-.94-2.06-.94-.94-2.06-.94 2.06-2.06.94zm-11 1L8.5 8.5l.94-2.06 2.06-.94-2.06-.94L8.5 2.5l-.94 2.06-2.06.94zm10 10l.94 2.06.94-2.06 2.06-.94-2.06-.94-.94-2.06-.94 2.06-2.06.94z\"/><path d=\"M17.41 7.96l-1.37-1.37c-.4-.4-.92-.59-1.43-.59-.52 0-1.04.2-1.43.59L10.3 9.45l-7.72 7.72c-.78.78-.78 2.05 0 2.83L4 21.41c.39.39.9.59 1.41.59.51 0 1.02-.2 1.41-.59l7.78-7.78 2.81-2.81c.8-.78.8-2.07 0-2.86zM5.41 20L4 18.59l7.72-7.72 1.47 1.35L5.41 20z\"/>\n",
              "  </svg>\n",
              "      </button>\n",
              "      \n",
              "  <style>\n",
              "    .colab-df-container {\n",
              "      display:flex;\n",
              "      flex-wrap:wrap;\n",
              "      gap: 12px;\n",
              "    }\n",
              "\n",
              "    .colab-df-convert {\n",
              "      background-color: #E8F0FE;\n",
              "      border: none;\n",
              "      border-radius: 50%;\n",
              "      cursor: pointer;\n",
              "      display: none;\n",
              "      fill: #1967D2;\n",
              "      height: 32px;\n",
              "      padding: 0 0 0 0;\n",
              "      width: 32px;\n",
              "    }\n",
              "\n",
              "    .colab-df-convert:hover {\n",
              "      background-color: #E2EBFA;\n",
              "      box-shadow: 0px 1px 2px rgba(60, 64, 67, 0.3), 0px 1px 3px 1px rgba(60, 64, 67, 0.15);\n",
              "      fill: #174EA6;\n",
              "    }\n",
              "\n",
              "    [theme=dark] .colab-df-convert {\n",
              "      background-color: #3B4455;\n",
              "      fill: #D2E3FC;\n",
              "    }\n",
              "\n",
              "    [theme=dark] .colab-df-convert:hover {\n",
              "      background-color: #434B5C;\n",
              "      box-shadow: 0px 1px 3px 1px rgba(0, 0, 0, 0.15);\n",
              "      filter: drop-shadow(0px 1px 2px rgba(0, 0, 0, 0.3));\n",
              "      fill: #FFFFFF;\n",
              "    }\n",
              "  </style>\n",
              "\n",
              "      <script>\n",
              "        const buttonEl =\n",
              "          document.querySelector('#df-dc7df774-2a59-4694-8151-ee6cc85cfd20 button.colab-df-convert');\n",
              "        buttonEl.style.display =\n",
              "          google.colab.kernel.accessAllowed ? 'block' : 'none';\n",
              "\n",
              "        async function convertToInteractive(key) {\n",
              "          const element = document.querySelector('#df-dc7df774-2a59-4694-8151-ee6cc85cfd20');\n",
              "          const dataTable =\n",
              "            await google.colab.kernel.invokeFunction('convertToInteractive',\n",
              "                                                     [key], {});\n",
              "          if (!dataTable) return;\n",
              "\n",
              "          const docLinkHtml = 'Like what you see? Visit the ' +\n",
              "            '<a target=\"_blank\" href=https://colab.research.google.com/notebooks/data_table.ipynb>data table notebook</a>'\n",
              "            + ' to learn more about interactive tables.';\n",
              "          element.innerHTML = '';\n",
              "          dataTable['output_type'] = 'display_data';\n",
              "          await google.colab.output.renderOutput(dataTable, element);\n",
              "          const docLink = document.createElement('div');\n",
              "          docLink.innerHTML = docLinkHtml;\n",
              "          element.appendChild(docLink);\n",
              "        }\n",
              "      </script>\n",
              "    </div>\n",
              "  </div>\n",
              "  "
            ]
          },
          "metadata": {},
          "execution_count": 11
        }
      ]
    },
    {
      "cell_type": "code",
      "source": [
        "dfml.isna().sum()"
      ],
      "metadata": {
        "colab": {
          "base_uri": "https://localhost:8080/"
        },
        "id": "3SVghnjQJbE6",
        "outputId": "effd3140-a1bf-49ac-a5c7-09c11e5361d3"
      },
      "execution_count": 12,
      "outputs": [
        {
          "output_type": "execute_result",
          "data": {
            "text/plain": [
              "player_name                0\n",
              "player_id                  0\n",
              "season                     0\n",
              "poss                       0\n",
              "mp                         0\n",
              "raptor_box_offense         1\n",
              "raptor_box_defense         1\n",
              "raptor_box_total           1\n",
              "raptor_onoff_offense       1\n",
              "raptor_onoff_defense       1\n",
              "raptor_onoff_total         1\n",
              "raptor_offense             0\n",
              "raptor_defense             0\n",
              "raptor_total               0\n",
              "war_total                  0\n",
              "war_reg_season             0\n",
              "war_playoffs               0\n",
              "predator_offense           0\n",
              "predator_defense           0\n",
              "predator_total             0\n",
              "pace_impact                1\n",
              "Next WAR                1192\n",
              "dtype: int64"
            ]
          },
          "metadata": {},
          "execution_count": 12
        }
      ]
    },
    {
      "cell_type": "code",
      "source": [
        "dfml.drop(['player_name', 'player_id', 'season', 'raptor_box_offense', 'raptor_box_defense', 'raptor_onoff_offense', 'raptor_onoff_defense', 'raptor_offense', 'raptor_defense', 'raptor_box_total', 'war_reg_season', 'war_playoffs', 'predator_offense', 'predator_defense'], axis=1, inplace=True)\n",
        "dfml.head()"
      ],
      "metadata": {
        "id": "wnsD9u1cWVNM",
        "colab": {
          "base_uri": "https://localhost:8080/",
          "height": 288
        },
        "outputId": "0e222b36-4572-4aff-e27e-2601dc16d1e7"
      },
      "execution_count": 13,
      "outputs": [
        {
          "output_type": "execute_result",
          "data": {
            "text/plain": [
              "   poss    mp  raptor_onoff_total  raptor_total  war_total  predator_total  \\\n",
              "0  2387  1135           -4.275564     -0.601411   1.249008       -0.961575   \n",
              "1  2546  1244           -1.341421     -1.523468   0.777304       -1.287247   \n",
              "2  1279   588           -1.257688     -2.154538   0.178167       -3.034396   \n",
              "3  1581   749           -4.970491     -3.392775  -0.246055       -3.342885   \n",
              "4  1716   847           -1.986306     -1.781734   0.415918       -1.688171   \n",
              "\n",
              "   pace_impact  Next WAR  \n",
              "0     0.326413  0.777304  \n",
              "1    -0.456141  0.178167  \n",
              "2    -0.268013       NaN  \n",
              "3     0.329157       NaN  \n",
              "4    -0.554898 -0.083313  "
            ],
            "text/html": [
              "\n",
              "  <div id=\"df-408de49d-7481-4e22-a352-75a45a423d6a\">\n",
              "    <div class=\"colab-df-container\">\n",
              "      <div>\n",
              "<style scoped>\n",
              "    .dataframe tbody tr th:only-of-type {\n",
              "        vertical-align: middle;\n",
              "    }\n",
              "\n",
              "    .dataframe tbody tr th {\n",
              "        vertical-align: top;\n",
              "    }\n",
              "\n",
              "    .dataframe thead th {\n",
              "        text-align: right;\n",
              "    }\n",
              "</style>\n",
              "<table border=\"1\" class=\"dataframe\">\n",
              "  <thead>\n",
              "    <tr style=\"text-align: right;\">\n",
              "      <th></th>\n",
              "      <th>poss</th>\n",
              "      <th>mp</th>\n",
              "      <th>raptor_onoff_total</th>\n",
              "      <th>raptor_total</th>\n",
              "      <th>war_total</th>\n",
              "      <th>predator_total</th>\n",
              "      <th>pace_impact</th>\n",
              "      <th>Next WAR</th>\n",
              "    </tr>\n",
              "  </thead>\n",
              "  <tbody>\n",
              "    <tr>\n",
              "      <th>0</th>\n",
              "      <td>2387</td>\n",
              "      <td>1135</td>\n",
              "      <td>-4.275564</td>\n",
              "      <td>-0.601411</td>\n",
              "      <td>1.249008</td>\n",
              "      <td>-0.961575</td>\n",
              "      <td>0.326413</td>\n",
              "      <td>0.777304</td>\n",
              "    </tr>\n",
              "    <tr>\n",
              "      <th>1</th>\n",
              "      <td>2546</td>\n",
              "      <td>1244</td>\n",
              "      <td>-1.341421</td>\n",
              "      <td>-1.523468</td>\n",
              "      <td>0.777304</td>\n",
              "      <td>-1.287247</td>\n",
              "      <td>-0.456141</td>\n",
              "      <td>0.178167</td>\n",
              "    </tr>\n",
              "    <tr>\n",
              "      <th>2</th>\n",
              "      <td>1279</td>\n",
              "      <td>588</td>\n",
              "      <td>-1.257688</td>\n",
              "      <td>-2.154538</td>\n",
              "      <td>0.178167</td>\n",
              "      <td>-3.034396</td>\n",
              "      <td>-0.268013</td>\n",
              "      <td>NaN</td>\n",
              "    </tr>\n",
              "    <tr>\n",
              "      <th>3</th>\n",
              "      <td>1581</td>\n",
              "      <td>749</td>\n",
              "      <td>-4.970491</td>\n",
              "      <td>-3.392775</td>\n",
              "      <td>-0.246055</td>\n",
              "      <td>-3.342885</td>\n",
              "      <td>0.329157</td>\n",
              "      <td>NaN</td>\n",
              "    </tr>\n",
              "    <tr>\n",
              "      <th>4</th>\n",
              "      <td>1716</td>\n",
              "      <td>847</td>\n",
              "      <td>-1.986306</td>\n",
              "      <td>-1.781734</td>\n",
              "      <td>0.415918</td>\n",
              "      <td>-1.688171</td>\n",
              "      <td>-0.554898</td>\n",
              "      <td>-0.083313</td>\n",
              "    </tr>\n",
              "  </tbody>\n",
              "</table>\n",
              "</div>\n",
              "      <button class=\"colab-df-convert\" onclick=\"convertToInteractive('df-408de49d-7481-4e22-a352-75a45a423d6a')\"\n",
              "              title=\"Convert this dataframe to an interactive table.\"\n",
              "              style=\"display:none;\">\n",
              "        \n",
              "  <svg xmlns=\"http://www.w3.org/2000/svg\" height=\"24px\"viewBox=\"0 0 24 24\"\n",
              "       width=\"24px\">\n",
              "    <path d=\"M0 0h24v24H0V0z\" fill=\"none\"/>\n",
              "    <path d=\"M18.56 5.44l.94 2.06.94-2.06 2.06-.94-2.06-.94-.94-2.06-.94 2.06-2.06.94zm-11 1L8.5 8.5l.94-2.06 2.06-.94-2.06-.94L8.5 2.5l-.94 2.06-2.06.94zm10 10l.94 2.06.94-2.06 2.06-.94-2.06-.94-.94-2.06-.94 2.06-2.06.94z\"/><path d=\"M17.41 7.96l-1.37-1.37c-.4-.4-.92-.59-1.43-.59-.52 0-1.04.2-1.43.59L10.3 9.45l-7.72 7.72c-.78.78-.78 2.05 0 2.83L4 21.41c.39.39.9.59 1.41.59.51 0 1.02-.2 1.41-.59l7.78-7.78 2.81-2.81c.8-.78.8-2.07 0-2.86zM5.41 20L4 18.59l7.72-7.72 1.47 1.35L5.41 20z\"/>\n",
              "  </svg>\n",
              "      </button>\n",
              "      \n",
              "  <style>\n",
              "    .colab-df-container {\n",
              "      display:flex;\n",
              "      flex-wrap:wrap;\n",
              "      gap: 12px;\n",
              "    }\n",
              "\n",
              "    .colab-df-convert {\n",
              "      background-color: #E8F0FE;\n",
              "      border: none;\n",
              "      border-radius: 50%;\n",
              "      cursor: pointer;\n",
              "      display: none;\n",
              "      fill: #1967D2;\n",
              "      height: 32px;\n",
              "      padding: 0 0 0 0;\n",
              "      width: 32px;\n",
              "    }\n",
              "\n",
              "    .colab-df-convert:hover {\n",
              "      background-color: #E2EBFA;\n",
              "      box-shadow: 0px 1px 2px rgba(60, 64, 67, 0.3), 0px 1px 3px 1px rgba(60, 64, 67, 0.15);\n",
              "      fill: #174EA6;\n",
              "    }\n",
              "\n",
              "    [theme=dark] .colab-df-convert {\n",
              "      background-color: #3B4455;\n",
              "      fill: #D2E3FC;\n",
              "    }\n",
              "\n",
              "    [theme=dark] .colab-df-convert:hover {\n",
              "      background-color: #434B5C;\n",
              "      box-shadow: 0px 1px 3px 1px rgba(0, 0, 0, 0.15);\n",
              "      filter: drop-shadow(0px 1px 2px rgba(0, 0, 0, 0.3));\n",
              "      fill: #FFFFFF;\n",
              "    }\n",
              "  </style>\n",
              "\n",
              "      <script>\n",
              "        const buttonEl =\n",
              "          document.querySelector('#df-408de49d-7481-4e22-a352-75a45a423d6a button.colab-df-convert');\n",
              "        buttonEl.style.display =\n",
              "          google.colab.kernel.accessAllowed ? 'block' : 'none';\n",
              "\n",
              "        async function convertToInteractive(key) {\n",
              "          const element = document.querySelector('#df-408de49d-7481-4e22-a352-75a45a423d6a');\n",
              "          const dataTable =\n",
              "            await google.colab.kernel.invokeFunction('convertToInteractive',\n",
              "                                                     [key], {});\n",
              "          if (!dataTable) return;\n",
              "\n",
              "          const docLinkHtml = 'Like what you see? Visit the ' +\n",
              "            '<a target=\"_blank\" href=https://colab.research.google.com/notebooks/data_table.ipynb>data table notebook</a>'\n",
              "            + ' to learn more about interactive tables.';\n",
              "          element.innerHTML = '';\n",
              "          dataTable['output_type'] = 'display_data';\n",
              "          await google.colab.output.renderOutput(dataTable, element);\n",
              "          const docLink = document.createElement('div');\n",
              "          docLink.innerHTML = docLinkHtml;\n",
              "          element.appendChild(docLink);\n",
              "        }\n",
              "      </script>\n",
              "    </div>\n",
              "  </div>\n",
              "  "
            ]
          },
          "metadata": {},
          "execution_count": 13
        }
      ]
    },
    {
      "cell_type": "code",
      "source": [
        "dfml = dfml.loc[dfml['war_total'] >= 1]\n",
        "dfml = dfml.loc[dfml['predator_total'] >= 1]\n",
        "dfml = dfml.loc[dfml['raptor_total'] >= 1]\n",
        "dfml = dfml.loc[dfml['pace_impact'] >= 1]\n",
        "dfml = dfml.loc[dfml['Next WAR'] >= 1]\n",
        "dfml"
      ],
      "metadata": {
        "id": "IIm5RTkEpGe-",
        "colab": {
          "base_uri": "https://localhost:8080/",
          "height": 505
        },
        "outputId": "3bd016c6-764b-416e-faeb-7bb220c522ac"
      },
      "execution_count": 14,
      "outputs": [
        {
          "output_type": "execute_result",
          "data": {
            "text/plain": [
              "      poss    mp  raptor_onoff_total  raptor_total  war_total  predator_total  \\\n",
              "127   6265  2872            5.543546      6.806518  14.269861        7.083689   \n",
              "128   4894  2194            9.090994      8.778267  13.149613        7.521699   \n",
              "160   6225  3130            2.318868      2.146961   8.034787        2.400297   \n",
              "272   6871  3415            2.518748      2.140857   8.669646        3.200148   \n",
              "309   6485  3028            1.107369      3.374096   9.580186        3.724767   \n",
              "...    ...   ...                 ...           ...        ...             ...   \n",
              "3875  6533  3149            8.175709      4.429313  11.841404        5.656411   \n",
              "3876  6169  2827            0.451285      1.431787   6.142006        2.696536   \n",
              "3948  4821  2266            3.572633      3.677213   7.619304        2.484788   \n",
              "3949  5489  2589            1.722066      1.882814   6.274484        1.759520   \n",
              "4051  4645  2120            1.766801      3.716428   7.192127        3.691880   \n",
              "\n",
              "      pace_impact   Next WAR  \n",
              "127      1.319042  13.149613  \n",
              "128      1.799512  13.666796  \n",
              "160      1.319376   7.993878  \n",
              "272      1.108855   4.220007  \n",
              "309      1.283573   4.656472  \n",
              "...           ...        ...  \n",
              "3875     2.941962   6.142006  \n",
              "3876     2.660690   2.127703  \n",
              "3948     1.523881   6.274484  \n",
              "3949     2.511937   4.286623  \n",
              "4051     2.888762   6.963372  \n",
              "\n",
              "[87 rows x 8 columns]"
            ],
            "text/html": [
              "\n",
              "  <div id=\"df-78a6604b-8d90-4d92-a212-c9933fb04b81\">\n",
              "    <div class=\"colab-df-container\">\n",
              "      <div>\n",
              "<style scoped>\n",
              "    .dataframe tbody tr th:only-of-type {\n",
              "        vertical-align: middle;\n",
              "    }\n",
              "\n",
              "    .dataframe tbody tr th {\n",
              "        vertical-align: top;\n",
              "    }\n",
              "\n",
              "    .dataframe thead th {\n",
              "        text-align: right;\n",
              "    }\n",
              "</style>\n",
              "<table border=\"1\" class=\"dataframe\">\n",
              "  <thead>\n",
              "    <tr style=\"text-align: right;\">\n",
              "      <th></th>\n",
              "      <th>poss</th>\n",
              "      <th>mp</th>\n",
              "      <th>raptor_onoff_total</th>\n",
              "      <th>raptor_total</th>\n",
              "      <th>war_total</th>\n",
              "      <th>predator_total</th>\n",
              "      <th>pace_impact</th>\n",
              "      <th>Next WAR</th>\n",
              "    </tr>\n",
              "  </thead>\n",
              "  <tbody>\n",
              "    <tr>\n",
              "      <th>127</th>\n",
              "      <td>6265</td>\n",
              "      <td>2872</td>\n",
              "      <td>5.543546</td>\n",
              "      <td>6.806518</td>\n",
              "      <td>14.269861</td>\n",
              "      <td>7.083689</td>\n",
              "      <td>1.319042</td>\n",
              "      <td>13.149613</td>\n",
              "    </tr>\n",
              "    <tr>\n",
              "      <th>128</th>\n",
              "      <td>4894</td>\n",
              "      <td>2194</td>\n",
              "      <td>9.090994</td>\n",
              "      <td>8.778267</td>\n",
              "      <td>13.149613</td>\n",
              "      <td>7.521699</td>\n",
              "      <td>1.799512</td>\n",
              "      <td>13.666796</td>\n",
              "    </tr>\n",
              "    <tr>\n",
              "      <th>160</th>\n",
              "      <td>6225</td>\n",
              "      <td>3130</td>\n",
              "      <td>2.318868</td>\n",
              "      <td>2.146961</td>\n",
              "      <td>8.034787</td>\n",
              "      <td>2.400297</td>\n",
              "      <td>1.319376</td>\n",
              "      <td>7.993878</td>\n",
              "    </tr>\n",
              "    <tr>\n",
              "      <th>272</th>\n",
              "      <td>6871</td>\n",
              "      <td>3415</td>\n",
              "      <td>2.518748</td>\n",
              "      <td>2.140857</td>\n",
              "      <td>8.669646</td>\n",
              "      <td>3.200148</td>\n",
              "      <td>1.108855</td>\n",
              "      <td>4.220007</td>\n",
              "    </tr>\n",
              "    <tr>\n",
              "      <th>309</th>\n",
              "      <td>6485</td>\n",
              "      <td>3028</td>\n",
              "      <td>1.107369</td>\n",
              "      <td>3.374096</td>\n",
              "      <td>9.580186</td>\n",
              "      <td>3.724767</td>\n",
              "      <td>1.283573</td>\n",
              "      <td>4.656472</td>\n",
              "    </tr>\n",
              "    <tr>\n",
              "      <th>...</th>\n",
              "      <td>...</td>\n",
              "      <td>...</td>\n",
              "      <td>...</td>\n",
              "      <td>...</td>\n",
              "      <td>...</td>\n",
              "      <td>...</td>\n",
              "      <td>...</td>\n",
              "      <td>...</td>\n",
              "    </tr>\n",
              "    <tr>\n",
              "      <th>3875</th>\n",
              "      <td>6533</td>\n",
              "      <td>3149</td>\n",
              "      <td>8.175709</td>\n",
              "      <td>4.429313</td>\n",
              "      <td>11.841404</td>\n",
              "      <td>5.656411</td>\n",
              "      <td>2.941962</td>\n",
              "      <td>6.142006</td>\n",
              "    </tr>\n",
              "    <tr>\n",
              "      <th>3876</th>\n",
              "      <td>6169</td>\n",
              "      <td>2827</td>\n",
              "      <td>0.451285</td>\n",
              "      <td>1.431787</td>\n",
              "      <td>6.142006</td>\n",
              "      <td>2.696536</td>\n",
              "      <td>2.660690</td>\n",
              "      <td>2.127703</td>\n",
              "    </tr>\n",
              "    <tr>\n",
              "      <th>3948</th>\n",
              "      <td>4821</td>\n",
              "      <td>2266</td>\n",
              "      <td>3.572633</td>\n",
              "      <td>3.677213</td>\n",
              "      <td>7.619304</td>\n",
              "      <td>2.484788</td>\n",
              "      <td>1.523881</td>\n",
              "      <td>6.274484</td>\n",
              "    </tr>\n",
              "    <tr>\n",
              "      <th>3949</th>\n",
              "      <td>5489</td>\n",
              "      <td>2589</td>\n",
              "      <td>1.722066</td>\n",
              "      <td>1.882814</td>\n",
              "      <td>6.274484</td>\n",
              "      <td>1.759520</td>\n",
              "      <td>2.511937</td>\n",
              "      <td>4.286623</td>\n",
              "    </tr>\n",
              "    <tr>\n",
              "      <th>4051</th>\n",
              "      <td>4645</td>\n",
              "      <td>2120</td>\n",
              "      <td>1.766801</td>\n",
              "      <td>3.716428</td>\n",
              "      <td>7.192127</td>\n",
              "      <td>3.691880</td>\n",
              "      <td>2.888762</td>\n",
              "      <td>6.963372</td>\n",
              "    </tr>\n",
              "  </tbody>\n",
              "</table>\n",
              "<p>87 rows × 8 columns</p>\n",
              "</div>\n",
              "      <button class=\"colab-df-convert\" onclick=\"convertToInteractive('df-78a6604b-8d90-4d92-a212-c9933fb04b81')\"\n",
              "              title=\"Convert this dataframe to an interactive table.\"\n",
              "              style=\"display:none;\">\n",
              "        \n",
              "  <svg xmlns=\"http://www.w3.org/2000/svg\" height=\"24px\"viewBox=\"0 0 24 24\"\n",
              "       width=\"24px\">\n",
              "    <path d=\"M0 0h24v24H0V0z\" fill=\"none\"/>\n",
              "    <path d=\"M18.56 5.44l.94 2.06.94-2.06 2.06-.94-2.06-.94-.94-2.06-.94 2.06-2.06.94zm-11 1L8.5 8.5l.94-2.06 2.06-.94-2.06-.94L8.5 2.5l-.94 2.06-2.06.94zm10 10l.94 2.06.94-2.06 2.06-.94-2.06-.94-.94-2.06-.94 2.06-2.06.94z\"/><path d=\"M17.41 7.96l-1.37-1.37c-.4-.4-.92-.59-1.43-.59-.52 0-1.04.2-1.43.59L10.3 9.45l-7.72 7.72c-.78.78-.78 2.05 0 2.83L4 21.41c.39.39.9.59 1.41.59.51 0 1.02-.2 1.41-.59l7.78-7.78 2.81-2.81c.8-.78.8-2.07 0-2.86zM5.41 20L4 18.59l7.72-7.72 1.47 1.35L5.41 20z\"/>\n",
              "  </svg>\n",
              "      </button>\n",
              "      \n",
              "  <style>\n",
              "    .colab-df-container {\n",
              "      display:flex;\n",
              "      flex-wrap:wrap;\n",
              "      gap: 12px;\n",
              "    }\n",
              "\n",
              "    .colab-df-convert {\n",
              "      background-color: #E8F0FE;\n",
              "      border: none;\n",
              "      border-radius: 50%;\n",
              "      cursor: pointer;\n",
              "      display: none;\n",
              "      fill: #1967D2;\n",
              "      height: 32px;\n",
              "      padding: 0 0 0 0;\n",
              "      width: 32px;\n",
              "    }\n",
              "\n",
              "    .colab-df-convert:hover {\n",
              "      background-color: #E2EBFA;\n",
              "      box-shadow: 0px 1px 2px rgba(60, 64, 67, 0.3), 0px 1px 3px 1px rgba(60, 64, 67, 0.15);\n",
              "      fill: #174EA6;\n",
              "    }\n",
              "\n",
              "    [theme=dark] .colab-df-convert {\n",
              "      background-color: #3B4455;\n",
              "      fill: #D2E3FC;\n",
              "    }\n",
              "\n",
              "    [theme=dark] .colab-df-convert:hover {\n",
              "      background-color: #434B5C;\n",
              "      box-shadow: 0px 1px 3px 1px rgba(0, 0, 0, 0.15);\n",
              "      filter: drop-shadow(0px 1px 2px rgba(0, 0, 0, 0.3));\n",
              "      fill: #FFFFFF;\n",
              "    }\n",
              "  </style>\n",
              "\n",
              "      <script>\n",
              "        const buttonEl =\n",
              "          document.querySelector('#df-78a6604b-8d90-4d92-a212-c9933fb04b81 button.colab-df-convert');\n",
              "        buttonEl.style.display =\n",
              "          google.colab.kernel.accessAllowed ? 'block' : 'none';\n",
              "\n",
              "        async function convertToInteractive(key) {\n",
              "          const element = document.querySelector('#df-78a6604b-8d90-4d92-a212-c9933fb04b81');\n",
              "          const dataTable =\n",
              "            await google.colab.kernel.invokeFunction('convertToInteractive',\n",
              "                                                     [key], {});\n",
              "          if (!dataTable) return;\n",
              "\n",
              "          const docLinkHtml = 'Like what you see? Visit the ' +\n",
              "            '<a target=\"_blank\" href=https://colab.research.google.com/notebooks/data_table.ipynb>data table notebook</a>'\n",
              "            + ' to learn more about interactive tables.';\n",
              "          element.innerHTML = '';\n",
              "          dataTable['output_type'] = 'display_data';\n",
              "          await google.colab.output.renderOutput(dataTable, element);\n",
              "          const docLink = document.createElement('div');\n",
              "          docLink.innerHTML = docLinkHtml;\n",
              "          element.appendChild(docLink);\n",
              "        }\n",
              "      </script>\n",
              "    </div>\n",
              "  </div>\n",
              "  "
            ]
          },
          "metadata": {},
          "execution_count": 14
        }
      ]
    },
    {
      "cell_type": "code",
      "source": [
        "dfml.dropna(subset=['Next WAR'], inplace = True)\n",
        "dfml.isna().sum()"
      ],
      "metadata": {
        "colab": {
          "base_uri": "https://localhost:8080/"
        },
        "id": "mOiXW0PSIVg_",
        "outputId": "0d796983-0c10-40ab-e07a-910d37d6662e"
      },
      "execution_count": 15,
      "outputs": [
        {
          "output_type": "execute_result",
          "data": {
            "text/plain": [
              "poss                  0\n",
              "mp                    0\n",
              "raptor_onoff_total    0\n",
              "raptor_total          0\n",
              "war_total             0\n",
              "predator_total        0\n",
              "pace_impact           0\n",
              "Next WAR              0\n",
              "dtype: int64"
            ]
          },
          "metadata": {},
          "execution_count": 15
        }
      ]
    },
    {
      "cell_type": "code",
      "source": [
        "## label each part of project (headers and maybe some info)\n",
        "## include more comments for what I decided to do"
      ],
      "metadata": {
        "id": "J05SqwySLGaf"
      },
      "execution_count": 16,
      "outputs": []
    },
    {
      "cell_type": "code",
      "source": [
        "dfml.describe().round(2)"
      ],
      "metadata": {
        "id": "tN2uEQHkn3O3",
        "colab": {
          "base_uri": "https://localhost:8080/",
          "height": 382
        },
        "outputId": "1e3cdd5f-d584-4d0d-991d-fd8f02f35005"
      },
      "execution_count": 17,
      "outputs": [
        {
          "output_type": "execute_result",
          "data": {
            "text/plain": [
              "          poss       mp  raptor_onoff_total  raptor_total  war_total  \\\n",
              "count    87.00    87.00               87.00         87.00      87.00   \n",
              "mean   5075.32  2424.98                4.24          4.71       9.79   \n",
              "std    1728.05   837.47                3.61          2.52       5.60   \n",
              "min     841.00   381.00               -3.30          1.11       1.13   \n",
              "25%    4043.00  1958.00                1.86          2.53       5.41   \n",
              "50%    5515.00  2589.00                3.88          4.35       8.67   \n",
              "75%    6486.50  3108.00                6.62          6.58      13.11   \n",
              "max    7947.00  3937.00               15.23         12.49      26.67   \n",
              "\n",
              "       predator_total  pace_impact  Next WAR  \n",
              "count           87.00        87.00     87.00  \n",
              "mean             5.08         1.64      8.78  \n",
              "std              2.60         0.63      5.77  \n",
              "min              1.13         1.00      1.58  \n",
              "25%              2.72         1.21      4.30  \n",
              "50%              5.19         1.40      7.78  \n",
              "75%              6.82         1.92     12.08  \n",
              "max             13.35         4.00     26.67  "
            ],
            "text/html": [
              "\n",
              "  <div id=\"df-22e12840-5975-42cb-913a-59de80f97ad8\">\n",
              "    <div class=\"colab-df-container\">\n",
              "      <div>\n",
              "<style scoped>\n",
              "    .dataframe tbody tr th:only-of-type {\n",
              "        vertical-align: middle;\n",
              "    }\n",
              "\n",
              "    .dataframe tbody tr th {\n",
              "        vertical-align: top;\n",
              "    }\n",
              "\n",
              "    .dataframe thead th {\n",
              "        text-align: right;\n",
              "    }\n",
              "</style>\n",
              "<table border=\"1\" class=\"dataframe\">\n",
              "  <thead>\n",
              "    <tr style=\"text-align: right;\">\n",
              "      <th></th>\n",
              "      <th>poss</th>\n",
              "      <th>mp</th>\n",
              "      <th>raptor_onoff_total</th>\n",
              "      <th>raptor_total</th>\n",
              "      <th>war_total</th>\n",
              "      <th>predator_total</th>\n",
              "      <th>pace_impact</th>\n",
              "      <th>Next WAR</th>\n",
              "    </tr>\n",
              "  </thead>\n",
              "  <tbody>\n",
              "    <tr>\n",
              "      <th>count</th>\n",
              "      <td>87.00</td>\n",
              "      <td>87.00</td>\n",
              "      <td>87.00</td>\n",
              "      <td>87.00</td>\n",
              "      <td>87.00</td>\n",
              "      <td>87.00</td>\n",
              "      <td>87.00</td>\n",
              "      <td>87.00</td>\n",
              "    </tr>\n",
              "    <tr>\n",
              "      <th>mean</th>\n",
              "      <td>5075.32</td>\n",
              "      <td>2424.98</td>\n",
              "      <td>4.24</td>\n",
              "      <td>4.71</td>\n",
              "      <td>9.79</td>\n",
              "      <td>5.08</td>\n",
              "      <td>1.64</td>\n",
              "      <td>8.78</td>\n",
              "    </tr>\n",
              "    <tr>\n",
              "      <th>std</th>\n",
              "      <td>1728.05</td>\n",
              "      <td>837.47</td>\n",
              "      <td>3.61</td>\n",
              "      <td>2.52</td>\n",
              "      <td>5.60</td>\n",
              "      <td>2.60</td>\n",
              "      <td>0.63</td>\n",
              "      <td>5.77</td>\n",
              "    </tr>\n",
              "    <tr>\n",
              "      <th>min</th>\n",
              "      <td>841.00</td>\n",
              "      <td>381.00</td>\n",
              "      <td>-3.30</td>\n",
              "      <td>1.11</td>\n",
              "      <td>1.13</td>\n",
              "      <td>1.13</td>\n",
              "      <td>1.00</td>\n",
              "      <td>1.58</td>\n",
              "    </tr>\n",
              "    <tr>\n",
              "      <th>25%</th>\n",
              "      <td>4043.00</td>\n",
              "      <td>1958.00</td>\n",
              "      <td>1.86</td>\n",
              "      <td>2.53</td>\n",
              "      <td>5.41</td>\n",
              "      <td>2.72</td>\n",
              "      <td>1.21</td>\n",
              "      <td>4.30</td>\n",
              "    </tr>\n",
              "    <tr>\n",
              "      <th>50%</th>\n",
              "      <td>5515.00</td>\n",
              "      <td>2589.00</td>\n",
              "      <td>3.88</td>\n",
              "      <td>4.35</td>\n",
              "      <td>8.67</td>\n",
              "      <td>5.19</td>\n",
              "      <td>1.40</td>\n",
              "      <td>7.78</td>\n",
              "    </tr>\n",
              "    <tr>\n",
              "      <th>75%</th>\n",
              "      <td>6486.50</td>\n",
              "      <td>3108.00</td>\n",
              "      <td>6.62</td>\n",
              "      <td>6.58</td>\n",
              "      <td>13.11</td>\n",
              "      <td>6.82</td>\n",
              "      <td>1.92</td>\n",
              "      <td>12.08</td>\n",
              "    </tr>\n",
              "    <tr>\n",
              "      <th>max</th>\n",
              "      <td>7947.00</td>\n",
              "      <td>3937.00</td>\n",
              "      <td>15.23</td>\n",
              "      <td>12.49</td>\n",
              "      <td>26.67</td>\n",
              "      <td>13.35</td>\n",
              "      <td>4.00</td>\n",
              "      <td>26.67</td>\n",
              "    </tr>\n",
              "  </tbody>\n",
              "</table>\n",
              "</div>\n",
              "      <button class=\"colab-df-convert\" onclick=\"convertToInteractive('df-22e12840-5975-42cb-913a-59de80f97ad8')\"\n",
              "              title=\"Convert this dataframe to an interactive table.\"\n",
              "              style=\"display:none;\">\n",
              "        \n",
              "  <svg xmlns=\"http://www.w3.org/2000/svg\" height=\"24px\"viewBox=\"0 0 24 24\"\n",
              "       width=\"24px\">\n",
              "    <path d=\"M0 0h24v24H0V0z\" fill=\"none\"/>\n",
              "    <path d=\"M18.56 5.44l.94 2.06.94-2.06 2.06-.94-2.06-.94-.94-2.06-.94 2.06-2.06.94zm-11 1L8.5 8.5l.94-2.06 2.06-.94-2.06-.94L8.5 2.5l-.94 2.06-2.06.94zm10 10l.94 2.06.94-2.06 2.06-.94-2.06-.94-.94-2.06-.94 2.06-2.06.94z\"/><path d=\"M17.41 7.96l-1.37-1.37c-.4-.4-.92-.59-1.43-.59-.52 0-1.04.2-1.43.59L10.3 9.45l-7.72 7.72c-.78.78-.78 2.05 0 2.83L4 21.41c.39.39.9.59 1.41.59.51 0 1.02-.2 1.41-.59l7.78-7.78 2.81-2.81c.8-.78.8-2.07 0-2.86zM5.41 20L4 18.59l7.72-7.72 1.47 1.35L5.41 20z\"/>\n",
              "  </svg>\n",
              "      </button>\n",
              "      \n",
              "  <style>\n",
              "    .colab-df-container {\n",
              "      display:flex;\n",
              "      flex-wrap:wrap;\n",
              "      gap: 12px;\n",
              "    }\n",
              "\n",
              "    .colab-df-convert {\n",
              "      background-color: #E8F0FE;\n",
              "      border: none;\n",
              "      border-radius: 50%;\n",
              "      cursor: pointer;\n",
              "      display: none;\n",
              "      fill: #1967D2;\n",
              "      height: 32px;\n",
              "      padding: 0 0 0 0;\n",
              "      width: 32px;\n",
              "    }\n",
              "\n",
              "    .colab-df-convert:hover {\n",
              "      background-color: #E2EBFA;\n",
              "      box-shadow: 0px 1px 2px rgba(60, 64, 67, 0.3), 0px 1px 3px 1px rgba(60, 64, 67, 0.15);\n",
              "      fill: #174EA6;\n",
              "    }\n",
              "\n",
              "    [theme=dark] .colab-df-convert {\n",
              "      background-color: #3B4455;\n",
              "      fill: #D2E3FC;\n",
              "    }\n",
              "\n",
              "    [theme=dark] .colab-df-convert:hover {\n",
              "      background-color: #434B5C;\n",
              "      box-shadow: 0px 1px 3px 1px rgba(0, 0, 0, 0.15);\n",
              "      filter: drop-shadow(0px 1px 2px rgba(0, 0, 0, 0.3));\n",
              "      fill: #FFFFFF;\n",
              "    }\n",
              "  </style>\n",
              "\n",
              "      <script>\n",
              "        const buttonEl =\n",
              "          document.querySelector('#df-22e12840-5975-42cb-913a-59de80f97ad8 button.colab-df-convert');\n",
              "        buttonEl.style.display =\n",
              "          google.colab.kernel.accessAllowed ? 'block' : 'none';\n",
              "\n",
              "        async function convertToInteractive(key) {\n",
              "          const element = document.querySelector('#df-22e12840-5975-42cb-913a-59de80f97ad8');\n",
              "          const dataTable =\n",
              "            await google.colab.kernel.invokeFunction('convertToInteractive',\n",
              "                                                     [key], {});\n",
              "          if (!dataTable) return;\n",
              "\n",
              "          const docLinkHtml = 'Like what you see? Visit the ' +\n",
              "            '<a target=\"_blank\" href=https://colab.research.google.com/notebooks/data_table.ipynb>data table notebook</a>'\n",
              "            + ' to learn more about interactive tables.';\n",
              "          element.innerHTML = '';\n",
              "          dataTable['output_type'] = 'display_data';\n",
              "          await google.colab.output.renderOutput(dataTable, element);\n",
              "          const docLink = document.createElement('div');\n",
              "          docLink.innerHTML = docLinkHtml;\n",
              "          element.appendChild(docLink);\n",
              "        }\n",
              "      </script>\n",
              "    </div>\n",
              "  </div>\n",
              "  "
            ]
          },
          "metadata": {},
          "execution_count": 17
        }
      ]
    },
    {
      "cell_type": "code",
      "source": [
        "corr = dfml.corr()\n",
        "sns.heatmap(corr, cmap = 'coolwarm', annot = True)\n",
        "\n",
        "## we can see WAR, PREDATOR, total RAPTOR and Pace Impact have a fairly close correlations"
      ],
      "metadata": {
        "id": "5bvnRUaKH-MZ",
        "colab": {
          "base_uri": "https://localhost:8080/",
          "height": 366
        },
        "outputId": "073c02d2-f1f7-4b4b-9450-775f766021dc"
      },
      "execution_count": 18,
      "outputs": [
        {
          "output_type": "execute_result",
          "data": {
            "text/plain": [
              "<matplotlib.axes._subplots.AxesSubplot at 0x7f4f6f182f10>"
            ]
          },
          "metadata": {},
          "execution_count": 18
        },
        {
          "output_type": "display_data",
          "data": {
            "text/plain": [
              "<Figure size 432x288 with 2 Axes>"
            ],
            "image/png": "[encoded data removed]"
          },
          "metadata": {
            "needs_background": "light"
          }
        }
      ]
    },
    {
      "cell_type": "code",
      "source": [
        "sns.scatterplot(data=dfml, x='Next WAR', y='war_total', legend = False)\n",
        "## include title and some text about what this means"
      ],
      "metadata": {
        "colab": {
          "base_uri": "https://localhost:8080/",
          "height": 297
        },
        "id": "7B7Yf_eX5aB2",
        "outputId": "74cbb39f-24b5-4151-f175-ca49e03d9172"
      },
      "execution_count": 19,
      "outputs": [
        {
          "output_type": "execute_result",
          "data": {
            "text/plain": [
              "<matplotlib.axes._subplots.AxesSubplot at 0x7f4f6c31ef50>"
            ]
          },
          "metadata": {},
          "execution_count": 19
        },
        {
          "output_type": "display_data",
          "data": {
            "text/plain": [
              "<Figure size 432x288 with 1 Axes>"
            ],
            "image/png": "[encoded data removed]"
          },
          "metadata": {
            "needs_background": "light"
          }
        }
      ]
    },
    {
      "cell_type": "code",
      "source": [
        "sns.scatterplot(data=dfml, x='Next WAR', y='raptor_total', legend = False)\n",
        "## include title and some text about what this means"
      ],
      "metadata": {
        "colab": {
          "base_uri": "https://localhost:8080/",
          "height": 297
        },
        "id": "Q8GdZRguIyxU",
        "outputId": "6e73cbd0-d1c3-46eb-e9ae-cdf50df7a3aa"
      },
      "execution_count": 20,
      "outputs": [
        {
          "output_type": "execute_result",
          "data": {
            "text/plain": [
              "<matplotlib.axes._subplots.AxesSubplot at 0x7f4f6c296090>"
            ]
          },
          "metadata": {},
          "execution_count": 20
        },
        {
          "output_type": "display_data",
          "data": {
            "text/plain": [
              "<Figure size 432x288 with 1 Axes>"
            ],
            "image/png": "[encoded data removed]"
          },
          "metadata": {
            "needs_background": "light"
          }
        }
      ]
    },
    {
      "cell_type": "code",
      "source": [
        "#@title\n",
        "sns.scatterplot(data=dfml, x='Next WAR', y='predator_total', legend = False)\n",
        "\n",
        "## there are several distinct outliers that give us a better picture of who could be our ideal player"
      ],
      "metadata": {
        "id": "_XH6WpoJakat",
        "colab": {
          "base_uri": "https://localhost:8080/",
          "height": 297
        },
        "outputId": "1fcd0640-b796-4c73-c85e-a4cbdfef9541"
      },
      "execution_count": 21,
      "outputs": [
        {
          "output_type": "execute_result",
          "data": {
            "text/plain": [
              "<matplotlib.axes._subplots.AxesSubplot at 0x7f4f6c26e910>"
            ]
          },
          "metadata": {},
          "execution_count": 21
        },
        {
          "output_type": "display_data",
          "data": {
            "text/plain": [
              "<Figure size 432x288 with 1 Axes>"
            ],
            "image/png": "[encoded data removed]"
          },
          "metadata": {
            "needs_background": "light"
          }
        }
      ]
    },
    {
      "cell_type": "code",
      "source": [
        "maxWAR = dfml[['Next WAR']].max()\n",
        "print(maxWAR) \n",
        "\n",
        "## here we can see that the highest predicted WAR for a player was about 26"
      ],
      "metadata": {
        "colab": {
          "base_uri": "https://localhost:8080/"
        },
        "id": "jcu-o10roVYp",
        "outputId": "6a49aac2-2031-4031-ce8b-d6faa9c2a6a6"
      },
      "execution_count": 22,
      "outputs": [
        {
          "output_type": "stream",
          "name": "stdout",
          "text": [
            "Next WAR    26.666873\n",
            "dtype: float64\n"
          ]
        }
      ]
    },
    {
      "cell_type": "markdown",
      "source": [
        "### Modeling"
      ],
      "metadata": {
        "id": "8uxrivD9QGba"
      }
    },
    {
      "cell_type": "code",
      "source": [
        "y = dfml['Next WAR']\n",
        "X = dfml.drop(columns = ['Next WAR'])"
      ],
      "metadata": {
        "id": "Rbu1l6GPQrBj"
      },
      "execution_count": 23,
      "outputs": []
    },
    {
      "cell_type": "code",
      "source": [
        "scaler = StandardScaler()\n",
        "scaler.fit(dfml)\n",
        "\n",
        "scaled_df = scaler.transform(dfml)"
      ],
      "metadata": {
        "id": "otKWqmb54Fxw"
      },
      "execution_count": 24,
      "outputs": []
    },
    {
      "cell_type": "code",
      "source": [
        "ks = range(2,8) \n",
        "inertias = []\n",
        "\n",
        "for k in ks:\n",
        "   kmeans = KMeans(n_clusters=k, random_state=42)\n",
        "   kmeans.fit(dfml)\n",
        "   inertias.append(kmeans.inertia_)\n",
        "\n",
        "plt.plot(ks, inertias, marker = '.')\n",
        "plt.xlabel('Number of Clusters')\n",
        "plt.ylabel('Inertia')\n",
        "plt.show()\n",
        "\n",
        "## Inertia seems to change around 3, so 3 clusters is a good start to consider"
      ],
      "metadata": {
        "colab": {
          "base_uri": "https://localhost:8080/",
          "height": 290
        },
        "id": "gZ9uLxno49RL",
        "outputId": "8cef8746-4b3c-4ffc-8460-b0a46885f87e"
      },
      "execution_count": 25,
      "outputs": [
        {
          "output_type": "display_data",
          "data": {
            "text/plain": [
              "<Figure size 432x288 with 1 Axes>"
            ],
            "image/png": "[encoded data removed]"
          },
          "metadata": {
            "needs_background": "light"
          }
        }
      ]
    },
    {
      "cell_type": "code",
      "source": [
        "ks = range(2,8)\n",
        "sil = []\n",
        "\n",
        "for k in ks:\n",
        "  kmeans = KMeans(n_clusters=k, random_state=42)\n",
        "  kmeans.fit(dfml)\n",
        "  sil.append(silhouette_score(dfml, kmeans.labels_))\n",
        "\n",
        "plt.plot(ks, sil, marker = '.')\n",
        "plt.xlabel('Number of Clusters')\n",
        "plt.ylabel('Silo Score')\n",
        "plt.show()\n",
        "\n",
        "## the silouhette score says 3 clusters is best as well, so I will create a score to confirm this"
      ],
      "metadata": {
        "colab": {
          "base_uri": "https://localhost:8080/",
          "height": 281
        },
        "id": "mrrPgaoP4QBh",
        "outputId": "f53d55cb-f346-455d-b064-79e61d5a89f8"
      },
      "execution_count": 26,
      "outputs": [
        {
          "output_type": "display_data",
          "data": {
            "text/plain": [
              "<Figure size 432x288 with 1 Axes>"
            ],
            "image/png": "[encoded data removed]"
          },
          "metadata": {
            "needs_background": "light"
          }
        }
      ]
    },
    {
      "cell_type": "code",
      "source": [
        "km3 = KMeans(n_clusters=3, random_state=42)\n",
        "km3.fit(scaled_df)\n",
        "silhouette_score(scaled_df, kmeans.labels_)\n",
        "\n",
        "## 2.6 when rounded leans closer to 3 so lets create 3 clusters"
      ],
      "metadata": {
        "colab": {
          "base_uri": "https://localhost:8080/"
        },
        "id": "tWlXZbhz5jSF",
        "outputId": "1e1af2bb-ee4f-4626-9671-d1bf758f7a92"
      },
      "execution_count": 27,
      "outputs": [
        {
          "output_type": "execute_result",
          "data": {
            "text/plain": [
              "-0.04881541382491709"
            ]
          },
          "metadata": {},
          "execution_count": 27
        }
      ]
    },
    {
      "cell_type": "code",
      "source": [
        "dfml['cluster'] = km3.labels_\n",
        "dfml.head()\n",
        "\n",
        "## adding clusters values to dataframe"
      ],
      "metadata": {
        "colab": {
          "base_uri": "https://localhost:8080/",
          "height": 288
        },
        "id": "dUYDNfAii_jn",
        "outputId": "47e460b7-a043-4669-9f1a-d23b5281d603"
      },
      "execution_count": 28,
      "outputs": [
        {
          "output_type": "execute_result",
          "data": {
            "text/plain": [
              "     poss    mp  raptor_onoff_total  raptor_total  war_total  predator_total  \\\n",
              "127  6265  2872            5.543546      6.806518  14.269861        7.083689   \n",
              "128  4894  2194            9.090994      8.778267  13.149613        7.521699   \n",
              "160  6225  3130            2.318868      2.146961   8.034787        2.400297   \n",
              "272  6871  3415            2.518748      2.140857   8.669646        3.200148   \n",
              "309  6485  3028            1.107369      3.374096   9.580186        3.724767   \n",
              "\n",
              "     pace_impact   Next WAR  cluster  \n",
              "127     1.319042  13.149613        0  \n",
              "128     1.799512  13.666796        2  \n",
              "160     1.319376   7.993878        0  \n",
              "272     1.108855   4.220007        0  \n",
              "309     1.283573   4.656472        0  "
            ],
            "text/html": [
              "\n",
              "  <div id=\"df-207eb242-8ca0-4c14-a80f-d5ac2ca82d6c\">\n",
              "    <div class=\"colab-df-container\">\n",
              "      <div>\n",
              "<style scoped>\n",
              "    .dataframe tbody tr th:only-of-type {\n",
              "        vertical-align: middle;\n",
              "    }\n",
              "\n",
              "    .dataframe tbody tr th {\n",
              "        vertical-align: top;\n",
              "    }\n",
              "\n",
              "    .dataframe thead th {\n",
              "        text-align: right;\n",
              "    }\n",
              "</style>\n",
              "<table border=\"1\" class=\"dataframe\">\n",
              "  <thead>\n",
              "    <tr style=\"text-align: right;\">\n",
              "      <th></th>\n",
              "      <th>poss</th>\n",
              "      <th>mp</th>\n",
              "      <th>raptor_onoff_total</th>\n",
              "      <th>raptor_total</th>\n",
              "      <th>war_total</th>\n",
              "      <th>predator_total</th>\n",
              "      <th>pace_impact</th>\n",
              "      <th>Next WAR</th>\n",
              "      <th>cluster</th>\n",
              "    </tr>\n",
              "  </thead>\n",
              "  <tbody>\n",
              "    <tr>\n",
              "      <th>127</th>\n",
              "      <td>6265</td>\n",
              "      <td>2872</td>\n",
              "      <td>5.543546</td>\n",
              "      <td>6.806518</td>\n",
              "      <td>14.269861</td>\n",
              "      <td>7.083689</td>\n",
              "      <td>1.319042</td>\n",
              "      <td>13.149613</td>\n",
              "      <td>0</td>\n",
              "    </tr>\n",
              "    <tr>\n",
              "      <th>128</th>\n",
              "      <td>4894</td>\n",
              "      <td>2194</td>\n",
              "      <td>9.090994</td>\n",
              "      <td>8.778267</td>\n",
              "      <td>13.149613</td>\n",
              "      <td>7.521699</td>\n",
              "      <td>1.799512</td>\n",
              "      <td>13.666796</td>\n",
              "      <td>2</td>\n",
              "    </tr>\n",
              "    <tr>\n",
              "      <th>160</th>\n",
              "      <td>6225</td>\n",
              "      <td>3130</td>\n",
              "      <td>2.318868</td>\n",
              "      <td>2.146961</td>\n",
              "      <td>8.034787</td>\n",
              "      <td>2.400297</td>\n",
              "      <td>1.319376</td>\n",
              "      <td>7.993878</td>\n",
              "      <td>0</td>\n",
              "    </tr>\n",
              "    <tr>\n",
              "      <th>272</th>\n",
              "      <td>6871</td>\n",
              "      <td>3415</td>\n",
              "      <td>2.518748</td>\n",
              "      <td>2.140857</td>\n",
              "      <td>8.669646</td>\n",
              "      <td>3.200148</td>\n",
              "      <td>1.108855</td>\n",
              "      <td>4.220007</td>\n",
              "      <td>0</td>\n",
              "    </tr>\n",
              "    <tr>\n",
              "      <th>309</th>\n",
              "      <td>6485</td>\n",
              "      <td>3028</td>\n",
              "      <td>1.107369</td>\n",
              "      <td>3.374096</td>\n",
              "      <td>9.580186</td>\n",
              "      <td>3.724767</td>\n",
              "      <td>1.283573</td>\n",
              "      <td>4.656472</td>\n",
              "      <td>0</td>\n",
              "    </tr>\n",
              "  </tbody>\n",
              "</table>\n",
              "</div>\n",
              "      <button class=\"colab-df-convert\" onclick=\"convertToInteractive('df-207eb242-8ca0-4c14-a80f-d5ac2ca82d6c')\"\n",
              "              title=\"Convert this dataframe to an interactive table.\"\n",
              "              style=\"display:none;\">\n",
              "        \n",
              "  <svg xmlns=\"http://www.w3.org/2000/svg\" height=\"24px\"viewBox=\"0 0 24 24\"\n",
              "       width=\"24px\">\n",
              "    <path d=\"M0 0h24v24H0V0z\" fill=\"none\"/>\n",
              "    <path d=\"M18.56 5.44l.94 2.06.94-2.06 2.06-.94-2.06-.94-.94-2.06-.94 2.06-2.06.94zm-11 1L8.5 8.5l.94-2.06 2.06-.94-2.06-.94L8.5 2.5l-.94 2.06-2.06.94zm10 10l.94 2.06.94-2.06 2.06-.94-2.06-.94-.94-2.06-.94 2.06-2.06.94z\"/><path d=\"M17.41 7.96l-1.37-1.37c-.4-.4-.92-.59-1.43-.59-.52 0-1.04.2-1.43.59L10.3 9.45l-7.72 7.72c-.78.78-.78 2.05 0 2.83L4 21.41c.39.39.9.59 1.41.59.51 0 1.02-.2 1.41-.59l7.78-7.78 2.81-2.81c.8-.78.8-2.07 0-2.86zM5.41 20L4 18.59l7.72-7.72 1.47 1.35L5.41 20z\"/>\n",
              "  </svg>\n",
              "      </button>\n",
              "      \n",
              "  <style>\n",
              "    .colab-df-container {\n",
              "      display:flex;\n",
              "      flex-wrap:wrap;\n",
              "      gap: 12px;\n",
              "    }\n",
              "\n",
              "    .colab-df-convert {\n",
              "      background-color: #E8F0FE;\n",
              "      border: none;\n",
              "      border-radius: 50%;\n",
              "      cursor: pointer;\n",
              "      display: none;\n",
              "      fill: #1967D2;\n",
              "      height: 32px;\n",
              "      padding: 0 0 0 0;\n",
              "      width: 32px;\n",
              "    }\n",
              "\n",
              "    .colab-df-convert:hover {\n",
              "      background-color: #E2EBFA;\n",
              "      box-shadow: 0px 1px 2px rgba(60, 64, 67, 0.3), 0px 1px 3px 1px rgba(60, 64, 67, 0.15);\n",
              "      fill: #174EA6;\n",
              "    }\n",
              "\n",
              "    [theme=dark] .colab-df-convert {\n",
              "      background-color: #3B4455;\n",
              "      fill: #D2E3FC;\n",
              "    }\n",
              "\n",
              "    [theme=dark] .colab-df-convert:hover {\n",
              "      background-color: #434B5C;\n",
              "      box-shadow: 0px 1px 3px 1px rgba(0, 0, 0, 0.15);\n",
              "      filter: drop-shadow(0px 1px 2px rgba(0, 0, 0, 0.3));\n",
              "      fill: #FFFFFF;\n",
              "    }\n",
              "  </style>\n",
              "\n",
              "      <script>\n",
              "        const buttonEl =\n",
              "          document.querySelector('#df-207eb242-8ca0-4c14-a80f-d5ac2ca82d6c button.colab-df-convert');\n",
              "        buttonEl.style.display =\n",
              "          google.colab.kernel.accessAllowed ? 'block' : 'none';\n",
              "\n",
              "        async function convertToInteractive(key) {\n",
              "          const element = document.querySelector('#df-207eb242-8ca0-4c14-a80f-d5ac2ca82d6c');\n",
              "          const dataTable =\n",
              "            await google.colab.kernel.invokeFunction('convertToInteractive',\n",
              "                                                     [key], {});\n",
              "          if (!dataTable) return;\n",
              "\n",
              "          const docLinkHtml = 'Like what you see? Visit the ' +\n",
              "            '<a target=\"_blank\" href=https://colab.research.google.com/notebooks/data_table.ipynb>data table notebook</a>'\n",
              "            + ' to learn more about interactive tables.';\n",
              "          element.innerHTML = '';\n",
              "          dataTable['output_type'] = 'display_data';\n",
              "          await google.colab.output.renderOutput(dataTable, element);\n",
              "          const docLink = document.createElement('div');\n",
              "          docLink.innerHTML = docLinkHtml;\n",
              "          element.appendChild(docLink);\n",
              "        }\n",
              "      </script>\n",
              "    </div>\n",
              "  </div>\n",
              "  "
            ]
          },
          "metadata": {},
          "execution_count": 28
        }
      ]
    },
    {
      "cell_type": "code",
      "source": [
        "cluster_groups = dfml.groupby('cluster', as_index=False).mean()\n",
        "cluster_groups"
      ],
      "metadata": {
        "colab": {
          "base_uri": "https://localhost:8080/",
          "height": 225
        },
        "id": "H4WCxswQ9iv8",
        "outputId": "e8ff01fc-a63d-4e1d-f89f-8654a9d2f79c"
      },
      "execution_count": 29,
      "outputs": [
        {
          "output_type": "execute_result",
          "data": {
            "text/plain": [
              "   cluster         poss           mp  raptor_onoff_total  raptor_total  \\\n",
              "0        0  5914.051282  2852.512821            4.430166      4.817058   \n",
              "1        1  3476.382353  1639.705882            1.940685      3.002866   \n",
              "2        2  6622.000000  3141.071429            9.305518      8.529362   \n",
              "\n",
              "   war_total  predator_total  pace_impact   Next WAR  \n",
              "0  11.105588        5.358622     1.532566   8.936984  \n",
              "1   4.628362        3.081997     1.473019   5.222034  \n",
              "2  18.666987        9.183155     2.332627  16.959903  "
            ],
            "text/html": [
              "\n",
              "  <div id=\"df-2f0d081c-0080-424c-83ea-2a6e6ce1f267\">\n",
              "    <div class=\"colab-df-container\">\n",
              "      <div>\n",
              "<style scoped>\n",
              "    .dataframe tbody tr th:only-of-type {\n",
              "        vertical-align: middle;\n",
              "    }\n",
              "\n",
              "    .dataframe tbody tr th {\n",
              "        vertical-align: top;\n",
              "    }\n",
              "\n",
              "    .dataframe thead th {\n",
              "        text-align: right;\n",
              "    }\n",
              "</style>\n",
              "<table border=\"1\" class=\"dataframe\">\n",
              "  <thead>\n",
              "    <tr style=\"text-align: right;\">\n",
              "      <th></th>\n",
              "      <th>cluster</th>\n",
              "      <th>poss</th>\n",
              "      <th>mp</th>\n",
              "      <th>raptor_onoff_total</th>\n",
              "      <th>raptor_total</th>\n",
              "      <th>war_total</th>\n",
              "      <th>predator_total</th>\n",
              "      <th>pace_impact</th>\n",
              "      <th>Next WAR</th>\n",
              "    </tr>\n",
              "  </thead>\n",
              "  <tbody>\n",
              "    <tr>\n",
              "      <th>0</th>\n",
              "      <td>0</td>\n",
              "      <td>5914.051282</td>\n",
              "      <td>2852.512821</td>\n",
              "      <td>4.430166</td>\n",
              "      <td>4.817058</td>\n",
              "      <td>11.105588</td>\n",
              "      <td>5.358622</td>\n",
              "      <td>1.532566</td>\n",
              "      <td>8.936984</td>\n",
              "    </tr>\n",
              "    <tr>\n",
              "      <th>1</th>\n",
              "      <td>1</td>\n",
              "      <td>3476.382353</td>\n",
              "      <td>1639.705882</td>\n",
              "      <td>1.940685</td>\n",
              "      <td>3.002866</td>\n",
              "      <td>4.628362</td>\n",
              "      <td>3.081997</td>\n",
              "      <td>1.473019</td>\n",
              "      <td>5.222034</td>\n",
              "    </tr>\n",
              "    <tr>\n",
              "      <th>2</th>\n",
              "      <td>2</td>\n",
              "      <td>6622.000000</td>\n",
              "      <td>3141.071429</td>\n",
              "      <td>9.305518</td>\n",
              "      <td>8.529362</td>\n",
              "      <td>18.666987</td>\n",
              "      <td>9.183155</td>\n",
              "      <td>2.332627</td>\n",
              "      <td>16.959903</td>\n",
              "    </tr>\n",
              "  </tbody>\n",
              "</table>\n",
              "</div>\n",
              "      <button class=\"colab-df-convert\" onclick=\"convertToInteractive('df-2f0d081c-0080-424c-83ea-2a6e6ce1f267')\"\n",
              "              title=\"Convert this dataframe to an interactive table.\"\n",
              "              style=\"display:none;\">\n",
              "        \n",
              "  <svg xmlns=\"http://www.w3.org/2000/svg\" height=\"24px\"viewBox=\"0 0 24 24\"\n",
              "       width=\"24px\">\n",
              "    <path d=\"M0 0h24v24H0V0z\" fill=\"none\"/>\n",
              "    <path d=\"M18.56 5.44l.94 2.06.94-2.06 2.06-.94-2.06-.94-.94-2.06-.94 2.06-2.06.94zm-11 1L8.5 8.5l.94-2.06 2.06-.94-2.06-.94L8.5 2.5l-.94 2.06-2.06.94zm10 10l.94 2.06.94-2.06 2.06-.94-2.06-.94-.94-2.06-.94 2.06-2.06.94z\"/><path d=\"M17.41 7.96l-1.37-1.37c-.4-.4-.92-.59-1.43-.59-.52 0-1.04.2-1.43.59L10.3 9.45l-7.72 7.72c-.78.78-.78 2.05 0 2.83L4 21.41c.39.39.9.59 1.41.59.51 0 1.02-.2 1.41-.59l7.78-7.78 2.81-2.81c.8-.78.8-2.07 0-2.86zM5.41 20L4 18.59l7.72-7.72 1.47 1.35L5.41 20z\"/>\n",
              "  </svg>\n",
              "      </button>\n",
              "      \n",
              "  <style>\n",
              "    .colab-df-container {\n",
              "      display:flex;\n",
              "      flex-wrap:wrap;\n",
              "      gap: 12px;\n",
              "    }\n",
              "\n",
              "    .colab-df-convert {\n",
              "      background-color: #E8F0FE;\n",
              "      border: none;\n",
              "      border-radius: 50%;\n",
              "      cursor: pointer;\n",
              "      display: none;\n",
              "      fill: #1967D2;\n",
              "      height: 32px;\n",
              "      padding: 0 0 0 0;\n",
              "      width: 32px;\n",
              "    }\n",
              "\n",
              "    .colab-df-convert:hover {\n",
              "      background-color: #E2EBFA;\n",
              "      box-shadow: 0px 1px 2px rgba(60, 64, 67, 0.3), 0px 1px 3px 1px rgba(60, 64, 67, 0.15);\n",
              "      fill: #174EA6;\n",
              "    }\n",
              "\n",
              "    [theme=dark] .colab-df-convert {\n",
              "      background-color: #3B4455;\n",
              "      fill: #D2E3FC;\n",
              "    }\n",
              "\n",
              "    [theme=dark] .colab-df-convert:hover {\n",
              "      background-color: #434B5C;\n",
              "      box-shadow: 0px 1px 3px 1px rgba(0, 0, 0, 0.15);\n",
              "      filter: drop-shadow(0px 1px 2px rgba(0, 0, 0, 0.3));\n",
              "      fill: #FFFFFF;\n",
              "    }\n",
              "  </style>\n",
              "\n",
              "      <script>\n",
              "        const buttonEl =\n",
              "          document.querySelector('#df-2f0d081c-0080-424c-83ea-2a6e6ce1f267 button.colab-df-convert');\n",
              "        buttonEl.style.display =\n",
              "          google.colab.kernel.accessAllowed ? 'block' : 'none';\n",
              "\n",
              "        async function convertToInteractive(key) {\n",
              "          const element = document.querySelector('#df-2f0d081c-0080-424c-83ea-2a6e6ce1f267');\n",
              "          const dataTable =\n",
              "            await google.colab.kernel.invokeFunction('convertToInteractive',\n",
              "                                                     [key], {});\n",
              "          if (!dataTable) return;\n",
              "\n",
              "          const docLinkHtml = 'Like what you see? Visit the ' +\n",
              "            '<a target=\"_blank\" href=https://colab.research.google.com/notebooks/data_table.ipynb>data table notebook</a>'\n",
              "            + ' to learn more about interactive tables.';\n",
              "          element.innerHTML = '';\n",
              "          dataTable['output_type'] = 'display_data';\n",
              "          await google.colab.output.renderOutput(dataTable, element);\n",
              "          const docLink = document.createElement('div');\n",
              "          docLink.innerHTML = docLinkHtml;\n",
              "          element.appendChild(docLink);\n",
              "        }\n",
              "      </script>\n",
              "    </div>\n",
              "  </div>\n",
              "  "
            ]
          },
          "metadata": {},
          "execution_count": 29
        }
      ]
    },
    {
      "cell_type": "markdown",
      "source": [
        "## **Yellow indicating high value targets, purple indicating \"average\" value targets, and green indicating low value targets, we can see which group will be our highest priority in acqiuring.**"
      ],
      "metadata": {
        "id": "KwWa3V-rvuQa"
      }
    },
    {
      "cell_type": "code",
      "source": [
        "# Visualizing the clusters\n",
        "fig, axes = plt.subplots(2,1, figsize=(8,12))\n",
        "axes[0].scatter(dfml['Next WAR'], dfml['war_total'], c = dfml['cluster'])\n",
        "axes[0].set_xlabel('Projected WAR')\n",
        "axes[0].set_ylabel('Career WAR')\n",
        "axes[0].set_title('Clustered WAR, vs Career WAR')\n",
        "axes[1].scatter(dfml['Next WAR'], dfml['raptor_total'], c = dfml['cluster'])\n",
        "axes[1].set_xlabel('Predicted WAR')\n",
        "axes[1].set_ylabel('Career RAPTOR')\n",
        "axes[1].set_title('Clustered WAR vs RAPTOR')"
      ],
      "metadata": {
        "colab": {
          "base_uri": "https://localhost:8080/",
          "height": 748
        },
        "id": "tAXcp8YQDuNy",
        "outputId": "fe6fa87b-fe36-45c1-90e9-799fdb9e6590"
      },
      "execution_count": 30,
      "outputs": [
        {
          "output_type": "execute_result",
          "data": {
            "text/plain": [
              "Text(0.5, 1.0, 'Clustered WAR vs RAPTOR')"
            ]
          },
          "metadata": {},
          "execution_count": 30
        },
        {
          "output_type": "display_data",
          "data": {
            "text/plain": [
              "<Figure size 576x864 with 2 Axes>"
            ],
            "image/png": "[encoded data removed]"
          },
          "metadata": {
            "needs_background": "light"
          }
        }
      ]
    },
    {
      "cell_type": "code",
      "source": [
        "fig, axes = plt.subplots(4,2, figsize = (20, 20))\n",
        "\n",
        "axes = axes.ravel()\n",
        "\n",
        "for i, col in enumerate(cluster_groups.columns[1:]):\n",
        "  axes[i].bar(cluster_groups['cluster'], cluster_groups[col])\n",
        "  axes[i].set_title(f'Mean {col}')"
      ],
      "metadata": {
        "colab": {
          "base_uri": "https://localhost:8080/",
          "height": 630
        },
        "id": "n-CP1QsUxMBj",
        "outputId": "b4a85c59-64c4-4e2c-db72-458657879240"
      },
      "execution_count": 31,
      "outputs": [
        {
          "output_type": "display_data",
          "data": {
            "text/plain": [
              "<Figure size 1440x1440 with 8 Axes>"
            ],
            "image/png": "[encoded data removed]"
          },
          "metadata": {
            "needs_background": "light"
          }
        }
      ]
    },
    {
      "cell_type": "markdown",
      "source": [
        "## Processing data"
      ],
      "metadata": {
        "id": "3p_YV3H5wMLQ"
      }
    },
    {
      "cell_type": "code",
      "source": [
        "X_train, X_test, y_train, y_test = train_test_split(X, y, random_state=42)"
      ],
      "metadata": {
        "id": "dcAByaZBQTP9"
      },
      "execution_count": 32,
      "outputs": []
    },
    {
      "cell_type": "code",
      "source": [
        "params = {'max_leaf_nodes': list(range(2, 100)), 'min_samples_split': [2, 3, 4]}\n",
        "grid_search_cv = GridSearchCV(DecisionTreeRegressor(random_state=42), params, verbose=1, cv=3)\n",
        "grid_search_cv.fit(X_train, y_train)"
      ],
      "metadata": {
        "colab": {
          "base_uri": "https://localhost:8080/"
        },
        "id": "4wSXCpiH8YuF",
        "outputId": "b0498cbe-134d-4598-8aa5-ba1dc5177c46"
      },
      "execution_count": 33,
      "outputs": [
        {
          "output_type": "stream",
          "name": "stdout",
          "text": [
            "Fitting 3 folds for each of 294 candidates, totalling 882 fits\n"
          ]
        },
        {
          "output_type": "execute_result",
          "data": {
            "text/plain": [
              "GridSearchCV(cv=3, estimator=DecisionTreeRegressor(random_state=42),\n",
              "             param_grid={'max_leaf_nodes': [2, 3, 4, 5, 6, 7, 8, 9, 10, 11, 12,\n",
              "                                            13, 14, 15, 16, 17, 18, 19, 20, 21,\n",
              "                                            22, 23, 24, 25, 26, 27, 28, 29, 30,\n",
              "                                            31, ...],\n",
              "                         'min_samples_split': [2, 3, 4]},\n",
              "             verbose=1)"
            ]
          },
          "metadata": {},
          "execution_count": 33
        }
      ]
    },
    {
      "cell_type": "code",
      "source": [
        "def evaluate_regression(y_true, y_pred, name='model'):\n",
        "  scores = pd.DataFrame(index=['R2','MAE','RMSE'],\n",
        "                        columns=[name])\n",
        "  scores.loc['R2', name] = r2_score(y_true, y_pred)\n",
        "  scores.loc['MAE', name] = mean_absolute_error(y_true, y_pred)\n",
        "  scores.loc['RMSE', name] = np.sqrt(mean_squared_error(y_true, y_pred))\n",
        "  return scores"
      ],
      "metadata": {
        "id": "viWar57WkDRt"
      },
      "execution_count": 34,
      "outputs": []
    },
    {
      "cell_type": "code",
      "source": [
        "pca = PCA(n_components = .98)\n",
        "knn = KNeighborsRegressor()"
      ],
      "metadata": {
        "id": "7rR5s-a-n2dS"
      },
      "execution_count": 35,
      "outputs": []
    },
    {
      "cell_type": "code",
      "source": [
        "knn_pca_pipe = make_pipeline(pca, knn)\n",
        "knn_pca_pipe.fit(X_train, y_train)"
      ],
      "metadata": {
        "colab": {
          "base_uri": "https://localhost:8080/"
        },
        "id": "MjaKR97R9mTn",
        "outputId": "6563ff1a-c564-45f5-a0d8-aa8f4a87b7de"
      },
      "execution_count": 36,
      "outputs": [
        {
          "output_type": "execute_result",
          "data": {
            "text/plain": [
              "Pipeline(steps=[('pca', PCA(n_components=0.98)),\n",
              "                ('kneighborsregressor', KNeighborsRegressor())])"
            ]
          },
          "metadata": {},
          "execution_count": 36
        }
      ]
    },
    {
      "cell_type": "code",
      "source": [
        "def evaluate_model(y_true, y_pred):\n",
        "  \n",
        "  mae = mean_absolute_error(y_true, y_pred)\n",
        "  mse = mean_squared_error(y_true, y_pred)\n",
        "  r2 = r2_score(y_true, y_pred)\n",
        "  rmse = np.sqrt(mse)\n",
        "  print(f'MAE {mae}\\n MSE {mse}\\n R^2 {r2}\\n RMSE {rmse}')"
      ],
      "metadata": {
        "id": "aLIzNJT5q305"
      },
      "execution_count": 37,
      "outputs": []
    },
    {
      "cell_type": "code",
      "source": [
        "knn_pca_pipe_trainpreds = knn_pca_pipe.predict(X_train)\n",
        "knn_pca_pipe_testpreds = knn_pca_pipe.predict(X_test)"
      ],
      "metadata": {
        "id": "f3wz9cehrkHu"
      },
      "execution_count": 38,
      "outputs": []
    },
    {
      "cell_type": "code",
      "source": [
        "print('Training Data')\n",
        "evaluate_model(y_train, knn_pca_pipe_trainpreds)\n",
        "print('\\n')\n",
        "print('Test Data')\n",
        "evaluate_model(y_test, knn_pca_pipe_testpreds)"
      ],
      "metadata": {
        "colab": {
          "base_uri": "https://localhost:8080/"
        },
        "id": "E83aEj5YsLvW",
        "outputId": "c14b81bf-d34f-4e25-9293-5c53c9bfa51d"
      },
      "execution_count": 39,
      "outputs": [
        {
          "output_type": "stream",
          "name": "stdout",
          "text": [
            "Training Data\n",
            "MAE 3.8492628622615737\n",
            " MSE 24.140455881165767\n",
            " R^2 0.31745813627511543\n",
            " RMSE 4.913293791456579\n",
            "\n",
            "\n",
            "Test Data\n",
            "MAE 3.6590481193801554\n",
            " MSE 21.422573622426555\n",
            " R^2 0.13412962840461662\n",
            " RMSE 4.6284526164179915\n"
          ]
        }
      ]
    },
    {
      "cell_type": "code",
      "source": [
        "knn_pipe = make_pipeline(scaler, KNeighborsRegressor())\n",
        "knn_pipe.fit(X_train, y_train)"
      ],
      "metadata": {
        "colab": {
          "base_uri": "https://localhost:8080/"
        },
        "id": "GQz60vk37A8z",
        "outputId": "50e9bfdc-32d0-4732-c3d8-22743d1b98b4"
      },
      "execution_count": 40,
      "outputs": [
        {
          "output_type": "execute_result",
          "data": {
            "text/plain": [
              "Pipeline(steps=[('standardscaler', StandardScaler()),\n",
              "                ('kneighborsregressor', KNeighborsRegressor())])"
            ]
          },
          "metadata": {},
          "execution_count": 40
        }
      ]
    },
    {
      "cell_type": "code",
      "source": [
        "pred_no_pca = knn_pipe.predict(X_test)\n",
        "pred_no_pca"
      ],
      "metadata": {
        "colab": {
          "base_uri": "https://localhost:8080/"
        },
        "id": "pj9-712X7P4A",
        "outputId": "4abac2df-5ea6-4ac8-e60a-20454215c265"
      },
      "execution_count": 41,
      "outputs": [
        {
          "output_type": "execute_result",
          "data": {
            "text/plain": [
              "array([ 5.12275928, 11.2156362 ,  9.25794407, 13.55004382,  5.19038434,\n",
              "        5.8937194 ,  7.35356301, 17.87469417,  8.9965112 ,  6.86338629,\n",
              "        7.16557092,  4.65952033,  3.48923758, 16.30411404,  5.94320738,\n",
              "        3.64887707, 12.76125026,  9.69976954, 10.654875  ,  6.52305851,\n",
              "        6.25339386,  6.5721706 ])"
            ]
          },
          "metadata": {},
          "execution_count": 41
        }
      ]
    },
    {
      "cell_type": "code",
      "source": [
        "acc_score = knn_pipe.score(X_test, y_test)\n",
        "acc_score"
      ],
      "metadata": {
        "colab": {
          "base_uri": "https://localhost:8080/"
        },
        "id": "_SgytfCo_Qnt",
        "outputId": "12aa78ea-35eb-44fb-a405-26ea1845b291"
      },
      "execution_count": 42,
      "outputs": [
        {
          "output_type": "execute_result",
          "data": {
            "text/plain": [
              "0.4815481705734197"
            ]
          },
          "metadata": {},
          "execution_count": 42
        }
      ]
    },
    {
      "cell_type": "code",
      "source": [
        "d_tree = DecisionTreeRegressor(random_state = 42)\n",
        "d_tree.fit(X_train, y_train)"
      ],
      "metadata": {
        "colab": {
          "base_uri": "https://localhost:8080/"
        },
        "id": "qn8UteSgAWm3",
        "outputId": "5b51bc7a-e33c-4e4a-c080-c2754ca9dbbd"
      },
      "execution_count": 43,
      "outputs": [
        {
          "output_type": "execute_result",
          "data": {
            "text/plain": [
              "DecisionTreeRegressor(random_state=42)"
            ]
          },
          "metadata": {},
          "execution_count": 43
        }
      ]
    },
    {
      "cell_type": "code",
      "source": [
        "dtrain_pred = d_tree.predict(X_train)\n",
        "dtest_pred = d_tree.predict(X_test)"
      ],
      "metadata": {
        "id": "718dpUSYAmak"
      },
      "execution_count": 44,
      "outputs": []
    },
    {
      "cell_type": "code",
      "source": [
        "print('Training Data')\n",
        "evaluate_model(y_train, dtrain_pred)\n",
        "print('\\n')\n",
        "print('Test Data')\n",
        "evaluate_model(y_test, dtest_pred)"
      ],
      "metadata": {
        "colab": {
          "base_uri": "https://localhost:8080/"
        },
        "id": "GJoItUclp8hg",
        "outputId": "0920d971-d3d6-4238-c9c5-79a5e9dfcc91"
      },
      "execution_count": 45,
      "outputs": [
        {
          "output_type": "stream",
          "name": "stdout",
          "text": [
            "Training Data\n",
            "MAE 0.0\n",
            " MSE 0.0\n",
            " R^2 1.0\n",
            " RMSE 0.0\n",
            "\n",
            "\n",
            "Test Data\n",
            "MAE 4.925481379097912\n",
            " MSE 44.03066230291112\n",
            " R^2 -0.7796575986510279\n",
            " RMSE 6.635560436233787\n"
          ]
        }
      ]
    },
    {
      "cell_type": "code",
      "source": [
        "dtrain_score = d_tree.score(X_train, y_train)\n",
        "dtest_score = d_tree.score(X_test, y_test)\n",
        "print(dtrain_score)\n",
        "print(dtest_score)"
      ],
      "metadata": {
        "colab": {
          "base_uri": "https://localhost:8080/"
        },
        "id": "yAd90JSiAv-0",
        "outputId": "6ecaf9cd-e3b1-4175-e17e-3527bcc8234d"
      },
      "execution_count": 46,
      "outputs": [
        {
          "output_type": "stream",
          "name": "stdout",
          "text": [
            "1.0\n",
            "-0.7796575986510279\n"
          ]
        }
      ]
    },
    {
      "cell_type": "code",
      "source": [
        "d_tree.get_depth()"
      ],
      "metadata": {
        "colab": {
          "base_uri": "https://localhost:8080/"
        },
        "id": "Vw2j41F-A5gb",
        "outputId": "33094f00-7178-40b6-bb06-5f997cb5cc8b"
      },
      "execution_count": 47,
      "outputs": [
        {
          "output_type": "execute_result",
          "data": {
            "text/plain": [
              "10"
            ]
          },
          "metadata": {},
          "execution_count": 47
        }
      ]
    },
    {
      "cell_type": "code",
      "source": [
        "d_tree_10 = DecisionTreeRegressor(max_depth = 10, random_state = 42)\n",
        "d_tree_10.fit(X_train, y_train)\n",
        "dtrain_10_score = d_tree_10.score(X_train, y_train)\n",
        "dtest_10_score = d_tree_10.score(X_test, y_test)\n",
        "print(dtrain_10_score)\n",
        "print(dtest_10_score)"
      ],
      "metadata": {
        "colab": {
          "base_uri": "https://localhost:8080/"
        },
        "id": "uQ5NfuC_3Syh",
        "outputId": "cc38540e-46b6-4c4c-e2a2-2b05c7bf3c6f"
      },
      "execution_count": 48,
      "outputs": [
        {
          "output_type": "stream",
          "name": "stdout",
          "text": [
            "1.0\n",
            "-0.7796575986510279\n"
          ]
        }
      ]
    },
    {
      "cell_type": "code",
      "source": [
        "d_tree_9 = DecisionTreeRegressor(max_depth = 9, random_state = 42)\n",
        "d_tree_9.fit(X_train, y_train)\n",
        "dtrain_9_score = d_tree_9.score(X_train, y_train)\n",
        "dtest_9_score = d_tree_9.score(X_test, y_test)\n",
        "print(dtrain_9_score)\n",
        "print(dtest_9_score)"
      ],
      "metadata": {
        "colab": {
          "base_uri": "https://localhost:8080/"
        },
        "id": "VnHF7_LLA7ja",
        "outputId": "a66b1ff8-4ecc-4849-ad20-40a0e94a4902"
      },
      "execution_count": 49,
      "outputs": [
        {
          "output_type": "stream",
          "name": "stdout",
          "text": [
            "0.9997834343682399\n",
            "-0.9460055284803184\n"
          ]
        }
      ]
    },
    {
      "cell_type": "code",
      "source": [
        "d_tree_5 = DecisionTreeRegressor(max_depth = 5, random_state = 42)\n",
        "d_tree_5.fit(X_train, y_train)\n",
        "dtrain_5_score = d_tree_5.score(X_train, y_train)\n",
        "dtest_5_score = d_tree_5.score(X_test, y_test)\n",
        "print(dtrain_5_score)\n",
        "print(dtest_5_score)"
      ],
      "metadata": {
        "colab": {
          "base_uri": "https://localhost:8080/"
        },
        "id": "agcMxVjO3de7",
        "outputId": "cda0e621-56b3-4660-d408-bd2bfb341d62"
      },
      "execution_count": 50,
      "outputs": [
        {
          "output_type": "stream",
          "name": "stdout",
          "text": [
            "0.8990070865379043\n",
            "0.06387577313017756\n"
          ]
        }
      ]
    },
    {
      "cell_type": "markdown",
      "source": [
        "# *Our model was 89% accurate in predicting next year's WAR and allows to move forward with relative certainity as to which group of athletes to target for the future.*"
      ],
      "metadata": {
        "id": "nxru81wEw-Dd"
      }
    }
  ]
}